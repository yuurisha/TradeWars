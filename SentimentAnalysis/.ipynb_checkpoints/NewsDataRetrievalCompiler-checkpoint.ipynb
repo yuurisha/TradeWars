{
 "cells": [
  {
   "cell_type": "code",
   "execution_count": 21,
   "id": "873f4ab3",
   "metadata": {},
   "outputs": [],
   "source": [
    "import os\n",
    "import json\n",
    "import csv"
   ]
  },
  {
   "cell_type": "code",
   "execution_count": null,
   "id": "b0a09ee6",
   "metadata": {},
   "outputs": [],
   "source": [
    "folder_path = 'Politics_negative_20240707070024\\Politics_negative_20240707070024' #'Economy, Business and Finance_positive_20240128132100/Economy, Business and Finance_positive_20240128132100'  # path to your folder\n",
    "output_csv = 'news_data_politics_negative.csv'\n",
    "\n",
    "# Define the CSV column headers\n",
    "headers = ['Title', 'Snippet', 'Published_date', 'Link', 'Source', 'Sentiment']\n",
    "\n",
    "# Open CSV for writing\n",
    "with open(output_csv, mode='w', encoding='utf-8', newline='') as csvfile:\n",
    "    writer = csv.DictWriter(csvfile, fieldnames=headers)\n",
    "    writer.writeheader()\n",
    "    \n",
    "    for filename in os.listdir(folder_path):\n",
    "        filepath = os.path.join(folder_path, filename)\n",
    "        if os.path.isfile(filepath) and filename.endswith('.json'):\n",
    "            \n",
    "            try:\n",
    "                with open(filepath, 'r', encoding='utf-8') as f:\n",
    "                    data = json.load(f)\n",
    "\n",
    "                    # Safely extract each field using get()\n",
    "                    row = {\n",
    "                        'Title': data.get('title', ''),\n",
    "                        'Snippet': data.get('text', ''),\n",
    "                        'Published_date': data.get('published', ''),\n",
    "                        'Link': data.get('url', ''),\n",
    "                        'Source': data.get('author', ''),\n",
    "                        'Sentiment': data.get('sentiment', '')\n",
    "                    }\n",
    "\n",
    "                    writer.writerow(row)\n",
    "\n",
    "            except Exception as e:\n",
    "                print(f\"Error reading {filename}: {e}\")"
   ]
  }
 ],
 "metadata": {
  "kernelspec": {
   "display_name": "wif3009",
   "language": "python",
   "name": "python3"
  },
  "language_info": {
   "codemirror_mode": {
    "name": "ipython",
    "version": 3
   },
   "file_extension": ".py",
   "mimetype": "text/x-python",
   "name": "python",
   "nbconvert_exporter": "python",
   "pygments_lexer": "ipython3",
   "version": "3.11.11"
  }
 },
 "nbformat": 4,
 "nbformat_minor": 5
}
