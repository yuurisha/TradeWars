{
 "cells": [
  {
   "cell_type": "code",
   "execution_count": 4,
   "id": "cf66c5a8-842d-4e5e-ab1c-cbaf95915893",
   "metadata": {},
   "outputs": [
    {
     "name": "stdout",
     "output_type": "stream",
     "text": [
      "Requirement already satisfied: requests in c:\\users\\razin\\anaconda3\\lib\\site-packages (2.32.3)\n",
      "Requirement already satisfied: pandas in c:\\users\\razin\\anaconda3\\lib\\site-packages (1.4.4)\n",
      "Requirement already satisfied: nltk in c:\\users\\razin\\anaconda3\\lib\\site-packages (3.9.1)\n",
      "Requirement already satisfied: charset-normalizer<4,>=2 in c:\\users\\razin\\anaconda3\\lib\\site-packages (from requests) (2.0.4)\n",
      "Requirement already satisfied: idna<4,>=2.5 in c:\\users\\razin\\anaconda3\\lib\\site-packages (from requests) (3.3)\n",
      "Requirement already satisfied: urllib3<3,>=1.21.1 in c:\\users\\razin\\anaconda3\\lib\\site-packages (from requests) (1.26.11)\n",
      "Requirement already satisfied: certifi>=2017.4.17 in c:\\users\\razin\\anaconda3\\lib\\site-packages (from requests) (2025.4.26)\n",
      "Requirement already satisfied: python-dateutil>=2.8.1 in c:\\users\\razin\\anaconda3\\lib\\site-packages (from pandas) (2.8.2)\n",
      "Requirement already satisfied: pytz>=2020.1 in c:\\users\\razin\\anaconda3\\lib\\site-packages (from pandas) (2022.1)\n",
      "Requirement already satisfied: numpy>=1.18.5 in c:\\users\\razin\\anaconda3\\lib\\site-packages (from pandas) (1.26.4)\n",
      "Requirement already satisfied: click in c:\\users\\razin\\anaconda3\\lib\\site-packages (from nltk) (8.0.4)\n",
      "Requirement already satisfied: joblib in c:\\users\\razin\\anaconda3\\lib\\site-packages (from nltk) (1.1.0)\n",
      "Requirement already satisfied: regex>=2021.8.3 in c:\\users\\razin\\anaconda3\\lib\\site-packages (from nltk) (2022.7.9)\n",
      "Requirement already satisfied: tqdm in c:\\users\\razin\\anaconda3\\lib\\site-packages (from nltk) (4.64.1)\n",
      "Requirement already satisfied: six>=1.5 in c:\\users\\razin\\anaconda3\\lib\\site-packages (from python-dateutil>=2.8.1->pandas) (1.16.0)\n",
      "Requirement already satisfied: colorama in c:\\users\\razin\\anaconda3\\lib\\site-packages (from click->nltk) (0.4.5)\n",
      "Note: you may need to restart the kernel to use updated packages.\n"
     ]
    },
    {
     "name": "stderr",
     "output_type": "stream",
     "text": [
      "\n",
      "[notice] A new release of pip is available: 25.0.1 -> 25.1.1\n",
      "[notice] To update, run: python.exe -m pip install --upgrade pip\n"
     ]
    }
   ],
   "source": [
    "pip install requests pandas nltk\n"
   ]
  },
  {
   "cell_type": "code",
   "execution_count": 4,
   "id": "c306cf0c-17f4-482e-96ee-e09d514b81d8",
   "metadata": {},
   "outputs": [
    {
     "name": "stderr",
     "output_type": "stream",
     "text": [
      "[nltk_data] Downloading package vader_lexicon to\n",
      "[nltk_data]     C:\\Users\\razin\\AppData\\Roaming\\nltk_data...\n",
      "[nltk_data]   Package vader_lexicon is already up-to-date!\n"
     ]
    },
    {
     "name": "stdout",
     "output_type": "stream",
     "text": [
      "Collecting for United States\n",
      "Collecting for Germany\n",
      "Collecting for China\n",
      "Collecting for Malaysia\n",
      "Collecting for Vietnam\n",
      "Collecting for South Korea\n",
      "Collecting for Mexico\n"
     ]
    }
   ],
   "source": [
    "import requests\n",
    "import pandas as pd\n",
    "import time\n",
    "from datetime import datetime, timedelta\n",
    "import nltk\n",
    "from nltk.sentiment.vader import SentimentIntensityAnalyzer\n",
    "\n",
    "# Setup\n",
    "nltk.download('vader_lexicon')\n",
    "sia = SentimentIntensityAnalyzer()\n",
    "\n",
    "API_KEY = 'ffe56edd243ebc59225204486a1d4c17'\n",
    "BASE_URL = 'https://gnews.io/api/v4/search'\n",
    "\n",
    "# Country codes for key Malaysia trading partners\n",
    "countries = {\n",
    "    'us': 'United States',\n",
    "    'de': 'Germany',\n",
    "    'cn': 'China',\n",
    "    'my': 'Malaysia',\n",
    "    'vn': 'Vietnam',\n",
    "    'kr': 'South Korea',\n",
    "    'mx': 'Mexico'\n",
    "}\n",
    "\n",
    "# Focus: 2020 to 2023 only\n",
    "date_list = pd.date_range(start='2020-01-01', end='2023-12-31', freq='MS')\n",
    "\n",
    "# Focus: tariff and electronic keywords\n",
    "keywords = 'tariff AND electronic'\n",
    "\n",
    "# Collect data\n",
    "all_data = []\n",
    "\n",
    "for code, name in countries.items():\n",
    "    print(f\"Collecting for {name}\")\n",
    "    for date in date_list:\n",
    "        from_date = date.strftime('%Y-%m-%d')\n",
    "        to_date = (date + timedelta(days=30)).strftime('%Y-%m-%d')\n",
    "        \n",
    "        params = {\n",
    "            'q': keywords,\n",
    "            'lang': 'en',\n",
    "            'country': code,\n",
    "            'from': from_date,\n",
    "            'to': to_date,\n",
    "            'max': 100,\n",
    "            'apikey': API_KEY\n",
    "        }\n",
    "        \n",
    "        response = requests.get(BASE_URL, params=params)\n",
    "        \n",
    "        if response.status_code == 200:\n",
    "            data = response.json()\n",
    "            for article in data.get('articles', []):\n",
    "                text = (article.get('title') or '') + '. ' + (article.get('description') or '')\n",
    "                sentiment_score = sia.polarity_scores(text)['compound']\n",
    "                all_data.append({\n",
    "                    'country_code': code,\n",
    "                    'country_name': name,\n",
    "                    'publishedAt': article['publishedAt'],\n",
    "                    'title': article['title'],\n",
    "                    'description': article['description'],\n",
    "                    'content': article['content'],\n",
    "                    'url': article['url'],\n",
    "                    'sentiment': sentiment_score\n",
    "                })\n",
    "        else:\n",
    "            print(f\"Error: {response.status_code} for {name} on {from_date}\")\n",
    "        \n",
    "        time.sleep(1)  # Respect API rate limits\n"
   ]
  },
  {
   "cell_type": "code",
   "execution_count": 5,
   "id": "f90cb663-6230-4d1d-9aa4-3a56ca5d4f60",
   "metadata": {},
   "outputs": [],
   "source": [
    "# Convert to DataFrame\n",
    "df = pd.DataFrame(all_data)\n",
    "df['publishedAt'] = pd.to_datetime(df['publishedAt'])\n",
    "df['year'] = df['publishedAt'].dt.year\n",
    "\n",
    "# Aggregate sentiment by country and year\n",
    "annual_sentiment = df.groupby(['country_name', 'year'])['sentiment'].mean().reset_index()\n",
    "\n",
    "# Save results\n",
    "df.to_csv('sentiment_tariff_electronics_detailed.csv', index=False)\n",
    "annual_sentiment.to_csv('sentiment_tariff_electronics_annual.csv', index=False)\n"
   ]
  },
  {
   "cell_type": "code",
   "execution_count": null,
   "id": "f7118965-058c-40a9-846e-76925d182071",
   "metadata": {},
   "outputs": [],
   "source": []
  }
 ],
 "metadata": {
  "kernelspec": {
   "display_name": "Python [conda env:base] *",
   "language": "python",
   "name": "conda-base-py"
  },
  "language_info": {
   "codemirror_mode": {
    "name": "ipython",
    "version": 3
   },
   "file_extension": ".py",
   "mimetype": "text/x-python",
   "name": "python",
   "nbconvert_exporter": "python",
   "pygments_lexer": "ipython3",
   "version": "3.9.13"
  }
 },
 "nbformat": 4,
 "nbformat_minor": 5
}
