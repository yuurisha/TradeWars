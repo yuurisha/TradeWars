{
 "cells": [
  {
   "cell_type": "markdown",
   "id": "8909b9f1-f358-4208-bba9-99ac45240ddc",
   "metadata": {
    "jp-MarkdownHeadingCollapsed": true
   },
   "source": [
    "## Task 1: Data Collection and Cleaning ##"
   ]
  },
  {
   "cell_type": "markdown",
   "id": "83fcc50c-e3e1-470e-8e16-1a9b2ab9e586",
   "metadata": {},
   "source": [
    "## Six-Step Inference Process:\n",
    "\n",
    "**Step\tExplanation (for your project)**\n",
    "\n",
    "1. What is the question of interest?\n",
    "<br>**Did the recent US-China tariffs lead to a decrease in trade volume  in the electronic components?** \n",
    "3. What population is associated with the question?\n",
    "<br>**All international trade transactions involving electronic goods (Chapter 85 - Electrical Machinery) between the\n",
    "<br>US\n",
    "<br>China,\n",
    "<br>Malaysia,\n",
    "<br>Germany\n",
    "<br>South Korea\n",
    "<br>Vietnam\n",
    "<br>Mexico** \n",
    "5. Take a sample from the population\n",
    "<br>**Use WTO-provided tariff and trade data, focusing on Chapter 85 exports across multiple years to different importers.** <br>\n",
    "6. Measure one or more variables in each unit\n",
    "<br>**Measure variables such as: average MFN tariff rate, total export/import value (converted to USD billions), and corresponding years.** <br>\n",
    "7. Make a summary of all sample data\n",
    "<br>**Analyze trends using Python: line charts for tariff rates and trade volume over time, bar charts for yearly trade, and top importers. Summary statistics reveal drops or spikes post-tariff.** <br>\n",
    "8. Make inference from the sample\n",
    "<br>**From the visual trends and summary data, infer whether increased tariffs are associated with reduced trade volume. A drop in export value following tariff spikes would support this hypothesis.**"
   ]
  },
  {
   "cell_type": "markdown",
   "id": "59658c3d-dec9-4170-8a69-9c4a8a6b4eb1",
   "metadata": {},
   "source": [
    "## Column Name\tExplanation\n",
    "**importer**: The country that is buying or bringing in the electronic items <br>\n",
    "**year**: The year this information was recorded — from 2020 to 2025📅<br>\n",
    "**value_usd**: How much money 💵 was spent to buy these electronics, counted in US dollars ($).<br>\n",
    "**mfn_avg_duty**: This is the average tax (in %) the country usually charges for everyone (called MFN = Most Favored Nation). Think of it like a regular price of tax. 💸<br>\n",
    "**best_avg_duty**: This is the lowest tax the country gives to special trade partners (like a discount for friends). 🛍️<br>\n",
    "**mfn_line_count**: The number of different types of products that have the regular (MFN) tax. Think of it like how many kinds of electronics are being taxed. 📦📱🖥️<br>\n",
    "**mfn_nonadval_line**: This is how many products get a special kind of tax — not based on price, but maybe on weight or quantity (called non-ad valorem tax). ⚖️<br>\n",
    "**pref_line_count**: The number of product types that get friendly discount tax (special deals). 🎁<br>\n",
    "**pref_nonadval_line**: Like above, but for those friendly deals that use a non-standard tax (not based on value). 📊<br>"
   ]
  },
  {
   "cell_type": "code",
   "execution_count": 293,
   "id": "bbfdbf7f-4c8a-4ea6-8f36-ba85f9054e90",
   "metadata": {
    "scrolled": true
   },
   "outputs": [
    {
     "data": {
      "application/vnd.plotly.v1+json": {
       "config": {
        "plotlyServerURL": "https://plot.ly"
       },
       "data": [
        {
         "cells": {
          "align": "left",
          "fill": {
           "color": "white"
          },
          "values": [
           [
            "ALL Available Markets",
            "Albania",
            "Angola",
            "Antigua and Barbuda",
            "Argentina",
            "Armenia",
            "Australia",
            "Bahrain, Kingdom of",
            "Bangladesh",
            "Barbados",
            "Belize",
            "Benin",
            "Bolivia, Plurinational State of",
            "Botswana",
            "Brazil",
            "Brunei Darussalam",
            "Burkina Faso",
            "Burundi",
            "Cabo Verde",
            "Cambodia",
            "Cameroon",
            "Canada",
            "Central African Republic",
            "Chad",
            "Chile",
            "China",
            "Colombia",
            "Congo",
            "Costa Rica",
            "Cote d'Ivoire",
            "Cuba",
            "Dominican Republic",
            "Ecuador",
            "El Salvador",
            "Eswatini",
            "European Union",
            "Fiji",
            "Gabon",
            "The Gambia",
            "Georgia",
            "Ghana",
            "Guatemala",
            "Guinea",
            "Guinea-Bissau",
            "Guyana",
            "Haiti",
            "Honduras",
            "Hong Kong, China",
            "Iceland",
            "India",
            "Indonesia",
            "Israel",
            "Japan",
            "Jordan",
            "Kazakhstan",
            "Kenya",
            "Korea, Republic of",
            "Kuwait, the State of",
            "Kyrgyz Republic",
            "Lao People's Democratic Republic",
            "Lesotho",
            "Liberia",
            "Macao, China",
            "Madagascar",
            "Malawi",
            "Maldives",
            "Mali",
            "Mauritania",
            "Mauritius",
            "Mexico",
            "Moldova, Republic of",
            "Mongolia",
            "Montenegro",
            "Morocco",
            "Myanmar",
            "Namibia",
            "Nepal",
            "New Zealand",
            "Nicaragua",
            "Niger",
            "Nigeria",
            "North Macedonia",
            "Norway",
            "Oman",
            "Pakistan",
            "Panama",
            "Paraguay",
            "Peru",
            "Philippines",
            "Qatar",
            "Russian Federation",
            "Rwanda",
            "Saint Lucia",
            "Saint Vincent and the Grenadines",
            "Samoa",
            "Saudi Arabia, Kingdom of",
            "Senegal",
            "Seychelles",
            "Sierra Leone",
            "Singapore",
            "South Africa",
            "Sri Lanka",
            "Suriname",
            "Switzerland",
            "Chinese Taipei",
            "Tanzania",
            "Thailand",
            "Togo",
            "Tonga",
            "Trinidad and Tobago",
            "Tunisia",
            "Tiirkiye",
            "Uganda",
            "Ukraine",
            "United Arab Emirates",
            "United Kingdom",
            "United States of America",
            "Uruguay",
            "Vanuatu",
            "Venezuela, Bolivarian Republic of",
            "Viet Nam",
            "Zimbabwe",
            "ALL Available Markets",
            "Albania",
            "Angola",
            "Antigua and Barbuda",
            "Argentina",
            "Armenia",
            "Australia",
            "Bahrain, Kingdom of",
            "Bangladesh",
            "Barbados",
            "Belize",
            "Benin",
            "Bolivia, Plurinational State of",
            "Botswana",
            "Brazil",
            "Brunei Darussalam",
            "Burkina Faso",
            "Burundi",
            "Cabo Verde",
            "Cambodia",
            "Cameroon",
            "Canada",
            "Central African Republic",
            "Chad",
            "Chile",
            "China",
            "Colombia",
            "Congo",
            "Costa Rica",
            "Cote d'Ivoire",
            "Cuba",
            "Dominican Republic",
            "Ecuador",
            "El Salvador",
            "Eswatini",
            "European Union",
            "Fiji",
            "Gabon",
            "The Gambia",
            "Georgia",
            "Ghana",
            "Guatemala",
            "Guinea",
            "Guinea-Bissau",
            "Guyana",
            "Haiti",
            "Honduras",
            "Hong Kong, China",
            "Iceland",
            "India",
            "Indonesia",
            "Israel",
            "Japan",
            "Jordan",
            "Kazakhstan",
            "Kenya",
            "Korea, Republic of",
            "Kuwait, the State of",
            "Kyrgyz Republic",
            "Lao People's Democratic Republic",
            "Lesotho",
            "Liberia",
            "Macao, China",
            "Madagascar",
            "Malawi",
            "Malaysia",
            "Maldives",
            "Mali",
            "Mauritania",
            "Mauritius",
            "Mexico",
            "Moldova, Republic of",
            "Mongolia",
            "Montenegro",
            "Morocco",
            "Myanmar",
            "Namibia",
            "Nepal",
            "New Zealand",
            "Nicaragua",
            "Niger",
            "Nigeria",
            "North Macedonia",
            "Norway",
            "Oman",
            "Pakistan",
            "Panama",
            "Paraguay",
            "Peru",
            "Philippines",
            "Qatar",
            "Russian Federation",
            "Rwanda",
            "Saint Lucia",
            "Saint Vincent and the Grenadines",
            "Samoa",
            "Saudi Arabia, Kingdom of",
            "Senegal",
            "Seychelles",
            "Sierra Leone",
            "Singapore",
            "South Africa",
            "Sri Lanka",
            "Suriname",
            "Switzerland",
            "Chinese Taipei",
            "Tanzania",
            "Thailand",
            "Togo",
            "Tonga",
            "Trinidad and Tobago",
            "Tunisia",
            "Turkiye",
            "Uganda",
            "Ukraine",
            "United Arab Emirates",
            "United Kingdom",
            "United States of America",
            "Uruguay",
            "Vanuatu",
            "Venezuela, Bolivarian Republic of",
            "Zimbabwe",
            "ALL Available Markets",
            "Albania",
            "Angola",
            "Antigua and Barbuda",
            "Argentina",
            "Armenia",
            "Australia",
            "Bahrain, Kingdom of",
            "Bangladesh",
            "Barbados",
            "Belize",
            "Benin",
            "Bolivia, Plurinational State of",
            "Botswana",
            "Brazil",
            "Brunei Darussalam",
            "Burkina Faso",
            "Burundi",
            "Cabo Verde",
            "Cambodia",
            "Cameroon",
            "Canada",
            "Central African Republic",
            "Chad",
            "Chile",
            "China",
            "Colombia",
            "Congo",
            "Costa Rica",
            "Côte d'Ivoire",
            "Cuba",
            "Dominican Republic",
            "Ecuador",
            "El Salvador",
            "Eswatini",
            "European Union",
            "Fiji",
            "Gabon",
            "The Gambia",
            "Georgia",
            "Ghana",
            "Guatemala",
            "Guinea",
            "Guinea-Bissau",
            "Guyana",
            "Haiti",
            "Honduras",
            "Hong Kong, China",
            "Iceland",
            "India",
            "Indonesia",
            "Israel",
            "Japan",
            "Jordan",
            "Kazakhstan",
            "Kenya",
            "Korea, Republic of",
            "Kuwait, the State of",
            "Kyrgyz Republic",
            "Lao People's Democratic Republic",
            "Lesotho",
            "Liberia",
            "Macao, China",
            "Madagascar",
            "Malawi",
            "Malaysia",
            "Maldives",
            "Mali",
            "Mauritania",
            "Mauritius",
            "Moldova, Republic of",
            "Mongolia",
            "Montenegro",
            "Morocco",
            "Myanmar",
            "Namibia",
            "Nepal",
            "New Zealand",
            "Nicaragua",
            "Niger",
            "Nigeria",
            "North Macedonia",
            "Norway",
            "Oman",
            "Pakistan",
            "Panama",
            "Paraguay",
            "Peru",
            "Philippines",
            "Qatar",
            "Russian Federation",
            "Rwanda",
            "Saint Lucia",
            "Saint Vincent and the Grenadines",
            "Samoa",
            "Saudi Arabia, Kingdom of",
            "Senegal",
            "Seychelles",
            "Sierra Leone",
            "Singapore",
            "South Africa",
            "Sri Lanka",
            "Suriname",
            "Switzerland",
            "Chinese Taipei",
            "Tanzania",
            "Thailand",
            "Togo",
            "Tonga",
            "Trinidad and Tobago",
            "Tunisia",
            "Türkiye",
            "Uganda",
            "Ukraine",
            "United Arab Emirates",
            "United Kingdom",
            "United States of America",
            "Uruguay",
            "Vanuatu",
            "Venezuela, Bolivarian Republic of",
            "Viet Nam",
            "Zimbabwe",
            "ALL Available Markets",
            "Albania",
            "Angola",
            "Antigua and Barbuda",
            "Argentina",
            "Armenia",
            "Australia",
            "Bahrain, Kingdom of",
            "Bangladesh",
            "Barbados",
            "Belize",
            "Benin",
            "Bolivia, Plurinational State of",
            "Botswana",
            "Brazil",
            "Brunei Darussalam",
            "Burkina Faso",
            "Burundi",
            "Cabo Verde",
            "Cambodia",
            "Cameroon",
            "Canada",
            "Central African Republic",
            "Chad",
            "Chile",
            "China",
            "Colombia",
            "Congo",
            "Costa Rica",
            "Côte d'Ivoire",
            "Cuba",
            "Dominican Republic",
            "Ecuador",
            "El Salvador",
            "Eswatini",
            "European Union",
            "Fiji",
            "Gabon",
            "The Gambia",
            "Georgia",
            "Ghana",
            "Guatemala",
            "Guinea",
            "Guinea-Bissau",
            "Guyana",
            "Haiti",
            "Honduras",
            "Hong Kong, China",
            "Iceland",
            "India",
            "Indonesia",
            "Israel",
            "Japan",
            "Jordan",
            "Kazakhstan",
            "Kenya",
            "Kuwait, the State of",
            "Kyrgyz Republic",
            "Lao People's Democratic Republic",
            "Lesotho",
            "Liberia",
            "Macao, China",
            "Madagascar",
            "Malawi",
            "Malaysia",
            "Maldives",
            "Mali",
            "Mauritania",
            "Mauritius",
            "Mexico",
            "Moldova, Republic of",
            "Mongolia",
            "Montenegro",
            "Morocco",
            "Myanmar",
            "Namibia",
            "Nepal",
            "New Zealand",
            "Nicaragua",
            "Niger",
            "Nigeria",
            "North Macedonia",
            "Norway",
            "Oman",
            "Pakistan",
            "Panama",
            "Paraguay",
            "Peru",
            "Philippines",
            "Qatar",
            "Russian Federation",
            "Rwanda",
            "Saint Lucia",
            "Saint Vincent and the Grenadines",
            "Samoa",
            "Saudi Arabia, Kingdom of",
            "Senegal",
            "Seychelles",
            "Sierra Leone",
            "Singapore",
            "South Africa",
            "Sri Lanka",
            "Suriname",
            "Switzerland",
            "Chinese Taipei",
            "Tanzania",
            "Thailand",
            "Togo",
            "Tonga",
            "Trinidad and Tobago",
            "Tunisia",
            "Türkiye",
            "Uganda",
            "Ukraine",
            "United Arab Emirates",
            "United Kingdom",
            "United States of America",
            "Uruguay",
            "Vanuatu",
            "Venezuela, Bolivarian Republic of",
            "Viet Nam",
            "Zimbabwe",
            "ALL Available Markets",
            "Albania",
            "Angola",
            "Antigua and Barbuda",
            "Argentina",
            "Armenia",
            "Australia",
            "Bahrain, Kingdom of",
            "Bangladesh",
            "Barbados",
            "Belize",
            "Benin",
            "Bolivia, Plurinational State of",
            "Botswana",
            "Brazil",
            "Brunei Darussalam",
            "Burkina Faso",
            "Burundi",
            "Cabo Verde",
            "Cambodia",
            "Cameroon",
            "Canada",
            "Central African Republic",
            "Chad",
            "Chile",
            "China",
            "Colombia",
            "Congo",
            "Costa Rica",
            "Côte d'Ivoire",
            "Cuba",
            "Dominican Republic",
            "Ecuador",
            "El Salvador",
            "Eswatini",
            "European Union",
            "Fiji",
            "Gabon",
            "The Gambia",
            "Georgia",
            "Ghana",
            "Guatemala",
            "Guinea",
            "Guinea-Bissau",
            "Guyana",
            "Haiti",
            "Honduras",
            "Hong Kong, China",
            "Iceland",
            "India",
            "Indonesia",
            "Israel",
            "Japan",
            "Jordan",
            "Kazakhstan",
            "Kenya",
            "Korea, Republic of",
            "Kuwait, the State of",
            "Kyrgyz Republic",
            "Lao People's Democratic Republic",
            "Lesotho",
            "Liberia",
            "Macao, China",
            "Madagascar",
            "Malawi",
            "Malaysia",
            "Maldives",
            "Mali",
            "Mauritania",
            "Mauritius",
            "Mexico",
            "Moldova, Republic of",
            "Mongolia",
            "Montenegro",
            "Morocco",
            "Myanmar",
            "Namibia",
            "Nepal",
            "New Zealand",
            "Nicaragua",
            "Niger",
            "Nigeria",
            "North Macedonia",
            "Norway",
            "Oman",
            "Pakistan",
            "Panama",
            "Paraguay",
            "Peru",
            "Philippines",
            "Qatar",
            "Russian Federation",
            "Rwanda",
            "Saint Lucia",
            "Saint Vincent and the Grenadines",
            "Samoa",
            "Saudi Arabia, Kingdom of",
            "Senegal",
            "Seychelles",
            "Sierra Leone",
            "Singapore",
            "South Africa",
            "Sri Lanka",
            "Suriname",
            "Switzerland",
            "Tanzania",
            "Thailand",
            "Togo",
            "Tonga",
            "Trinidad and Tobago",
            "Tunisia",
            "Türkiye",
            "Uganda",
            "Ukraine",
            "United Arab Emirates",
            "United Kingdom",
            "United States of America",
            "Uruguay",
            "Vanuatu",
            "Venezuela, Bolivarian Republic of",
            "Viet Nam",
            "Zimbabwe",
            "ALL Available Markets",
            "Albania",
            "Angola",
            "Antigua and Barbuda",
            "Argentina",
            "Armenia",
            "Australia",
            "Bahrain, Kingdom of",
            "Bangladesh",
            "Barbados",
            "Belize",
            "Benin",
            "Bolivia, Plurinational State of",
            "Botswana",
            "Brazil",
            "Brunei Darussalam",
            "Burkina Faso",
            "Burundi",
            "Cabo Verde",
            "Cambodia",
            "Cameroon",
            "Canada",
            "Central African Republic",
            "Chad",
            "Chile",
            "China",
            "Colombia",
            "Congo",
            "Costa Rica",
            "Cote d'Ivoire",
            "Cuba",
            "Dominican Republic",
            "Ecuador",
            "El Salvador",
            "Eswatini",
            "European Union",
            "Fiji",
            "Gabon",
            "The Gambia",
            "Georgia",
            "Ghana",
            "Guatemala",
            "Guinea",
            "Guinea-Bissau",
            "Guyana",
            "Haiti",
            "Honduras",
            "Hong Kong, China",
            "Iceland",
            "India",
            "Indonesia",
            "Israel",
            "Japan",
            "Jordan",
            "Kazakhstan",
            "Kenya",
            "Korea, Republic of",
            "Kuwait, the State of",
            "Kyrgyz Republic",
            "Lao People's Democratic Republic",
            "Lesotho",
            "Liberia",
            "Macao, China",
            "Madagascar",
            "Malawi",
            "Malaysia",
            "Maldives",
            "Mali",
            "Mauritania",
            "Mauritius",
            "Mexico",
            "Moldova, Republic of",
            "Mongolia",
            "Montenegro",
            "Morocco",
            "Myanmar",
            "Namibia",
            "Nepal",
            "New Zealand",
            "Nicaragua",
            "Niger",
            "Nigeria",
            "North Macedonia",
            "Norway",
            "Oman",
            "Pakistan",
            "Panama",
            "Paraguay",
            "Peru",
            "Philippines",
            "Qatar",
            "Russian Federation",
            "Rwanda",
            "Saint Lucia",
            "Saint Vincent and the Grenadines",
            "Samoa",
            "Saudi Arabia, Kingdom of",
            "Senegal",
            "Seychelles",
            "Sierra Leone",
            "Singapore",
            "South Africa",
            "Sri Lanka",
            "Suriname",
            "Switzerland",
            "Chinese Taipei",
            "Tanzania",
            "Thailand",
            "Togo",
            "Tonga",
            "Trinidad and Tobago",
            "Tunisia",
            "Turkiye",
            "Uganda",
            "Ukraine",
            "United Arab Emirates",
            "United Kingdom",
            "Uruguay",
            "Vanuatu",
            "Venezuela, Bolivarian Republic of",
            "Viet Nam",
            "Zimbabwe",
            "ALL Available Markets",
            "Albania",
            "Angola",
            "Antigua and Barbuda",
            "Argentina",
            "Armenia",
            "Australia",
            "Bahrain, Kingdom of",
            "Bangladesh",
            "Barbados",
            "Belize",
            "Benin",
            "Bolivia, Plurinational State of",
            "Botswana",
            "Brazil",
            "Brunei Darussalam",
            "Burkina Faso",
            "Burundi",
            "Cabo Verde",
            "Cambodia",
            "Cameroon",
            "Canada",
            "Central African Republic",
            "Chad",
            "Chile",
            "Colombia",
            "Congo",
            "Costa Rica",
            "Cote d'Ivoire",
            "Cuba",
            "Dominican Republic",
            "Ecuador",
            "El Salvador",
            "Eswatini",
            "European Union",
            "Fiji",
            "Gabon",
            "The Gambia",
            "Georgia",
            "Ghana",
            "Guatemala",
            "Guinea",
            "Guinea-Bissau",
            "Guyana",
            "Haiti",
            "Honduras",
            "Hong Kong, China",
            "Iceland",
            "India",
            "Indonesia",
            "Israel",
            "Japan",
            "Jordan",
            "Kazakhstan",
            "Kenya",
            "Korea, Republic of",
            "Kuwait, the State of",
            "Kyrgyz Republic",
            "Lao People's Democratic Republic",
            "Lesotho",
            "Liberia",
            "Macao, China",
            "Madagascar",
            "Malawi",
            "Malaysia",
            "Maldives",
            "Mali",
            "Mauritania",
            "Mauritius",
            "Mexico",
            "Moldova, Republic of",
            "Mongolia",
            "Montenegro",
            "Morocco",
            "Myanmar",
            "Namibia",
            "Nepal",
            "New Zealand",
            "Nicaragua",
            "Niger",
            "Nigeria",
            "North Macedonia",
            "Norway",
            "Oman",
            "Pakistan",
            "Panama",
            "Paraguay",
            "Peru",
            "Philippines",
            "Qatar",
            "Russian Federation",
            "Rwanda",
            "Saint Lucia",
            "Saint Vincent and the Grenadines",
            "Samoa",
            "Saudi Arabia, Kingdom of",
            "Senegal",
            "Seychelles",
            "Sierra Leone",
            "Singapore",
            "South Africa",
            "Sri Lanka",
            "Suriname",
            "Switzerland",
            "Chinese Taipei",
            "Tanzania",
            "Thailand",
            "Togo",
            "Tonga",
            "Trinidad and Tobago",
            "Tunisia",
            "Turkiye",
            "Uganda",
            "Ukraine",
            "United Arab Emirates",
            "United Kingdom",
            "United States of America",
            "Uruguay",
            "Vanuatu",
            "Venezuela, Bolivarian Republic of",
            "Viet Nam",
            "Zimbabwe"
           ],
           [
            null,
            2025,
            2023,
            2022,
            2024,
            2023,
            2024,
            2024,
            2024,
            2022,
            2025,
            2024,
            2023,
            2023,
            2024,
            2024,
            2024,
            2024,
            2023,
            2024,
            2023,
            2024,
            2023,
            2023,
            2024,
            2024,
            2025,
            2023,
            2024,
            2023,
            2022,
            2024,
            2024,
            2024,
            2022,
            2024,
            2023,
            2023,
            2024,
            2024,
            2024,
            2024,
            2024,
            2024,
            2022,
            2020,
            2024,
            2025,
            2024,
            2024,
            2023,
            2022,
            2024,
            2025,
            2023,
            2024,
            2024,
            2023,
            2020,
            2024,
            2023,
            2024,
            2024,
            2024,
            2022,
            2023,
            2024,
            2023,
            2024,
            2025,
            2024,
            2024,
            2024,
            2024,
            2024,
            2022,
            2023,
            2024,
            2024,
            2024,
            2024,
            2025,
            2024,
            2024,
            2022,
            2024,
            2024,
            2022,
            2024,
            2024,
            2021,
            2024,
            2021,
            2020,
            2021,
            2024,
            2023,
            2024,
            2024,
            2024,
            2024,
            2022,
            2024,
            2025,
            2024,
            2024,
            2024,
            2024,
            2024,
            2023,
            2024,
            2024,
            2024,
            2025,
            2020,
            2024,
            2024,
            2024,
            2020,
            2023,
            2023,
            2021,
            null,
            2025,
            2023,
            2022,
            2024,
            2023,
            2024,
            2024,
            2024,
            2022,
            2025,
            2024,
            2023,
            2023,
            2024,
            2024,
            2024,
            2024,
            2023,
            2024,
            2023,
            2024,
            2023,
            2023,
            2024,
            2024,
            2025,
            2023,
            2024,
            2023,
            2022,
            2024,
            2024,
            2024,
            2022,
            2024,
            2023,
            2023,
            2024,
            2024,
            2024,
            2024,
            2024,
            2024,
            2022,
            2020,
            2024,
            2025,
            2024,
            2024,
            2023,
            2022,
            2024,
            2025,
            2023,
            2024,
            2024,
            2023,
            2020,
            2024,
            2023,
            2024,
            2024,
            2024,
            2022,
            2024,
            2023,
            2024,
            2023,
            2024,
            2025,
            2024,
            2024,
            2024,
            2024,
            2024,
            2022,
            2023,
            2024,
            2024,
            2024,
            2024,
            2025,
            2024,
            2024,
            2022,
            2024,
            2024,
            2022,
            2024,
            2024,
            2021,
            2024,
            2021,
            2020,
            2021,
            2024,
            2023,
            2024,
            2024,
            2024,
            2024,
            2022,
            2024,
            2025,
            2024,
            2024,
            2024,
            2024,
            2024,
            2023,
            2024,
            2024,
            2024,
            2025,
            2020,
            2024,
            2024,
            2024,
            2020,
            2023,
            2021,
            null,
            2025,
            2023,
            2022,
            2024,
            2023,
            2024,
            2024,
            2024,
            2022,
            2025,
            2024,
            2023,
            2023,
            2024,
            2024,
            2024,
            2024,
            2023,
            2024,
            2023,
            2024,
            2023,
            2023,
            2024,
            2024,
            2025,
            2023,
            2024,
            2023,
            2022,
            2024,
            2024,
            2024,
            2022,
            2024,
            2023,
            2023,
            2024,
            2024,
            2024,
            2024,
            2024,
            2024,
            2022,
            2020,
            2024,
            2025,
            2024,
            2024,
            2023,
            2022,
            2024,
            2025,
            2023,
            2024,
            2024,
            2023,
            2020,
            2024,
            2023,
            2024,
            2024,
            2024,
            2022,
            2024,
            2023,
            2024,
            2023,
            2024,
            2024,
            2024,
            2024,
            2024,
            2024,
            2022,
            2023,
            2024,
            2024,
            2024,
            2024,
            2025,
            2024,
            2024,
            2022,
            2024,
            2024,
            2022,
            2024,
            2024,
            2021,
            2024,
            2021,
            2020,
            2021,
            2024,
            2023,
            2024,
            2024,
            2024,
            2024,
            2022,
            2024,
            2025,
            2024,
            2024,
            2024,
            2024,
            2024,
            2023,
            2024,
            2024,
            2024,
            2025,
            2020,
            2024,
            2024,
            2024,
            2020,
            2023,
            2023,
            2021,
            null,
            2025,
            2023,
            2022,
            2024,
            2023,
            2024,
            2024,
            2024,
            2022,
            2025,
            2024,
            2023,
            2023,
            2024,
            2024,
            2024,
            2024,
            2023,
            2024,
            2023,
            2024,
            2023,
            2023,
            2024,
            2024,
            2025,
            2023,
            2024,
            2023,
            2022,
            2024,
            2024,
            2024,
            2022,
            2024,
            2023,
            2023,
            2024,
            2024,
            2024,
            2024,
            2024,
            2024,
            2022,
            2020,
            2024,
            2025,
            2024,
            2024,
            2023,
            2022,
            2024,
            2025,
            2023,
            2024,
            2023,
            2020,
            2024,
            2023,
            2024,
            2024,
            2024,
            2022,
            2024,
            2023,
            2024,
            2023,
            2024,
            2025,
            2024,
            2024,
            2024,
            2024,
            2024,
            2022,
            2023,
            2024,
            2024,
            2024,
            2024,
            2025,
            2024,
            2024,
            2022,
            2024,
            2024,
            2022,
            2024,
            2024,
            2021,
            2024,
            2021,
            2020,
            2021,
            2024,
            2023,
            2024,
            2024,
            2024,
            2024,
            2022,
            2024,
            2025,
            2024,
            2024,
            2024,
            2024,
            2024,
            2023,
            2024,
            2024,
            2024,
            2025,
            2020,
            2024,
            2024,
            2024,
            2020,
            2023,
            2023,
            2021,
            null,
            2025,
            2023,
            2022,
            2024,
            2023,
            2024,
            2024,
            2024,
            2022,
            2025,
            2024,
            2023,
            2023,
            2024,
            2024,
            2024,
            2024,
            2023,
            2024,
            2023,
            2024,
            2023,
            2023,
            2024,
            2024,
            2025,
            2023,
            2024,
            2023,
            2022,
            2024,
            2024,
            2024,
            2022,
            2024,
            2023,
            2023,
            2024,
            2024,
            2024,
            2024,
            2024,
            2024,
            2022,
            2020,
            2024,
            2025,
            2024,
            2024,
            2023,
            2022,
            2024,
            2025,
            2023,
            2024,
            2024,
            2023,
            2020,
            2024,
            2023,
            2024,
            2024,
            2024,
            2022,
            2024,
            2023,
            2024,
            2023,
            2024,
            2025,
            2024,
            2024,
            2024,
            2024,
            2024,
            2022,
            2023,
            2024,
            2024,
            2024,
            2024,
            2025,
            2024,
            2024,
            2022,
            2024,
            2024,
            2022,
            2024,
            2024,
            2021,
            2024,
            2021,
            2020,
            2021,
            2024,
            2023,
            2024,
            2024,
            2024,
            2024,
            2022,
            2024,
            2025,
            2024,
            2024,
            2024,
            2024,
            2023,
            2024,
            2024,
            2024,
            2025,
            2020,
            2024,
            2024,
            2024,
            2020,
            2023,
            2023,
            2021,
            null,
            2025,
            2023,
            2022,
            2024,
            2023,
            2024,
            2024,
            2024,
            2022,
            2025,
            2024,
            2023,
            2023,
            2024,
            2024,
            2024,
            2024,
            2023,
            2024,
            2023,
            2024,
            2023,
            2023,
            2024,
            2024,
            2025,
            2023,
            2024,
            2023,
            2022,
            2024,
            2024,
            2024,
            2022,
            2024,
            2023,
            2023,
            2024,
            2024,
            2024,
            2024,
            2024,
            2024,
            2022,
            2020,
            2024,
            2025,
            2024,
            2024,
            2023,
            2022,
            2024,
            2025,
            2023,
            2024,
            2024,
            2023,
            2020,
            2024,
            2023,
            2024,
            2024,
            2024,
            2022,
            2024,
            2023,
            2024,
            2023,
            2024,
            2025,
            2024,
            2024,
            2024,
            2024,
            2024,
            2022,
            2023,
            2024,
            2024,
            2024,
            2024,
            2025,
            2024,
            2024,
            2022,
            2024,
            2024,
            2022,
            2024,
            2024,
            2021,
            2024,
            2021,
            2020,
            2021,
            2024,
            2023,
            2024,
            2024,
            2024,
            2024,
            2022,
            2024,
            2025,
            2024,
            2024,
            2024,
            2024,
            2024,
            2023,
            2024,
            2024,
            2024,
            2025,
            2020,
            2024,
            2024,
            2020,
            2023,
            2023,
            2021,
            null,
            2025,
            2023,
            2022,
            2024,
            2023,
            2024,
            2024,
            2024,
            2022,
            2025,
            2024,
            2023,
            2023,
            2024,
            2024,
            2024,
            2024,
            2023,
            2024,
            2023,
            2024,
            2023,
            2023,
            2024,
            2025,
            2023,
            2024,
            2023,
            2022,
            2024,
            2024,
            2024,
            2022,
            2024,
            2023,
            2023,
            2024,
            2024,
            2024,
            2024,
            2024,
            2024,
            2022,
            2020,
            2024,
            2025,
            2024,
            2024,
            2023,
            2022,
            2024,
            2025,
            2023,
            2024,
            2024,
            2023,
            2020,
            2024,
            2023,
            2024,
            2024,
            2024,
            2022,
            2024,
            2023,
            2024,
            2023,
            2024,
            2025,
            2024,
            2024,
            2024,
            2024,
            2024,
            2022,
            2023,
            2024,
            2024,
            2024,
            2024,
            2025,
            2024,
            2024,
            2022,
            2024,
            2024,
            2022,
            2024,
            2024,
            2021,
            2024,
            2021,
            2020,
            2021,
            2024,
            2023,
            2024,
            2024,
            2024,
            2024,
            2022,
            2024,
            2025,
            2024,
            2024,
            2024,
            2024,
            2024,
            2023,
            2024,
            2024,
            2024,
            2025,
            2020,
            2024,
            2024,
            2024,
            2020,
            2023,
            2023,
            2021
           ],
           [
            "1,666,473,288",
            null,
            null,
            null,
            null,
            null,
            null,
            null,
            null,
            "5,032",
            null,
            null,
            null,
            null,
            null,
            null,
            null,
            null,
            null,
            null,
            null,
            null,
            null,
            null,
            null,
            null,
            null,
            null,
            null,
            null,
            "847,358",
            null,
            null,
            null,
            null,
            null,
            null,
            null,
            null,
            null,
            null,
            null,
            null,
            null,
            "475,128",
            null,
            null,
            null,
            null,
            null,
            "655,213,072",
            "307,932,000",
            null,
            null,
            null,
            null,
            null,
            null,
            "749,705",
            null,
            null,
            null,
            null,
            null,
            null,
            null,
            null,
            null,
            null,
            null,
            null,
            null,
            null,
            null,
            null,
            null,
            null,
            null,
            null,
            null,
            null,
            null,
            null,
            null,
            "10,169,258",
            null,
            null,
            null,
            null,
            null,
            null,
            null,
            null,
            null,
            null,
            null,
            null,
            null,
            null,
            null,
            null,
            null,
            null,
            null,
            null,
            null,
            null,
            null,
            null,
            "2,004,961",
            null,
            null,
            null,
            null,
            "689,076,774",
            null,
            null,
            null,
            null,
            null,
            null,
            null,
            "5,690,102,612",
            null,
            null,
            null,
            null,
            null,
            null,
            null,
            null,
            "4,847",
            null,
            null,
            null,
            null,
            null,
            null,
            null,
            null,
            null,
            null,
            null,
            null,
            null,
            null,
            null,
            null,
            null,
            null,
            null,
            null,
            "16,052,970",
            null,
            null,
            null,
            null,
            null,
            null,
            null,
            null,
            null,
            null,
            null,
            null,
            null,
            "192,957",
            null,
            null,
            null,
            null,
            null,
            "772,110,560",
            "635,231,000",
            null,
            null,
            null,
            null,
            null,
            null,
            "2,673,442",
            null,
            null,
            null,
            null,
            null,
            null,
            null,
            null,
            null,
            null,
            null,
            null,
            null,
            null,
            null,
            null,
            null,
            null,
            null,
            null,
            null,
            null,
            null,
            null,
            null,
            null,
            "111,070,818",
            null,
            null,
            null,
            null,
            null,
            null,
            null,
            null,
            null,
            null,
            null,
            null,
            null,
            null,
            null,
            null,
            null,
            null,
            null,
            null,
            null,
            null,
            null,
            null,
            "5,562,038",
            null,
            null,
            null,
            null,
            "4,147,203,981",
            null,
            null,
            null,
            null,
            null,
            null,
            "551,807,779",
            null,
            null,
            null,
            null,
            null,
            null,
            null,
            null,
            "1,557,090",
            null,
            null,
            null,
            null,
            null,
            null,
            null,
            null,
            null,
            null,
            null,
            null,
            null,
            null,
            null,
            null,
            null,
            null,
            null,
            null,
            "8,560,467",
            null,
            null,
            null,
            null,
            null,
            null,
            null,
            null,
            null,
            null,
            null,
            null,
            null,
            "1,497,276",
            null,
            null,
            null,
            null,
            null,
            "122,282,093",
            "105,676,000",
            null,
            null,
            null,
            null,
            null,
            null,
            "679,534",
            null,
            null,
            null,
            null,
            null,
            null,
            null,
            null,
            null,
            null,
            null,
            null,
            null,
            null,
            null,
            null,
            null,
            null,
            null,
            null,
            null,
            null,
            null,
            null,
            null,
            "6,160,805",
            null,
            null,
            null,
            null,
            null,
            null,
            null,
            null,
            null,
            null,
            null,
            null,
            null,
            null,
            null,
            null,
            null,
            null,
            null,
            null,
            null,
            null,
            null,
            null,
            "16,690,863",
            null,
            null,
            null,
            null,
            "288,703,652",
            null,
            null,
            null,
            null,
            null,
            null,
            null,
            "2,780,527,828",
            null,
            null,
            null,
            null,
            null,
            null,
            null,
            null,
            "535,470",
            null,
            null,
            null,
            null,
            null,
            null,
            null,
            null,
            null,
            null,
            null,
            null,
            null,
            null,
            null,
            null,
            null,
            null,
            null,
            null,
            "2,601,063",
            null,
            null,
            null,
            null,
            null,
            null,
            null,
            null,
            null,
            null,
            null,
            null,
            null,
            "1,136,305",
            null,
            null,
            null,
            null,
            null,
            "1,738,388,401",
            "319,963,000",
            null,
            null,
            null,
            null,
            null,
            "549,868",
            null,
            null,
            null,
            null,
            null,
            null,
            null,
            null,
            null,
            null,
            null,
            null,
            null,
            null,
            null,
            null,
            null,
            null,
            null,
            null,
            null,
            null,
            null,
            null,
            null,
            null,
            "15,374,869",
            null,
            null,
            null,
            null,
            null,
            null,
            null,
            null,
            null,
            null,
            null,
            null,
            null,
            null,
            null,
            null,
            null,
            null,
            null,
            null,
            null,
            null,
            null,
            null,
            "4,357,868",
            null,
            null,
            null,
            null,
            "697,620,984",
            null,
            null,
            null,
            null,
            null,
            null,
            null,
            "2,504,875,721",
            null,
            null,
            null,
            null,
            null,
            null,
            null,
            null,
            "136,791",
            null,
            null,
            null,
            null,
            null,
            null,
            null,
            null,
            null,
            null,
            null,
            null,
            null,
            null,
            null,
            null,
            null,
            null,
            null,
            null,
            "1,228,758",
            null,
            null,
            null,
            null,
            null,
            null,
            null,
            null,
            null,
            null,
            null,
            null,
            null,
            "518,701",
            null,
            null,
            null,
            null,
            null,
            "1,515,959,997",
            "648,505,000",
            null,
            null,
            null,
            null,
            null,
            null,
            "711,372",
            null,
            null,
            null,
            null,
            null,
            null,
            null,
            null,
            null,
            null,
            null,
            null,
            null,
            null,
            null,
            null,
            null,
            null,
            null,
            null,
            null,
            null,
            null,
            null,
            null,
            null,
            null,
            null,
            null,
            null,
            null,
            null,
            null,
            null,
            null,
            null,
            null,
            null,
            null,
            null,
            null,
            null,
            null,
            null,
            null,
            null,
            null,
            null,
            null,
            null,
            "4,481,974",
            null,
            null,
            null,
            null,
            "333,333,128",
            null,
            null,
            null,
            null,
            null,
            null,
            null,
            "3462413056",
            null,
            null,
            null,
            null,
            null,
            null,
            null,
            null,
            "78914426",
            null,
            null,
            null,
            null,
            null,
            null,
            null,
            null,
            null,
            null,
            null,
            null,
            null,
            null,
            null,
            null,
            null,
            null,
            null,
            null,
            null,
            null,
            null,
            null,
            null,
            null,
            null,
            null,
            null,
            null,
            null,
            null,
            null,
            null,
            "63763879",
            null,
            null,
            null,
            null,
            null,
            "407395031",
            "1464401000",
            null,
            null,
            null,
            null,
            null,
            null,
            "1074954",
            null,
            null,
            null,
            null,
            null,
            null,
            null,
            null,
            null,
            null,
            null,
            null,
            null,
            null,
            null,
            null,
            null,
            null,
            null,
            null,
            null,
            null,
            null,
            null,
            null,
            null,
            "41058605",
            null,
            null,
            null,
            null,
            null,
            null,
            null,
            null,
            null,
            null,
            null,
            null,
            null,
            null,
            null,
            null,
            null,
            null,
            null,
            null,
            null,
            null,
            null,
            null,
            "128257504",
            null,
            null,
            null,
            null,
            "1277547657",
            null,
            null,
            null,
            null,
            null,
            null,
            "38935522108",
            null,
            null,
            null,
            null,
            null,
            null,
            null,
            null,
            "15845828",
            null,
            null,
            null,
            null,
            null,
            null,
            null,
            null,
            null,
            null,
            null,
            null,
            null,
            null,
            null,
            null,
            null,
            null,
            null,
            "197751282",
            null,
            null,
            null,
            null,
            null,
            null,
            null,
            null,
            null,
            null,
            null,
            null,
            null,
            "35093808",
            null,
            null,
            null,
            null,
            null,
            "13556327295",
            "4161141000",
            null,
            null,
            null,
            null,
            null,
            null,
            "154704058",
            null,
            null,
            null,
            null,
            null,
            null,
            null,
            null,
            null,
            null,
            null,
            null,
            null,
            null,
            null,
            null,
            null,
            null,
            null,
            null,
            null,
            null,
            null,
            null,
            null,
            null,
            "2838523432",
            null,
            null,
            null,
            null,
            null,
            null,
            null,
            null,
            null,
            null,
            null,
            null,
            null,
            null,
            null,
            null,
            null,
            null,
            null,
            null,
            null,
            null,
            null,
            null,
            "105561608",
            null,
            null,
            null,
            null,
            "17870573797",
            null,
            null,
            null,
            null,
            null,
            null,
            null
           ],
           [
            null,
            2.46,
            5.84,
            11.39,
            10.6,
            4.33,
            2.06,
            3.16,
            14.84,
            11.47,
            9.91,
            11.73,
            7.92,
            5.38,
            10.92,
            0.05,
            11.73,
            11.8,
            9.45,
            12.91,
            17.48,
            1.15,
            17.48,
            17.48,
            5.99,
            4.62,
            2.48,
            17.48,
            3.38,
            11.78,
            4.98,
            7.34,
            9.65,
            3.33,
            5.38,
            1.95,
            4.49,
            17.48,
            11.73,
            0.04,
            11.73,
            3.33,
            11.73,
            11.73,
            10.92,
            2.67,
            3.33,
            0,
            0,
            10.39,
            6.02,
            3.13,
            0.07,
            3.87,
            3.27,
            12.38,
            4.08,
            3.22,
            4.28,
            7.42,
            5.73,
            11.73,
            0,
            11.48,
            10.2,
            18,
            11.73,
            12,
            1.15,
            4.32,
            5.62,
            4.72,
            0.95,
            9.73,
            7.43,
            5.38,
            9.46,
            1.69,
            3.33,
            11.73,
            11.73,
            6.12,
            0,
            3.19,
            13.15,
            3.72,
            5.63,
            1.24,
            3.12,
            3.12,
            4.45,
            11.31,
            8.32,
            11.61,
            13.51,
            4.31,
            11.76,
            0.25,
            11.73,
            0,
            5.73,
            4.53,
            10.56,
            0,
            3.29,
            11.76,
            5.53,
            11.73,
            8.6,
            7.35,
            21.41,
            5.37,
            12.61,
            3.32,
            3.23,
            0.83,
            1.38,
            8.79,
            10.14,
            12.48,
            8.49,
            14.55,
            null,
            2.46,
            5.84,
            11.39,
            10.6,
            4.33,
            2.06,
            3.16,
            14.84,
            11.47,
            9.91,
            11.73,
            7.92,
            5.38,
            10.92,
            0.05,
            11.73,
            11.8,
            9.45,
            12.91,
            17.48,
            1.15,
            17.48,
            17.48,
            5.99,
            4.62,
            2.48,
            17.48,
            3.38,
            11.78,
            4.98,
            7.34,
            9.65,
            3.33,
            5.38,
            1.95,
            4.49,
            17.48,
            11.73,
            0.04,
            11.73,
            3.33,
            11.73,
            11.73,
            10.92,
            2.67,
            3.33,
            0,
            0,
            10.39,
            6.02,
            3.13,
            0.07,
            3.87,
            3.27,
            12.38,
            4.08,
            3.22,
            4.28,
            7.42,
            5.73,
            11.73,
            0,
            11.48,
            10.2,
            4.34,
            18,
            11.73,
            12,
            1.15,
            4.32,
            5.62,
            4.72,
            0.95,
            9.73,
            7.43,
            5.38,
            9.46,
            1.69,
            3.33,
            11.73,
            11.73,
            6.12,
            0,
            3.19,
            13.15,
            3.72,
            5.63,
            1.24,
            3.12,
            3.12,
            4.45,
            11.31,
            8.32,
            11.61,
            13.51,
            4.31,
            11.76,
            0.25,
            11.73,
            0,
            5.73,
            4.53,
            10.56,
            0,
            3.29,
            11.76,
            5.53,
            11.73,
            8.6,
            7.35,
            21.41,
            5.37,
            12.61,
            3.32,
            3.23,
            0.83,
            1.38,
            8.79,
            10.14,
            12.48,
            14.55,
            null,
            2.46,
            5.84,
            11.39,
            10.6,
            4.33,
            2.06,
            3.16,
            14.84,
            11.47,
            9.91,
            11.73,
            7.92,
            5.38,
            10.92,
            0.05,
            11.73,
            11.8,
            9.45,
            12.91,
            17.48,
            1.15,
            17.48,
            17.48,
            5.99,
            4.62,
            2.48,
            17.48,
            3.38,
            11.78,
            4.98,
            7.34,
            9.65,
            3.33,
            5.38,
            1.95,
            4.49,
            17.48,
            11.73,
            0.04,
            11.73,
            3.33,
            11.73,
            11.73,
            10.92,
            2.67,
            3.33,
            0,
            0,
            10.39,
            6.02,
            3.13,
            0.07,
            3.87,
            3.27,
            12.38,
            4.08,
            3.22,
            4.28,
            7.42,
            5.73,
            11.73,
            0,
            11.48,
            10.2,
            4.34,
            18,
            11.73,
            12,
            1.15,
            5.62,
            4.72,
            0.95,
            9.73,
            7.43,
            5.38,
            9.46,
            1.69,
            3.33,
            11.73,
            11.73,
            6.12,
            0,
            3.19,
            13.15,
            3.72,
            5.63,
            1.24,
            3.12,
            3.12,
            4.45,
            11.31,
            8.32,
            11.61,
            13.51,
            4.31,
            11.76,
            0.25,
            11.73,
            0,
            5.73,
            4.53,
            10.56,
            0,
            3.29,
            11.76,
            5.53,
            11.73,
            8.6,
            7.35,
            21.41,
            5.37,
            12.61,
            3.32,
            3.23,
            0.83,
            1.38,
            8.79,
            10.14,
            12.48,
            8.49,
            14.55,
            null,
            2.46,
            5.84,
            11.39,
            10.6,
            4.33,
            2.06,
            3.16,
            14.84,
            11.47,
            9.91,
            11.73,
            7.92,
            5.38,
            10.92,
            0.05,
            11.73,
            11.8,
            9.45,
            12.91,
            17.48,
            1.15,
            17.48,
            17.48,
            5.99,
            4.62,
            2.48,
            17.48,
            3.38,
            11.78,
            4.98,
            7.34,
            9.65,
            3.33,
            5.38,
            1.95,
            4.49,
            17.48,
            11.73,
            0.04,
            11.73,
            3.33,
            11.73,
            11.73,
            10.92,
            2.67,
            3.33,
            0,
            0,
            10.39,
            6.02,
            3.13,
            0.07,
            3.87,
            3.27,
            12.38,
            3.22,
            4.28,
            7.42,
            5.73,
            11.73,
            0,
            11.48,
            10.2,
            4.34,
            18,
            11.73,
            12,
            1.15,
            4.32,
            5.62,
            4.72,
            0.95,
            9.73,
            7.43,
            5.38,
            9.46,
            1.69,
            3.33,
            11.73,
            11.73,
            6.12,
            0,
            3.19,
            13.15,
            3.72,
            5.63,
            1.24,
            3.12,
            3.12,
            4.45,
            11.31,
            8.32,
            11.61,
            13.51,
            4.31,
            11.76,
            0.25,
            11.73,
            0,
            5.73,
            4.53,
            10.56,
            0,
            3.29,
            11.76,
            5.53,
            11.73,
            8.6,
            7.35,
            21.41,
            5.37,
            12.61,
            3.32,
            3.23,
            0.83,
            1.38,
            8.79,
            10.14,
            12.48,
            8.49,
            14.55,
            null,
            2.46,
            5.84,
            11.39,
            10.6,
            4.33,
            2.06,
            3.16,
            14.84,
            11.47,
            9.91,
            11.73,
            7.92,
            5.38,
            10.92,
            0.05,
            11.73,
            11.8,
            9.45,
            12.91,
            17.48,
            1.15,
            17.48,
            17.48,
            5.99,
            4.62,
            2.48,
            17.48,
            3.38,
            11.78,
            4.98,
            7.34,
            9.65,
            3.33,
            5.38,
            1.95,
            4.49,
            17.48,
            11.73,
            0.04,
            11.73,
            3.33,
            11.73,
            11.73,
            10.92,
            2.67,
            3.33,
            0,
            0,
            10.39,
            6.02,
            3.13,
            0.07,
            3.87,
            3.27,
            12.38,
            4.08,
            3.22,
            4.28,
            7.42,
            5.73,
            11.73,
            0,
            11.48,
            10.2,
            4.34,
            18,
            11.73,
            12,
            1.15,
            4.32,
            5.62,
            4.72,
            0.95,
            9.73,
            7.43,
            5.38,
            9.46,
            1.69,
            3.33,
            11.73,
            11.73,
            6.12,
            0,
            3.19,
            13.15,
            3.72,
            5.63,
            1.24,
            3.12,
            3.12,
            4.45,
            11.31,
            8.32,
            11.61,
            13.51,
            4.31,
            11.76,
            0.25,
            11.73,
            0,
            5.73,
            4.53,
            10.56,
            0,
            11.76,
            5.53,
            11.73,
            8.6,
            7.35,
            21.41,
            5.37,
            12.61,
            3.32,
            3.23,
            0.83,
            1.38,
            8.79,
            10.14,
            12.48,
            8.49,
            14.55,
            null,
            2.46,
            5.84,
            11.39,
            10.6,
            4.33,
            2.06,
            3.16,
            14.84,
            11.47,
            9.91,
            11.73,
            7.92,
            5.38,
            10.92,
            0.05,
            11.73,
            11.8,
            9.45,
            12.91,
            17.48,
            1.15,
            17.48,
            17.48,
            5.99,
            4.62,
            2.48,
            17.48,
            3.38,
            11.78,
            4.98,
            7.34,
            9.65,
            3.33,
            5.38,
            1.95,
            4.49,
            17.48,
            11.73,
            0.04,
            11.73,
            3.33,
            11.73,
            11.73,
            10.92,
            2.67,
            3.33,
            0,
            0,
            10.39,
            6.02,
            3.13,
            0.07,
            3.87,
            3.27,
            12.38,
            4.08,
            3.22,
            4.28,
            7.42,
            5.73,
            11.73,
            0,
            11.48,
            10.2,
            4.34,
            18,
            11.73,
            12,
            1.15,
            4.32,
            5.62,
            4.72,
            0.95,
            9.73,
            7.43,
            5.38,
            9.46,
            1.69,
            3.33,
            11.73,
            11.73,
            6.12,
            0,
            3.19,
            13.15,
            3.72,
            5.63,
            1.24,
            3.12,
            3.12,
            4.45,
            11.31,
            8.32,
            11.61,
            13.51,
            4.31,
            11.76,
            0.25,
            11.73,
            0,
            5.73,
            4.53,
            10.56,
            0,
            3.29,
            11.76,
            5.53,
            11.73,
            8.6,
            7.35,
            21.41,
            5.37,
            12.61,
            3.32,
            3.23,
            0.83,
            8.79,
            10.14,
            12.48,
            8.49,
            14.55,
            null,
            2.46,
            5.84,
            11.39,
            10.6,
            4.33,
            2.06,
            3.16,
            14.84,
            11.47,
            9.91,
            11.73,
            7.92,
            5.38,
            10.92,
            0.05,
            11.73,
            11.8,
            9.45,
            12.91,
            17.48,
            1.15,
            17.48,
            17.48,
            5.99,
            2.48,
            17.48,
            3.38,
            11.78,
            4.98,
            7.34,
            9.65,
            3.33,
            5.38,
            1.95,
            4.49,
            17.48,
            11.73,
            0.04,
            11.73,
            3.33,
            11.73,
            11.73,
            10.92,
            2.67,
            3.33,
            0,
            0,
            10.39,
            6.02,
            3.13,
            0.07,
            3.87,
            3.27,
            12.38,
            4.08,
            3.22,
            4.28,
            7.42,
            5.73,
            11.73,
            0,
            11.48,
            10.2,
            4.34,
            18,
            11.73,
            12,
            1.15,
            4.32,
            5.62,
            4.72,
            0.95,
            9.73,
            7.43,
            5.38,
            9.46,
            1.69,
            3.33,
            11.73,
            11.73,
            6.12,
            0,
            3.19,
            13.15,
            3.72,
            5.63,
            1.24,
            3.12,
            3.12,
            4.45,
            11.31,
            8.32,
            11.61,
            13.51,
            4.31,
            11.76,
            0.25,
            11.73,
            0,
            5.73,
            4.53,
            10.56,
            0,
            3.29,
            11.76,
            5.53,
            11.73,
            8.6,
            7.35,
            21.41,
            5.37,
            12.61,
            3.32,
            3.23,
            0.83,
            1.38,
            8.79,
            10.14,
            12.48,
            8.49,
            14.55
           ],
           [
            null,
            2.46,
            5.84,
            11.39,
            10.6,
            4.33,
            0,
            3.16,
            14.84,
            11.47,
            9.91,
            11.73,
            7.92,
            5.38,
            10.92,
            0.05,
            11.73,
            11.8,
            9.45,
            12.91,
            17.48,
            0,
            17.48,
            17.48,
            5.99,
            4.62,
            2.48,
            17.48,
            3.38,
            11.78,
            4.98,
            7.34,
            9.65,
            3.33,
            5.38,
            1.95,
            4.49,
            17.48,
            11.73,
            0.04,
            11.73,
            3.33,
            11.73,
            11.73,
            10.92,
            2.67,
            3.33,
            0,
            0,
            10.39,
            6.02,
            3.13,
            0,
            3.87,
            3.27,
            12.38,
            4.08,
            3.22,
            4.28,
            0,
            5.73,
            11.73,
            0,
            11.48,
            10.2,
            18,
            11.73,
            12,
            1.15,
            4.32,
            5.62,
            4.72,
            0.95,
            9.73,
            7.43,
            5.38,
            9.46,
            0,
            3.33,
            11.73,
            11.73,
            6.12,
            0,
            3.19,
            13.15,
            3.72,
            5.63,
            1.24,
            0,
            3.12,
            4.45,
            11.31,
            8.32,
            11.61,
            13.51,
            4.31,
            11.76,
            0.25,
            11.73,
            0,
            5.73,
            4.53,
            10.56,
            0,
            3.29,
            11.76,
            5.53,
            11.73,
            8.6,
            7.35,
            21.41,
            0,
            12.61,
            3.32,
            3.23,
            0.83,
            1.38,
            8.79,
            10.14,
            12.48,
            0,
            14.55,
            null,
            2.46,
            5.84,
            11.39,
            10.6,
            0.57,
            0,
            3.16,
            14.84,
            11.47,
            9.91,
            11.73,
            7.92,
            5.38,
            10.92,
            0.05,
            11.73,
            11.8,
            9.45,
            12.91,
            17.48,
            0,
            17.48,
            17.48,
            5.99,
            4.62,
            2.48,
            17.48,
            3.38,
            11.78,
            4.98,
            7.34,
            9.65,
            3.33,
            5.38,
            0.03,
            4.49,
            17.48,
            11.73,
            0.04,
            11.73,
            3.33,
            11.73,
            11.73,
            10.92,
            2.67,
            3.33,
            0,
            0,
            10.39,
            6.02,
            3.13,
            0,
            3.87,
            1.67,
            12.38,
            4.08,
            3.22,
            4.28,
            0,
            5.73,
            11.73,
            0,
            11.48,
            10.2,
            4.34,
            18,
            11.73,
            12,
            1.15,
            4.32,
            5.62,
            4.72,
            0.95,
            9.73,
            7.43,
            5.38,
            9.46,
            0,
            3.33,
            11.73,
            11.73,
            6.12,
            0,
            3.19,
            13.15,
            3.72,
            5.63,
            1.24,
            0,
            3.12,
            0.84,
            11.31,
            8.32,
            11.61,
            13.51,
            4.31,
            11.76,
            0.25,
            11.73,
            0,
            5.73,
            4.53,
            10.56,
            0,
            3.29,
            11.76,
            5.53,
            11.73,
            8.6,
            7.35,
            21.41,
            5.37,
            12.61,
            3.32,
            3.23,
            0.83,
            1.38,
            8.79,
            10.14,
            12.48,
            14.55,
            null,
            2.46,
            5.84,
            11.39,
            10.6,
            4.33,
            0,
            3.16,
            14.84,
            11.47,
            9.91,
            11.73,
            7.92,
            5.38,
            10.92,
            0.05,
            11.73,
            11.8,
            9.45,
            12.91,
            17.48,
            0,
            17.48,
            17.48,
            5.99,
            4.62,
            2.48,
            17.48,
            0.09,
            11.78,
            4.98,
            7.34,
            9.65,
            0,
            5.38,
            0,
            4.49,
            17.48,
            11.73,
            0.04,
            11.73,
            0,
            11.73,
            11.73,
            10.92,
            2.67,
            3.33,
            0,
            0,
            10.39,
            6.02,
            3.13,
            0,
            3.87,
            3.27,
            12.38,
            4.08,
            3.22,
            4.28,
            7.42,
            5.73,
            11.73,
            0,
            11.48,
            10.2,
            4.34,
            18,
            11.73,
            12,
            1.15,
            5.62,
            4.72,
            0.95,
            9.73,
            7.43,
            5.38,
            9.46,
            0,
            0,
            11.73,
            11.73,
            6.12,
            0,
            3.19,
            13.15,
            3.72,
            5.63,
            1.24,
            3.12,
            3.12,
            4.45,
            11.31,
            8.32,
            11.61,
            13.51,
            4.31,
            11.76,
            0.25,
            11.73,
            0,
            5.73,
            4.53,
            10.56,
            0,
            3.29,
            11.76,
            5.53,
            11.73,
            8.6,
            7.35,
            21.41,
            5.37,
            12.61,
            3.32,
            3.23,
            0.83,
            0,
            8.79,
            10.14,
            12.48,
            0,
            14.55,
            null,
            2.46,
            5.84,
            11.39,
            10.6,
            4.33,
            0,
            3.16,
            14.3,
            11.47,
            9.91,
            11.73,
            7.92,
            5.38,
            10.92,
            0.05,
            11.73,
            11.8,
            9.45,
            12.91,
            17.48,
            0,
            17.48,
            17.48,
            5.99,
            4.62,
            2.48,
            17.48,
            0.57,
            11.78,
            4.98,
            7.34,
            9.65,
            0.71,
            5.38,
            0,
            4.49,
            17.48,
            11.73,
            0.04,
            11.73,
            3.33,
            11.73,
            11.73,
            10.92,
            2.67,
            0.52,
            0,
            0,
            10.39,
            6.02,
            3.13,
            0.03,
            3.87,
            3.27,
            12.38,
            3.22,
            4.28,
            1.2,
            5.73,
            11.73,
            0,
            11.48,
            10.2,
            4.34,
            18,
            11.73,
            12,
            1.15,
            4.32,
            5.62,
            4.72,
            0.95,
            9.73,
            7.43,
            5.38,
            9.46,
            0,
            0.39,
            11.73,
            11.73,
            6.12,
            0,
            3.19,
            13.15,
            3.72,
            5.63,
            1.24,
            0.66,
            3.12,
            4.45,
            11.31,
            8.32,
            11.61,
            13.51,
            4.31,
            11.76,
            0.25,
            11.73,
            0,
            5.73,
            4.47,
            10.56,
            0,
            3.29,
            11.76,
            5.53,
            11.73,
            8.6,
            7.35,
            21.41,
            0,
            12.61,
            3.32,
            3.23,
            0.83,
            0,
            8.79,
            10.14,
            12.48,
            1.95,
            14.55,
            null,
            2.46,
            5.84,
            11.39,
            10.6,
            4.33,
            1.95,
            3.16,
            14.84,
            11.47,
            9.91,
            11.73,
            7.92,
            5.38,
            10.92,
            0.05,
            11.73,
            11.8,
            9.45,
            12.91,
            17.48,
            1.15,
            17.48,
            17.48,
            5.99,
            4.62,
            2.48,
            17.48,
            3.38,
            11.78,
            4.98,
            7.34,
            9.65,
            3.33,
            5.38,
            1.95,
            4.49,
            17.48,
            11.73,
            0.04,
            11.73,
            0.05,
            11.73,
            11.73,
            10.92,
            2.67,
            3.33,
            0,
            0,
            10.39,
            6.02,
            3.13,
            0.07,
            3.87,
            3.27,
            12.38,
            4.08,
            3.22,
            4.28,
            7.42,
            5.73,
            11.73,
            0,
            11.48,
            10.2,
            4.34,
            18,
            11.73,
            12,
            1.15,
            4.32,
            5.62,
            4.72,
            0.95,
            9.73,
            7.43,
            5.38,
            9.46,
            0,
            3.33,
            11.73,
            11.73,
            6.12,
            0,
            3.19,
            13.15,
            3.72,
            5.63,
            1.24,
            3.12,
            3.12,
            4.45,
            11.31,
            8.32,
            11.61,
            13.51,
            4.31,
            11.76,
            0.25,
            11.73,
            0,
            5.73,
            4.53,
            10.56,
            0,
            11.76,
            5.53,
            11.73,
            8.6,
            7.35,
            21.41,
            5.37,
            12.61,
            3.32,
            3.23,
            0.83,
            1.38,
            8.79,
            10.14,
            12.48,
            8.49,
            14.55,
            null,
            2.46,
            5.84,
            11.39,
            10.6,
            4.33,
            0,
            3.16,
            14.84,
            11.47,
            9.91,
            11.73,
            7.92,
            5.38,
            10.92,
            0.05,
            11.73,
            11.8,
            9.45,
            12.91,
            17.48,
            0,
            17.48,
            17.48,
            5.99,
            4.62,
            2.48,
            17.48,
            0,
            11.78,
            4.98,
            7.34,
            9.65,
            0,
            5.38,
            1.95,
            4.49,
            17.48,
            11.73,
            0.04,
            11.73,
            0,
            11.73,
            11.73,
            10.92,
            2.67,
            1.63,
            0,
            0,
            10.39,
            6.02,
            3.13,
            0.07,
            3.87,
            3.27,
            12.38,
            4.08,
            3.22,
            4.28,
            7.42,
            5.73,
            11.73,
            0,
            11.48,
            10.2,
            4.34,
            18,
            11.73,
            12,
            1.15,
            4.32,
            5.62,
            4.72,
            0.95,
            9.73,
            7.43,
            5.38,
            9.46,
            1.69,
            0,
            11.73,
            11.73,
            6.12,
            0,
            0.02,
            13.15,
            3.72,
            5.63,
            1.24,
            3.12,
            3.12,
            4.45,
            11.31,
            8.32,
            11.61,
            13.51,
            4.31,
            11.76,
            0.25,
            11.73,
            0,
            5.73,
            4.53,
            10.56,
            0,
            3.29,
            11.76,
            5.53,
            11.73,
            8.6,
            7.35,
            21.41,
            5.37,
            12.61,
            3.32,
            3.23,
            0.83,
            8.79,
            10.14,
            12.48,
            8.49,
            14.55,
            null,
            2.46,
            5.84,
            11.39,
            10.6,
            4.33,
            0,
            3.16,
            14.3,
            11.47,
            9.91,
            11.73,
            7.92,
            5.38,
            10.92,
            0.05,
            11.73,
            11.8,
            9.45,
            12.91,
            17.48,
            1.15,
            17.48,
            17.48,
            5.99,
            2.48,
            17.48,
            0.37,
            11.78,
            4.98,
            7.34,
            9.65,
            3.33,
            5.38,
            1.95,
            4.49,
            17.48,
            11.73,
            0,
            11.73,
            3.33,
            11.73,
            11.73,
            10.92,
            2.67,
            3.33,
            0,
            0,
            10.39,
            6.02,
            3.13,
            0.03,
            3.87,
            3.27,
            12.38,
            4.08,
            3.22,
            4.28,
            0,
            5.73,
            11.73,
            0,
            11.48,
            10.2,
            4.34,
            18,
            11.73,
            12,
            0.34,
            4.32,
            5.62,
            4.72,
            0.95,
            9.73,
            7.43,
            5.38,
            9.46,
            0,
            2.31,
            11.73,
            11.73,
            6.12,
            0,
            3.19,
            13.15,
            3.72,
            5.63,
            1.24,
            0.26,
            3.12,
            4.45,
            11.31,
            8.32,
            11.61,
            13.51,
            4.31,
            11.76,
            0.25,
            11.73,
            0,
            5.73,
            4.47,
            10.56,
            0,
            3.18,
            11.76,
            5.53,
            11.73,
            8.6,
            7.35,
            21.41,
            5.37,
            12.61,
            3.32,
            3.23,
            0.83,
            1.38,
            8.79,
            10.14,
            12.48,
            0.96,
            14.55
           ],
           [
            null,
            "490",
            "271",
            "310",
            "640",
            "1,139",
            "371",
            "397",
            "419",
            "306",
            "339",
            "323",
            "483",
            "474",
            "643",
            "896",
            "323",
            "305",
            "377",
            "896",
            "298",
            "420",
            "298",
            "298",
            "441",
            "591",
            "501",
            "298",
            "631",
            "292",
            "283",
            "487",
            "581",
            "447",
            "474",
            "500",
            "332",
            "298",
            "323",
            "566",
            "323",
            "447",
            "323",
            "323",
            "307",
            "275",
            "447",
            "452",
            "502",
            "634",
            "896",
            "630",
            "355",
            "463",
            "1,139",
            "305",
            "743",
            "384",
            "712",
            "896",
            "492",
            "323",
            "431",
            "316",
            "461",
            "484",
            "323",
            "292",
            "339",
            "557",
            "500",
            "305",
            "503",
            "533",
            "897",
            "474",
            "330",
            "527",
            "483",
            "323",
            "323",
            "561",
            "356",
            "410",
            "498",
            "523",
            "640",
            "485",
            "896",
            "397",
            "716",
            "305",
            "303",
            "336",
            "270",
            "598",
            "323",
            "302",
            "323",
            "896",
            "492",
            "373",
            "305",
            "296",
            "557",
            "305",
            "896",
            "323",
            "271",
            "304",
            "994",
            "634",
            "305",
            "711",
            "356",
            "500",
            "624",
            "731",
            "279",
            "698",
            "909",
            "313",
            null,
            "490",
            "271",
            "310",
            "640",
            "1,139",
            "371",
            "397",
            "419",
            "306",
            "339",
            "323",
            "483",
            "474",
            "643",
            "896",
            "323",
            "305",
            "377",
            "896",
            "298",
            "420",
            "298",
            "298",
            "441",
            "591",
            "501",
            "298",
            "631",
            "292",
            "283",
            "487",
            "581",
            "447",
            "474",
            "500",
            "332",
            "298",
            "323",
            "566",
            "323",
            "447",
            "323",
            "323",
            "307",
            "275",
            "447",
            "452",
            "502",
            "634",
            "896",
            "630",
            "355",
            "463",
            "1,139",
            "305",
            "743",
            "384",
            "712",
            "896",
            "492",
            "323",
            "431",
            "316",
            "461",
            "896",
            "484",
            "323",
            "292",
            "339",
            "557",
            "500",
            "305",
            "503",
            "533",
            "897",
            "474",
            "330",
            "527",
            "483",
            "323",
            "323",
            "561",
            "356",
            "410",
            "498",
            "523",
            "640",
            "485",
            "896",
            "397",
            "716",
            "305",
            "303",
            "336",
            "270",
            "598",
            "323",
            "302",
            "323",
            "896",
            "492",
            "373",
            "305",
            "296",
            "557",
            "305",
            "896",
            "323",
            "271",
            "304",
            "994",
            "634",
            "305",
            "711",
            "356",
            "500",
            "624",
            "731",
            "279",
            "698",
            "313",
            null,
            "490",
            "271",
            "310",
            "640",
            "1,139",
            "371",
            "397",
            "419",
            "306",
            "339",
            "323",
            "483",
            "474",
            "643",
            "896",
            "323",
            "305",
            "377",
            "896",
            "298",
            "420",
            "298",
            "298",
            "441",
            "591",
            "501",
            "298",
            "631",
            "292",
            "283",
            "487",
            "581",
            "447",
            "474",
            "500",
            "332",
            "298",
            "323",
            "566",
            "323",
            "447",
            "323",
            "323",
            "307",
            "275",
            "447",
            "452",
            "502",
            "634",
            "896",
            "630",
            "355",
            "463",
            "1,139",
            "305",
            "743",
            "384",
            "712",
            "896",
            "492",
            "323",
            "431",
            "316",
            "461",
            "896",
            "484",
            "323",
            "292",
            "339",
            "500",
            "305",
            "503",
            "533",
            "897",
            "474",
            "330",
            "527",
            "483",
            "323",
            "323",
            "561",
            "356",
            "410",
            "498",
            "523",
            "640",
            "485",
            "896",
            "397",
            "716",
            "305",
            "303",
            "336",
            "270",
            "598",
            "323",
            "302",
            "323",
            "896",
            "492",
            "373",
            "305",
            "296",
            "557",
            "305",
            "896",
            "323",
            "271",
            "304",
            "994",
            "634",
            "305",
            "711",
            "356",
            "500",
            "624",
            "731",
            "279",
            "698",
            "909",
            "313",
            null,
            "490",
            "271",
            "310",
            "640",
            "1,139",
            "371",
            "397",
            "419",
            "306",
            "339",
            "323",
            "483",
            "474",
            "643",
            "896",
            "323",
            "305",
            "377",
            "896",
            "298",
            "420",
            "298",
            "298",
            "441",
            "591",
            "501",
            "298",
            "631",
            "292",
            "283",
            "487",
            "581",
            "447",
            "474",
            "500",
            "332",
            "298",
            "323",
            "566",
            "323",
            "447",
            "323",
            "323",
            "307",
            "275",
            "447",
            "452",
            "502",
            "634",
            "896",
            "630",
            "355",
            "463",
            "1,139",
            "305",
            "384",
            "712",
            "896",
            "492",
            "323",
            "431",
            "316",
            "461",
            "896",
            "484",
            "323",
            "292",
            "339",
            "557",
            "500",
            "305",
            "503",
            "533",
            "897",
            "474",
            "330",
            "527",
            "483",
            "323",
            "323",
            "561",
            "356",
            "410",
            "498",
            "523",
            "640",
            "485",
            "896",
            "397",
            "716",
            "305",
            "303",
            "336",
            "270",
            "598",
            "323",
            "302",
            "323",
            "896",
            "492",
            "373",
            "305",
            "296",
            "557",
            "305",
            "896",
            "323",
            "271",
            "304",
            "994",
            "634",
            "305",
            "711",
            "356",
            "500",
            "624",
            "731",
            "279",
            "698",
            "909",
            "313",
            null,
            "490",
            "271",
            "310",
            "640",
            "1,139",
            "371",
            "397",
            "419",
            "306",
            "339",
            "323",
            "483",
            "474",
            "643",
            "896",
            "323",
            "305",
            "377",
            "896",
            "298",
            "420",
            "298",
            "298",
            "441",
            "591",
            "501",
            "298",
            "631",
            "292",
            "283",
            "487",
            "581",
            "447",
            "474",
            "500",
            "332",
            "298",
            "323",
            "566",
            "323",
            "447",
            "323",
            "323",
            "307",
            "275",
            "447",
            "452",
            "502",
            "634",
            "896",
            "630",
            "355",
            "463",
            "1,139",
            "305",
            "743",
            "384",
            "712",
            "896",
            "492",
            "323",
            "431",
            "316",
            "461",
            "896",
            "484",
            "323",
            "292",
            "339",
            "557",
            "500",
            "305",
            "503",
            "533",
            "897",
            "474",
            "330",
            "527",
            "483",
            "323",
            "323",
            "561",
            "356",
            "410",
            "498",
            "523",
            "640",
            "485",
            "896",
            "397",
            "716",
            "305",
            "303",
            "336",
            "270",
            "598",
            "323",
            "302",
            "323",
            "896",
            "492",
            "373",
            "305",
            "296",
            "305",
            "896",
            "323",
            "271",
            "304",
            "994",
            "634",
            "305",
            "711",
            "356",
            "500",
            "624",
            "731",
            "279",
            "698",
            "909",
            "313",
            null,
            "490",
            "271",
            "310",
            "640",
            "1,139",
            "371",
            "397",
            "419",
            "306",
            "339",
            "323",
            "483",
            "474",
            "643",
            "896",
            "323",
            "305",
            "377",
            "896",
            "298",
            "420",
            "298",
            "298",
            "441",
            "591",
            "501",
            "298",
            "631",
            "292",
            "283",
            "487",
            "581",
            "447",
            "474",
            "500",
            "332",
            "298",
            "323",
            "566",
            "323",
            "447",
            "323",
            "323",
            "307",
            "275",
            "447",
            "452",
            "502",
            "634",
            "896",
            "630",
            "355",
            "463",
            "1,139",
            "305",
            "743",
            "384",
            "712",
            "896",
            "492",
            "323",
            "431",
            "316",
            "461",
            "896",
            "484",
            "323",
            "292",
            "339",
            "557",
            "500",
            "305",
            "503",
            "533",
            "897",
            "474",
            "330",
            "527",
            "483",
            "323",
            "323",
            "561",
            "356",
            "410",
            "498",
            "523",
            "640",
            "485",
            "896",
            "397",
            "716",
            "305",
            "303",
            "336",
            "270",
            "598",
            "323",
            "302",
            "323",
            "896",
            "492",
            "373",
            "305",
            "296",
            "557",
            "305",
            "896",
            "323",
            "271",
            "304",
            "994",
            "634",
            "305",
            "711",
            "356",
            "500",
            "731",
            "279",
            "698",
            "909",
            "313",
            null,
            "490",
            "271",
            "310",
            "640",
            "1,139",
            "371",
            "397",
            "419",
            "306",
            "339",
            "323",
            "483",
            "474",
            "643",
            "896",
            "323",
            "305",
            "377",
            "896",
            "298",
            "420",
            "298",
            "298",
            "441",
            "501",
            "298",
            "631",
            "292",
            "283",
            "487",
            "581",
            "447",
            "474",
            "500",
            "332",
            "298",
            "323",
            "566",
            "323",
            "447",
            "323",
            "323",
            "307",
            "275",
            "447",
            "452",
            "502",
            "634",
            "896",
            "630",
            "355",
            "463",
            "1,139",
            "305",
            "743",
            "384",
            "712",
            "896",
            "492",
            "323",
            "431",
            "316",
            "461",
            "896",
            "484",
            "323",
            "292",
            "339",
            "557",
            "500",
            "305",
            "503",
            "533",
            "897",
            "474",
            "330",
            "527",
            "483",
            "323",
            "323",
            "561",
            "356",
            "410",
            "498",
            "523",
            "640",
            "485",
            "896",
            "397",
            "716",
            "305",
            "303",
            "336",
            "270",
            "598",
            "323",
            "302",
            "323",
            "896",
            "492",
            "373",
            "305",
            "296",
            "557",
            "305",
            "896",
            "323",
            "271",
            "304",
            "994",
            "634",
            "305",
            "711",
            "356",
            "500",
            "624",
            "731",
            "279",
            "698",
            "909",
            "313"
           ],
           [
            null,
            null,
            null,
            1,
            null,
            9,
            null,
            null,
            null,
            null,
            null,
            null,
            null,
            null,
            null,
            null,
            null,
            null,
            3,
            null,
            null,
            null,
            null,
            null,
            null,
            null,
            null,
            null,
            null,
            null,
            null,
            null,
            18,
            null,
            null,
            null,
            1,
            null,
            null,
            null,
            null,
            null,
            null,
            null,
            1,
            null,
            null,
            null,
            null,
            null,
            4,
            10,
            null,
            null,
            1,
            null,
            null,
            8,
            9,
            null,
            null,
            null,
            null,
            5,
            null,
            null,
            null,
            null,
            null,
            2,
            null,
            null,
            null,
            null,
            null,
            null,
            null,
            5,
            null,
            null,
            null,
            null,
            null,
            6,
            4,
            null,
            null,
            null,
            null,
            8,
            10,
            null,
            null,
            null,
            null,
            3,
            null,
            null,
            null,
            null,
            null,
            19,
            1,
            null,
            6,
            null,
            null,
            null,
            null,
            null,
            null,
            17,
            null,
            null,
            8,
            null,
            null,
            null,
            null,
            null,
            null,
            3,
            null,
            null,
            null,
            1,
            null,
            9,
            null,
            null,
            null,
            null,
            null,
            null,
            null,
            null,
            null,
            null,
            null,
            null,
            3,
            null,
            null,
            null,
            null,
            null,
            null,
            null,
            null,
            null,
            null,
            null,
            null,
            null,
            18,
            null,
            null,
            null,
            1,
            null,
            null,
            null,
            null,
            null,
            null,
            null,
            1,
            null,
            null,
            null,
            null,
            null,
            4,
            10,
            null,
            null,
            1,
            null,
            null,
            8,
            9,
            null,
            null,
            null,
            null,
            5,
            null,
            null,
            null,
            null,
            null,
            null,
            2,
            null,
            null,
            null,
            null,
            null,
            null,
            null,
            5,
            null,
            null,
            null,
            null,
            null,
            6,
            4,
            null,
            null,
            null,
            null,
            8,
            10,
            null,
            null,
            null,
            null,
            3,
            null,
            null,
            null,
            null,
            null,
            19,
            1,
            null,
            6,
            null,
            null,
            null,
            null,
            null,
            null,
            17,
            null,
            null,
            8,
            null,
            null,
            null,
            null,
            null,
            3,
            null,
            null,
            null,
            1,
            null,
            9,
            null,
            null,
            null,
            null,
            null,
            null,
            null,
            null,
            null,
            null,
            null,
            null,
            3,
            null,
            null,
            null,
            null,
            null,
            null,
            null,
            null,
            null,
            null,
            null,
            null,
            null,
            18,
            null,
            null,
            null,
            1,
            null,
            null,
            null,
            null,
            null,
            null,
            null,
            1,
            null,
            null,
            null,
            null,
            null,
            4,
            10,
            null,
            null,
            1,
            null,
            null,
            8,
            9,
            null,
            null,
            null,
            null,
            5,
            null,
            null,
            null,
            null,
            null,
            null,
            null,
            null,
            null,
            null,
            null,
            null,
            null,
            5,
            null,
            null,
            null,
            null,
            null,
            6,
            4,
            null,
            null,
            null,
            null,
            8,
            10,
            null,
            null,
            null,
            null,
            3,
            null,
            null,
            null,
            null,
            null,
            19,
            1,
            null,
            6,
            null,
            null,
            null,
            null,
            null,
            null,
            17,
            null,
            null,
            8,
            null,
            null,
            null,
            null,
            null,
            null,
            3,
            null,
            null,
            null,
            1,
            null,
            9,
            null,
            null,
            null,
            null,
            null,
            null,
            null,
            null,
            null,
            null,
            null,
            null,
            3,
            null,
            null,
            null,
            null,
            null,
            null,
            null,
            null,
            null,
            null,
            null,
            null,
            null,
            18,
            null,
            null,
            null,
            1,
            null,
            null,
            null,
            null,
            null,
            null,
            null,
            1,
            null,
            null,
            null,
            null,
            null,
            4,
            10,
            null,
            null,
            1,
            null,
            8,
            9,
            null,
            null,
            null,
            null,
            5,
            null,
            null,
            null,
            null,
            null,
            null,
            2,
            null,
            null,
            null,
            null,
            null,
            null,
            null,
            5,
            null,
            null,
            null,
            null,
            null,
            6,
            4,
            null,
            null,
            null,
            null,
            8,
            10,
            null,
            null,
            null,
            null,
            3,
            null,
            null,
            null,
            null,
            null,
            19,
            1,
            null,
            6,
            null,
            null,
            null,
            null,
            null,
            null,
            17,
            null,
            null,
            8,
            null,
            null,
            null,
            null,
            null,
            null,
            3,
            null,
            null,
            null,
            1,
            null,
            9,
            null,
            null,
            null,
            null,
            null,
            null,
            null,
            null,
            null,
            null,
            null,
            null,
            3,
            null,
            null,
            null,
            null,
            null,
            null,
            null,
            null,
            null,
            null,
            null,
            null,
            null,
            18,
            null,
            null,
            null,
            1,
            null,
            null,
            null,
            null,
            null,
            null,
            null,
            1,
            null,
            null,
            null,
            null,
            null,
            4,
            10,
            null,
            null,
            1,
            null,
            null,
            8,
            9,
            null,
            null,
            null,
            null,
            5,
            null,
            null,
            null,
            null,
            null,
            null,
            2,
            null,
            null,
            null,
            null,
            null,
            null,
            null,
            5,
            null,
            null,
            null,
            null,
            null,
            6,
            4,
            null,
            null,
            null,
            null,
            8,
            10,
            null,
            null,
            null,
            null,
            3,
            null,
            null,
            null,
            null,
            null,
            19,
            1,
            null,
            null,
            null,
            null,
            null,
            null,
            null,
            17,
            null,
            null,
            8,
            null,
            null,
            null,
            null,
            null,
            null,
            3,
            null,
            null,
            null,
            1,
            null,
            9,
            null,
            null,
            null,
            null,
            null,
            null,
            null,
            null,
            null,
            null,
            null,
            null,
            3,
            null,
            null,
            null,
            null,
            null,
            null,
            null,
            null,
            null,
            null,
            null,
            null,
            null,
            18,
            null,
            null,
            null,
            1,
            null,
            null,
            null,
            null,
            null,
            null,
            null,
            1,
            null,
            null,
            null,
            null,
            null,
            4,
            10,
            null,
            null,
            1,
            null,
            null,
            8,
            9,
            null,
            null,
            null,
            null,
            5,
            null,
            null,
            null,
            null,
            null,
            null,
            2,
            null,
            null,
            null,
            null,
            null,
            null,
            null,
            5,
            null,
            null,
            null,
            null,
            null,
            6,
            4,
            null,
            null,
            null,
            null,
            8,
            10,
            null,
            null,
            null,
            null,
            3,
            null,
            null,
            null,
            null,
            null,
            19,
            1,
            null,
            6,
            null,
            null,
            null,
            null,
            null,
            null,
            17,
            null,
            null,
            8,
            null,
            null,
            null,
            null,
            null,
            3,
            null,
            null,
            null,
            1,
            null,
            9,
            null,
            null,
            null,
            null,
            null,
            null,
            null,
            null,
            null,
            null,
            null,
            null,
            3,
            null,
            null,
            null,
            null,
            null,
            null,
            null,
            null,
            null,
            null,
            null,
            null,
            18,
            null,
            null,
            null,
            1,
            null,
            null,
            null,
            null,
            null,
            null,
            null,
            1,
            null,
            null,
            null,
            null,
            null,
            4,
            10,
            null,
            null,
            1,
            null,
            null,
            8,
            9,
            null,
            null,
            null,
            null,
            5,
            null,
            null,
            null,
            null,
            null,
            null,
            2,
            null,
            null,
            null,
            null,
            null,
            null,
            null,
            5,
            null,
            null,
            null,
            null,
            null,
            6,
            4,
            null,
            null,
            null,
            null,
            8,
            10,
            null,
            null,
            null,
            null,
            3,
            null,
            null,
            null,
            null,
            null,
            19,
            1,
            null,
            6,
            null,
            null,
            null,
            null,
            null,
            null,
            17,
            null,
            null,
            8,
            null,
            null,
            null,
            null,
            null,
            null,
            3
           ],
           [
            null,
            null,
            null,
            null,
            null,
            null,
            153,
            null,
            null,
            null,
            null,
            null,
            null,
            null,
            null,
            null,
            null,
            null,
            null,
            null,
            null,
            80,
            null,
            null,
            null,
            null,
            null,
            null,
            null,
            null,
            null,
            null,
            null,
            null,
            null,
            null,
            null,
            null,
            null,
            null,
            null,
            null,
            null,
            null,
            null,
            null,
            null,
            null,
            null,
            null,
            null,
            null,
            7,
            null,
            null,
            null,
            null,
            null,
            null,
            896,
            null,
            null,
            null,
            null,
            null,
            null,
            null,
            null,
            null,
            null,
            null,
            null,
            null,
            null,
            null,
            null,
            null,
            178,
            null,
            null,
            null,
            null,
            null,
            null,
            null,
            null,
            null,
            null,
            457,
            null,
            null,
            null,
            null,
            null,
            null,
            null,
            null,
            null,
            null,
            null,
            null,
            null,
            null,
            null,
            null,
            null,
            null,
            null,
            null,
            null,
            null,
            448,
            null,
            null,
            null,
            null,
            null,
            null,
            null,
            null,
            539,
            null,
            null,
            null,
            null,
            null,
            null,
            620,
            153,
            null,
            null,
            null,
            null,
            null,
            null,
            null,
            null,
            null,
            null,
            null,
            null,
            null,
            null,
            80,
            null,
            null,
            null,
            null,
            null,
            null,
            null,
            null,
            null,
            null,
            null,
            null,
            null,
            284,
            null,
            null,
            null,
            null,
            null,
            null,
            null,
            null,
            null,
            null,
            null,
            null,
            null,
            null,
            null,
            null,
            7,
            null,
            269,
            null,
            null,
            null,
            null,
            896,
            null,
            null,
            null,
            null,
            null,
            null,
            null,
            null,
            null,
            null,
            null,
            null,
            null,
            null,
            null,
            null,
            null,
            null,
            178,
            null,
            null,
            null,
            null,
            null,
            null,
            null,
            null,
            null,
            null,
            457,
            null,
            391,
            null,
            null,
            null,
            null,
            null,
            null,
            null,
            null,
            null,
            null,
            null,
            null,
            null,
            null,
            null,
            null,
            null,
            null,
            null,
            null,
            null,
            null,
            null,
            null,
            null,
            null,
            null,
            null,
            null,
            null,
            null,
            null,
            null,
            null,
            null,
            null,
            153,
            null,
            null,
            null,
            null,
            null,
            null,
            null,
            null,
            null,
            null,
            null,
            null,
            null,
            null,
            80,
            null,
            null,
            null,
            null,
            null,
            null,
            474,
            null,
            null,
            null,
            null,
            129,
            null,
            284,
            null,
            null,
            null,
            null,
            null,
            129,
            null,
            null,
            null,
            null,
            null,
            null,
            null,
            null,
            null,
            null,
            7,
            null,
            null,
            null,
            null,
            null,
            null,
            null,
            null,
            null,
            null,
            null,
            null,
            null,
            null,
            null,
            null,
            null,
            null,
            null,
            null,
            null,
            null,
            null,
            null,
            178,
            137,
            null,
            null,
            null,
            null,
            null,
            null,
            null,
            null,
            null,
            null,
            null,
            null,
            null,
            null,
            null,
            null,
            null,
            null,
            null,
            null,
            null,
            null,
            null,
            null,
            null,
            null,
            null,
            null,
            null,
            null,
            null,
            null,
            null,
            null,
            null,
            null,
            null,
            262,
            null,
            null,
            null,
            539,
            null,
            null,
            null,
            null,
            null,
            null,
            null,
            153,
            null,
            21,
            null,
            null,
            null,
            null,
            null,
            null,
            null,
            null,
            null,
            null,
            null,
            null,
            80,
            null,
            null,
            null,
            null,
            null,
            null,
            475,
            null,
            null,
            null,
            null,
            127,
            null,
            284,
            null,
            null,
            null,
            null,
            null,
            null,
            null,
            null,
            null,
            null,
            127,
            null,
            null,
            null,
            null,
            null,
            7,
            null,
            null,
            null,
            null,
            null,
            896,
            null,
            null,
            null,
            null,
            null,
            null,
            null,
            null,
            null,
            null,
            null,
            null,
            null,
            null,
            null,
            null,
            null,
            null,
            178,
            137,
            null,
            null,
            null,
            null,
            null,
            null,
            null,
            null,
            null,
            434,
            null,
            null,
            null,
            null,
            null,
            null,
            null,
            null,
            null,
            null,
            null,
            null,
            31,
            null,
            null,
            null,
            null,
            null,
            null,
            null,
            null,
            null,
            448,
            null,
            null,
            null,
            null,
            262,
            null,
            null,
            null,
            497,
            null,
            null,
            null,
            null,
            null,
            null,
            null,
            36,
            null,
            null,
            null,
            3,
            null,
            null,
            null,
            null,
            null,
            null,
            null,
            null,
            null,
            null,
            null,
            null,
            null,
            null,
            null,
            null,
            null,
            null,
            null,
            null,
            null,
            null,
            null,
            null,
            null,
            null,
            null,
            null,
            null,
            null,
            128,
            null,
            null,
            null,
            null,
            null,
            null,
            null,
            null,
            null,
            null,
            null,
            null,
            null,
            null,
            null,
            null,
            null,
            null,
            null,
            null,
            null,
            null,
            null,
            null,
            null,
            null,
            null,
            null,
            null,
            null,
            null,
            null,
            null,
            null,
            null,
            null,
            178,
            null,
            null,
            null,
            null,
            null,
            null,
            null,
            null,
            null,
            null,
            null,
            null,
            null,
            null,
            null,
            null,
            null,
            null,
            null,
            null,
            null,
            null,
            null,
            null,
            null,
            null,
            null,
            null,
            null,
            null,
            null,
            null,
            null,
            null,
            null,
            null,
            null,
            null,
            null,
            null,
            null,
            null,
            null,
            null,
            null,
            null,
            null,
            null,
            null,
            153,
            null,
            null,
            null,
            null,
            null,
            null,
            null,
            null,
            null,
            null,
            null,
            null,
            null,
            null,
            80,
            null,
            null,
            null,
            null,
            null,
            null,
            479,
            null,
            null,
            null,
            null,
            129,
            null,
            null,
            null,
            null,
            null,
            null,
            null,
            129,
            null,
            null,
            null,
            null,
            65,
            null,
            null,
            null,
            null,
            null,
            null,
            null,
            null,
            null,
            null,
            null,
            null,
            null,
            null,
            null,
            null,
            null,
            null,
            null,
            null,
            null,
            null,
            null,
            null,
            null,
            null,
            null,
            null,
            null,
            null,
            null,
            null,
            137,
            null,
            null,
            null,
            null,
            256,
            null,
            null,
            null,
            null,
            null,
            null,
            null,
            null,
            null,
            null,
            null,
            null,
            null,
            null,
            null,
            null,
            null,
            null,
            null,
            null,
            null,
            null,
            null,
            null,
            null,
            null,
            null,
            null,
            null,
            null,
            null,
            null,
            null,
            null,
            null,
            null,
            null,
            null,
            null,
            null,
            null,
            null,
            null,
            153,
            null,
            21,
            null,
            null,
            null,
            null,
            null,
            null,
            null,
            null,
            null,
            null,
            null,
            null,
            null,
            null,
            null,
            null,
            null,
            null,
            462,
            null,
            null,
            null,
            null,
            null,
            null,
            null,
            null,
            null,
            null,
            5,
            null,
            null,
            null,
            null,
            null,
            null,
            null,
            null,
            null,
            null,
            null,
            null,
            7,
            null,
            null,
            null,
            null,
            null,
            null,
            896,
            null,
            null,
            null,
            null,
            null,
            null,
            null,
            null,
            null,
            13,
            null,
            null,
            null,
            null,
            null,
            null,
            null,
            null,
            178,
            137,
            null,
            null,
            null,
            null,
            null,
            null,
            null,
            null,
            null,
            445,
            null,
            null,
            null,
            null,
            null,
            null,
            null,
            null,
            null,
            null,
            null,
            null,
            31,
            null,
            null,
            17,
            null,
            null,
            null,
            null,
            null,
            null,
            null,
            null,
            null,
            null,
            null,
            null,
            null,
            null,
            null,
            526,
            null
           ],
           [
            "Malaysia",
            "Malaysia",
            "Malaysia",
            "Malaysia",
            "Malaysia",
            "Malaysia",
            "Malaysia",
            "Malaysia",
            "Malaysia",
            "Malaysia",
            "Malaysia",
            "Malaysia",
            "Malaysia",
            "Malaysia",
            "Malaysia",
            "Malaysia",
            "Malaysia",
            "Malaysia",
            "Malaysia",
            "Malaysia",
            "Malaysia",
            "Malaysia",
            "Malaysia",
            "Malaysia",
            "Malaysia",
            "Malaysia",
            "Malaysia",
            "Malaysia",
            "Malaysia",
            "Malaysia",
            "Malaysia",
            "Malaysia",
            "Malaysia",
            "Malaysia",
            "Malaysia",
            "Malaysia",
            "Malaysia",
            "Malaysia",
            "Malaysia",
            "Malaysia",
            "Malaysia",
            "Malaysia",
            "Malaysia",
            "Malaysia",
            "Malaysia",
            "Malaysia",
            "Malaysia",
            "Malaysia",
            "Malaysia",
            "Malaysia",
            "Malaysia",
            "Malaysia",
            "Malaysia",
            "Malaysia",
            "Malaysia",
            "Malaysia",
            "Malaysia",
            "Malaysia",
            "Malaysia",
            "Malaysia",
            "Malaysia",
            "Malaysia",
            "Malaysia",
            "Malaysia",
            "Malaysia",
            "Malaysia",
            "Malaysia",
            "Malaysia",
            "Malaysia",
            "Malaysia",
            "Malaysia",
            "Malaysia",
            "Malaysia",
            "Malaysia",
            "Malaysia",
            "Malaysia",
            "Malaysia",
            "Malaysia",
            "Malaysia",
            "Malaysia",
            "Malaysia",
            "Malaysia",
            "Malaysia",
            "Malaysia",
            "Malaysia",
            "Malaysia",
            "Malaysia",
            "Malaysia",
            "Malaysia",
            "Malaysia",
            "Malaysia",
            "Malaysia",
            "Malaysia",
            "Malaysia",
            "Malaysia",
            "Malaysia",
            "Malaysia",
            "Malaysia",
            "Malaysia",
            "Malaysia",
            "Malaysia",
            "Malaysia",
            "Malaysia",
            "Malaysia",
            "Malaysia",
            "Malaysia",
            "Malaysia",
            "Malaysia",
            "Malaysia",
            "Malaysia",
            "Malaysia",
            "Malaysia",
            "Malaysia",
            "Malaysia",
            "Malaysia",
            "Malaysia",
            "Malaysia",
            "Malaysia",
            "Malaysia",
            "Malaysia",
            "Malaysia",
            "Malaysia",
            "Vietnam",
            "Vietnam",
            "Vietnam",
            "Vietnam",
            "Vietnam",
            "Vietnam",
            "Vietnam",
            "Vietnam",
            "Vietnam",
            "Vietnam",
            "Vietnam",
            "Vietnam",
            "Vietnam",
            "Vietnam",
            "Vietnam",
            "Vietnam",
            "Vietnam",
            "Vietnam",
            "Vietnam",
            "Vietnam",
            "Vietnam",
            "Vietnam",
            "Vietnam",
            "Vietnam",
            "Vietnam",
            "Vietnam",
            "Vietnam",
            "Vietnam",
            "Vietnam",
            "Vietnam",
            "Vietnam",
            "Vietnam",
            "Vietnam",
            "Vietnam",
            "Vietnam",
            "Vietnam",
            "Vietnam",
            "Vietnam",
            "Vietnam",
            "Vietnam",
            "Vietnam",
            "Vietnam",
            "Vietnam",
            "Vietnam",
            "Vietnam",
            "Vietnam",
            "Vietnam",
            "Vietnam",
            "Vietnam",
            "Vietnam",
            "Vietnam",
            "Vietnam",
            "Vietnam",
            "Vietnam",
            "Vietnam",
            "Vietnam",
            "Vietnam",
            "Vietnam",
            "Vietnam",
            "Vietnam",
            "Vietnam",
            "Vietnam",
            "Vietnam",
            "Vietnam",
            "Vietnam",
            "Vietnam",
            "Vietnam",
            "Vietnam",
            "Vietnam",
            "Vietnam",
            "Vietnam",
            "Vietnam",
            "Vietnam",
            "Vietnam",
            "Vietnam",
            "Vietnam",
            "Vietnam",
            "Vietnam",
            "Vietnam",
            "Vietnam",
            "Vietnam",
            "Vietnam",
            "Vietnam",
            "Vietnam",
            "Vietnam",
            "Vietnam",
            "Vietnam",
            "Vietnam",
            "Vietnam",
            "Vietnam",
            "Vietnam",
            "Vietnam",
            "Vietnam",
            "Vietnam",
            "Vietnam",
            "Vietnam",
            "Vietnam",
            "Vietnam",
            "Vietnam",
            "Vietnam",
            "Vietnam",
            "Vietnam",
            "Vietnam",
            "Vietnam",
            "Vietnam",
            "Vietnam",
            "Vietnam",
            "Vietnam",
            "Vietnam",
            "Vietnam",
            "Vietnam",
            "Vietnam",
            "Vietnam",
            "Vietnam",
            "Vietnam",
            "Vietnam",
            "Vietnam",
            "Vietnam",
            "Vietnam",
            "Vietnam",
            "Vietnam",
            "Vietnam",
            "Mexico",
            "Mexico",
            "Mexico",
            "Mexico",
            "Mexico",
            "Mexico",
            "Mexico",
            "Mexico",
            "Mexico",
            "Mexico",
            "Mexico",
            "Mexico",
            "Mexico",
            "Mexico",
            "Mexico",
            "Mexico",
            "Mexico",
            "Mexico",
            "Mexico",
            "Mexico",
            "Mexico",
            "Mexico",
            "Mexico",
            "Mexico",
            "Mexico",
            "Mexico",
            "Mexico",
            "Mexico",
            "Mexico",
            "Mexico",
            "Mexico",
            "Mexico",
            "Mexico",
            "Mexico",
            "Mexico",
            "Mexico",
            "Mexico",
            "Mexico",
            "Mexico",
            "Mexico",
            "Mexico",
            "Mexico",
            "Mexico",
            "Mexico",
            "Mexico",
            "Mexico",
            "Mexico",
            "Mexico",
            "Mexico",
            "Mexico",
            "Mexico",
            "Mexico",
            "Mexico",
            "Mexico",
            "Mexico",
            "Mexico",
            "Mexico",
            "Mexico",
            "Mexico",
            "Mexico",
            "Mexico",
            "Mexico",
            "Mexico",
            "Mexico",
            "Mexico",
            "Mexico",
            "Mexico",
            "Mexico",
            "Mexico",
            "Mexico",
            "Mexico",
            "Mexico",
            "Mexico",
            "Mexico",
            "Mexico",
            "Mexico",
            "Mexico",
            "Mexico",
            "Mexico",
            "Mexico",
            "Mexico",
            "Mexico",
            "Mexico",
            "Mexico",
            "Mexico",
            "Mexico",
            "Mexico",
            "Mexico",
            "Mexico",
            "Mexico",
            "Mexico",
            "Mexico",
            "Mexico",
            "Mexico",
            "Mexico",
            "Mexico",
            "Mexico",
            "Mexico",
            "Mexico",
            "Mexico",
            "Mexico",
            "Mexico",
            "Mexico",
            "Mexico",
            "Mexico",
            "Mexico",
            "Mexico",
            "Mexico",
            "Mexico",
            "Mexico",
            "Mexico",
            "Mexico",
            "Mexico",
            "Mexico",
            "Mexico",
            "Mexico",
            "Mexico",
            "Mexico",
            "Mexico",
            "Mexico",
            "Mexico",
            "Mexico",
            "Korea",
            "Korea",
            "Korea",
            "Korea",
            "Korea",
            "Korea",
            "Korea",
            "Korea",
            "Korea",
            "Korea",
            "Korea",
            "Korea",
            "Korea",
            "Korea",
            "Korea",
            "Korea",
            "Korea",
            "Korea",
            "Korea",
            "Korea",
            "Korea",
            "Korea",
            "Korea",
            "Korea",
            "Korea",
            "Korea",
            "Korea",
            "Korea",
            "Korea",
            "Korea",
            "Korea",
            "Korea",
            "Korea",
            "Korea",
            "Korea",
            "Korea",
            "Korea",
            "Korea",
            "Korea",
            "Korea",
            "Korea",
            "Korea",
            "Korea",
            "Korea",
            "Korea",
            "Korea",
            "Korea",
            "Korea",
            "Korea",
            "Korea",
            "Korea",
            "Korea",
            "Korea",
            "Korea",
            "Korea",
            "Korea",
            "Korea",
            "Korea",
            "Korea",
            "Korea",
            "Korea",
            "Korea",
            "Korea",
            "Korea",
            "Korea",
            "Korea",
            "Korea",
            "Korea",
            "Korea",
            "Korea",
            "Korea",
            "Korea",
            "Korea",
            "Korea",
            "Korea",
            "Korea",
            "Korea",
            "Korea",
            "Korea",
            "Korea",
            "Korea",
            "Korea",
            "Korea",
            "Korea",
            "Korea",
            "Korea",
            "Korea",
            "Korea",
            "Korea",
            "Korea",
            "Korea",
            "Korea",
            "Korea",
            "Korea",
            "Korea",
            "Korea",
            "Korea",
            "Korea",
            "Korea",
            "Korea",
            "Korea",
            "Korea",
            "Korea",
            "Korea",
            "Korea",
            "Korea",
            "Korea",
            "Korea",
            "Korea",
            "Korea",
            "Korea",
            "Korea",
            "Korea",
            "Korea",
            "Korea",
            "Korea",
            "Korea",
            "Korea",
            "Korea",
            "Korea",
            "Korea",
            "Korea",
            "Taiwan",
            "Taiwan",
            "Taiwan",
            "Taiwan",
            "Taiwan",
            "Taiwan",
            "Taiwan",
            "Taiwan",
            "Taiwan",
            "Taiwan",
            "Taiwan",
            "Taiwan",
            "Taiwan",
            "Taiwan",
            "Taiwan",
            "Taiwan",
            "Taiwan",
            "Taiwan",
            "Taiwan",
            "Taiwan",
            "Taiwan",
            "Taiwan",
            "Taiwan",
            "Taiwan",
            "Taiwan",
            "Taiwan",
            "Taiwan",
            "Taiwan",
            "Taiwan",
            "Taiwan",
            "Taiwan",
            "Taiwan",
            "Taiwan",
            "Taiwan",
            "Taiwan",
            "Taiwan",
            "Taiwan",
            "Taiwan",
            "Taiwan",
            "Taiwan",
            "Taiwan",
            "Taiwan",
            "Taiwan",
            "Taiwan",
            "Taiwan",
            "Taiwan",
            "Taiwan",
            "Taiwan",
            "Taiwan",
            "Taiwan",
            "Taiwan",
            "Taiwan",
            "Taiwan",
            "Taiwan",
            "Taiwan",
            "Taiwan",
            "Taiwan",
            "Taiwan",
            "Taiwan",
            "Taiwan",
            "Taiwan",
            "Taiwan",
            "Taiwan",
            "Taiwan",
            "Taiwan",
            "Taiwan",
            "Taiwan",
            "Taiwan",
            "Taiwan",
            "Taiwan",
            "Taiwan",
            "Taiwan",
            "Taiwan",
            "Taiwan",
            "Taiwan",
            "Taiwan",
            "Taiwan",
            "Taiwan",
            "Taiwan",
            "Taiwan",
            "Taiwan",
            "Taiwan",
            "Taiwan",
            "Taiwan",
            "Taiwan",
            "Taiwan",
            "Taiwan",
            "Taiwan",
            "Taiwan",
            "Taiwan",
            "Taiwan",
            "Taiwan",
            "Taiwan",
            "Taiwan",
            "Taiwan",
            "Taiwan",
            "Taiwan",
            "Taiwan",
            "Taiwan",
            "Taiwan",
            "Taiwan",
            "Taiwan",
            "Taiwan",
            "Taiwan",
            "Taiwan",
            "Taiwan",
            "Taiwan",
            "Taiwan",
            "Taiwan",
            "Taiwan",
            "Taiwan",
            "Taiwan",
            "Taiwan",
            "Taiwan",
            "Taiwan",
            "Taiwan",
            "Taiwan",
            "Taiwan",
            "Taiwan",
            "Taiwan",
            "Taiwan",
            "Taiwan",
            "US",
            "US",
            "US",
            "US",
            "US",
            "US",
            "US",
            "US",
            "US",
            "US",
            "US",
            "US",
            "US",
            "US",
            "US",
            "US",
            "US",
            "US",
            "US",
            "US",
            "US",
            "US",
            "US",
            "US",
            "US",
            "US",
            "US",
            "US",
            "US",
            "US",
            "US",
            "US",
            "US",
            "US",
            "US",
            "US",
            "US",
            "US",
            "US",
            "US",
            "US",
            "US",
            "US",
            "US",
            "US",
            "US",
            "US",
            "US",
            "US",
            "US",
            "US",
            "US",
            "US",
            "US",
            "US",
            "US",
            "US",
            "US",
            "US",
            "US",
            "US",
            "US",
            "US",
            "US",
            "US",
            "US",
            "US",
            "US",
            "US",
            "US",
            "US",
            "US",
            "US",
            "US",
            "US",
            "US",
            "US",
            "US",
            "US",
            "US",
            "US",
            "US",
            "US",
            "US",
            "US",
            "US",
            "US",
            "US",
            "US",
            "US",
            "US",
            "US",
            "US",
            "US",
            "US",
            "US",
            "US",
            "US",
            "US",
            "US",
            "US",
            "US",
            "US",
            "US",
            "US",
            "US",
            "US",
            "US",
            "US",
            "US",
            "US",
            "US",
            "US",
            "US",
            "US",
            "US",
            "US",
            "US",
            "US",
            "US",
            "US",
            "US",
            "China",
            "China",
            "China",
            "China",
            "China",
            "China",
            "China",
            "China",
            "China",
            "China",
            "China",
            "China",
            "China",
            "China",
            "China",
            "China",
            "China",
            "China",
            "China",
            "China",
            "China",
            "China",
            "China",
            "China",
            "China",
            "China",
            "China",
            "China",
            "China",
            "China",
            "China",
            "China",
            "China",
            "China",
            "China",
            "China",
            "China",
            "China",
            "China",
            "China",
            "China",
            "China",
            "China",
            "China",
            "China",
            "China",
            "China",
            "China",
            "China",
            "China",
            "China",
            "China",
            "China",
            "China",
            "China",
            "China",
            "China",
            "China",
            "China",
            "China",
            "China",
            "China",
            "China",
            "China",
            "China",
            "China",
            "China",
            "China",
            "China",
            "China",
            "China",
            "China",
            "China",
            "China",
            "China",
            "China",
            "China",
            "China",
            "China",
            "China",
            "China",
            "China",
            "China",
            "China",
            "China",
            "China",
            "China",
            "China",
            "China",
            "China",
            "China",
            "China",
            "China",
            "China",
            "China",
            "China",
            "China",
            "China",
            "China",
            "China",
            "China",
            "China",
            "China",
            "China",
            "China",
            "China",
            "China",
            "China",
            "China",
            "China",
            "China",
            "China",
            "China",
            "China",
            "China",
            "China",
            "China",
            "China",
            "China",
            "China",
            "China",
            "China"
           ]
          ]
         },
         "header": {
          "align": "left",
          "fill": {
           "color": "lightblue"
          },
          "values": [
           "importer",
           "year",
           "value_usd",
           "mfn_avg_duty",
           "best_avg_duty",
           "mfn_line_count",
           "mfn_nonadval_line",
           "pref_line_count",
           "exporter"
          ]
         },
         "type": "table"
        }
       ],
       "layout": {
        "template": {
         "data": {
          "bar": [
           {
            "error_x": {
             "color": "#2a3f5f"
            },
            "error_y": {
             "color": "#2a3f5f"
            },
            "marker": {
             "line": {
              "color": "#E5ECF6",
              "width": 0.5
             },
             "pattern": {
              "fillmode": "overlay",
              "size": 10,
              "solidity": 0.2
             }
            },
            "type": "bar"
           }
          ],
          "barpolar": [
           {
            "marker": {
             "line": {
              "color": "#E5ECF6",
              "width": 0.5
             },
             "pattern": {
              "fillmode": "overlay",
              "size": 10,
              "solidity": 0.2
             }
            },
            "type": "barpolar"
           }
          ],
          "carpet": [
           {
            "aaxis": {
             "endlinecolor": "#2a3f5f",
             "gridcolor": "white",
             "linecolor": "white",
             "minorgridcolor": "white",
             "startlinecolor": "#2a3f5f"
            },
            "baxis": {
             "endlinecolor": "#2a3f5f",
             "gridcolor": "white",
             "linecolor": "white",
             "minorgridcolor": "white",
             "startlinecolor": "#2a3f5f"
            },
            "type": "carpet"
           }
          ],
          "choropleth": [
           {
            "colorbar": {
             "outlinewidth": 0,
             "ticks": ""
            },
            "type": "choropleth"
           }
          ],
          "contour": [
           {
            "colorbar": {
             "outlinewidth": 0,
             "ticks": ""
            },
            "colorscale": [
             [
              0,
              "#0d0887"
             ],
             [
              0.1111111111111111,
              "#46039f"
             ],
             [
              0.2222222222222222,
              "#7201a8"
             ],
             [
              0.3333333333333333,
              "#9c179e"
             ],
             [
              0.4444444444444444,
              "#bd3786"
             ],
             [
              0.5555555555555556,
              "#d8576b"
             ],
             [
              0.6666666666666666,
              "#ed7953"
             ],
             [
              0.7777777777777778,
              "#fb9f3a"
             ],
             [
              0.8888888888888888,
              "#fdca26"
             ],
             [
              1,
              "#f0f921"
             ]
            ],
            "type": "contour"
           }
          ],
          "contourcarpet": [
           {
            "colorbar": {
             "outlinewidth": 0,
             "ticks": ""
            },
            "type": "contourcarpet"
           }
          ],
          "heatmap": [
           {
            "colorbar": {
             "outlinewidth": 0,
             "ticks": ""
            },
            "colorscale": [
             [
              0,
              "#0d0887"
             ],
             [
              0.1111111111111111,
              "#46039f"
             ],
             [
              0.2222222222222222,
              "#7201a8"
             ],
             [
              0.3333333333333333,
              "#9c179e"
             ],
             [
              0.4444444444444444,
              "#bd3786"
             ],
             [
              0.5555555555555556,
              "#d8576b"
             ],
             [
              0.6666666666666666,
              "#ed7953"
             ],
             [
              0.7777777777777778,
              "#fb9f3a"
             ],
             [
              0.8888888888888888,
              "#fdca26"
             ],
             [
              1,
              "#f0f921"
             ]
            ],
            "type": "heatmap"
           }
          ],
          "heatmapgl": [
           {
            "colorbar": {
             "outlinewidth": 0,
             "ticks": ""
            },
            "colorscale": [
             [
              0,
              "#0d0887"
             ],
             [
              0.1111111111111111,
              "#46039f"
             ],
             [
              0.2222222222222222,
              "#7201a8"
             ],
             [
              0.3333333333333333,
              "#9c179e"
             ],
             [
              0.4444444444444444,
              "#bd3786"
             ],
             [
              0.5555555555555556,
              "#d8576b"
             ],
             [
              0.6666666666666666,
              "#ed7953"
             ],
             [
              0.7777777777777778,
              "#fb9f3a"
             ],
             [
              0.8888888888888888,
              "#fdca26"
             ],
             [
              1,
              "#f0f921"
             ]
            ],
            "type": "heatmapgl"
           }
          ],
          "histogram": [
           {
            "marker": {
             "pattern": {
              "fillmode": "overlay",
              "size": 10,
              "solidity": 0.2
             }
            },
            "type": "histogram"
           }
          ],
          "histogram2d": [
           {
            "colorbar": {
             "outlinewidth": 0,
             "ticks": ""
            },
            "colorscale": [
             [
              0,
              "#0d0887"
             ],
             [
              0.1111111111111111,
              "#46039f"
             ],
             [
              0.2222222222222222,
              "#7201a8"
             ],
             [
              0.3333333333333333,
              "#9c179e"
             ],
             [
              0.4444444444444444,
              "#bd3786"
             ],
             [
              0.5555555555555556,
              "#d8576b"
             ],
             [
              0.6666666666666666,
              "#ed7953"
             ],
             [
              0.7777777777777778,
              "#fb9f3a"
             ],
             [
              0.8888888888888888,
              "#fdca26"
             ],
             [
              1,
              "#f0f921"
             ]
            ],
            "type": "histogram2d"
           }
          ],
          "histogram2dcontour": [
           {
            "colorbar": {
             "outlinewidth": 0,
             "ticks": ""
            },
            "colorscale": [
             [
              0,
              "#0d0887"
             ],
             [
              0.1111111111111111,
              "#46039f"
             ],
             [
              0.2222222222222222,
              "#7201a8"
             ],
             [
              0.3333333333333333,
              "#9c179e"
             ],
             [
              0.4444444444444444,
              "#bd3786"
             ],
             [
              0.5555555555555556,
              "#d8576b"
             ],
             [
              0.6666666666666666,
              "#ed7953"
             ],
             [
              0.7777777777777778,
              "#fb9f3a"
             ],
             [
              0.8888888888888888,
              "#fdca26"
             ],
             [
              1,
              "#f0f921"
             ]
            ],
            "type": "histogram2dcontour"
           }
          ],
          "mesh3d": [
           {
            "colorbar": {
             "outlinewidth": 0,
             "ticks": ""
            },
            "type": "mesh3d"
           }
          ],
          "parcoords": [
           {
            "line": {
             "colorbar": {
              "outlinewidth": 0,
              "ticks": ""
             }
            },
            "type": "parcoords"
           }
          ],
          "pie": [
           {
            "automargin": true,
            "type": "pie"
           }
          ],
          "scatter": [
           {
            "fillpattern": {
             "fillmode": "overlay",
             "size": 10,
             "solidity": 0.2
            },
            "type": "scatter"
           }
          ],
          "scatter3d": [
           {
            "line": {
             "colorbar": {
              "outlinewidth": 0,
              "ticks": ""
             }
            },
            "marker": {
             "colorbar": {
              "outlinewidth": 0,
              "ticks": ""
             }
            },
            "type": "scatter3d"
           }
          ],
          "scattercarpet": [
           {
            "marker": {
             "colorbar": {
              "outlinewidth": 0,
              "ticks": ""
             }
            },
            "type": "scattercarpet"
           }
          ],
          "scattergeo": [
           {
            "marker": {
             "colorbar": {
              "outlinewidth": 0,
              "ticks": ""
             }
            },
            "type": "scattergeo"
           }
          ],
          "scattergl": [
           {
            "marker": {
             "colorbar": {
              "outlinewidth": 0,
              "ticks": ""
             }
            },
            "type": "scattergl"
           }
          ],
          "scattermapbox": [
           {
            "marker": {
             "colorbar": {
              "outlinewidth": 0,
              "ticks": ""
             }
            },
            "type": "scattermapbox"
           }
          ],
          "scatterpolar": [
           {
            "marker": {
             "colorbar": {
              "outlinewidth": 0,
              "ticks": ""
             }
            },
            "type": "scatterpolar"
           }
          ],
          "scatterpolargl": [
           {
            "marker": {
             "colorbar": {
              "outlinewidth": 0,
              "ticks": ""
             }
            },
            "type": "scatterpolargl"
           }
          ],
          "scatterternary": [
           {
            "marker": {
             "colorbar": {
              "outlinewidth": 0,
              "ticks": ""
             }
            },
            "type": "scatterternary"
           }
          ],
          "surface": [
           {
            "colorbar": {
             "outlinewidth": 0,
             "ticks": ""
            },
            "colorscale": [
             [
              0,
              "#0d0887"
             ],
             [
              0.1111111111111111,
              "#46039f"
             ],
             [
              0.2222222222222222,
              "#7201a8"
             ],
             [
              0.3333333333333333,
              "#9c179e"
             ],
             [
              0.4444444444444444,
              "#bd3786"
             ],
             [
              0.5555555555555556,
              "#d8576b"
             ],
             [
              0.6666666666666666,
              "#ed7953"
             ],
             [
              0.7777777777777778,
              "#fb9f3a"
             ],
             [
              0.8888888888888888,
              "#fdca26"
             ],
             [
              1,
              "#f0f921"
             ]
            ],
            "type": "surface"
           }
          ],
          "table": [
           {
            "cells": {
             "fill": {
              "color": "#EBF0F8"
             },
             "line": {
              "color": "white"
             }
            },
            "header": {
             "fill": {
              "color": "#C8D4E3"
             },
             "line": {
              "color": "white"
             }
            },
            "type": "table"
           }
          ]
         },
         "layout": {
          "annotationdefaults": {
           "arrowcolor": "#2a3f5f",
           "arrowhead": 0,
           "arrowwidth": 1
          },
          "autotypenumbers": "strict",
          "coloraxis": {
           "colorbar": {
            "outlinewidth": 0,
            "ticks": ""
           }
          },
          "colorscale": {
           "diverging": [
            [
             0,
             "#8e0152"
            ],
            [
             0.1,
             "#c51b7d"
            ],
            [
             0.2,
             "#de77ae"
            ],
            [
             0.3,
             "#f1b6da"
            ],
            [
             0.4,
             "#fde0ef"
            ],
            [
             0.5,
             "#f7f7f7"
            ],
            [
             0.6,
             "#e6f5d0"
            ],
            [
             0.7,
             "#b8e186"
            ],
            [
             0.8,
             "#7fbc41"
            ],
            [
             0.9,
             "#4d9221"
            ],
            [
             1,
             "#276419"
            ]
           ],
           "sequential": [
            [
             0,
             "#0d0887"
            ],
            [
             0.1111111111111111,
             "#46039f"
            ],
            [
             0.2222222222222222,
             "#7201a8"
            ],
            [
             0.3333333333333333,
             "#9c179e"
            ],
            [
             0.4444444444444444,
             "#bd3786"
            ],
            [
             0.5555555555555556,
             "#d8576b"
            ],
            [
             0.6666666666666666,
             "#ed7953"
            ],
            [
             0.7777777777777778,
             "#fb9f3a"
            ],
            [
             0.8888888888888888,
             "#fdca26"
            ],
            [
             1,
             "#f0f921"
            ]
           ],
           "sequentialminus": [
            [
             0,
             "#0d0887"
            ],
            [
             0.1111111111111111,
             "#46039f"
            ],
            [
             0.2222222222222222,
             "#7201a8"
            ],
            [
             0.3333333333333333,
             "#9c179e"
            ],
            [
             0.4444444444444444,
             "#bd3786"
            ],
            [
             0.5555555555555556,
             "#d8576b"
            ],
            [
             0.6666666666666666,
             "#ed7953"
            ],
            [
             0.7777777777777778,
             "#fb9f3a"
            ],
            [
             0.8888888888888888,
             "#fdca26"
            ],
            [
             1,
             "#f0f921"
            ]
           ]
          },
          "colorway": [
           "#636efa",
           "#EF553B",
           "#00cc96",
           "#ab63fa",
           "#FFA15A",
           "#19d3f3",
           "#FF6692",
           "#B6E880",
           "#FF97FF",
           "#FECB52"
          ],
          "font": {
           "color": "#2a3f5f"
          },
          "geo": {
           "bgcolor": "white",
           "lakecolor": "white",
           "landcolor": "#E5ECF6",
           "showlakes": true,
           "showland": true,
           "subunitcolor": "white"
          },
          "hoverlabel": {
           "align": "left"
          },
          "hovermode": "closest",
          "mapbox": {
           "style": "light"
          },
          "paper_bgcolor": "white",
          "plot_bgcolor": "#E5ECF6",
          "polar": {
           "angularaxis": {
            "gridcolor": "white",
            "linecolor": "white",
            "ticks": ""
           },
           "bgcolor": "#E5ECF6",
           "radialaxis": {
            "gridcolor": "white",
            "linecolor": "white",
            "ticks": ""
           }
          },
          "scene": {
           "xaxis": {
            "backgroundcolor": "#E5ECF6",
            "gridcolor": "white",
            "gridwidth": 2,
            "linecolor": "white",
            "showbackground": true,
            "ticks": "",
            "zerolinecolor": "white"
           },
           "yaxis": {
            "backgroundcolor": "#E5ECF6",
            "gridcolor": "white",
            "gridwidth": 2,
            "linecolor": "white",
            "showbackground": true,
            "ticks": "",
            "zerolinecolor": "white"
           },
           "zaxis": {
            "backgroundcolor": "#E5ECF6",
            "gridcolor": "white",
            "gridwidth": 2,
            "linecolor": "white",
            "showbackground": true,
            "ticks": "",
            "zerolinecolor": "white"
           }
          },
          "shapedefaults": {
           "line": {
            "color": "#2a3f5f"
           }
          },
          "ternary": {
           "aaxis": {
            "gridcolor": "white",
            "linecolor": "white",
            "ticks": ""
           },
           "baxis": {
            "gridcolor": "white",
            "linecolor": "white",
            "ticks": ""
           },
           "bgcolor": "#E5ECF6",
           "caxis": {
            "gridcolor": "white",
            "linecolor": "white",
            "ticks": ""
           }
          },
          "title": {
           "x": 0.05
          },
          "xaxis": {
           "automargin": true,
           "gridcolor": "white",
           "linecolor": "white",
           "ticks": "",
           "title": {
            "standoff": 15
           },
           "zerolinecolor": "white",
           "zerolinewidth": 2
          },
          "yaxis": {
           "automargin": true,
           "gridcolor": "white",
           "linecolor": "white",
           "ticks": "",
           "title": {
            "standoff": 15
           },
           "zerolinecolor": "white",
           "zerolinewidth": 2
          }
         }
        },
        "title": {
         "text": "📊 Tariff Electrical Component Raw Data"
        }
       }
      },
      "image/png": "[encoded data removed]",
      "text/html": [
       "<div>                            <div id=\"09710a3e-48c7-493e-ac1f-b75eec00f8fd\" class=\"plotly-graph-div\" style=\"height:525px; width:100%;\"></div>            <script type=\"text/javascript\">                require([\"plotly\"], function(Plotly) {                    window.PLOTLYENV=window.PLOTLYENV || {};                                    if (document.getElementById(\"09710a3e-48c7-493e-ac1f-b75eec00f8fd\")) {                    Plotly.newPlot(                        \"09710a3e-48c7-493e-ac1f-b75eec00f8fd\",                        [{\"cells\":{\"align\":\"left\",\"fill\":{\"color\":\"white\"},\"values\":[[\"ALL Available Markets\",\"Albania\",\"Angola\",\"Antigua and Barbuda\",\"Argentina\",\"Armenia\",\"Australia\",\"Bahrain, Kingdom of\",\"Bangladesh\",\"Barbados\",\"Belize\",\"Benin\",\"Bolivia, Plurinational State of\",\"Botswana\",\"Brazil\",\"Brunei Darussalam\",\"Burkina Faso\",\"Burundi\",\"Cabo Verde\",\"Cambodia\",\"Cameroon\",\"Canada\",\"Central African Republic\",\"Chad\",\"Chile\",\"China\",\"Colombia\",\"Congo\",\"Costa Rica\",\"Cote d'Ivoire\",\"Cuba\",\"Dominican Republic\",\"Ecuador\",\"El Salvador\",\"Eswatini\",\"European Union\",\"Fiji\",\"Gabon\",\"The Gambia\",\"Georgia\",\"Ghana\",\"Guatemala\",\"Guinea\",\"Guinea-Bissau\",\"Guyana\",\"Haiti\",\"Honduras\",\"Hong Kong, China\",\"Iceland\",\"India\",\"Indonesia\",\"Israel\",\"Japan\",\"Jordan\",\"Kazakhstan\",\"Kenya\",\"Korea, Republic of\",\"Kuwait, the State of\",\"Kyrgyz Republic\",\"Lao People's Democratic Republic\",\"Lesotho\",\"Liberia\",\"Macao, China\",\"Madagascar\",\"Malawi\",\"Maldives\",\"Mali\",\"Mauritania\",\"Mauritius\",\"Mexico\",\"Moldova, Republic of\",\"Mongolia\",\"Montenegro\",\"Morocco\",\"Myanmar\",\"Namibia\",\"Nepal\",\"New Zealand\",\"Nicaragua\",\"Niger\",\"Nigeria\",\"North Macedonia\",\"Norway\",\"Oman\",\"Pakistan\",\"Panama\",\"Paraguay\",\"Peru\",\"Philippines\",\"Qatar\",\"Russian Federation\",\"Rwanda\",\"Saint Lucia\",\"Saint Vincent and the Grenadines\",\"Samoa\",\"Saudi Arabia, Kingdom of\",\"Senegal\",\"Seychelles\",\"Sierra Leone\",\"Singapore\",\"South Africa\",\"Sri Lanka\",\"Suriname\",\"Switzerland\",\"Chinese Taipei\",\"Tanzania\",\"Thailand\",\"Togo\",\"Tonga\",\"Trinidad and Tobago\",\"Tunisia\",\"Tiirkiye\",\"Uganda\",\"Ukraine\",\"United Arab Emirates\",\"United Kingdom\",\"United States of America\",\"Uruguay\",\"Vanuatu\",\"Venezuela, Bolivarian Republic of\",\"Viet Nam\",\"Zimbabwe\",\"ALL Available Markets\",\"Albania\",\"Angola\",\"Antigua and Barbuda\",\"Argentina\",\"Armenia\",\"Australia\",\"Bahrain, Kingdom of\",\"Bangladesh\",\"Barbados\",\"Belize\",\"Benin\",\"Bolivia, Plurinational State of\",\"Botswana\",\"Brazil\",\"Brunei Darussalam\",\"Burkina Faso\",\"Burundi\",\"Cabo Verde\",\"Cambodia\",\"Cameroon\",\"Canada\",\"Central African Republic\",\"Chad\",\"Chile\",\"China\",\"Colombia\",\"Congo\",\"Costa Rica\",\"Cote d'Ivoire\",\"Cuba\",\"Dominican Republic\",\"Ecuador\",\"El Salvador\",\"Eswatini\",\"European Union\",\"Fiji\",\"Gabon\",\"The Gambia\",\"Georgia\",\"Ghana\",\"Guatemala\",\"Guinea\",\"Guinea-Bissau\",\"Guyana\",\"Haiti\",\"Honduras\",\"Hong Kong, China\",\"Iceland\",\"India\",\"Indonesia\",\"Israel\",\"Japan\",\"Jordan\",\"Kazakhstan\",\"Kenya\",\"Korea, Republic of\",\"Kuwait, the State of\",\"Kyrgyz Republic\",\"Lao People's Democratic Republic\",\"Lesotho\",\"Liberia\",\"Macao, China\",\"Madagascar\",\"Malawi\",\"Malaysia\",\"Maldives\",\"Mali\",\"Mauritania\",\"Mauritius\",\"Mexico\",\"Moldova, Republic of\",\"Mongolia\",\"Montenegro\",\"Morocco\",\"Myanmar\",\"Namibia\",\"Nepal\",\"New Zealand\",\"Nicaragua\",\"Niger\",\"Nigeria\",\"North Macedonia\",\"Norway\",\"Oman\",\"Pakistan\",\"Panama\",\"Paraguay\",\"Peru\",\"Philippines\",\"Qatar\",\"Russian Federation\",\"Rwanda\",\"Saint Lucia\",\"Saint Vincent and the Grenadines\",\"Samoa\",\"Saudi Arabia, Kingdom of\",\"Senegal\",\"Seychelles\",\"Sierra Leone\",\"Singapore\",\"South Africa\",\"Sri Lanka\",\"Suriname\",\"Switzerland\",\"Chinese Taipei\",\"Tanzania\",\"Thailand\",\"Togo\",\"Tonga\",\"Trinidad and Tobago\",\"Tunisia\",\"Turkiye\",\"Uganda\",\"Ukraine\",\"United Arab Emirates\",\"United Kingdom\",\"United States of America\",\"Uruguay\",\"Vanuatu\",\"Venezuela, Bolivarian Republic of\",\"Zimbabwe\",\"ALL Available Markets\",\"Albania\",\"Angola\",\"Antigua and Barbuda\",\"Argentina\",\"Armenia\",\"Australia\",\"Bahrain, Kingdom of\",\"Bangladesh\",\"Barbados\",\"Belize\",\"Benin\",\"Bolivia, Plurinational State of\",\"Botswana\",\"Brazil\",\"Brunei Darussalam\",\"Burkina Faso\",\"Burundi\",\"Cabo Verde\",\"Cambodia\",\"Cameroon\",\"Canada\",\"Central African Republic\",\"Chad\",\"Chile\",\"China\",\"Colombia\",\"Congo\",\"Costa Rica\",\"C\\u00f4te d'Ivoire\",\"Cuba\",\"Dominican Republic\",\"Ecuador\",\"El Salvador\",\"Eswatini\",\"European Union\",\"Fiji\",\"Gabon\",\"The Gambia\",\"Georgia\",\"Ghana\",\"Guatemala\",\"Guinea\",\"Guinea-Bissau\",\"Guyana\",\"Haiti\",\"Honduras\",\"Hong Kong, China\",\"Iceland\",\"India\",\"Indonesia\",\"Israel\",\"Japan\",\"Jordan\",\"Kazakhstan\",\"Kenya\",\"Korea, Republic of\",\"Kuwait, the State of\",\"Kyrgyz Republic\",\"Lao People's Democratic Republic\",\"Lesotho\",\"Liberia\",\"Macao, China\",\"Madagascar\",\"Malawi\",\"Malaysia\",\"Maldives\",\"Mali\",\"Mauritania\",\"Mauritius\",\"Moldova, Republic of\",\"Mongolia\",\"Montenegro\",\"Morocco\",\"Myanmar\",\"Namibia\",\"Nepal\",\"New Zealand\",\"Nicaragua\",\"Niger\",\"Nigeria\",\"North Macedonia\",\"Norway\",\"Oman\",\"Pakistan\",\"Panama\",\"Paraguay\",\"Peru\",\"Philippines\",\"Qatar\",\"Russian Federation\",\"Rwanda\",\"Saint Lucia\",\"Saint Vincent and the Grenadines\",\"Samoa\",\"Saudi Arabia, Kingdom of\",\"Senegal\",\"Seychelles\",\"Sierra Leone\",\"Singapore\",\"South Africa\",\"Sri Lanka\",\"Suriname\",\"Switzerland\",\"Chinese Taipei\",\"Tanzania\",\"Thailand\",\"Togo\",\"Tonga\",\"Trinidad and Tobago\",\"Tunisia\",\"T\\u00fcrkiye\",\"Uganda\",\"Ukraine\",\"United Arab Emirates\",\"United Kingdom\",\"United States of America\",\"Uruguay\",\"Vanuatu\",\"Venezuela, Bolivarian Republic of\",\"Viet Nam\",\"Zimbabwe\",\"ALL Available Markets\",\"Albania\",\"Angola\",\"Antigua and Barbuda\",\"Argentina\",\"Armenia\",\"Australia\",\"Bahrain, Kingdom of\",\"Bangladesh\",\"Barbados\",\"Belize\",\"Benin\",\"Bolivia, Plurinational State of\",\"Botswana\",\"Brazil\",\"Brunei Darussalam\",\"Burkina Faso\",\"Burundi\",\"Cabo Verde\",\"Cambodia\",\"Cameroon\",\"Canada\",\"Central African Republic\",\"Chad\",\"Chile\",\"China\",\"Colombia\",\"Congo\",\"Costa Rica\",\"C\\u00f4te d'Ivoire\",\"Cuba\",\"Dominican Republic\",\"Ecuador\",\"El Salvador\",\"Eswatini\",\"European Union\",\"Fiji\",\"Gabon\",\"The Gambia\",\"Georgia\",\"Ghana\",\"Guatemala\",\"Guinea\",\"Guinea-Bissau\",\"Guyana\",\"Haiti\",\"Honduras\",\"Hong Kong, China\",\"Iceland\",\"India\",\"Indonesia\",\"Israel\",\"Japan\",\"Jordan\",\"Kazakhstan\",\"Kenya\",\"Kuwait, the State of\",\"Kyrgyz Republic\",\"Lao People's Democratic Republic\",\"Lesotho\",\"Liberia\",\"Macao, China\",\"Madagascar\",\"Malawi\",\"Malaysia\",\"Maldives\",\"Mali\",\"Mauritania\",\"Mauritius\",\"Mexico\",\"Moldova, Republic of\",\"Mongolia\",\"Montenegro\",\"Morocco\",\"Myanmar\",\"Namibia\",\"Nepal\",\"New Zealand\",\"Nicaragua\",\"Niger\",\"Nigeria\",\"North Macedonia\",\"Norway\",\"Oman\",\"Pakistan\",\"Panama\",\"Paraguay\",\"Peru\",\"Philippines\",\"Qatar\",\"Russian Federation\",\"Rwanda\",\"Saint Lucia\",\"Saint Vincent and the Grenadines\",\"Samoa\",\"Saudi Arabia, Kingdom of\",\"Senegal\",\"Seychelles\",\"Sierra Leone\",\"Singapore\",\"South Africa\",\"Sri Lanka\",\"Suriname\",\"Switzerland\",\"Chinese Taipei\",\"Tanzania\",\"Thailand\",\"Togo\",\"Tonga\",\"Trinidad and Tobago\",\"Tunisia\",\"T\\u00fcrkiye\",\"Uganda\",\"Ukraine\",\"United Arab Emirates\",\"United Kingdom\",\"United States of America\",\"Uruguay\",\"Vanuatu\",\"Venezuela, Bolivarian Republic of\",\"Viet Nam\",\"Zimbabwe\",\"ALL Available Markets\",\"Albania\",\"Angola\",\"Antigua and Barbuda\",\"Argentina\",\"Armenia\",\"Australia\",\"Bahrain, Kingdom of\",\"Bangladesh\",\"Barbados\",\"Belize\",\"Benin\",\"Bolivia, Plurinational State of\",\"Botswana\",\"Brazil\",\"Brunei Darussalam\",\"Burkina Faso\",\"Burundi\",\"Cabo Verde\",\"Cambodia\",\"Cameroon\",\"Canada\",\"Central African Republic\",\"Chad\",\"Chile\",\"China\",\"Colombia\",\"Congo\",\"Costa Rica\",\"C\\u00f4te d'Ivoire\",\"Cuba\",\"Dominican Republic\",\"Ecuador\",\"El Salvador\",\"Eswatini\",\"European Union\",\"Fiji\",\"Gabon\",\"The Gambia\",\"Georgia\",\"Ghana\",\"Guatemala\",\"Guinea\",\"Guinea-Bissau\",\"Guyana\",\"Haiti\",\"Honduras\",\"Hong Kong, China\",\"Iceland\",\"India\",\"Indonesia\",\"Israel\",\"Japan\",\"Jordan\",\"Kazakhstan\",\"Kenya\",\"Korea, Republic of\",\"Kuwait, the State of\",\"Kyrgyz Republic\",\"Lao People's Democratic Republic\",\"Lesotho\",\"Liberia\",\"Macao, China\",\"Madagascar\",\"Malawi\",\"Malaysia\",\"Maldives\",\"Mali\",\"Mauritania\",\"Mauritius\",\"Mexico\",\"Moldova, Republic of\",\"Mongolia\",\"Montenegro\",\"Morocco\",\"Myanmar\",\"Namibia\",\"Nepal\",\"New Zealand\",\"Nicaragua\",\"Niger\",\"Nigeria\",\"North Macedonia\",\"Norway\",\"Oman\",\"Pakistan\",\"Panama\",\"Paraguay\",\"Peru\",\"Philippines\",\"Qatar\",\"Russian Federation\",\"Rwanda\",\"Saint Lucia\",\"Saint Vincent and the Grenadines\",\"Samoa\",\"Saudi Arabia, Kingdom of\",\"Senegal\",\"Seychelles\",\"Sierra Leone\",\"Singapore\",\"South Africa\",\"Sri Lanka\",\"Suriname\",\"Switzerland\",\"Tanzania\",\"Thailand\",\"Togo\",\"Tonga\",\"Trinidad and Tobago\",\"Tunisia\",\"T\\u00fcrkiye\",\"Uganda\",\"Ukraine\",\"United Arab Emirates\",\"United Kingdom\",\"United States of America\",\"Uruguay\",\"Vanuatu\",\"Venezuela, Bolivarian Republic of\",\"Viet Nam\",\"Zimbabwe\",\"ALL Available Markets\",\"Albania\",\"Angola\",\"Antigua and Barbuda\",\"Argentina\",\"Armenia\",\"Australia\",\"Bahrain, Kingdom of\",\"Bangladesh\",\"Barbados\",\"Belize\",\"Benin\",\"Bolivia, Plurinational State of\",\"Botswana\",\"Brazil\",\"Brunei Darussalam\",\"Burkina Faso\",\"Burundi\",\"Cabo Verde\",\"Cambodia\",\"Cameroon\",\"Canada\",\"Central African Republic\",\"Chad\",\"Chile\",\"China\",\"Colombia\",\"Congo\",\"Costa Rica\",\"Cote d'Ivoire\",\"Cuba\",\"Dominican Republic\",\"Ecuador\",\"El Salvador\",\"Eswatini\",\"European Union\",\"Fiji\",\"Gabon\",\"The Gambia\",\"Georgia\",\"Ghana\",\"Guatemala\",\"Guinea\",\"Guinea-Bissau\",\"Guyana\",\"Haiti\",\"Honduras\",\"Hong Kong, China\",\"Iceland\",\"India\",\"Indonesia\",\"Israel\",\"Japan\",\"Jordan\",\"Kazakhstan\",\"Kenya\",\"Korea, Republic of\",\"Kuwait, the State of\",\"Kyrgyz Republic\",\"Lao People's Democratic Republic\",\"Lesotho\",\"Liberia\",\"Macao, China\",\"Madagascar\",\"Malawi\",\"Malaysia\",\"Maldives\",\"Mali\",\"Mauritania\",\"Mauritius\",\"Mexico\",\"Moldova, Republic of\",\"Mongolia\",\"Montenegro\",\"Morocco\",\"Myanmar\",\"Namibia\",\"Nepal\",\"New Zealand\",\"Nicaragua\",\"Niger\",\"Nigeria\",\"North Macedonia\",\"Norway\",\"Oman\",\"Pakistan\",\"Panama\",\"Paraguay\",\"Peru\",\"Philippines\",\"Qatar\",\"Russian Federation\",\"Rwanda\",\"Saint Lucia\",\"Saint Vincent and the Grenadines\",\"Samoa\",\"Saudi Arabia, Kingdom of\",\"Senegal\",\"Seychelles\",\"Sierra Leone\",\"Singapore\",\"South Africa\",\"Sri Lanka\",\"Suriname\",\"Switzerland\",\"Chinese Taipei\",\"Tanzania\",\"Thailand\",\"Togo\",\"Tonga\",\"Trinidad and Tobago\",\"Tunisia\",\"Turkiye\",\"Uganda\",\"Ukraine\",\"United Arab Emirates\",\"United Kingdom\",\"Uruguay\",\"Vanuatu\",\"Venezuela, Bolivarian Republic of\",\"Viet Nam\",\"Zimbabwe\",\"ALL Available Markets\",\"Albania\",\"Angola\",\"Antigua and Barbuda\",\"Argentina\",\"Armenia\",\"Australia\",\"Bahrain, Kingdom of\",\"Bangladesh\",\"Barbados\",\"Belize\",\"Benin\",\"Bolivia, Plurinational State of\",\"Botswana\",\"Brazil\",\"Brunei Darussalam\",\"Burkina Faso\",\"Burundi\",\"Cabo Verde\",\"Cambodia\",\"Cameroon\",\"Canada\",\"Central African Republic\",\"Chad\",\"Chile\",\"Colombia\",\"Congo\",\"Costa Rica\",\"Cote d'Ivoire\",\"Cuba\",\"Dominican Republic\",\"Ecuador\",\"El Salvador\",\"Eswatini\",\"European Union\",\"Fiji\",\"Gabon\",\"The Gambia\",\"Georgia\",\"Ghana\",\"Guatemala\",\"Guinea\",\"Guinea-Bissau\",\"Guyana\",\"Haiti\",\"Honduras\",\"Hong Kong, China\",\"Iceland\",\"India\",\"Indonesia\",\"Israel\",\"Japan\",\"Jordan\",\"Kazakhstan\",\"Kenya\",\"Korea, Republic of\",\"Kuwait, the State of\",\"Kyrgyz Republic\",\"Lao People's Democratic Republic\",\"Lesotho\",\"Liberia\",\"Macao, China\",\"Madagascar\",\"Malawi\",\"Malaysia\",\"Maldives\",\"Mali\",\"Mauritania\",\"Mauritius\",\"Mexico\",\"Moldova, Republic of\",\"Mongolia\",\"Montenegro\",\"Morocco\",\"Myanmar\",\"Namibia\",\"Nepal\",\"New Zealand\",\"Nicaragua\",\"Niger\",\"Nigeria\",\"North Macedonia\",\"Norway\",\"Oman\",\"Pakistan\",\"Panama\",\"Paraguay\",\"Peru\",\"Philippines\",\"Qatar\",\"Russian Federation\",\"Rwanda\",\"Saint Lucia\",\"Saint Vincent and the Grenadines\",\"Samoa\",\"Saudi Arabia, Kingdom of\",\"Senegal\",\"Seychelles\",\"Sierra Leone\",\"Singapore\",\"South Africa\",\"Sri Lanka\",\"Suriname\",\"Switzerland\",\"Chinese Taipei\",\"Tanzania\",\"Thailand\",\"Togo\",\"Tonga\",\"Trinidad and Tobago\",\"Tunisia\",\"Turkiye\",\"Uganda\",\"Ukraine\",\"United Arab Emirates\",\"United Kingdom\",\"United States of America\",\"Uruguay\",\"Vanuatu\",\"Venezuela, Bolivarian Republic of\",\"Viet Nam\",\"Zimbabwe\"],[null,2025.0,2023.0,2022.0,2024.0,2023.0,2024.0,2024.0,2024.0,2022.0,2025.0,2024.0,2023.0,2023.0,2024.0,2024.0,2024.0,2024.0,2023.0,2024.0,2023.0,2024.0,2023.0,2023.0,2024.0,2024.0,2025.0,2023.0,2024.0,2023.0,2022.0,2024.0,2024.0,2024.0,2022.0,2024.0,2023.0,2023.0,2024.0,2024.0,2024.0,2024.0,2024.0,2024.0,2022.0,2020.0,2024.0,2025.0,2024.0,2024.0,2023.0,2022.0,2024.0,2025.0,2023.0,2024.0,2024.0,2023.0,2020.0,2024.0,2023.0,2024.0,2024.0,2024.0,2022.0,2023.0,2024.0,2023.0,2024.0,2025.0,2024.0,2024.0,2024.0,2024.0,2024.0,2022.0,2023.0,2024.0,2024.0,2024.0,2024.0,2025.0,2024.0,2024.0,2022.0,2024.0,2024.0,2022.0,2024.0,2024.0,2021.0,2024.0,2021.0,2020.0,2021.0,2024.0,2023.0,2024.0,2024.0,2024.0,2024.0,2022.0,2024.0,2025.0,2024.0,2024.0,2024.0,2024.0,2024.0,2023.0,2024.0,2024.0,2024.0,2025.0,2020.0,2024.0,2024.0,2024.0,2020.0,2023.0,2023.0,2021.0,null,2025.0,2023.0,2022.0,2024.0,2023.0,2024.0,2024.0,2024.0,2022.0,2025.0,2024.0,2023.0,2023.0,2024.0,2024.0,2024.0,2024.0,2023.0,2024.0,2023.0,2024.0,2023.0,2023.0,2024.0,2024.0,2025.0,2023.0,2024.0,2023.0,2022.0,2024.0,2024.0,2024.0,2022.0,2024.0,2023.0,2023.0,2024.0,2024.0,2024.0,2024.0,2024.0,2024.0,2022.0,2020.0,2024.0,2025.0,2024.0,2024.0,2023.0,2022.0,2024.0,2025.0,2023.0,2024.0,2024.0,2023.0,2020.0,2024.0,2023.0,2024.0,2024.0,2024.0,2022.0,2024.0,2023.0,2024.0,2023.0,2024.0,2025.0,2024.0,2024.0,2024.0,2024.0,2024.0,2022.0,2023.0,2024.0,2024.0,2024.0,2024.0,2025.0,2024.0,2024.0,2022.0,2024.0,2024.0,2022.0,2024.0,2024.0,2021.0,2024.0,2021.0,2020.0,2021.0,2024.0,2023.0,2024.0,2024.0,2024.0,2024.0,2022.0,2024.0,2025.0,2024.0,2024.0,2024.0,2024.0,2024.0,2023.0,2024.0,2024.0,2024.0,2025.0,2020.0,2024.0,2024.0,2024.0,2020.0,2023.0,2021.0,null,2025.0,2023.0,2022.0,2024.0,2023.0,2024.0,2024.0,2024.0,2022.0,2025.0,2024.0,2023.0,2023.0,2024.0,2024.0,2024.0,2024.0,2023.0,2024.0,2023.0,2024.0,2023.0,2023.0,2024.0,2024.0,2025.0,2023.0,2024.0,2023.0,2022.0,2024.0,2024.0,2024.0,2022.0,2024.0,2023.0,2023.0,2024.0,2024.0,2024.0,2024.0,2024.0,2024.0,2022.0,2020.0,2024.0,2025.0,2024.0,2024.0,2023.0,2022.0,2024.0,2025.0,2023.0,2024.0,2024.0,2023.0,2020.0,2024.0,2023.0,2024.0,2024.0,2024.0,2022.0,2024.0,2023.0,2024.0,2023.0,2024.0,2024.0,2024.0,2024.0,2024.0,2024.0,2022.0,2023.0,2024.0,2024.0,2024.0,2024.0,2025.0,2024.0,2024.0,2022.0,2024.0,2024.0,2022.0,2024.0,2024.0,2021.0,2024.0,2021.0,2020.0,2021.0,2024.0,2023.0,2024.0,2024.0,2024.0,2024.0,2022.0,2024.0,2025.0,2024.0,2024.0,2024.0,2024.0,2024.0,2023.0,2024.0,2024.0,2024.0,2025.0,2020.0,2024.0,2024.0,2024.0,2020.0,2023.0,2023.0,2021.0,null,2025.0,2023.0,2022.0,2024.0,2023.0,2024.0,2024.0,2024.0,2022.0,2025.0,2024.0,2023.0,2023.0,2024.0,2024.0,2024.0,2024.0,2023.0,2024.0,2023.0,2024.0,2023.0,2023.0,2024.0,2024.0,2025.0,2023.0,2024.0,2023.0,2022.0,2024.0,2024.0,2024.0,2022.0,2024.0,2023.0,2023.0,2024.0,2024.0,2024.0,2024.0,2024.0,2024.0,2022.0,2020.0,2024.0,2025.0,2024.0,2024.0,2023.0,2022.0,2024.0,2025.0,2023.0,2024.0,2023.0,2020.0,2024.0,2023.0,2024.0,2024.0,2024.0,2022.0,2024.0,2023.0,2024.0,2023.0,2024.0,2025.0,2024.0,2024.0,2024.0,2024.0,2024.0,2022.0,2023.0,2024.0,2024.0,2024.0,2024.0,2025.0,2024.0,2024.0,2022.0,2024.0,2024.0,2022.0,2024.0,2024.0,2021.0,2024.0,2021.0,2020.0,2021.0,2024.0,2023.0,2024.0,2024.0,2024.0,2024.0,2022.0,2024.0,2025.0,2024.0,2024.0,2024.0,2024.0,2024.0,2023.0,2024.0,2024.0,2024.0,2025.0,2020.0,2024.0,2024.0,2024.0,2020.0,2023.0,2023.0,2021.0,null,2025.0,2023.0,2022.0,2024.0,2023.0,2024.0,2024.0,2024.0,2022.0,2025.0,2024.0,2023.0,2023.0,2024.0,2024.0,2024.0,2024.0,2023.0,2024.0,2023.0,2024.0,2023.0,2023.0,2024.0,2024.0,2025.0,2023.0,2024.0,2023.0,2022.0,2024.0,2024.0,2024.0,2022.0,2024.0,2023.0,2023.0,2024.0,2024.0,2024.0,2024.0,2024.0,2024.0,2022.0,2020.0,2024.0,2025.0,2024.0,2024.0,2023.0,2022.0,2024.0,2025.0,2023.0,2024.0,2024.0,2023.0,2020.0,2024.0,2023.0,2024.0,2024.0,2024.0,2022.0,2024.0,2023.0,2024.0,2023.0,2024.0,2025.0,2024.0,2024.0,2024.0,2024.0,2024.0,2022.0,2023.0,2024.0,2024.0,2024.0,2024.0,2025.0,2024.0,2024.0,2022.0,2024.0,2024.0,2022.0,2024.0,2024.0,2021.0,2024.0,2021.0,2020.0,2021.0,2024.0,2023.0,2024.0,2024.0,2024.0,2024.0,2022.0,2024.0,2025.0,2024.0,2024.0,2024.0,2024.0,2023.0,2024.0,2024.0,2024.0,2025.0,2020.0,2024.0,2024.0,2024.0,2020.0,2023.0,2023.0,2021.0,null,2025.0,2023.0,2022.0,2024.0,2023.0,2024.0,2024.0,2024.0,2022.0,2025.0,2024.0,2023.0,2023.0,2024.0,2024.0,2024.0,2024.0,2023.0,2024.0,2023.0,2024.0,2023.0,2023.0,2024.0,2024.0,2025.0,2023.0,2024.0,2023.0,2022.0,2024.0,2024.0,2024.0,2022.0,2024.0,2023.0,2023.0,2024.0,2024.0,2024.0,2024.0,2024.0,2024.0,2022.0,2020.0,2024.0,2025.0,2024.0,2024.0,2023.0,2022.0,2024.0,2025.0,2023.0,2024.0,2024.0,2023.0,2020.0,2024.0,2023.0,2024.0,2024.0,2024.0,2022.0,2024.0,2023.0,2024.0,2023.0,2024.0,2025.0,2024.0,2024.0,2024.0,2024.0,2024.0,2022.0,2023.0,2024.0,2024.0,2024.0,2024.0,2025.0,2024.0,2024.0,2022.0,2024.0,2024.0,2022.0,2024.0,2024.0,2021.0,2024.0,2021.0,2020.0,2021.0,2024.0,2023.0,2024.0,2024.0,2024.0,2024.0,2022.0,2024.0,2025.0,2024.0,2024.0,2024.0,2024.0,2024.0,2023.0,2024.0,2024.0,2024.0,2025.0,2020.0,2024.0,2024.0,2020.0,2023.0,2023.0,2021.0,null,2025.0,2023.0,2022.0,2024.0,2023.0,2024.0,2024.0,2024.0,2022.0,2025.0,2024.0,2023.0,2023.0,2024.0,2024.0,2024.0,2024.0,2023.0,2024.0,2023.0,2024.0,2023.0,2023.0,2024.0,2025.0,2023.0,2024.0,2023.0,2022.0,2024.0,2024.0,2024.0,2022.0,2024.0,2023.0,2023.0,2024.0,2024.0,2024.0,2024.0,2024.0,2024.0,2022.0,2020.0,2024.0,2025.0,2024.0,2024.0,2023.0,2022.0,2024.0,2025.0,2023.0,2024.0,2024.0,2023.0,2020.0,2024.0,2023.0,2024.0,2024.0,2024.0,2022.0,2024.0,2023.0,2024.0,2023.0,2024.0,2025.0,2024.0,2024.0,2024.0,2024.0,2024.0,2022.0,2023.0,2024.0,2024.0,2024.0,2024.0,2025.0,2024.0,2024.0,2022.0,2024.0,2024.0,2022.0,2024.0,2024.0,2021.0,2024.0,2021.0,2020.0,2021.0,2024.0,2023.0,2024.0,2024.0,2024.0,2024.0,2022.0,2024.0,2025.0,2024.0,2024.0,2024.0,2024.0,2024.0,2023.0,2024.0,2024.0,2024.0,2025.0,2020.0,2024.0,2024.0,2024.0,2020.0,2023.0,2023.0,2021.0],[\"1,666,473,288\",null,null,null,null,null,null,null,null,\"5,032\",null,null,null,null,null,null,null,null,null,null,null,null,null,null,null,null,null,null,null,null,\"847,358\",null,null,null,null,null,null,null,null,null,null,null,null,null,\"475,128\",null,null,null,null,null,\"655,213,072\",\"307,932,000\",null,null,null,null,null,null,\"749,705\",null,null,null,null,null,null,null,null,null,null,null,null,null,null,null,null,null,null,null,null,null,null,null,null,null,\"10,169,258\",null,null,null,null,null,null,null,null,null,null,null,null,null,null,null,null,null,null,null,null,null,null,null,null,\"2,004,961\",null,null,null,null,\"689,076,774\",null,null,null,null,null,null,null,\"5,690,102,612\",null,null,null,null,null,null,null,null,\"4,847\",null,null,null,null,null,null,null,null,null,null,null,null,null,null,null,null,null,null,null,null,\"16,052,970\",null,null,null,null,null,null,null,null,null,null,null,null,null,\"192,957\",null,null,null,null,null,\"772,110,560\",\"635,231,000\",null,null,null,null,null,null,\"2,673,442\",null,null,null,null,null,null,null,null,null,null,null,null,null,null,null,null,null,null,null,null,null,null,null,null,null,null,\"111,070,818\",null,null,null,null,null,null,null,null,null,null,null,null,null,null,null,null,null,null,null,null,null,null,null,null,\"5,562,038\",null,null,null,null,\"4,147,203,981\",null,null,null,null,null,null,\"551,807,779\",null,null,null,null,null,null,null,null,\"1,557,090\",null,null,null,null,null,null,null,null,null,null,null,null,null,null,null,null,null,null,null,null,\"8,560,467\",null,null,null,null,null,null,null,null,null,null,null,null,null,\"1,497,276\",null,null,null,null,null,\"122,282,093\",\"105,676,000\",null,null,null,null,null,null,\"679,534\",null,null,null,null,null,null,null,null,null,null,null,null,null,null,null,null,null,null,null,null,null,null,null,null,null,\"6,160,805\",null,null,null,null,null,null,null,null,null,null,null,null,null,null,null,null,null,null,null,null,null,null,null,null,\"16,690,863\",null,null,null,null,\"288,703,652\",null,null,null,null,null,null,null,\"2,780,527,828\",null,null,null,null,null,null,null,null,\"535,470\",null,null,null,null,null,null,null,null,null,null,null,null,null,null,null,null,null,null,null,null,\"2,601,063\",null,null,null,null,null,null,null,null,null,null,null,null,null,\"1,136,305\",null,null,null,null,null,\"1,738,388,401\",\"319,963,000\",null,null,null,null,null,\"549,868\",null,null,null,null,null,null,null,null,null,null,null,null,null,null,null,null,null,null,null,null,null,null,null,null,null,null,\"15,374,869\",null,null,null,null,null,null,null,null,null,null,null,null,null,null,null,null,null,null,null,null,null,null,null,null,\"4,357,868\",null,null,null,null,\"697,620,984\",null,null,null,null,null,null,null,\"2,504,875,721\",null,null,null,null,null,null,null,null,\"136,791\",null,null,null,null,null,null,null,null,null,null,null,null,null,null,null,null,null,null,null,null,\"1,228,758\",null,null,null,null,null,null,null,null,null,null,null,null,null,\"518,701\",null,null,null,null,null,\"1,515,959,997\",\"648,505,000\",null,null,null,null,null,null,\"711,372\",null,null,null,null,null,null,null,null,null,null,null,null,null,null,null,null,null,null,null,null,null,null,null,null,null,null,null,null,null,null,null,null,null,null,null,null,null,null,null,null,null,null,null,null,null,null,null,null,null,null,\"4,481,974\",null,null,null,null,\"333,333,128\",null,null,null,null,null,null,null,\"3462413056\",null,null,null,null,null,null,null,null,\"78914426\",null,null,null,null,null,null,null,null,null,null,null,null,null,null,null,null,null,null,null,null,null,null,null,null,null,null,null,null,null,null,null,null,null,null,\"63763879\",null,null,null,null,null,\"407395031\",\"1464401000\",null,null,null,null,null,null,\"1074954\",null,null,null,null,null,null,null,null,null,null,null,null,null,null,null,null,null,null,null,null,null,null,null,null,null,null,\"41058605\",null,null,null,null,null,null,null,null,null,null,null,null,null,null,null,null,null,null,null,null,null,null,null,null,\"128257504\",null,null,null,null,\"1277547657\",null,null,null,null,null,null,\"38935522108\",null,null,null,null,null,null,null,null,\"15845828\",null,null,null,null,null,null,null,null,null,null,null,null,null,null,null,null,null,null,null,\"197751282\",null,null,null,null,null,null,null,null,null,null,null,null,null,\"35093808\",null,null,null,null,null,\"13556327295\",\"4161141000\",null,null,null,null,null,null,\"154704058\",null,null,null,null,null,null,null,null,null,null,null,null,null,null,null,null,null,null,null,null,null,null,null,null,null,null,\"2838523432\",null,null,null,null,null,null,null,null,null,null,null,null,null,null,null,null,null,null,null,null,null,null,null,null,\"105561608\",null,null,null,null,\"17870573797\",null,null,null,null,null,null,null],[null,2.46,5.84,11.39,10.6,4.33,2.06,3.16,14.84,11.47,9.91,11.73,7.92,5.38,10.92,0.05,11.73,11.8,9.45,12.91,17.48,1.15,17.48,17.48,5.99,4.62,2.48,17.48,3.38,11.78,4.98,7.34,9.65,3.33,5.38,1.95,4.49,17.48,11.73,0.04,11.73,3.33,11.73,11.73,10.92,2.67,3.33,0.0,0.0,10.39,6.02,3.13,0.07,3.87,3.27,12.38,4.08,3.22,4.28,7.42,5.73,11.73,0.0,11.48,10.2,18.0,11.73,12.0,1.15,4.32,5.62,4.72,0.95,9.73,7.43,5.38,9.46,1.69,3.33,11.73,11.73,6.12,0.0,3.19,13.15,3.72,5.63,1.24,3.12,3.12,4.45,11.31,8.32,11.61,13.51,4.31,11.76,0.25,11.73,0.0,5.73,4.53,10.56,0.0,3.29,11.76,5.53,11.73,8.6,7.35,21.41,5.37,12.61,3.32,3.23,0.83,1.38,8.79,10.14,12.48,8.49,14.55,null,2.46,5.84,11.39,10.6,4.33,2.06,3.16,14.84,11.47,9.91,11.73,7.92,5.38,10.92,0.05,11.73,11.8,9.45,12.91,17.48,1.15,17.48,17.48,5.99,4.62,2.48,17.48,3.38,11.78,4.98,7.34,9.65,3.33,5.38,1.95,4.49,17.48,11.73,0.04,11.73,3.33,11.73,11.73,10.92,2.67,3.33,0.0,0.0,10.39,6.02,3.13,0.07,3.87,3.27,12.38,4.08,3.22,4.28,7.42,5.73,11.73,0.0,11.48,10.2,4.34,18.0,11.73,12.0,1.15,4.32,5.62,4.72,0.95,9.73,7.43,5.38,9.46,1.69,3.33,11.73,11.73,6.12,0.0,3.19,13.15,3.72,5.63,1.24,3.12,3.12,4.45,11.31,8.32,11.61,13.51,4.31,11.76,0.25,11.73,0.0,5.73,4.53,10.56,0.0,3.29,11.76,5.53,11.73,8.6,7.35,21.41,5.37,12.61,3.32,3.23,0.83,1.38,8.79,10.14,12.48,14.55,null,2.46,5.84,11.39,10.6,4.33,2.06,3.16,14.84,11.47,9.91,11.73,7.92,5.38,10.92,0.05,11.73,11.8,9.45,12.91,17.48,1.15,17.48,17.48,5.99,4.62,2.48,17.48,3.38,11.78,4.98,7.34,9.65,3.33,5.38,1.95,4.49,17.48,11.73,0.04,11.73,3.33,11.73,11.73,10.92,2.67,3.33,0.0,0.0,10.39,6.02,3.13,0.07,3.87,3.27,12.38,4.08,3.22,4.28,7.42,5.73,11.73,0.0,11.48,10.2,4.34,18.0,11.73,12.0,1.15,5.62,4.72,0.95,9.73,7.43,5.38,9.46,1.69,3.33,11.73,11.73,6.12,0.0,3.19,13.15,3.72,5.63,1.24,3.12,3.12,4.45,11.31,8.32,11.61,13.51,4.31,11.76,0.25,11.73,0.0,5.73,4.53,10.56,0.0,3.29,11.76,5.53,11.73,8.6,7.35,21.41,5.37,12.61,3.32,3.23,0.83,1.38,8.79,10.14,12.48,8.49,14.55,null,2.46,5.84,11.39,10.6,4.33,2.06,3.16,14.84,11.47,9.91,11.73,7.92,5.38,10.92,0.05,11.73,11.8,9.45,12.91,17.48,1.15,17.48,17.48,5.99,4.62,2.48,17.48,3.38,11.78,4.98,7.34,9.65,3.33,5.38,1.95,4.49,17.48,11.73,0.04,11.73,3.33,11.73,11.73,10.92,2.67,3.33,0.0,0.0,10.39,6.02,3.13,0.07,3.87,3.27,12.38,3.22,4.28,7.42,5.73,11.73,0.0,11.48,10.2,4.34,18.0,11.73,12.0,1.15,4.32,5.62,4.72,0.95,9.73,7.43,5.38,9.46,1.69,3.33,11.73,11.73,6.12,0.0,3.19,13.15,3.72,5.63,1.24,3.12,3.12,4.45,11.31,8.32,11.61,13.51,4.31,11.76,0.25,11.73,0.0,5.73,4.53,10.56,0.0,3.29,11.76,5.53,11.73,8.6,7.35,21.41,5.37,12.61,3.32,3.23,0.83,1.38,8.79,10.14,12.48,8.49,14.55,null,2.46,5.84,11.39,10.6,4.33,2.06,3.16,14.84,11.47,9.91,11.73,7.92,5.38,10.92,0.05,11.73,11.8,9.45,12.91,17.48,1.15,17.48,17.48,5.99,4.62,2.48,17.48,3.38,11.78,4.98,7.34,9.65,3.33,5.38,1.95,4.49,17.48,11.73,0.04,11.73,3.33,11.73,11.73,10.92,2.67,3.33,0.0,0.0,10.39,6.02,3.13,0.07,3.87,3.27,12.38,4.08,3.22,4.28,7.42,5.73,11.73,0.0,11.48,10.2,4.34,18.0,11.73,12.0,1.15,4.32,5.62,4.72,0.95,9.73,7.43,5.38,9.46,1.69,3.33,11.73,11.73,6.12,0.0,3.19,13.15,3.72,5.63,1.24,3.12,3.12,4.45,11.31,8.32,11.61,13.51,4.31,11.76,0.25,11.73,0.0,5.73,4.53,10.56,0.0,11.76,5.53,11.73,8.6,7.35,21.41,5.37,12.61,3.32,3.23,0.83,1.38,8.79,10.14,12.48,8.49,14.55,null,2.46,5.84,11.39,10.6,4.33,2.06,3.16,14.84,11.47,9.91,11.73,7.92,5.38,10.92,0.05,11.73,11.8,9.45,12.91,17.48,1.15,17.48,17.48,5.99,4.62,2.48,17.48,3.38,11.78,4.98,7.34,9.65,3.33,5.38,1.95,4.49,17.48,11.73,0.04,11.73,3.33,11.73,11.73,10.92,2.67,3.33,0.0,0.0,10.39,6.02,3.13,0.07,3.87,3.27,12.38,4.08,3.22,4.28,7.42,5.73,11.73,0.0,11.48,10.2,4.34,18.0,11.73,12.0,1.15,4.32,5.62,4.72,0.95,9.73,7.43,5.38,9.46,1.69,3.33,11.73,11.73,6.12,0.0,3.19,13.15,3.72,5.63,1.24,3.12,3.12,4.45,11.31,8.32,11.61,13.51,4.31,11.76,0.25,11.73,0.0,5.73,4.53,10.56,0.0,3.29,11.76,5.53,11.73,8.6,7.35,21.41,5.37,12.61,3.32,3.23,0.83,8.79,10.14,12.48,8.49,14.55,null,2.46,5.84,11.39,10.6,4.33,2.06,3.16,14.84,11.47,9.91,11.73,7.92,5.38,10.92,0.05,11.73,11.8,9.45,12.91,17.48,1.15,17.48,17.48,5.99,2.48,17.48,3.38,11.78,4.98,7.34,9.65,3.33,5.38,1.95,4.49,17.48,11.73,0.04,11.73,3.33,11.73,11.73,10.92,2.67,3.33,0.0,0.0,10.39,6.02,3.13,0.07,3.87,3.27,12.38,4.08,3.22,4.28,7.42,5.73,11.73,0.0,11.48,10.2,4.34,18.0,11.73,12.0,1.15,4.32,5.62,4.72,0.95,9.73,7.43,5.38,9.46,1.69,3.33,11.73,11.73,6.12,0.0,3.19,13.15,3.72,5.63,1.24,3.12,3.12,4.45,11.31,8.32,11.61,13.51,4.31,11.76,0.25,11.73,0.0,5.73,4.53,10.56,0.0,3.29,11.76,5.53,11.73,8.6,7.35,21.41,5.37,12.61,3.32,3.23,0.83,1.38,8.79,10.14,12.48,8.49,14.55],[null,2.46,5.84,11.39,10.6,4.33,0.0,3.16,14.84,11.47,9.91,11.73,7.92,5.38,10.92,0.05,11.73,11.8,9.45,12.91,17.48,0.0,17.48,17.48,5.99,4.62,2.48,17.48,3.38,11.78,4.98,7.34,9.65,3.33,5.38,1.95,4.49,17.48,11.73,0.04,11.73,3.33,11.73,11.73,10.92,2.67,3.33,0.0,0.0,10.39,6.02,3.13,0.0,3.87,3.27,12.38,4.08,3.22,4.28,0.0,5.73,11.73,0.0,11.48,10.2,18.0,11.73,12.0,1.15,4.32,5.62,4.72,0.95,9.73,7.43,5.38,9.46,0.0,3.33,11.73,11.73,6.12,0.0,3.19,13.15,3.72,5.63,1.24,0.0,3.12,4.45,11.31,8.32,11.61,13.51,4.31,11.76,0.25,11.73,0.0,5.73,4.53,10.56,0.0,3.29,11.76,5.53,11.73,8.6,7.35,21.41,0.0,12.61,3.32,3.23,0.83,1.38,8.79,10.14,12.48,0.0,14.55,null,2.46,5.84,11.39,10.6,0.57,0.0,3.16,14.84,11.47,9.91,11.73,7.92,5.38,10.92,0.05,11.73,11.8,9.45,12.91,17.48,0.0,17.48,17.48,5.99,4.62,2.48,17.48,3.38,11.78,4.98,7.34,9.65,3.33,5.38,0.03,4.49,17.48,11.73,0.04,11.73,3.33,11.73,11.73,10.92,2.67,3.33,0.0,0.0,10.39,6.02,3.13,0.0,3.87,1.67,12.38,4.08,3.22,4.28,0.0,5.73,11.73,0.0,11.48,10.2,4.34,18.0,11.73,12.0,1.15,4.32,5.62,4.72,0.95,9.73,7.43,5.38,9.46,0.0,3.33,11.73,11.73,6.12,0.0,3.19,13.15,3.72,5.63,1.24,0.0,3.12,0.84,11.31,8.32,11.61,13.51,4.31,11.76,0.25,11.73,0.0,5.73,4.53,10.56,0.0,3.29,11.76,5.53,11.73,8.6,7.35,21.41,5.37,12.61,3.32,3.23,0.83,1.38,8.79,10.14,12.48,14.55,null,2.46,5.84,11.39,10.6,4.33,0.0,3.16,14.84,11.47,9.91,11.73,7.92,5.38,10.92,0.05,11.73,11.8,9.45,12.91,17.48,0.0,17.48,17.48,5.99,4.62,2.48,17.48,0.09,11.78,4.98,7.34,9.65,0.0,5.38,0.0,4.49,17.48,11.73,0.04,11.73,0.0,11.73,11.73,10.92,2.67,3.33,0.0,0.0,10.39,6.02,3.13,0.0,3.87,3.27,12.38,4.08,3.22,4.28,7.42,5.73,11.73,0.0,11.48,10.2,4.34,18.0,11.73,12.0,1.15,5.62,4.72,0.95,9.73,7.43,5.38,9.46,0.0,0.0,11.73,11.73,6.12,0.0,3.19,13.15,3.72,5.63,1.24,3.12,3.12,4.45,11.31,8.32,11.61,13.51,4.31,11.76,0.25,11.73,0.0,5.73,4.53,10.56,0.0,3.29,11.76,5.53,11.73,8.6,7.35,21.41,5.37,12.61,3.32,3.23,0.83,0.0,8.79,10.14,12.48,0.0,14.55,null,2.46,5.84,11.39,10.6,4.33,0.0,3.16,14.3,11.47,9.91,11.73,7.92,5.38,10.92,0.05,11.73,11.8,9.45,12.91,17.48,0.0,17.48,17.48,5.99,4.62,2.48,17.48,0.57,11.78,4.98,7.34,9.65,0.71,5.38,0.0,4.49,17.48,11.73,0.04,11.73,3.33,11.73,11.73,10.92,2.67,0.52,0.0,0.0,10.39,6.02,3.13,0.03,3.87,3.27,12.38,3.22,4.28,1.2,5.73,11.73,0.0,11.48,10.2,4.34,18.0,11.73,12.0,1.15,4.32,5.62,4.72,0.95,9.73,7.43,5.38,9.46,0.0,0.39,11.73,11.73,6.12,0.0,3.19,13.15,3.72,5.63,1.24,0.66,3.12,4.45,11.31,8.32,11.61,13.51,4.31,11.76,0.25,11.73,0.0,5.73,4.47,10.56,0.0,3.29,11.76,5.53,11.73,8.6,7.35,21.41,0.0,12.61,3.32,3.23,0.83,0.0,8.79,10.14,12.48,1.95,14.55,null,2.46,5.84,11.39,10.6,4.33,1.95,3.16,14.84,11.47,9.91,11.73,7.92,5.38,10.92,0.05,11.73,11.8,9.45,12.91,17.48,1.15,17.48,17.48,5.99,4.62,2.48,17.48,3.38,11.78,4.98,7.34,9.65,3.33,5.38,1.95,4.49,17.48,11.73,0.04,11.73,0.05,11.73,11.73,10.92,2.67,3.33,0.0,0.0,10.39,6.02,3.13,0.07,3.87,3.27,12.38,4.08,3.22,4.28,7.42,5.73,11.73,0.0,11.48,10.2,4.34,18.0,11.73,12.0,1.15,4.32,5.62,4.72,0.95,9.73,7.43,5.38,9.46,0.0,3.33,11.73,11.73,6.12,0.0,3.19,13.15,3.72,5.63,1.24,3.12,3.12,4.45,11.31,8.32,11.61,13.51,4.31,11.76,0.25,11.73,0.0,5.73,4.53,10.56,0.0,11.76,5.53,11.73,8.6,7.35,21.41,5.37,12.61,3.32,3.23,0.83,1.38,8.79,10.14,12.48,8.49,14.55,null,2.46,5.84,11.39,10.6,4.33,0.0,3.16,14.84,11.47,9.91,11.73,7.92,5.38,10.92,0.05,11.73,11.8,9.45,12.91,17.48,0.0,17.48,17.48,5.99,4.62,2.48,17.48,0.0,11.78,4.98,7.34,9.65,0.0,5.38,1.95,4.49,17.48,11.73,0.04,11.73,0.0,11.73,11.73,10.92,2.67,1.63,0.0,0.0,10.39,6.02,3.13,0.07,3.87,3.27,12.38,4.08,3.22,4.28,7.42,5.73,11.73,0.0,11.48,10.2,4.34,18.0,11.73,12.0,1.15,4.32,5.62,4.72,0.95,9.73,7.43,5.38,9.46,1.69,0.0,11.73,11.73,6.12,0.0,0.02,13.15,3.72,5.63,1.24,3.12,3.12,4.45,11.31,8.32,11.61,13.51,4.31,11.76,0.25,11.73,0.0,5.73,4.53,10.56,0.0,3.29,11.76,5.53,11.73,8.6,7.35,21.41,5.37,12.61,3.32,3.23,0.83,8.79,10.14,12.48,8.49,14.55,null,2.46,5.84,11.39,10.6,4.33,0.0,3.16,14.3,11.47,9.91,11.73,7.92,5.38,10.92,0.05,11.73,11.8,9.45,12.91,17.48,1.15,17.48,17.48,5.99,2.48,17.48,0.37,11.78,4.98,7.34,9.65,3.33,5.38,1.95,4.49,17.48,11.73,0.0,11.73,3.33,11.73,11.73,10.92,2.67,3.33,0.0,0.0,10.39,6.02,3.13,0.03,3.87,3.27,12.38,4.08,3.22,4.28,0.0,5.73,11.73,0.0,11.48,10.2,4.34,18.0,11.73,12.0,0.34,4.32,5.62,4.72,0.95,9.73,7.43,5.38,9.46,0.0,2.31,11.73,11.73,6.12,0.0,3.19,13.15,3.72,5.63,1.24,0.26,3.12,4.45,11.31,8.32,11.61,13.51,4.31,11.76,0.25,11.73,0.0,5.73,4.47,10.56,0.0,3.18,11.76,5.53,11.73,8.6,7.35,21.41,5.37,12.61,3.32,3.23,0.83,1.38,8.79,10.14,12.48,0.96,14.55],[null,\"490\",\"271\",\"310\",\"640\",\"1,139\",\"371\",\"397\",\"419\",\"306\",\"339\",\"323\",\"483\",\"474\",\"643\",\"896\",\"323\",\"305\",\"377\",\"896\",\"298\",\"420\",\"298\",\"298\",\"441\",\"591\",\"501\",\"298\",\"631\",\"292\",\"283\",\"487\",\"581\",\"447\",\"474\",\"500\",\"332\",\"298\",\"323\",\"566\",\"323\",\"447\",\"323\",\"323\",\"307\",\"275\",\"447\",\"452\",\"502\",\"634\",\"896\",\"630\",\"355\",\"463\",\"1,139\",\"305\",\"743\",\"384\",\"712\",\"896\",\"492\",\"323\",\"431\",\"316\",\"461\",\"484\",\"323\",\"292\",\"339\",\"557\",\"500\",\"305\",\"503\",\"533\",\"897\",\"474\",\"330\",\"527\",\"483\",\"323\",\"323\",\"561\",\"356\",\"410\",\"498\",\"523\",\"640\",\"485\",\"896\",\"397\",\"716\",\"305\",\"303\",\"336\",\"270\",\"598\",\"323\",\"302\",\"323\",\"896\",\"492\",\"373\",\"305\",\"296\",\"557\",\"305\",\"896\",\"323\",\"271\",\"304\",\"994\",\"634\",\"305\",\"711\",\"356\",\"500\",\"624\",\"731\",\"279\",\"698\",\"909\",\"313\",null,\"490\",\"271\",\"310\",\"640\",\"1,139\",\"371\",\"397\",\"419\",\"306\",\"339\",\"323\",\"483\",\"474\",\"643\",\"896\",\"323\",\"305\",\"377\",\"896\",\"298\",\"420\",\"298\",\"298\",\"441\",\"591\",\"501\",\"298\",\"631\",\"292\",\"283\",\"487\",\"581\",\"447\",\"474\",\"500\",\"332\",\"298\",\"323\",\"566\",\"323\",\"447\",\"323\",\"323\",\"307\",\"275\",\"447\",\"452\",\"502\",\"634\",\"896\",\"630\",\"355\",\"463\",\"1,139\",\"305\",\"743\",\"384\",\"712\",\"896\",\"492\",\"323\",\"431\",\"316\",\"461\",\"896\",\"484\",\"323\",\"292\",\"339\",\"557\",\"500\",\"305\",\"503\",\"533\",\"897\",\"474\",\"330\",\"527\",\"483\",\"323\",\"323\",\"561\",\"356\",\"410\",\"498\",\"523\",\"640\",\"485\",\"896\",\"397\",\"716\",\"305\",\"303\",\"336\",\"270\",\"598\",\"323\",\"302\",\"323\",\"896\",\"492\",\"373\",\"305\",\"296\",\"557\",\"305\",\"896\",\"323\",\"271\",\"304\",\"994\",\"634\",\"305\",\"711\",\"356\",\"500\",\"624\",\"731\",\"279\",\"698\",\"313\",null,\"490\",\"271\",\"310\",\"640\",\"1,139\",\"371\",\"397\",\"419\",\"306\",\"339\",\"323\",\"483\",\"474\",\"643\",\"896\",\"323\",\"305\",\"377\",\"896\",\"298\",\"420\",\"298\",\"298\",\"441\",\"591\",\"501\",\"298\",\"631\",\"292\",\"283\",\"487\",\"581\",\"447\",\"474\",\"500\",\"332\",\"298\",\"323\",\"566\",\"323\",\"447\",\"323\",\"323\",\"307\",\"275\",\"447\",\"452\",\"502\",\"634\",\"896\",\"630\",\"355\",\"463\",\"1,139\",\"305\",\"743\",\"384\",\"712\",\"896\",\"492\",\"323\",\"431\",\"316\",\"461\",\"896\",\"484\",\"323\",\"292\",\"339\",\"500\",\"305\",\"503\",\"533\",\"897\",\"474\",\"330\",\"527\",\"483\",\"323\",\"323\",\"561\",\"356\",\"410\",\"498\",\"523\",\"640\",\"485\",\"896\",\"397\",\"716\",\"305\",\"303\",\"336\",\"270\",\"598\",\"323\",\"302\",\"323\",\"896\",\"492\",\"373\",\"305\",\"296\",\"557\",\"305\",\"896\",\"323\",\"271\",\"304\",\"994\",\"634\",\"305\",\"711\",\"356\",\"500\",\"624\",\"731\",\"279\",\"698\",\"909\",\"313\",null,\"490\",\"271\",\"310\",\"640\",\"1,139\",\"371\",\"397\",\"419\",\"306\",\"339\",\"323\",\"483\",\"474\",\"643\",\"896\",\"323\",\"305\",\"377\",\"896\",\"298\",\"420\",\"298\",\"298\",\"441\",\"591\",\"501\",\"298\",\"631\",\"292\",\"283\",\"487\",\"581\",\"447\",\"474\",\"500\",\"332\",\"298\",\"323\",\"566\",\"323\",\"447\",\"323\",\"323\",\"307\",\"275\",\"447\",\"452\",\"502\",\"634\",\"896\",\"630\",\"355\",\"463\",\"1,139\",\"305\",\"384\",\"712\",\"896\",\"492\",\"323\",\"431\",\"316\",\"461\",\"896\",\"484\",\"323\",\"292\",\"339\",\"557\",\"500\",\"305\",\"503\",\"533\",\"897\",\"474\",\"330\",\"527\",\"483\",\"323\",\"323\",\"561\",\"356\",\"410\",\"498\",\"523\",\"640\",\"485\",\"896\",\"397\",\"716\",\"305\",\"303\",\"336\",\"270\",\"598\",\"323\",\"302\",\"323\",\"896\",\"492\",\"373\",\"305\",\"296\",\"557\",\"305\",\"896\",\"323\",\"271\",\"304\",\"994\",\"634\",\"305\",\"711\",\"356\",\"500\",\"624\",\"731\",\"279\",\"698\",\"909\",\"313\",null,\"490\",\"271\",\"310\",\"640\",\"1,139\",\"371\",\"397\",\"419\",\"306\",\"339\",\"323\",\"483\",\"474\",\"643\",\"896\",\"323\",\"305\",\"377\",\"896\",\"298\",\"420\",\"298\",\"298\",\"441\",\"591\",\"501\",\"298\",\"631\",\"292\",\"283\",\"487\",\"581\",\"447\",\"474\",\"500\",\"332\",\"298\",\"323\",\"566\",\"323\",\"447\",\"323\",\"323\",\"307\",\"275\",\"447\",\"452\",\"502\",\"634\",\"896\",\"630\",\"355\",\"463\",\"1,139\",\"305\",\"743\",\"384\",\"712\",\"896\",\"492\",\"323\",\"431\",\"316\",\"461\",\"896\",\"484\",\"323\",\"292\",\"339\",\"557\",\"500\",\"305\",\"503\",\"533\",\"897\",\"474\",\"330\",\"527\",\"483\",\"323\",\"323\",\"561\",\"356\",\"410\",\"498\",\"523\",\"640\",\"485\",\"896\",\"397\",\"716\",\"305\",\"303\",\"336\",\"270\",\"598\",\"323\",\"302\",\"323\",\"896\",\"492\",\"373\",\"305\",\"296\",\"305\",\"896\",\"323\",\"271\",\"304\",\"994\",\"634\",\"305\",\"711\",\"356\",\"500\",\"624\",\"731\",\"279\",\"698\",\"909\",\"313\",null,\"490\",\"271\",\"310\",\"640\",\"1,139\",\"371\",\"397\",\"419\",\"306\",\"339\",\"323\",\"483\",\"474\",\"643\",\"896\",\"323\",\"305\",\"377\",\"896\",\"298\",\"420\",\"298\",\"298\",\"441\",\"591\",\"501\",\"298\",\"631\",\"292\",\"283\",\"487\",\"581\",\"447\",\"474\",\"500\",\"332\",\"298\",\"323\",\"566\",\"323\",\"447\",\"323\",\"323\",\"307\",\"275\",\"447\",\"452\",\"502\",\"634\",\"896\",\"630\",\"355\",\"463\",\"1,139\",\"305\",\"743\",\"384\",\"712\",\"896\",\"492\",\"323\",\"431\",\"316\",\"461\",\"896\",\"484\",\"323\",\"292\",\"339\",\"557\",\"500\",\"305\",\"503\",\"533\",\"897\",\"474\",\"330\",\"527\",\"483\",\"323\",\"323\",\"561\",\"356\",\"410\",\"498\",\"523\",\"640\",\"485\",\"896\",\"397\",\"716\",\"305\",\"303\",\"336\",\"270\",\"598\",\"323\",\"302\",\"323\",\"896\",\"492\",\"373\",\"305\",\"296\",\"557\",\"305\",\"896\",\"323\",\"271\",\"304\",\"994\",\"634\",\"305\",\"711\",\"356\",\"500\",\"731\",\"279\",\"698\",\"909\",\"313\",null,\"490\",\"271\",\"310\",\"640\",\"1,139\",\"371\",\"397\",\"419\",\"306\",\"339\",\"323\",\"483\",\"474\",\"643\",\"896\",\"323\",\"305\",\"377\",\"896\",\"298\",\"420\",\"298\",\"298\",\"441\",\"501\",\"298\",\"631\",\"292\",\"283\",\"487\",\"581\",\"447\",\"474\",\"500\",\"332\",\"298\",\"323\",\"566\",\"323\",\"447\",\"323\",\"323\",\"307\",\"275\",\"447\",\"452\",\"502\",\"634\",\"896\",\"630\",\"355\",\"463\",\"1,139\",\"305\",\"743\",\"384\",\"712\",\"896\",\"492\",\"323\",\"431\",\"316\",\"461\",\"896\",\"484\",\"323\",\"292\",\"339\",\"557\",\"500\",\"305\",\"503\",\"533\",\"897\",\"474\",\"330\",\"527\",\"483\",\"323\",\"323\",\"561\",\"356\",\"410\",\"498\",\"523\",\"640\",\"485\",\"896\",\"397\",\"716\",\"305\",\"303\",\"336\",\"270\",\"598\",\"323\",\"302\",\"323\",\"896\",\"492\",\"373\",\"305\",\"296\",\"557\",\"305\",\"896\",\"323\",\"271\",\"304\",\"994\",\"634\",\"305\",\"711\",\"356\",\"500\",\"624\",\"731\",\"279\",\"698\",\"909\",\"313\"],[null,null,null,1.0,null,9.0,null,null,null,null,null,null,null,null,null,null,null,null,3.0,null,null,null,null,null,null,null,null,null,null,null,null,null,18.0,null,null,null,1.0,null,null,null,null,null,null,null,1.0,null,null,null,null,null,4.0,10.0,null,null,1.0,null,null,8.0,9.0,null,null,null,null,5.0,null,null,null,null,null,2.0,null,null,null,null,null,null,null,5.0,null,null,null,null,null,6.0,4.0,null,null,null,null,8.0,10.0,null,null,null,null,3.0,null,null,null,null,null,19.0,1.0,null,6.0,null,null,null,null,null,null,17.0,null,null,8.0,null,null,null,null,null,null,3.0,null,null,null,1.0,null,9.0,null,null,null,null,null,null,null,null,null,null,null,null,3.0,null,null,null,null,null,null,null,null,null,null,null,null,null,18.0,null,null,null,1.0,null,null,null,null,null,null,null,1.0,null,null,null,null,null,4.0,10.0,null,null,1.0,null,null,8.0,9.0,null,null,null,null,5.0,null,null,null,null,null,null,2.0,null,null,null,null,null,null,null,5.0,null,null,null,null,null,6.0,4.0,null,null,null,null,8.0,10.0,null,null,null,null,3.0,null,null,null,null,null,19.0,1.0,null,6.0,null,null,null,null,null,null,17.0,null,null,8.0,null,null,null,null,null,3.0,null,null,null,1.0,null,9.0,null,null,null,null,null,null,null,null,null,null,null,null,3.0,null,null,null,null,null,null,null,null,null,null,null,null,null,18.0,null,null,null,1.0,null,null,null,null,null,null,null,1.0,null,null,null,null,null,4.0,10.0,null,null,1.0,null,null,8.0,9.0,null,null,null,null,5.0,null,null,null,null,null,null,null,null,null,null,null,null,null,5.0,null,null,null,null,null,6.0,4.0,null,null,null,null,8.0,10.0,null,null,null,null,3.0,null,null,null,null,null,19.0,1.0,null,6.0,null,null,null,null,null,null,17.0,null,null,8.0,null,null,null,null,null,null,3.0,null,null,null,1.0,null,9.0,null,null,null,null,null,null,null,null,null,null,null,null,3.0,null,null,null,null,null,null,null,null,null,null,null,null,null,18.0,null,null,null,1.0,null,null,null,null,null,null,null,1.0,null,null,null,null,null,4.0,10.0,null,null,1.0,null,8.0,9.0,null,null,null,null,5.0,null,null,null,null,null,null,2.0,null,null,null,null,null,null,null,5.0,null,null,null,null,null,6.0,4.0,null,null,null,null,8.0,10.0,null,null,null,null,3.0,null,null,null,null,null,19.0,1.0,null,6.0,null,null,null,null,null,null,17.0,null,null,8.0,null,null,null,null,null,null,3.0,null,null,null,1.0,null,9.0,null,null,null,null,null,null,null,null,null,null,null,null,3.0,null,null,null,null,null,null,null,null,null,null,null,null,null,18.0,null,null,null,1.0,null,null,null,null,null,null,null,1.0,null,null,null,null,null,4.0,10.0,null,null,1.0,null,null,8.0,9.0,null,null,null,null,5.0,null,null,null,null,null,null,2.0,null,null,null,null,null,null,null,5.0,null,null,null,null,null,6.0,4.0,null,null,null,null,8.0,10.0,null,null,null,null,3.0,null,null,null,null,null,19.0,1.0,null,null,null,null,null,null,null,17.0,null,null,8.0,null,null,null,null,null,null,3.0,null,null,null,1.0,null,9.0,null,null,null,null,null,null,null,null,null,null,null,null,3.0,null,null,null,null,null,null,null,null,null,null,null,null,null,18.0,null,null,null,1.0,null,null,null,null,null,null,null,1.0,null,null,null,null,null,4.0,10.0,null,null,1.0,null,null,8.0,9.0,null,null,null,null,5.0,null,null,null,null,null,null,2.0,null,null,null,null,null,null,null,5.0,null,null,null,null,null,6.0,4.0,null,null,null,null,8.0,10.0,null,null,null,null,3.0,null,null,null,null,null,19.0,1.0,null,6.0,null,null,null,null,null,null,17.0,null,null,8.0,null,null,null,null,null,3.0,null,null,null,1.0,null,9.0,null,null,null,null,null,null,null,null,null,null,null,null,3.0,null,null,null,null,null,null,null,null,null,null,null,null,18.0,null,null,null,1.0,null,null,null,null,null,null,null,1.0,null,null,null,null,null,4.0,10.0,null,null,1.0,null,null,8.0,9.0,null,null,null,null,5.0,null,null,null,null,null,null,2.0,null,null,null,null,null,null,null,5.0,null,null,null,null,null,6.0,4.0,null,null,null,null,8.0,10.0,null,null,null,null,3.0,null,null,null,null,null,19.0,1.0,null,6.0,null,null,null,null,null,null,17.0,null,null,8.0,null,null,null,null,null,null,3.0],[null,null,null,null,null,null,153.0,null,null,null,null,null,null,null,null,null,null,null,null,null,null,80.0,null,null,null,null,null,null,null,null,null,null,null,null,null,null,null,null,null,null,null,null,null,null,null,null,null,null,null,null,null,null,7.0,null,null,null,null,null,null,896.0,null,null,null,null,null,null,null,null,null,null,null,null,null,null,null,null,null,178.0,null,null,null,null,null,null,null,null,null,null,457.0,null,null,null,null,null,null,null,null,null,null,null,null,null,null,null,null,null,null,null,null,null,null,448.0,null,null,null,null,null,null,null,null,539.0,null,null,null,null,null,null,620.0,153.0,null,null,null,null,null,null,null,null,null,null,null,null,null,null,80.0,null,null,null,null,null,null,null,null,null,null,null,null,null,284.0,null,null,null,null,null,null,null,null,null,null,null,null,null,null,null,null,7.0,null,269.0,null,null,null,null,896.0,null,null,null,null,null,null,null,null,null,null,null,null,null,null,null,null,null,null,178.0,null,null,null,null,null,null,null,null,null,null,457.0,null,391.0,null,null,null,null,null,null,null,null,null,null,null,null,null,null,null,null,null,null,null,null,null,null,null,null,null,null,null,null,null,null,null,null,null,null,null,null,153.0,null,null,null,null,null,null,null,null,null,null,null,null,null,null,80.0,null,null,null,null,null,null,474.0,null,null,null,null,129.0,null,284.0,null,null,null,null,null,129.0,null,null,null,null,null,null,null,null,null,null,7.0,null,null,null,null,null,null,null,null,null,null,null,null,null,null,null,null,null,null,null,null,null,null,null,null,178.0,137.0,null,null,null,null,null,null,null,null,null,null,null,null,null,null,null,null,null,null,null,null,null,null,null,null,null,null,null,null,null,null,null,null,null,null,null,null,null,262.0,null,null,null,539.0,null,null,null,null,null,null,null,153.0,null,21.0,null,null,null,null,null,null,null,null,null,null,null,null,80.0,null,null,null,null,null,null,475.0,null,null,null,null,127.0,null,284.0,null,null,null,null,null,null,null,null,null,null,127.0,null,null,null,null,null,7.0,null,null,null,null,null,896.0,null,null,null,null,null,null,null,null,null,null,null,null,null,null,null,null,null,null,178.0,137.0,null,null,null,null,null,null,null,null,null,434.0,null,null,null,null,null,null,null,null,null,null,null,null,31.0,null,null,null,null,null,null,null,null,null,448.0,null,null,null,null,262.0,null,null,null,497.0,null,null,null,null,null,null,null,36.0,null,null,null,3.0,null,null,null,null,null,null,null,null,null,null,null,null,null,null,null,null,null,null,null,null,null,null,null,null,null,null,null,null,null,null,128.0,null,null,null,null,null,null,null,null,null,null,null,null,null,null,null,null,null,null,null,null,null,null,null,null,null,null,null,null,null,null,null,null,null,null,null,null,178.0,null,null,null,null,null,null,null,null,null,null,null,null,null,null,null,null,null,null,null,null,null,null,null,null,null,null,null,null,null,null,null,null,null,null,null,null,null,null,null,null,null,null,null,null,null,null,null,null,null,153.0,null,null,null,null,null,null,null,null,null,null,null,null,null,null,80.0,null,null,null,null,null,null,479.0,null,null,null,null,129.0,null,null,null,null,null,null,null,129.0,null,null,null,null,65.0,null,null,null,null,null,null,null,null,null,null,null,null,null,null,null,null,null,null,null,null,null,null,null,null,null,null,null,null,null,null,null,null,137.0,null,null,null,null,256.0,null,null,null,null,null,null,null,null,null,null,null,null,null,null,null,null,null,null,null,null,null,null,null,null,null,null,null,null,null,null,null,null,null,null,null,null,null,null,null,null,null,null,null,153.0,null,21.0,null,null,null,null,null,null,null,null,null,null,null,null,null,null,null,null,null,null,462.0,null,null,null,null,null,null,null,null,null,null,5.0,null,null,null,null,null,null,null,null,null,null,null,null,7.0,null,null,null,null,null,null,896.0,null,null,null,null,null,null,null,null,null,13.0,null,null,null,null,null,null,null,null,178.0,137.0,null,null,null,null,null,null,null,null,null,445.0,null,null,null,null,null,null,null,null,null,null,null,null,31.0,null,null,17.0,null,null,null,null,null,null,null,null,null,null,null,null,null,null,null,526.0,null],[\"Malaysia\",\"Malaysia\",\"Malaysia\",\"Malaysia\",\"Malaysia\",\"Malaysia\",\"Malaysia\",\"Malaysia\",\"Malaysia\",\"Malaysia\",\"Malaysia\",\"Malaysia\",\"Malaysia\",\"Malaysia\",\"Malaysia\",\"Malaysia\",\"Malaysia\",\"Malaysia\",\"Malaysia\",\"Malaysia\",\"Malaysia\",\"Malaysia\",\"Malaysia\",\"Malaysia\",\"Malaysia\",\"Malaysia\",\"Malaysia\",\"Malaysia\",\"Malaysia\",\"Malaysia\",\"Malaysia\",\"Malaysia\",\"Malaysia\",\"Malaysia\",\"Malaysia\",\"Malaysia\",\"Malaysia\",\"Malaysia\",\"Malaysia\",\"Malaysia\",\"Malaysia\",\"Malaysia\",\"Malaysia\",\"Malaysia\",\"Malaysia\",\"Malaysia\",\"Malaysia\",\"Malaysia\",\"Malaysia\",\"Malaysia\",\"Malaysia\",\"Malaysia\",\"Malaysia\",\"Malaysia\",\"Malaysia\",\"Malaysia\",\"Malaysia\",\"Malaysia\",\"Malaysia\",\"Malaysia\",\"Malaysia\",\"Malaysia\",\"Malaysia\",\"Malaysia\",\"Malaysia\",\"Malaysia\",\"Malaysia\",\"Malaysia\",\"Malaysia\",\"Malaysia\",\"Malaysia\",\"Malaysia\",\"Malaysia\",\"Malaysia\",\"Malaysia\",\"Malaysia\",\"Malaysia\",\"Malaysia\",\"Malaysia\",\"Malaysia\",\"Malaysia\",\"Malaysia\",\"Malaysia\",\"Malaysia\",\"Malaysia\",\"Malaysia\",\"Malaysia\",\"Malaysia\",\"Malaysia\",\"Malaysia\",\"Malaysia\",\"Malaysia\",\"Malaysia\",\"Malaysia\",\"Malaysia\",\"Malaysia\",\"Malaysia\",\"Malaysia\",\"Malaysia\",\"Malaysia\",\"Malaysia\",\"Malaysia\",\"Malaysia\",\"Malaysia\",\"Malaysia\",\"Malaysia\",\"Malaysia\",\"Malaysia\",\"Malaysia\",\"Malaysia\",\"Malaysia\",\"Malaysia\",\"Malaysia\",\"Malaysia\",\"Malaysia\",\"Malaysia\",\"Malaysia\",\"Malaysia\",\"Malaysia\",\"Malaysia\",\"Malaysia\",\"Malaysia\",\"Vietnam\",\"Vietnam\",\"Vietnam\",\"Vietnam\",\"Vietnam\",\"Vietnam\",\"Vietnam\",\"Vietnam\",\"Vietnam\",\"Vietnam\",\"Vietnam\",\"Vietnam\",\"Vietnam\",\"Vietnam\",\"Vietnam\",\"Vietnam\",\"Vietnam\",\"Vietnam\",\"Vietnam\",\"Vietnam\",\"Vietnam\",\"Vietnam\",\"Vietnam\",\"Vietnam\",\"Vietnam\",\"Vietnam\",\"Vietnam\",\"Vietnam\",\"Vietnam\",\"Vietnam\",\"Vietnam\",\"Vietnam\",\"Vietnam\",\"Vietnam\",\"Vietnam\",\"Vietnam\",\"Vietnam\",\"Vietnam\",\"Vietnam\",\"Vietnam\",\"Vietnam\",\"Vietnam\",\"Vietnam\",\"Vietnam\",\"Vietnam\",\"Vietnam\",\"Vietnam\",\"Vietnam\",\"Vietnam\",\"Vietnam\",\"Vietnam\",\"Vietnam\",\"Vietnam\",\"Vietnam\",\"Vietnam\",\"Vietnam\",\"Vietnam\",\"Vietnam\",\"Vietnam\",\"Vietnam\",\"Vietnam\",\"Vietnam\",\"Vietnam\",\"Vietnam\",\"Vietnam\",\"Vietnam\",\"Vietnam\",\"Vietnam\",\"Vietnam\",\"Vietnam\",\"Vietnam\",\"Vietnam\",\"Vietnam\",\"Vietnam\",\"Vietnam\",\"Vietnam\",\"Vietnam\",\"Vietnam\",\"Vietnam\",\"Vietnam\",\"Vietnam\",\"Vietnam\",\"Vietnam\",\"Vietnam\",\"Vietnam\",\"Vietnam\",\"Vietnam\",\"Vietnam\",\"Vietnam\",\"Vietnam\",\"Vietnam\",\"Vietnam\",\"Vietnam\",\"Vietnam\",\"Vietnam\",\"Vietnam\",\"Vietnam\",\"Vietnam\",\"Vietnam\",\"Vietnam\",\"Vietnam\",\"Vietnam\",\"Vietnam\",\"Vietnam\",\"Vietnam\",\"Vietnam\",\"Vietnam\",\"Vietnam\",\"Vietnam\",\"Vietnam\",\"Vietnam\",\"Vietnam\",\"Vietnam\",\"Vietnam\",\"Vietnam\",\"Vietnam\",\"Vietnam\",\"Vietnam\",\"Vietnam\",\"Vietnam\",\"Vietnam\",\"Vietnam\",\"Mexico\",\"Mexico\",\"Mexico\",\"Mexico\",\"Mexico\",\"Mexico\",\"Mexico\",\"Mexico\",\"Mexico\",\"Mexico\",\"Mexico\",\"Mexico\",\"Mexico\",\"Mexico\",\"Mexico\",\"Mexico\",\"Mexico\",\"Mexico\",\"Mexico\",\"Mexico\",\"Mexico\",\"Mexico\",\"Mexico\",\"Mexico\",\"Mexico\",\"Mexico\",\"Mexico\",\"Mexico\",\"Mexico\",\"Mexico\",\"Mexico\",\"Mexico\",\"Mexico\",\"Mexico\",\"Mexico\",\"Mexico\",\"Mexico\",\"Mexico\",\"Mexico\",\"Mexico\",\"Mexico\",\"Mexico\",\"Mexico\",\"Mexico\",\"Mexico\",\"Mexico\",\"Mexico\",\"Mexico\",\"Mexico\",\"Mexico\",\"Mexico\",\"Mexico\",\"Mexico\",\"Mexico\",\"Mexico\",\"Mexico\",\"Mexico\",\"Mexico\",\"Mexico\",\"Mexico\",\"Mexico\",\"Mexico\",\"Mexico\",\"Mexico\",\"Mexico\",\"Mexico\",\"Mexico\",\"Mexico\",\"Mexico\",\"Mexico\",\"Mexico\",\"Mexico\",\"Mexico\",\"Mexico\",\"Mexico\",\"Mexico\",\"Mexico\",\"Mexico\",\"Mexico\",\"Mexico\",\"Mexico\",\"Mexico\",\"Mexico\",\"Mexico\",\"Mexico\",\"Mexico\",\"Mexico\",\"Mexico\",\"Mexico\",\"Mexico\",\"Mexico\",\"Mexico\",\"Mexico\",\"Mexico\",\"Mexico\",\"Mexico\",\"Mexico\",\"Mexico\",\"Mexico\",\"Mexico\",\"Mexico\",\"Mexico\",\"Mexico\",\"Mexico\",\"Mexico\",\"Mexico\",\"Mexico\",\"Mexico\",\"Mexico\",\"Mexico\",\"Mexico\",\"Mexico\",\"Mexico\",\"Mexico\",\"Mexico\",\"Mexico\",\"Mexico\",\"Mexico\",\"Mexico\",\"Mexico\",\"Mexico\",\"Mexico\",\"Korea\",\"Korea\",\"Korea\",\"Korea\",\"Korea\",\"Korea\",\"Korea\",\"Korea\",\"Korea\",\"Korea\",\"Korea\",\"Korea\",\"Korea\",\"Korea\",\"Korea\",\"Korea\",\"Korea\",\"Korea\",\"Korea\",\"Korea\",\"Korea\",\"Korea\",\"Korea\",\"Korea\",\"Korea\",\"Korea\",\"Korea\",\"Korea\",\"Korea\",\"Korea\",\"Korea\",\"Korea\",\"Korea\",\"Korea\",\"Korea\",\"Korea\",\"Korea\",\"Korea\",\"Korea\",\"Korea\",\"Korea\",\"Korea\",\"Korea\",\"Korea\",\"Korea\",\"Korea\",\"Korea\",\"Korea\",\"Korea\",\"Korea\",\"Korea\",\"Korea\",\"Korea\",\"Korea\",\"Korea\",\"Korea\",\"Korea\",\"Korea\",\"Korea\",\"Korea\",\"Korea\",\"Korea\",\"Korea\",\"Korea\",\"Korea\",\"Korea\",\"Korea\",\"Korea\",\"Korea\",\"Korea\",\"Korea\",\"Korea\",\"Korea\",\"Korea\",\"Korea\",\"Korea\",\"Korea\",\"Korea\",\"Korea\",\"Korea\",\"Korea\",\"Korea\",\"Korea\",\"Korea\",\"Korea\",\"Korea\",\"Korea\",\"Korea\",\"Korea\",\"Korea\",\"Korea\",\"Korea\",\"Korea\",\"Korea\",\"Korea\",\"Korea\",\"Korea\",\"Korea\",\"Korea\",\"Korea\",\"Korea\",\"Korea\",\"Korea\",\"Korea\",\"Korea\",\"Korea\",\"Korea\",\"Korea\",\"Korea\",\"Korea\",\"Korea\",\"Korea\",\"Korea\",\"Korea\",\"Korea\",\"Korea\",\"Korea\",\"Korea\",\"Korea\",\"Korea\",\"Korea\",\"Korea\",\"Taiwan\",\"Taiwan\",\"Taiwan\",\"Taiwan\",\"Taiwan\",\"Taiwan\",\"Taiwan\",\"Taiwan\",\"Taiwan\",\"Taiwan\",\"Taiwan\",\"Taiwan\",\"Taiwan\",\"Taiwan\",\"Taiwan\",\"Taiwan\",\"Taiwan\",\"Taiwan\",\"Taiwan\",\"Taiwan\",\"Taiwan\",\"Taiwan\",\"Taiwan\",\"Taiwan\",\"Taiwan\",\"Taiwan\",\"Taiwan\",\"Taiwan\",\"Taiwan\",\"Taiwan\",\"Taiwan\",\"Taiwan\",\"Taiwan\",\"Taiwan\",\"Taiwan\",\"Taiwan\",\"Taiwan\",\"Taiwan\",\"Taiwan\",\"Taiwan\",\"Taiwan\",\"Taiwan\",\"Taiwan\",\"Taiwan\",\"Taiwan\",\"Taiwan\",\"Taiwan\",\"Taiwan\",\"Taiwan\",\"Taiwan\",\"Taiwan\",\"Taiwan\",\"Taiwan\",\"Taiwan\",\"Taiwan\",\"Taiwan\",\"Taiwan\",\"Taiwan\",\"Taiwan\",\"Taiwan\",\"Taiwan\",\"Taiwan\",\"Taiwan\",\"Taiwan\",\"Taiwan\",\"Taiwan\",\"Taiwan\",\"Taiwan\",\"Taiwan\",\"Taiwan\",\"Taiwan\",\"Taiwan\",\"Taiwan\",\"Taiwan\",\"Taiwan\",\"Taiwan\",\"Taiwan\",\"Taiwan\",\"Taiwan\",\"Taiwan\",\"Taiwan\",\"Taiwan\",\"Taiwan\",\"Taiwan\",\"Taiwan\",\"Taiwan\",\"Taiwan\",\"Taiwan\",\"Taiwan\",\"Taiwan\",\"Taiwan\",\"Taiwan\",\"Taiwan\",\"Taiwan\",\"Taiwan\",\"Taiwan\",\"Taiwan\",\"Taiwan\",\"Taiwan\",\"Taiwan\",\"Taiwan\",\"Taiwan\",\"Taiwan\",\"Taiwan\",\"Taiwan\",\"Taiwan\",\"Taiwan\",\"Taiwan\",\"Taiwan\",\"Taiwan\",\"Taiwan\",\"Taiwan\",\"Taiwan\",\"Taiwan\",\"Taiwan\",\"Taiwan\",\"Taiwan\",\"Taiwan\",\"Taiwan\",\"Taiwan\",\"Taiwan\",\"Taiwan\",\"US\",\"US\",\"US\",\"US\",\"US\",\"US\",\"US\",\"US\",\"US\",\"US\",\"US\",\"US\",\"US\",\"US\",\"US\",\"US\",\"US\",\"US\",\"US\",\"US\",\"US\",\"US\",\"US\",\"US\",\"US\",\"US\",\"US\",\"US\",\"US\",\"US\",\"US\",\"US\",\"US\",\"US\",\"US\",\"US\",\"US\",\"US\",\"US\",\"US\",\"US\",\"US\",\"US\",\"US\",\"US\",\"US\",\"US\",\"US\",\"US\",\"US\",\"US\",\"US\",\"US\",\"US\",\"US\",\"US\",\"US\",\"US\",\"US\",\"US\",\"US\",\"US\",\"US\",\"US\",\"US\",\"US\",\"US\",\"US\",\"US\",\"US\",\"US\",\"US\",\"US\",\"US\",\"US\",\"US\",\"US\",\"US\",\"US\",\"US\",\"US\",\"US\",\"US\",\"US\",\"US\",\"US\",\"US\",\"US\",\"US\",\"US\",\"US\",\"US\",\"US\",\"US\",\"US\",\"US\",\"US\",\"US\",\"US\",\"US\",\"US\",\"US\",\"US\",\"US\",\"US\",\"US\",\"US\",\"US\",\"US\",\"US\",\"US\",\"US\",\"US\",\"US\",\"US\",\"US\",\"US\",\"US\",\"US\",\"US\",\"US\",\"US\",\"China\",\"China\",\"China\",\"China\",\"China\",\"China\",\"China\",\"China\",\"China\",\"China\",\"China\",\"China\",\"China\",\"China\",\"China\",\"China\",\"China\",\"China\",\"China\",\"China\",\"China\",\"China\",\"China\",\"China\",\"China\",\"China\",\"China\",\"China\",\"China\",\"China\",\"China\",\"China\",\"China\",\"China\",\"China\",\"China\",\"China\",\"China\",\"China\",\"China\",\"China\",\"China\",\"China\",\"China\",\"China\",\"China\",\"China\",\"China\",\"China\",\"China\",\"China\",\"China\",\"China\",\"China\",\"China\",\"China\",\"China\",\"China\",\"China\",\"China\",\"China\",\"China\",\"China\",\"China\",\"China\",\"China\",\"China\",\"China\",\"China\",\"China\",\"China\",\"China\",\"China\",\"China\",\"China\",\"China\",\"China\",\"China\",\"China\",\"China\",\"China\",\"China\",\"China\",\"China\",\"China\",\"China\",\"China\",\"China\",\"China\",\"China\",\"China\",\"China\",\"China\",\"China\",\"China\",\"China\",\"China\",\"China\",\"China\",\"China\",\"China\",\"China\",\"China\",\"China\",\"China\",\"China\",\"China\",\"China\",\"China\",\"China\",\"China\",\"China\",\"China\",\"China\",\"China\",\"China\",\"China\",\"China\",\"China\",\"China\",\"China\",\"China\"]]},\"header\":{\"align\":\"left\",\"fill\":{\"color\":\"lightblue\"},\"values\":[\"importer\",\"year\",\"value_usd\",\"mfn_avg_duty\",\"best_avg_duty\",\"mfn_line_count\",\"mfn_nonadval_line\",\"pref_line_count\",\"exporter\"]},\"type\":\"table\"}],                        {\"template\":{\"data\":{\"histogram2dcontour\":[{\"type\":\"histogram2dcontour\",\"colorbar\":{\"outlinewidth\":0,\"ticks\":\"\"},\"colorscale\":[[0.0,\"#0d0887\"],[0.1111111111111111,\"#46039f\"],[0.2222222222222222,\"#7201a8\"],[0.3333333333333333,\"#9c179e\"],[0.4444444444444444,\"#bd3786\"],[0.5555555555555556,\"#d8576b\"],[0.6666666666666666,\"#ed7953\"],[0.7777777777777778,\"#fb9f3a\"],[0.8888888888888888,\"#fdca26\"],[1.0,\"#f0f921\"]]}],\"choropleth\":[{\"type\":\"choropleth\",\"colorbar\":{\"outlinewidth\":0,\"ticks\":\"\"}}],\"histogram2d\":[{\"type\":\"histogram2d\",\"colorbar\":{\"outlinewidth\":0,\"ticks\":\"\"},\"colorscale\":[[0.0,\"#0d0887\"],[0.1111111111111111,\"#46039f\"],[0.2222222222222222,\"#7201a8\"],[0.3333333333333333,\"#9c179e\"],[0.4444444444444444,\"#bd3786\"],[0.5555555555555556,\"#d8576b\"],[0.6666666666666666,\"#ed7953\"],[0.7777777777777778,\"#fb9f3a\"],[0.8888888888888888,\"#fdca26\"],[1.0,\"#f0f921\"]]}],\"heatmap\":[{\"type\":\"heatmap\",\"colorbar\":{\"outlinewidth\":0,\"ticks\":\"\"},\"colorscale\":[[0.0,\"#0d0887\"],[0.1111111111111111,\"#46039f\"],[0.2222222222222222,\"#7201a8\"],[0.3333333333333333,\"#9c179e\"],[0.4444444444444444,\"#bd3786\"],[0.5555555555555556,\"#d8576b\"],[0.6666666666666666,\"#ed7953\"],[0.7777777777777778,\"#fb9f3a\"],[0.8888888888888888,\"#fdca26\"],[1.0,\"#f0f921\"]]}],\"heatmapgl\":[{\"type\":\"heatmapgl\",\"colorbar\":{\"outlinewidth\":0,\"ticks\":\"\"},\"colorscale\":[[0.0,\"#0d0887\"],[0.1111111111111111,\"#46039f\"],[0.2222222222222222,\"#7201a8\"],[0.3333333333333333,\"#9c179e\"],[0.4444444444444444,\"#bd3786\"],[0.5555555555555556,\"#d8576b\"],[0.6666666666666666,\"#ed7953\"],[0.7777777777777778,\"#fb9f3a\"],[0.8888888888888888,\"#fdca26\"],[1.0,\"#f0f921\"]]}],\"contourcarpet\":[{\"type\":\"contourcarpet\",\"colorbar\":{\"outlinewidth\":0,\"ticks\":\"\"}}],\"contour\":[{\"type\":\"contour\",\"colorbar\":{\"outlinewidth\":0,\"ticks\":\"\"},\"colorscale\":[[0.0,\"#0d0887\"],[0.1111111111111111,\"#46039f\"],[0.2222222222222222,\"#7201a8\"],[0.3333333333333333,\"#9c179e\"],[0.4444444444444444,\"#bd3786\"],[0.5555555555555556,\"#d8576b\"],[0.6666666666666666,\"#ed7953\"],[0.7777777777777778,\"#fb9f3a\"],[0.8888888888888888,\"#fdca26\"],[1.0,\"#f0f921\"]]}],\"surface\":[{\"type\":\"surface\",\"colorbar\":{\"outlinewidth\":0,\"ticks\":\"\"},\"colorscale\":[[0.0,\"#0d0887\"],[0.1111111111111111,\"#46039f\"],[0.2222222222222222,\"#7201a8\"],[0.3333333333333333,\"#9c179e\"],[0.4444444444444444,\"#bd3786\"],[0.5555555555555556,\"#d8576b\"],[0.6666666666666666,\"#ed7953\"],[0.7777777777777778,\"#fb9f3a\"],[0.8888888888888888,\"#fdca26\"],[1.0,\"#f0f921\"]]}],\"mesh3d\":[{\"type\":\"mesh3d\",\"colorbar\":{\"outlinewidth\":0,\"ticks\":\"\"}}],\"scatter\":[{\"fillpattern\":{\"fillmode\":\"overlay\",\"size\":10,\"solidity\":0.2},\"type\":\"scatter\"}],\"parcoords\":[{\"type\":\"parcoords\",\"line\":{\"colorbar\":{\"outlinewidth\":0,\"ticks\":\"\"}}}],\"scatterpolargl\":[{\"type\":\"scatterpolargl\",\"marker\":{\"colorbar\":{\"outlinewidth\":0,\"ticks\":\"\"}}}],\"bar\":[{\"error_x\":{\"color\":\"#2a3f5f\"},\"error_y\":{\"color\":\"#2a3f5f\"},\"marker\":{\"line\":{\"color\":\"#E5ECF6\",\"width\":0.5},\"pattern\":{\"fillmode\":\"overlay\",\"size\":10,\"solidity\":0.2}},\"type\":\"bar\"}],\"scattergeo\":[{\"type\":\"scattergeo\",\"marker\":{\"colorbar\":{\"outlinewidth\":0,\"ticks\":\"\"}}}],\"scatterpolar\":[{\"type\":\"scatterpolar\",\"marker\":{\"colorbar\":{\"outlinewidth\":0,\"ticks\":\"\"}}}],\"histogram\":[{\"marker\":{\"pattern\":{\"fillmode\":\"overlay\",\"size\":10,\"solidity\":0.2}},\"type\":\"histogram\"}],\"scattergl\":[{\"type\":\"scattergl\",\"marker\":{\"colorbar\":{\"outlinewidth\":0,\"ticks\":\"\"}}}],\"scatter3d\":[{\"type\":\"scatter3d\",\"line\":{\"colorbar\":{\"outlinewidth\":0,\"ticks\":\"\"}},\"marker\":{\"colorbar\":{\"outlinewidth\":0,\"ticks\":\"\"}}}],\"scattermapbox\":[{\"type\":\"scattermapbox\",\"marker\":{\"colorbar\":{\"outlinewidth\":0,\"ticks\":\"\"}}}],\"scatterternary\":[{\"type\":\"scatterternary\",\"marker\":{\"colorbar\":{\"outlinewidth\":0,\"ticks\":\"\"}}}],\"scattercarpet\":[{\"type\":\"scattercarpet\",\"marker\":{\"colorbar\":{\"outlinewidth\":0,\"ticks\":\"\"}}}],\"carpet\":[{\"aaxis\":{\"endlinecolor\":\"#2a3f5f\",\"gridcolor\":\"white\",\"linecolor\":\"white\",\"minorgridcolor\":\"white\",\"startlinecolor\":\"#2a3f5f\"},\"baxis\":{\"endlinecolor\":\"#2a3f5f\",\"gridcolor\":\"white\",\"linecolor\":\"white\",\"minorgridcolor\":\"white\",\"startlinecolor\":\"#2a3f5f\"},\"type\":\"carpet\"}],\"table\":[{\"cells\":{\"fill\":{\"color\":\"#EBF0F8\"},\"line\":{\"color\":\"white\"}},\"header\":{\"fill\":{\"color\":\"#C8D4E3\"},\"line\":{\"color\":\"white\"}},\"type\":\"table\"}],\"barpolar\":[{\"marker\":{\"line\":{\"color\":\"#E5ECF6\",\"width\":0.5},\"pattern\":{\"fillmode\":\"overlay\",\"size\":10,\"solidity\":0.2}},\"type\":\"barpolar\"}],\"pie\":[{\"automargin\":true,\"type\":\"pie\"}]},\"layout\":{\"autotypenumbers\":\"strict\",\"colorway\":[\"#636efa\",\"#EF553B\",\"#00cc96\",\"#ab63fa\",\"#FFA15A\",\"#19d3f3\",\"#FF6692\",\"#B6E880\",\"#FF97FF\",\"#FECB52\"],\"font\":{\"color\":\"#2a3f5f\"},\"hovermode\":\"closest\",\"hoverlabel\":{\"align\":\"left\"},\"paper_bgcolor\":\"white\",\"plot_bgcolor\":\"#E5ECF6\",\"polar\":{\"bgcolor\":\"#E5ECF6\",\"angularaxis\":{\"gridcolor\":\"white\",\"linecolor\":\"white\",\"ticks\":\"\"},\"radialaxis\":{\"gridcolor\":\"white\",\"linecolor\":\"white\",\"ticks\":\"\"}},\"ternary\":{\"bgcolor\":\"#E5ECF6\",\"aaxis\":{\"gridcolor\":\"white\",\"linecolor\":\"white\",\"ticks\":\"\"},\"baxis\":{\"gridcolor\":\"white\",\"linecolor\":\"white\",\"ticks\":\"\"},\"caxis\":{\"gridcolor\":\"white\",\"linecolor\":\"white\",\"ticks\":\"\"}},\"coloraxis\":{\"colorbar\":{\"outlinewidth\":0,\"ticks\":\"\"}},\"colorscale\":{\"sequential\":[[0.0,\"#0d0887\"],[0.1111111111111111,\"#46039f\"],[0.2222222222222222,\"#7201a8\"],[0.3333333333333333,\"#9c179e\"],[0.4444444444444444,\"#bd3786\"],[0.5555555555555556,\"#d8576b\"],[0.6666666666666666,\"#ed7953\"],[0.7777777777777778,\"#fb9f3a\"],[0.8888888888888888,\"#fdca26\"],[1.0,\"#f0f921\"]],\"sequentialminus\":[[0.0,\"#0d0887\"],[0.1111111111111111,\"#46039f\"],[0.2222222222222222,\"#7201a8\"],[0.3333333333333333,\"#9c179e\"],[0.4444444444444444,\"#bd3786\"],[0.5555555555555556,\"#d8576b\"],[0.6666666666666666,\"#ed7953\"],[0.7777777777777778,\"#fb9f3a\"],[0.8888888888888888,\"#fdca26\"],[1.0,\"#f0f921\"]],\"diverging\":[[0,\"#8e0152\"],[0.1,\"#c51b7d\"],[0.2,\"#de77ae\"],[0.3,\"#f1b6da\"],[0.4,\"#fde0ef\"],[0.5,\"#f7f7f7\"],[0.6,\"#e6f5d0\"],[0.7,\"#b8e186\"],[0.8,\"#7fbc41\"],[0.9,\"#4d9221\"],[1,\"#276419\"]]},\"xaxis\":{\"gridcolor\":\"white\",\"linecolor\":\"white\",\"ticks\":\"\",\"title\":{\"standoff\":15},\"zerolinecolor\":\"white\",\"automargin\":true,\"zerolinewidth\":2},\"yaxis\":{\"gridcolor\":\"white\",\"linecolor\":\"white\",\"ticks\":\"\",\"title\":{\"standoff\":15},\"zerolinecolor\":\"white\",\"automargin\":true,\"zerolinewidth\":2},\"scene\":{\"xaxis\":{\"backgroundcolor\":\"#E5ECF6\",\"gridcolor\":\"white\",\"linecolor\":\"white\",\"showbackground\":true,\"ticks\":\"\",\"zerolinecolor\":\"white\",\"gridwidth\":2},\"yaxis\":{\"backgroundcolor\":\"#E5ECF6\",\"gridcolor\":\"white\",\"linecolor\":\"white\",\"showbackground\":true,\"ticks\":\"\",\"zerolinecolor\":\"white\",\"gridwidth\":2},\"zaxis\":{\"backgroundcolor\":\"#E5ECF6\",\"gridcolor\":\"white\",\"linecolor\":\"white\",\"showbackground\":true,\"ticks\":\"\",\"zerolinecolor\":\"white\",\"gridwidth\":2}},\"shapedefaults\":{\"line\":{\"color\":\"#2a3f5f\"}},\"annotationdefaults\":{\"arrowcolor\":\"#2a3f5f\",\"arrowhead\":0,\"arrowwidth\":1},\"geo\":{\"bgcolor\":\"white\",\"landcolor\":\"#E5ECF6\",\"subunitcolor\":\"white\",\"showland\":true,\"showlakes\":true,\"lakecolor\":\"white\"},\"title\":{\"x\":0.05},\"mapbox\":{\"style\":\"light\"}}},\"title\":{\"text\":\"\\ud83d\\udcca Tariff Electrical Component Raw Data\"}},                        {\"responsive\": true}                    ).then(function(){\n",
       "                            \n",
       "var gd = document.getElementById('09710a3e-48c7-493e-ac1f-b75eec00f8fd');\n",
       "var x = new MutationObserver(function (mutations, observer) {{\n",
       "        var display = window.getComputedStyle(gd).display;\n",
       "        if (!display || display === 'none') {{\n",
       "            console.log([gd, 'removed!']);\n",
       "            Plotly.purge(gd);\n",
       "            observer.disconnect();\n",
       "        }}\n",
       "}});\n",
       "\n",
       "// Listen for the removal of the full notebook cells\n",
       "var notebookContainer = gd.closest('#notebook-container');\n",
       "if (notebookContainer) {{\n",
       "    x.observe(notebookContainer, {childList: true});\n",
       "}}\n",
       "\n",
       "// Listen for the clearing of the current output cell\n",
       "var outputEl = gd.closest('.output');\n",
       "if (outputEl) {{\n",
       "    x.observe(outputEl, {childList: true});\n",
       "}}\n",
       "\n",
       "                        })                };                });            </script>        </div>"
      ]
     },
     "metadata": {},
     "output_type": "display_data"
    }
   ],
   "source": [
    "import pandas as pd\n",
    "import matplotlib.pyplot as plt\n",
    "import seaborn as sns\n",
    "import plotly.graph_objects as go\n",
    "df = pd.read_csv(\"Data/Tariff electrical component.csv\")\n",
    "\n",
    "fig = go.Figure(data=[go.Table(\n",
    "    header=dict(values=list(df.columns),\n",
    "                fill_color='lightblue',\n",
    "                align='left'),\n",
    "    cells=dict(values=[df[col] for col in df.columns],\n",
    "               fill_color='white',\n",
    "               align='left'))\n",
    "])\n",
    "\n",
    "fig.update_layout(title=\"📊 Tariff Electrical Component Raw Data\")\n",
    "fig.show()"
   ]
  },
  {
   "cell_type": "code",
   "execution_count": 267,
   "id": "81417a0e-c5f9-4703-a7e2-860310ecf339",
   "metadata": {},
   "outputs": [
    {
     "name": "stdout",
     "output_type": "stream",
     "text": [
      "<class 'pandas.core.frame.DataFrame'>\n",
      "RangeIndex: 854 entries, 0 to 853\n",
      "Data columns (total 9 columns):\n",
      " #   Column             Non-Null Count  Dtype  \n",
      "---  ------             --------------  -----  \n",
      " 0   importer           854 non-null    object \n",
      " 1   year               847 non-null    float64\n",
      " 2   value_usd          68 non-null     object \n",
      " 3   mfn_avg_duty       847 non-null    float64\n",
      " 4   best_avg_duty      847 non-null    float64\n",
      " 5   mfn_line_count     847 non-null    object \n",
      " 6   mfn_nonadval_line  173 non-null    float64\n",
      " 7   pref_line_count    70 non-null     float64\n",
      " 8   exporter           854 non-null    object \n",
      "dtypes: float64(5), object(4)\n",
      "memory usage: 60.2+ KB\n"
     ]
    }
   ],
   "source": [
    "df.info()"
   ]
  },
  {
   "cell_type": "markdown",
   "id": "b9f16bbc-333c-4a4b-99ce-9985db0156d7",
   "metadata": {},
   "source": [
    "## **Clean Dataset**"
   ]
  },
  {
   "cell_type": "code",
   "execution_count": 270,
   "id": "80d4581a-daf5-47e2-a078-12f4eb59b5f4",
   "metadata": {},
   "outputs": [
    {
     "data": {
      "application/vnd.plotly.v1+json": {
       "config": {
        "plotlyServerURL": "https://plot.ly"
       },
       "data": [
        {
         "cells": {
          "align": "left",
          "fill": {
           "color": "white"
          },
          "values": [
           [
            "Barbados",
            "Cuba",
            "Guyana",
            "Indonesia",
            "Israel",
            "Kyrgyz Republic",
            "Pakistan",
            "Trinidad and Tobago",
            "United Arab Emirates",
            "Barbados",
            "Cuba",
            "Guyana",
            "Indonesia",
            "Israel",
            "Kyrgyz Republic",
            "Pakistan",
            "Trinidad and Tobago",
            "United Arab Emirates",
            "Barbados",
            "Cuba",
            "Guyana",
            "Indonesia",
            "Israel",
            "Kyrgyz Republic",
            "Pakistan",
            "Trinidad and Tobago",
            "United Arab Emirates",
            "Barbados",
            "Cuba",
            "Guyana",
            "Indonesia",
            "Israel",
            "Kyrgyz Republic",
            "Pakistan",
            "Trinidad and Tobago",
            "United Arab Emirates",
            "Barbados",
            "Cuba",
            "Guyana",
            "Indonesia",
            "Israel",
            "Kyrgyz Republic",
            "Trinidad and Tobago",
            "United Arab Emirates",
            "Barbados",
            "Guyana",
            "Indonesia",
            "Israel",
            "Kyrgyz Republic",
            "Pakistan",
            "Trinidad and Tobago",
            "United Arab Emirates",
            "Barbados",
            "Cuba",
            "Guyana",
            "Indonesia",
            "Israel",
            "Kyrgyz Republic",
            "Pakistan",
            "Trinidad and Tobago",
            "United Arab Emirates"
           ],
           [
            2022,
            2022,
            2022,
            2023,
            2022,
            2020,
            2022,
            2023,
            2020,
            2022,
            2022,
            2022,
            2023,
            2022,
            2020,
            2022,
            2023,
            2020,
            2022,
            2022,
            2022,
            2023,
            2022,
            2020,
            2022,
            2023,
            2020,
            2022,
            2022,
            2022,
            2023,
            2022,
            2020,
            2022,
            2023,
            2020,
            2022,
            2022,
            2022,
            2023,
            2022,
            2020,
            2023,
            2020,
            2022,
            2022,
            2023,
            2022,
            2020,
            2022,
            2023,
            2020,
            2022,
            2022,
            2022,
            2023,
            2022,
            2020,
            2022,
            2023,
            2020
           ],
           [
            "5,032",
            "847,358",
            "475,128",
            "655,213,072",
            "307,932,000",
            "749,705",
            "10,169,258",
            "2,004,961",
            "689,076,774",
            "4,847",
            "16,052,970",
            "192,957",
            "772,110,560",
            "635,231,000",
            "2,673,442",
            "111,070,818",
            "5,562,038",
            "4,147,203,981",
            "1,557,090",
            "8,560,467",
            "1,497,276",
            "122,282,093",
            "105,676,000",
            "679,534",
            "6,160,805",
            "16,690,863",
            "288,703,652",
            "535,470",
            "2,601,063",
            "1,136,305",
            "1,738,388,401",
            "319,963,000",
            "549,868",
            "15,374,869",
            "4,357,868",
            "697,620,984",
            "136,791",
            "1,228,758",
            "518,701",
            "1,515,959,997",
            "648,505,000",
            "711,372",
            "4,481,974",
            "333,333,128",
            "78914426",
            "63763879",
            "407395031",
            "1464401000",
            "1074954",
            "41058605",
            "128257504",
            "1277547657",
            "15845828",
            "197751282",
            "35093808",
            "13556327295",
            "4161141000",
            "154704058",
            "2838523432",
            "105561608",
            "17870573797"
           ],
           [
            11.47,
            4.98,
            10.92,
            6.02,
            3.13,
            4.28,
            13.15,
            7.35,
            3.23,
            11.47,
            4.98,
            10.92,
            6.02,
            3.13,
            4.28,
            13.15,
            7.35,
            3.23,
            11.47,
            4.98,
            10.92,
            6.02,
            3.13,
            4.28,
            13.15,
            7.35,
            3.23,
            11.47,
            4.98,
            10.92,
            6.02,
            3.13,
            4.28,
            13.15,
            7.35,
            3.23,
            11.47,
            4.98,
            10.92,
            6.02,
            3.13,
            4.28,
            7.35,
            3.23,
            11.47,
            10.92,
            6.02,
            3.13,
            4.28,
            13.15,
            7.35,
            3.23,
            11.47,
            4.98,
            10.92,
            6.02,
            3.13,
            4.28,
            13.15,
            7.35,
            3.23
           ],
           [
            11.47,
            4.98,
            10.92,
            6.02,
            3.13,
            4.28,
            13.15,
            7.35,
            3.23,
            11.47,
            4.98,
            10.92,
            6.02,
            3.13,
            4.28,
            13.15,
            7.35,
            3.23,
            11.47,
            4.98,
            10.92,
            6.02,
            3.13,
            4.28,
            13.15,
            7.35,
            3.23,
            11.47,
            4.98,
            10.92,
            6.02,
            3.13,
            4.28,
            13.15,
            7.35,
            3.23,
            11.47,
            4.98,
            10.92,
            6.02,
            3.13,
            4.28,
            7.35,
            3.23,
            11.47,
            10.92,
            6.02,
            3.13,
            4.28,
            13.15,
            7.35,
            3.23,
            11.47,
            4.98,
            10.92,
            6.02,
            3.13,
            4.28,
            13.15,
            7.35,
            3.23
           ],
           [
            306,
            283,
            307,
            896,
            630,
            712,
            498,
            304,
            356,
            306,
            283,
            307,
            896,
            630,
            712,
            498,
            304,
            356,
            306,
            283,
            307,
            896,
            630,
            712,
            498,
            304,
            356,
            306,
            283,
            307,
            896,
            630,
            712,
            498,
            304,
            356,
            306,
            283,
            307,
            896,
            630,
            712,
            304,
            356,
            306,
            307,
            896,
            630,
            712,
            498,
            304,
            356,
            306,
            283,
            307,
            896,
            630,
            712,
            498,
            304,
            356
           ],
           [
            null,
            null,
            1,
            4,
            10,
            9,
            4,
            null,
            8,
            null,
            null,
            1,
            4,
            10,
            9,
            4,
            null,
            8,
            null,
            null,
            1,
            4,
            10,
            9,
            4,
            null,
            8,
            null,
            null,
            1,
            4,
            10,
            9,
            4,
            null,
            8,
            null,
            null,
            1,
            4,
            10,
            9,
            null,
            8,
            null,
            1,
            4,
            10,
            9,
            4,
            null,
            8,
            null,
            null,
            1,
            4,
            10,
            9,
            4,
            null,
            8
           ],
           [
            null,
            null,
            null,
            null,
            null,
            null,
            null,
            null,
            null,
            null,
            null,
            null,
            null,
            null,
            null,
            null,
            null,
            null,
            null,
            null,
            null,
            null,
            null,
            null,
            null,
            null,
            null,
            null,
            null,
            null,
            null,
            null,
            null,
            null,
            null,
            null,
            null,
            null,
            null,
            null,
            null,
            null,
            null,
            null,
            null,
            null,
            null,
            null,
            null,
            null,
            null,
            null,
            null,
            null,
            null,
            null,
            null,
            null,
            null,
            null,
            null
           ],
           [
            "Malaysia",
            "Malaysia",
            "Malaysia",
            "Malaysia",
            "Malaysia",
            "Malaysia",
            "Malaysia",
            "Malaysia",
            "Malaysia",
            "Vietnam",
            "Vietnam",
            "Vietnam",
            "Vietnam",
            "Vietnam",
            "Vietnam",
            "Vietnam",
            "Vietnam",
            "Vietnam",
            "Mexico",
            "Mexico",
            "Mexico",
            "Mexico",
            "Mexico",
            "Mexico",
            "Mexico",
            "Mexico",
            "Mexico",
            "Korea",
            "Korea",
            "Korea",
            "Korea",
            "Korea",
            "Korea",
            "Korea",
            "Korea",
            "Korea",
            "Taiwan",
            "Taiwan",
            "Taiwan",
            "Taiwan",
            "Taiwan",
            "Taiwan",
            "Taiwan",
            "Taiwan",
            "US",
            "US",
            "US",
            "US",
            "US",
            "US",
            "US",
            "US",
            "China",
            "China",
            "China",
            "China",
            "China",
            "China",
            "China",
            "China",
            "China"
           ],
           [
            5032,
            847358,
            475128,
            655213072,
            307932000,
            749705,
            10169258,
            2004961,
            689076774,
            4847,
            16052970,
            192957,
            772110560,
            635231000,
            2673442,
            111070818,
            5562038,
            4147203981,
            1557090,
            8560467,
            1497276,
            122282093,
            105676000,
            679534,
            6160805,
            16690863,
            288703652,
            535470,
            2601063,
            1136305,
            1738388401,
            319963000,
            549868,
            15374869,
            4357868,
            697620984,
            136791,
            1228758,
            518701,
            1515959997,
            648505000,
            711372,
            4481974,
            333333128,
            78914426,
            63763879,
            407395031,
            1464401000,
            1074954,
            41058605,
            128257504,
            1277547657,
            15845828,
            197751282,
            35093808,
            13556327295,
            4161141000,
            154704058,
            2838523432,
            105561608,
            17870573797
           ],
           [
            5.032e-06,
            0.000847358,
            0.000475128,
            0.655213072,
            0.307932,
            0.000749705,
            0.010169258,
            0.002004961,
            0.689076774,
            4.847e-06,
            0.01605297,
            0.000192957,
            0.77211056,
            0.635231,
            0.002673442,
            0.111070818,
            0.005562038,
            4.147203981,
            0.00155709,
            0.008560467,
            0.001497276,
            0.122282093,
            0.105676,
            0.000679534,
            0.006160805,
            0.016690863,
            0.288703652,
            0.00053547,
            0.002601063,
            0.001136305,
            1.738388401,
            0.319963,
            0.000549868,
            0.015374869,
            0.004357868,
            0.697620984,
            0.000136791,
            0.001228758,
            0.000518701,
            1.515959997,
            0.648505,
            0.000711372,
            0.004481974,
            0.333333128,
            0.078914426,
            0.063763879,
            0.407395031,
            1.464401,
            0.001074954,
            0.041058605,
            0.128257504,
            1.277547657,
            0.015845828,
            0.197751282,
            0.035093808,
            13.556327295,
            4.161141,
            0.154704058,
            2.838523432,
            0.105561608,
            17.870573797
           ]
          ]
         },
         "header": {
          "align": "left",
          "fill": {
           "color": "lightblue"
          },
          "values": [
           "importer",
           "year",
           "value_usd",
           "mfn_avg_duty",
           "best_avg_duty",
           "mfn_line_count",
           "mfn_nonadval_line",
           "pref_line_count",
           "exporter",
           "value_usd_cleaned",
           "value_billion_usd"
          ]
         },
         "type": "table"
        }
       ],
       "layout": {
        "template": {
         "data": {
          "bar": [
           {
            "error_x": {
             "color": "#2a3f5f"
            },
            "error_y": {
             "color": "#2a3f5f"
            },
            "marker": {
             "line": {
              "color": "#E5ECF6",
              "width": 0.5
             },
             "pattern": {
              "fillmode": "overlay",
              "size": 10,
              "solidity": 0.2
             }
            },
            "type": "bar"
           }
          ],
          "barpolar": [
           {
            "marker": {
             "line": {
              "color": "#E5ECF6",
              "width": 0.5
             },
             "pattern": {
              "fillmode": "overlay",
              "size": 10,
              "solidity": 0.2
             }
            },
            "type": "barpolar"
           }
          ],
          "carpet": [
           {
            "aaxis": {
             "endlinecolor": "#2a3f5f",
             "gridcolor": "white",
             "linecolor": "white",
             "minorgridcolor": "white",
             "startlinecolor": "#2a3f5f"
            },
            "baxis": {
             "endlinecolor": "#2a3f5f",
             "gridcolor": "white",
             "linecolor": "white",
             "minorgridcolor": "white",
             "startlinecolor": "#2a3f5f"
            },
            "type": "carpet"
           }
          ],
          "choropleth": [
           {
            "colorbar": {
             "outlinewidth": 0,
             "ticks": ""
            },
            "type": "choropleth"
           }
          ],
          "contour": [
           {
            "colorbar": {
             "outlinewidth": 0,
             "ticks": ""
            },
            "colorscale": [
             [
              0,
              "#0d0887"
             ],
             [
              0.1111111111111111,
              "#46039f"
             ],
             [
              0.2222222222222222,
              "#7201a8"
             ],
             [
              0.3333333333333333,
              "#9c179e"
             ],
             [
              0.4444444444444444,
              "#bd3786"
             ],
             [
              0.5555555555555556,
              "#d8576b"
             ],
             [
              0.6666666666666666,
              "#ed7953"
             ],
             [
              0.7777777777777778,
              "#fb9f3a"
             ],
             [
              0.8888888888888888,
              "#fdca26"
             ],
             [
              1,
              "#f0f921"
             ]
            ],
            "type": "contour"
           }
          ],
          "contourcarpet": [
           {
            "colorbar": {
             "outlinewidth": 0,
             "ticks": ""
            },
            "type": "contourcarpet"
           }
          ],
          "heatmap": [
           {
            "colorbar": {
             "outlinewidth": 0,
             "ticks": ""
            },
            "colorscale": [
             [
              0,
              "#0d0887"
             ],
             [
              0.1111111111111111,
              "#46039f"
             ],
             [
              0.2222222222222222,
              "#7201a8"
             ],
             [
              0.3333333333333333,
              "#9c179e"
             ],
             [
              0.4444444444444444,
              "#bd3786"
             ],
             [
              0.5555555555555556,
              "#d8576b"
             ],
             [
              0.6666666666666666,
              "#ed7953"
             ],
             [
              0.7777777777777778,
              "#fb9f3a"
             ],
             [
              0.8888888888888888,
              "#fdca26"
             ],
             [
              1,
              "#f0f921"
             ]
            ],
            "type": "heatmap"
           }
          ],
          "heatmapgl": [
           {
            "colorbar": {
             "outlinewidth": 0,
             "ticks": ""
            },
            "colorscale": [
             [
              0,
              "#0d0887"
             ],
             [
              0.1111111111111111,
              "#46039f"
             ],
             [
              0.2222222222222222,
              "#7201a8"
             ],
             [
              0.3333333333333333,
              "#9c179e"
             ],
             [
              0.4444444444444444,
              "#bd3786"
             ],
             [
              0.5555555555555556,
              "#d8576b"
             ],
             [
              0.6666666666666666,
              "#ed7953"
             ],
             [
              0.7777777777777778,
              "#fb9f3a"
             ],
             [
              0.8888888888888888,
              "#fdca26"
             ],
             [
              1,
              "#f0f921"
             ]
            ],
            "type": "heatmapgl"
           }
          ],
          "histogram": [
           {
            "marker": {
             "pattern": {
              "fillmode": "overlay",
              "size": 10,
              "solidity": 0.2
             }
            },
            "type": "histogram"
           }
          ],
          "histogram2d": [
           {
            "colorbar": {
             "outlinewidth": 0,
             "ticks": ""
            },
            "colorscale": [
             [
              0,
              "#0d0887"
             ],
             [
              0.1111111111111111,
              "#46039f"
             ],
             [
              0.2222222222222222,
              "#7201a8"
             ],
             [
              0.3333333333333333,
              "#9c179e"
             ],
             [
              0.4444444444444444,
              "#bd3786"
             ],
             [
              0.5555555555555556,
              "#d8576b"
             ],
             [
              0.6666666666666666,
              "#ed7953"
             ],
             [
              0.7777777777777778,
              "#fb9f3a"
             ],
             [
              0.8888888888888888,
              "#fdca26"
             ],
             [
              1,
              "#f0f921"
             ]
            ],
            "type": "histogram2d"
           }
          ],
          "histogram2dcontour": [
           {
            "colorbar": {
             "outlinewidth": 0,
             "ticks": ""
            },
            "colorscale": [
             [
              0,
              "#0d0887"
             ],
             [
              0.1111111111111111,
              "#46039f"
             ],
             [
              0.2222222222222222,
              "#7201a8"
             ],
             [
              0.3333333333333333,
              "#9c179e"
             ],
             [
              0.4444444444444444,
              "#bd3786"
             ],
             [
              0.5555555555555556,
              "#d8576b"
             ],
             [
              0.6666666666666666,
              "#ed7953"
             ],
             [
              0.7777777777777778,
              "#fb9f3a"
             ],
             [
              0.8888888888888888,
              "#fdca26"
             ],
             [
              1,
              "#f0f921"
             ]
            ],
            "type": "histogram2dcontour"
           }
          ],
          "mesh3d": [
           {
            "colorbar": {
             "outlinewidth": 0,
             "ticks": ""
            },
            "type": "mesh3d"
           }
          ],
          "parcoords": [
           {
            "line": {
             "colorbar": {
              "outlinewidth": 0,
              "ticks": ""
             }
            },
            "type": "parcoords"
           }
          ],
          "pie": [
           {
            "automargin": true,
            "type": "pie"
           }
          ],
          "scatter": [
           {
            "fillpattern": {
             "fillmode": "overlay",
             "size": 10,
             "solidity": 0.2
            },
            "type": "scatter"
           }
          ],
          "scatter3d": [
           {
            "line": {
             "colorbar": {
              "outlinewidth": 0,
              "ticks": ""
             }
            },
            "marker": {
             "colorbar": {
              "outlinewidth": 0,
              "ticks": ""
             }
            },
            "type": "scatter3d"
           }
          ],
          "scattercarpet": [
           {
            "marker": {
             "colorbar": {
              "outlinewidth": 0,
              "ticks": ""
             }
            },
            "type": "scattercarpet"
           }
          ],
          "scattergeo": [
           {
            "marker": {
             "colorbar": {
              "outlinewidth": 0,
              "ticks": ""
             }
            },
            "type": "scattergeo"
           }
          ],
          "scattergl": [
           {
            "marker": {
             "colorbar": {
              "outlinewidth": 0,
              "ticks": ""
             }
            },
            "type": "scattergl"
           }
          ],
          "scattermapbox": [
           {
            "marker": {
             "colorbar": {
              "outlinewidth": 0,
              "ticks": ""
             }
            },
            "type": "scattermapbox"
           }
          ],
          "scatterpolar": [
           {
            "marker": {
             "colorbar": {
              "outlinewidth": 0,
              "ticks": ""
             }
            },
            "type": "scatterpolar"
           }
          ],
          "scatterpolargl": [
           {
            "marker": {
             "colorbar": {
              "outlinewidth": 0,
              "ticks": ""
             }
            },
            "type": "scatterpolargl"
           }
          ],
          "scatterternary": [
           {
            "marker": {
             "colorbar": {
              "outlinewidth": 0,
              "ticks": ""
             }
            },
            "type": "scatterternary"
           }
          ],
          "surface": [
           {
            "colorbar": {
             "outlinewidth": 0,
             "ticks": ""
            },
            "colorscale": [
             [
              0,
              "#0d0887"
             ],
             [
              0.1111111111111111,
              "#46039f"
             ],
             [
              0.2222222222222222,
              "#7201a8"
             ],
             [
              0.3333333333333333,
              "#9c179e"
             ],
             [
              0.4444444444444444,
              "#bd3786"
             ],
             [
              0.5555555555555556,
              "#d8576b"
             ],
             [
              0.6666666666666666,
              "#ed7953"
             ],
             [
              0.7777777777777778,
              "#fb9f3a"
             ],
             [
              0.8888888888888888,
              "#fdca26"
             ],
             [
              1,
              "#f0f921"
             ]
            ],
            "type": "surface"
           }
          ],
          "table": [
           {
            "cells": {
             "fill": {
              "color": "#EBF0F8"
             },
             "line": {
              "color": "white"
             }
            },
            "header": {
             "fill": {
              "color": "#C8D4E3"
             },
             "line": {
              "color": "white"
             }
            },
            "type": "table"
           }
          ]
         },
         "layout": {
          "annotationdefaults": {
           "arrowcolor": "#2a3f5f",
           "arrowhead": 0,
           "arrowwidth": 1
          },
          "autotypenumbers": "strict",
          "coloraxis": {
           "colorbar": {
            "outlinewidth": 0,
            "ticks": ""
           }
          },
          "colorscale": {
           "diverging": [
            [
             0,
             "#8e0152"
            ],
            [
             0.1,
             "#c51b7d"
            ],
            [
             0.2,
             "#de77ae"
            ],
            [
             0.3,
             "#f1b6da"
            ],
            [
             0.4,
             "#fde0ef"
            ],
            [
             0.5,
             "#f7f7f7"
            ],
            [
             0.6,
             "#e6f5d0"
            ],
            [
             0.7,
             "#b8e186"
            ],
            [
             0.8,
             "#7fbc41"
            ],
            [
             0.9,
             "#4d9221"
            ],
            [
             1,
             "#276419"
            ]
           ],
           "sequential": [
            [
             0,
             "#0d0887"
            ],
            [
             0.1111111111111111,
             "#46039f"
            ],
            [
             0.2222222222222222,
             "#7201a8"
            ],
            [
             0.3333333333333333,
             "#9c179e"
            ],
            [
             0.4444444444444444,
             "#bd3786"
            ],
            [
             0.5555555555555556,
             "#d8576b"
            ],
            [
             0.6666666666666666,
             "#ed7953"
            ],
            [
             0.7777777777777778,
             "#fb9f3a"
            ],
            [
             0.8888888888888888,
             "#fdca26"
            ],
            [
             1,
             "#f0f921"
            ]
           ],
           "sequentialminus": [
            [
             0,
             "#0d0887"
            ],
            [
             0.1111111111111111,
             "#46039f"
            ],
            [
             0.2222222222222222,
             "#7201a8"
            ],
            [
             0.3333333333333333,
             "#9c179e"
            ],
            [
             0.4444444444444444,
             "#bd3786"
            ],
            [
             0.5555555555555556,
             "#d8576b"
            ],
            [
             0.6666666666666666,
             "#ed7953"
            ],
            [
             0.7777777777777778,
             "#fb9f3a"
            ],
            [
             0.8888888888888888,
             "#fdca26"
            ],
            [
             1,
             "#f0f921"
            ]
           ]
          },
          "colorway": [
           "#636efa",
           "#EF553B",
           "#00cc96",
           "#ab63fa",
           "#FFA15A",
           "#19d3f3",
           "#FF6692",
           "#B6E880",
           "#FF97FF",
           "#FECB52"
          ],
          "font": {
           "color": "#2a3f5f"
          },
          "geo": {
           "bgcolor": "white",
           "lakecolor": "white",
           "landcolor": "#E5ECF6",
           "showlakes": true,
           "showland": true,
           "subunitcolor": "white"
          },
          "hoverlabel": {
           "align": "left"
          },
          "hovermode": "closest",
          "mapbox": {
           "style": "light"
          },
          "paper_bgcolor": "white",
          "plot_bgcolor": "#E5ECF6",
          "polar": {
           "angularaxis": {
            "gridcolor": "white",
            "linecolor": "white",
            "ticks": ""
           },
           "bgcolor": "#E5ECF6",
           "radialaxis": {
            "gridcolor": "white",
            "linecolor": "white",
            "ticks": ""
           }
          },
          "scene": {
           "xaxis": {
            "backgroundcolor": "#E5ECF6",
            "gridcolor": "white",
            "gridwidth": 2,
            "linecolor": "white",
            "showbackground": true,
            "ticks": "",
            "zerolinecolor": "white"
           },
           "yaxis": {
            "backgroundcolor": "#E5ECF6",
            "gridcolor": "white",
            "gridwidth": 2,
            "linecolor": "white",
            "showbackground": true,
            "ticks": "",
            "zerolinecolor": "white"
           },
           "zaxis": {
            "backgroundcolor": "#E5ECF6",
            "gridcolor": "white",
            "gridwidth": 2,
            "linecolor": "white",
            "showbackground": true,
            "ticks": "",
            "zerolinecolor": "white"
           }
          },
          "shapedefaults": {
           "line": {
            "color": "#2a3f5f"
           }
          },
          "ternary": {
           "aaxis": {
            "gridcolor": "white",
            "linecolor": "white",
            "ticks": ""
           },
           "baxis": {
            "gridcolor": "white",
            "linecolor": "white",
            "ticks": ""
           },
           "bgcolor": "#E5ECF6",
           "caxis": {
            "gridcolor": "white",
            "linecolor": "white",
            "ticks": ""
           }
          },
          "title": {
           "x": 0.05
          },
          "xaxis": {
           "automargin": true,
           "gridcolor": "white",
           "linecolor": "white",
           "ticks": "",
           "title": {
            "standoff": 15
           },
           "zerolinecolor": "white",
           "zerolinewidth": 2
          },
          "yaxis": {
           "automargin": true,
           "gridcolor": "white",
           "linecolor": "white",
           "ticks": "",
           "title": {
            "standoff": 15
           },
           "zerolinecolor": "white",
           "zerolinewidth": 2
          }
         }
        },
        "title": {
         "text": "📊 Tariff Electrical Component Cleaned Data"
        }
       }
      },
      "image/png": "[encoded data removed]",
      "text/html": [
       "<div>                            <div id=\"be110ee6-f0b9-47b4-b8fa-8a57a846b948\" class=\"plotly-graph-div\" style=\"height:525px; width:100%;\"></div>            <script type=\"text/javascript\">                require([\"plotly\"], function(Plotly) {                    window.PLOTLYENV=window.PLOTLYENV || {};                                    if (document.getElementById(\"be110ee6-f0b9-47b4-b8fa-8a57a846b948\")) {                    Plotly.newPlot(                        \"be110ee6-f0b9-47b4-b8fa-8a57a846b948\",                        [{\"cells\":{\"align\":\"left\",\"fill\":{\"color\":\"white\"},\"values\":[[\"Barbados\",\"Cuba\",\"Guyana\",\"Indonesia\",\"Israel\",\"Kyrgyz Republic\",\"Pakistan\",\"Trinidad and Tobago\",\"United Arab Emirates\",\"Barbados\",\"Cuba\",\"Guyana\",\"Indonesia\",\"Israel\",\"Kyrgyz Republic\",\"Pakistan\",\"Trinidad and Tobago\",\"United Arab Emirates\",\"Barbados\",\"Cuba\",\"Guyana\",\"Indonesia\",\"Israel\",\"Kyrgyz Republic\",\"Pakistan\",\"Trinidad and Tobago\",\"United Arab Emirates\",\"Barbados\",\"Cuba\",\"Guyana\",\"Indonesia\",\"Israel\",\"Kyrgyz Republic\",\"Pakistan\",\"Trinidad and Tobago\",\"United Arab Emirates\",\"Barbados\",\"Cuba\",\"Guyana\",\"Indonesia\",\"Israel\",\"Kyrgyz Republic\",\"Trinidad and Tobago\",\"United Arab Emirates\",\"Barbados\",\"Guyana\",\"Indonesia\",\"Israel\",\"Kyrgyz Republic\",\"Pakistan\",\"Trinidad and Tobago\",\"United Arab Emirates\",\"Barbados\",\"Cuba\",\"Guyana\",\"Indonesia\",\"Israel\",\"Kyrgyz Republic\",\"Pakistan\",\"Trinidad and Tobago\",\"United Arab Emirates\"],[2022,2022,2022,2023,2022,2020,2022,2023,2020,2022,2022,2022,2023,2022,2020,2022,2023,2020,2022,2022,2022,2023,2022,2020,2022,2023,2020,2022,2022,2022,2023,2022,2020,2022,2023,2020,2022,2022,2022,2023,2022,2020,2023,2020,2022,2022,2023,2022,2020,2022,2023,2020,2022,2022,2022,2023,2022,2020,2022,2023,2020],[\"5,032\",\"847,358\",\"475,128\",\"655,213,072\",\"307,932,000\",\"749,705\",\"10,169,258\",\"2,004,961\",\"689,076,774\",\"4,847\",\"16,052,970\",\"192,957\",\"772,110,560\",\"635,231,000\",\"2,673,442\",\"111,070,818\",\"5,562,038\",\"4,147,203,981\",\"1,557,090\",\"8,560,467\",\"1,497,276\",\"122,282,093\",\"105,676,000\",\"679,534\",\"6,160,805\",\"16,690,863\",\"288,703,652\",\"535,470\",\"2,601,063\",\"1,136,305\",\"1,738,388,401\",\"319,963,000\",\"549,868\",\"15,374,869\",\"4,357,868\",\"697,620,984\",\"136,791\",\"1,228,758\",\"518,701\",\"1,515,959,997\",\"648,505,000\",\"711,372\",\"4,481,974\",\"333,333,128\",\"78914426\",\"63763879\",\"407395031\",\"1464401000\",\"1074954\",\"41058605\",\"128257504\",\"1277547657\",\"15845828\",\"197751282\",\"35093808\",\"13556327295\",\"4161141000\",\"154704058\",\"2838523432\",\"105561608\",\"17870573797\"],[11.47,4.98,10.92,6.02,3.13,4.28,13.15,7.35,3.23,11.47,4.98,10.92,6.02,3.13,4.28,13.15,7.35,3.23,11.47,4.98,10.92,6.02,3.13,4.28,13.15,7.35,3.23,11.47,4.98,10.92,6.02,3.13,4.28,13.15,7.35,3.23,11.47,4.98,10.92,6.02,3.13,4.28,7.35,3.23,11.47,10.92,6.02,3.13,4.28,13.15,7.35,3.23,11.47,4.98,10.92,6.02,3.13,4.28,13.15,7.35,3.23],[11.47,4.98,10.92,6.02,3.13,4.28,13.15,7.35,3.23,11.47,4.98,10.92,6.02,3.13,4.28,13.15,7.35,3.23,11.47,4.98,10.92,6.02,3.13,4.28,13.15,7.35,3.23,11.47,4.98,10.92,6.02,3.13,4.28,13.15,7.35,3.23,11.47,4.98,10.92,6.02,3.13,4.28,7.35,3.23,11.47,10.92,6.02,3.13,4.28,13.15,7.35,3.23,11.47,4.98,10.92,6.02,3.13,4.28,13.15,7.35,3.23],[306,283,307,896,630,712,498,304,356,306,283,307,896,630,712,498,304,356,306,283,307,896,630,712,498,304,356,306,283,307,896,630,712,498,304,356,306,283,307,896,630,712,304,356,306,307,896,630,712,498,304,356,306,283,307,896,630,712,498,304,356],[null,null,1.0,4.0,10.0,9.0,4.0,null,8.0,null,null,1.0,4.0,10.0,9.0,4.0,null,8.0,null,null,1.0,4.0,10.0,9.0,4.0,null,8.0,null,null,1.0,4.0,10.0,9.0,4.0,null,8.0,null,null,1.0,4.0,10.0,9.0,null,8.0,null,1.0,4.0,10.0,9.0,4.0,null,8.0,null,null,1.0,4.0,10.0,9.0,4.0,null,8.0],[null,null,null,null,null,null,null,null,null,null,null,null,null,null,null,null,null,null,null,null,null,null,null,null,null,null,null,null,null,null,null,null,null,null,null,null,null,null,null,null,null,null,null,null,null,null,null,null,null,null,null,null,null,null,null,null,null,null,null,null,null],[\"Malaysia\",\"Malaysia\",\"Malaysia\",\"Malaysia\",\"Malaysia\",\"Malaysia\",\"Malaysia\",\"Malaysia\",\"Malaysia\",\"Vietnam\",\"Vietnam\",\"Vietnam\",\"Vietnam\",\"Vietnam\",\"Vietnam\",\"Vietnam\",\"Vietnam\",\"Vietnam\",\"Mexico\",\"Mexico\",\"Mexico\",\"Mexico\",\"Mexico\",\"Mexico\",\"Mexico\",\"Mexico\",\"Mexico\",\"Korea\",\"Korea\",\"Korea\",\"Korea\",\"Korea\",\"Korea\",\"Korea\",\"Korea\",\"Korea\",\"Taiwan\",\"Taiwan\",\"Taiwan\",\"Taiwan\",\"Taiwan\",\"Taiwan\",\"Taiwan\",\"Taiwan\",\"US\",\"US\",\"US\",\"US\",\"US\",\"US\",\"US\",\"US\",\"China\",\"China\",\"China\",\"China\",\"China\",\"China\",\"China\",\"China\",\"China\"],[5032,847358,475128,655213072,307932000,749705,10169258,2004961,689076774,4847,16052970,192957,772110560,635231000,2673442,111070818,5562038,4147203981,1557090,8560467,1497276,122282093,105676000,679534,6160805,16690863,288703652,535470,2601063,1136305,1738388401,319963000,549868,15374869,4357868,697620984,136791,1228758,518701,1515959997,648505000,711372,4481974,333333128,78914426,63763879,407395031,1464401000,1074954,41058605,128257504,1277547657,15845828,197751282,35093808,13556327295,4161141000,154704058,2838523432,105561608,17870573797],[5.032e-06,0.000847358,0.000475128,0.655213072,0.307932,0.000749705,0.010169258,0.002004961,0.689076774,4.847e-06,0.01605297,0.000192957,0.77211056,0.635231,0.002673442,0.111070818,0.005562038,4.147203981,0.00155709,0.008560467,0.001497276,0.122282093,0.105676,0.000679534,0.006160805,0.016690863,0.288703652,0.00053547,0.002601063,0.001136305,1.738388401,0.319963,0.000549868,0.015374869,0.004357868,0.697620984,0.000136791,0.001228758,0.000518701,1.515959997,0.648505,0.000711372,0.004481974,0.333333128,0.078914426,0.063763879,0.407395031,1.464401,0.001074954,0.041058605,0.128257504,1.277547657,0.015845828,0.197751282,0.035093808,13.556327295,4.161141,0.154704058,2.838523432,0.105561608,17.870573797]]},\"header\":{\"align\":\"left\",\"fill\":{\"color\":\"lightblue\"},\"values\":[\"importer\",\"year\",\"value_usd\",\"mfn_avg_duty\",\"best_avg_duty\",\"mfn_line_count\",\"mfn_nonadval_line\",\"pref_line_count\",\"exporter\",\"value_usd_cleaned\",\"value_billion_usd\"]},\"type\":\"table\"}],                        {\"template\":{\"data\":{\"histogram2dcontour\":[{\"type\":\"histogram2dcontour\",\"colorbar\":{\"outlinewidth\":0,\"ticks\":\"\"},\"colorscale\":[[0.0,\"#0d0887\"],[0.1111111111111111,\"#46039f\"],[0.2222222222222222,\"#7201a8\"],[0.3333333333333333,\"#9c179e\"],[0.4444444444444444,\"#bd3786\"],[0.5555555555555556,\"#d8576b\"],[0.6666666666666666,\"#ed7953\"],[0.7777777777777778,\"#fb9f3a\"],[0.8888888888888888,\"#fdca26\"],[1.0,\"#f0f921\"]]}],\"choropleth\":[{\"type\":\"choropleth\",\"colorbar\":{\"outlinewidth\":0,\"ticks\":\"\"}}],\"histogram2d\":[{\"type\":\"histogram2d\",\"colorbar\":{\"outlinewidth\":0,\"ticks\":\"\"},\"colorscale\":[[0.0,\"#0d0887\"],[0.1111111111111111,\"#46039f\"],[0.2222222222222222,\"#7201a8\"],[0.3333333333333333,\"#9c179e\"],[0.4444444444444444,\"#bd3786\"],[0.5555555555555556,\"#d8576b\"],[0.6666666666666666,\"#ed7953\"],[0.7777777777777778,\"#fb9f3a\"],[0.8888888888888888,\"#fdca26\"],[1.0,\"#f0f921\"]]}],\"heatmap\":[{\"type\":\"heatmap\",\"colorbar\":{\"outlinewidth\":0,\"ticks\":\"\"},\"colorscale\":[[0.0,\"#0d0887\"],[0.1111111111111111,\"#46039f\"],[0.2222222222222222,\"#7201a8\"],[0.3333333333333333,\"#9c179e\"],[0.4444444444444444,\"#bd3786\"],[0.5555555555555556,\"#d8576b\"],[0.6666666666666666,\"#ed7953\"],[0.7777777777777778,\"#fb9f3a\"],[0.8888888888888888,\"#fdca26\"],[1.0,\"#f0f921\"]]}],\"heatmapgl\":[{\"type\":\"heatmapgl\",\"colorbar\":{\"outlinewidth\":0,\"ticks\":\"\"},\"colorscale\":[[0.0,\"#0d0887\"],[0.1111111111111111,\"#46039f\"],[0.2222222222222222,\"#7201a8\"],[0.3333333333333333,\"#9c179e\"],[0.4444444444444444,\"#bd3786\"],[0.5555555555555556,\"#d8576b\"],[0.6666666666666666,\"#ed7953\"],[0.7777777777777778,\"#fb9f3a\"],[0.8888888888888888,\"#fdca26\"],[1.0,\"#f0f921\"]]}],\"contourcarpet\":[{\"type\":\"contourcarpet\",\"colorbar\":{\"outlinewidth\":0,\"ticks\":\"\"}}],\"contour\":[{\"type\":\"contour\",\"colorbar\":{\"outlinewidth\":0,\"ticks\":\"\"},\"colorscale\":[[0.0,\"#0d0887\"],[0.1111111111111111,\"#46039f\"],[0.2222222222222222,\"#7201a8\"],[0.3333333333333333,\"#9c179e\"],[0.4444444444444444,\"#bd3786\"],[0.5555555555555556,\"#d8576b\"],[0.6666666666666666,\"#ed7953\"],[0.7777777777777778,\"#fb9f3a\"],[0.8888888888888888,\"#fdca26\"],[1.0,\"#f0f921\"]]}],\"surface\":[{\"type\":\"surface\",\"colorbar\":{\"outlinewidth\":0,\"ticks\":\"\"},\"colorscale\":[[0.0,\"#0d0887\"],[0.1111111111111111,\"#46039f\"],[0.2222222222222222,\"#7201a8\"],[0.3333333333333333,\"#9c179e\"],[0.4444444444444444,\"#bd3786\"],[0.5555555555555556,\"#d8576b\"],[0.6666666666666666,\"#ed7953\"],[0.7777777777777778,\"#fb9f3a\"],[0.8888888888888888,\"#fdca26\"],[1.0,\"#f0f921\"]]}],\"mesh3d\":[{\"type\":\"mesh3d\",\"colorbar\":{\"outlinewidth\":0,\"ticks\":\"\"}}],\"scatter\":[{\"fillpattern\":{\"fillmode\":\"overlay\",\"size\":10,\"solidity\":0.2},\"type\":\"scatter\"}],\"parcoords\":[{\"type\":\"parcoords\",\"line\":{\"colorbar\":{\"outlinewidth\":0,\"ticks\":\"\"}}}],\"scatterpolargl\":[{\"type\":\"scatterpolargl\",\"marker\":{\"colorbar\":{\"outlinewidth\":0,\"ticks\":\"\"}}}],\"bar\":[{\"error_x\":{\"color\":\"#2a3f5f\"},\"error_y\":{\"color\":\"#2a3f5f\"},\"marker\":{\"line\":{\"color\":\"#E5ECF6\",\"width\":0.5},\"pattern\":{\"fillmode\":\"overlay\",\"size\":10,\"solidity\":0.2}},\"type\":\"bar\"}],\"scattergeo\":[{\"type\":\"scattergeo\",\"marker\":{\"colorbar\":{\"outlinewidth\":0,\"ticks\":\"\"}}}],\"scatterpolar\":[{\"type\":\"scatterpolar\",\"marker\":{\"colorbar\":{\"outlinewidth\":0,\"ticks\":\"\"}}}],\"histogram\":[{\"marker\":{\"pattern\":{\"fillmode\":\"overlay\",\"size\":10,\"solidity\":0.2}},\"type\":\"histogram\"}],\"scattergl\":[{\"type\":\"scattergl\",\"marker\":{\"colorbar\":{\"outlinewidth\":0,\"ticks\":\"\"}}}],\"scatter3d\":[{\"type\":\"scatter3d\",\"line\":{\"colorbar\":{\"outlinewidth\":0,\"ticks\":\"\"}},\"marker\":{\"colorbar\":{\"outlinewidth\":0,\"ticks\":\"\"}}}],\"scattermapbox\":[{\"type\":\"scattermapbox\",\"marker\":{\"colorbar\":{\"outlinewidth\":0,\"ticks\":\"\"}}}],\"scatterternary\":[{\"type\":\"scatterternary\",\"marker\":{\"colorbar\":{\"outlinewidth\":0,\"ticks\":\"\"}}}],\"scattercarpet\":[{\"type\":\"scattercarpet\",\"marker\":{\"colorbar\":{\"outlinewidth\":0,\"ticks\":\"\"}}}],\"carpet\":[{\"aaxis\":{\"endlinecolor\":\"#2a3f5f\",\"gridcolor\":\"white\",\"linecolor\":\"white\",\"minorgridcolor\":\"white\",\"startlinecolor\":\"#2a3f5f\"},\"baxis\":{\"endlinecolor\":\"#2a3f5f\",\"gridcolor\":\"white\",\"linecolor\":\"white\",\"minorgridcolor\":\"white\",\"startlinecolor\":\"#2a3f5f\"},\"type\":\"carpet\"}],\"table\":[{\"cells\":{\"fill\":{\"color\":\"#EBF0F8\"},\"line\":{\"color\":\"white\"}},\"header\":{\"fill\":{\"color\":\"#C8D4E3\"},\"line\":{\"color\":\"white\"}},\"type\":\"table\"}],\"barpolar\":[{\"marker\":{\"line\":{\"color\":\"#E5ECF6\",\"width\":0.5},\"pattern\":{\"fillmode\":\"overlay\",\"size\":10,\"solidity\":0.2}},\"type\":\"barpolar\"}],\"pie\":[{\"automargin\":true,\"type\":\"pie\"}]},\"layout\":{\"autotypenumbers\":\"strict\",\"colorway\":[\"#636efa\",\"#EF553B\",\"#00cc96\",\"#ab63fa\",\"#FFA15A\",\"#19d3f3\",\"#FF6692\",\"#B6E880\",\"#FF97FF\",\"#FECB52\"],\"font\":{\"color\":\"#2a3f5f\"},\"hovermode\":\"closest\",\"hoverlabel\":{\"align\":\"left\"},\"paper_bgcolor\":\"white\",\"plot_bgcolor\":\"#E5ECF6\",\"polar\":{\"bgcolor\":\"#E5ECF6\",\"angularaxis\":{\"gridcolor\":\"white\",\"linecolor\":\"white\",\"ticks\":\"\"},\"radialaxis\":{\"gridcolor\":\"white\",\"linecolor\":\"white\",\"ticks\":\"\"}},\"ternary\":{\"bgcolor\":\"#E5ECF6\",\"aaxis\":{\"gridcolor\":\"white\",\"linecolor\":\"white\",\"ticks\":\"\"},\"baxis\":{\"gridcolor\":\"white\",\"linecolor\":\"white\",\"ticks\":\"\"},\"caxis\":{\"gridcolor\":\"white\",\"linecolor\":\"white\",\"ticks\":\"\"}},\"coloraxis\":{\"colorbar\":{\"outlinewidth\":0,\"ticks\":\"\"}},\"colorscale\":{\"sequential\":[[0.0,\"#0d0887\"],[0.1111111111111111,\"#46039f\"],[0.2222222222222222,\"#7201a8\"],[0.3333333333333333,\"#9c179e\"],[0.4444444444444444,\"#bd3786\"],[0.5555555555555556,\"#d8576b\"],[0.6666666666666666,\"#ed7953\"],[0.7777777777777778,\"#fb9f3a\"],[0.8888888888888888,\"#fdca26\"],[1.0,\"#f0f921\"]],\"sequentialminus\":[[0.0,\"#0d0887\"],[0.1111111111111111,\"#46039f\"],[0.2222222222222222,\"#7201a8\"],[0.3333333333333333,\"#9c179e\"],[0.4444444444444444,\"#bd3786\"],[0.5555555555555556,\"#d8576b\"],[0.6666666666666666,\"#ed7953\"],[0.7777777777777778,\"#fb9f3a\"],[0.8888888888888888,\"#fdca26\"],[1.0,\"#f0f921\"]],\"diverging\":[[0,\"#8e0152\"],[0.1,\"#c51b7d\"],[0.2,\"#de77ae\"],[0.3,\"#f1b6da\"],[0.4,\"#fde0ef\"],[0.5,\"#f7f7f7\"],[0.6,\"#e6f5d0\"],[0.7,\"#b8e186\"],[0.8,\"#7fbc41\"],[0.9,\"#4d9221\"],[1,\"#276419\"]]},\"xaxis\":{\"gridcolor\":\"white\",\"linecolor\":\"white\",\"ticks\":\"\",\"title\":{\"standoff\":15},\"zerolinecolor\":\"white\",\"automargin\":true,\"zerolinewidth\":2},\"yaxis\":{\"gridcolor\":\"white\",\"linecolor\":\"white\",\"ticks\":\"\",\"title\":{\"standoff\":15},\"zerolinecolor\":\"white\",\"automargin\":true,\"zerolinewidth\":2},\"scene\":{\"xaxis\":{\"backgroundcolor\":\"#E5ECF6\",\"gridcolor\":\"white\",\"linecolor\":\"white\",\"showbackground\":true,\"ticks\":\"\",\"zerolinecolor\":\"white\",\"gridwidth\":2},\"yaxis\":{\"backgroundcolor\":\"#E5ECF6\",\"gridcolor\":\"white\",\"linecolor\":\"white\",\"showbackground\":true,\"ticks\":\"\",\"zerolinecolor\":\"white\",\"gridwidth\":2},\"zaxis\":{\"backgroundcolor\":\"#E5ECF6\",\"gridcolor\":\"white\",\"linecolor\":\"white\",\"showbackground\":true,\"ticks\":\"\",\"zerolinecolor\":\"white\",\"gridwidth\":2}},\"shapedefaults\":{\"line\":{\"color\":\"#2a3f5f\"}},\"annotationdefaults\":{\"arrowcolor\":\"#2a3f5f\",\"arrowhead\":0,\"arrowwidth\":1},\"geo\":{\"bgcolor\":\"white\",\"landcolor\":\"#E5ECF6\",\"subunitcolor\":\"white\",\"showland\":true,\"showlakes\":true,\"lakecolor\":\"white\"},\"title\":{\"x\":0.05},\"mapbox\":{\"style\":\"light\"}}},\"title\":{\"text\":\"\\ud83d\\udcca Tariff Electrical Component Cleaned Data\"}},                        {\"responsive\": true}                    ).then(function(){\n",
       "                            \n",
       "var gd = document.getElementById('be110ee6-f0b9-47b4-b8fa-8a57a846b948');\n",
       "var x = new MutationObserver(function (mutations, observer) {{\n",
       "        var display = window.getComputedStyle(gd).display;\n",
       "        if (!display || display === 'none') {{\n",
       "            console.log([gd, 'removed!']);\n",
       "            Plotly.purge(gd);\n",
       "            observer.disconnect();\n",
       "        }}\n",
       "}});\n",
       "\n",
       "// Listen for the removal of the full notebook cells\n",
       "var notebookContainer = gd.closest('#notebook-container');\n",
       "if (notebookContainer) {{\n",
       "    x.observe(notebookContainer, {childList: true});\n",
       "}}\n",
       "\n",
       "// Listen for the clearing of the current output cell\n",
       "var outputEl = gd.closest('.output');\n",
       "if (outputEl) {{\n",
       "    x.observe(outputEl, {childList: true});\n",
       "}}\n",
       "\n",
       "                        })                };                });            </script>        </div>"
      ]
     },
     "metadata": {},
     "output_type": "display_data"
    }
   ],
   "source": [
    "# Drop invalid rows\n",
    "df = df.dropna(subset=['year', 'value_usd', 'mfn_avg_duty'])\n",
    "\n",
    "# Remove 'ALL Available Markets' row\n",
    "df = df[df['importer'] != 'ALL Available Markets']\n",
    "\n",
    "# Fix data types\n",
    "df['year'] = df['year'].astype(int)\n",
    "\n",
    "# Clean and convert value_usd\n",
    "df['value_usd_cleaned'] = df['value_usd'].astype(str).str.replace(r'[^0-9]', '', regex=True)\n",
    "df['value_usd_cleaned'] = pd.to_numeric(df['value_usd_cleaned'], errors='coerce')\n",
    "df = df.dropna(subset=['value_usd_cleaned']) \n",
    "df['value_billion_usd'] = df['value_usd_cleaned'] / 1_000_000_000\n",
    "\n",
    "# Optional: Convert other numeric columns\n",
    "numeric_cols = ['mfn_avg_duty', 'best_avg_duty', 'mfn_line_count']\n",
    "for col in numeric_cols:\n",
    "    df[col] = pd.to_numeric(df[col], errors='coerce')\n",
    "\n",
    "\n",
    "fig = go.Figure(data=[go.Table(\n",
    "    header=dict(values=list(df.columns),\n",
    "                fill_color='lightblue',\n",
    "                align='left'),\n",
    "    cells=dict(values=[df[col] for col in df.columns],\n",
    "               fill_color='white',\n",
    "               align='left'))\n",
    "])\n",
    "\n",
    "fig.update_layout(title=\"📊 Tariff Electrical Component Cleaned Data\")\n",
    "fig.show()"
   ]
  },
  {
   "cell_type": "markdown",
   "id": "6ebd2f31-7070-4aff-8d79-71a683d6ab6a",
   "metadata": {},
   "source": [
    "## Task 2: Exploratory Data Analysis (EDA) ##"
   ]
  },
  {
   "cell_type": "markdown",
   "id": "cb3c63dd-bd19-4346-9550-f9bb9a207213",
   "metadata": {},
   "source": [
    "**1. Trade Volume Over Time**"
   ]
  },
  {
   "cell_type": "code",
   "execution_count": 274,
   "id": "9231a052-23ea-45af-9554-e55e9e2b4d25",
   "metadata": {
    "scrolled": true
   },
   "outputs": [
    {
     "data": {
      "application/vnd.plotly.v1+json": {
       "config": {
        "plotlyServerURL": "https://plot.ly"
       },
       "data": [
        {
         "hovertemplate": "Year=%{x}<br>Trade Value (Billion USD)=%{y}<extra></extra>",
         "legendgroup": "",
         "line": {
          "color": "#636efa",
          "dash": "solid"
         },
         "marker": {
          "symbol": "circle"
         },
         "mode": "lines",
         "name": "",
         "orientation": "v",
         "showlegend": false,
         "type": "scatter",
         "x": [
          2020,
          2022,
          2023
         ],
         "xaxis": "x",
         "y": [
          25.465202906,
          11.091926223,
          19.034593265
         ],
         "yaxis": "y"
        }
       ],
       "layout": {
        "legend": {
         "tracegroupgap": 0
        },
        "template": {
         "data": {
          "bar": [
           {
            "error_x": {
             "color": "#2a3f5f"
            },
            "error_y": {
             "color": "#2a3f5f"
            },
            "marker": {
             "line": {
              "color": "#E5ECF6",
              "width": 0.5
             },
             "pattern": {
              "fillmode": "overlay",
              "size": 10,
              "solidity": 0.2
             }
            },
            "type": "bar"
           }
          ],
          "barpolar": [
           {
            "marker": {
             "line": {
              "color": "#E5ECF6",
              "width": 0.5
             },
             "pattern": {
              "fillmode": "overlay",
              "size": 10,
              "solidity": 0.2
             }
            },
            "type": "barpolar"
           }
          ],
          "carpet": [
           {
            "aaxis": {
             "endlinecolor": "#2a3f5f",
             "gridcolor": "white",
             "linecolor": "white",
             "minorgridcolor": "white",
             "startlinecolor": "#2a3f5f"
            },
            "baxis": {
             "endlinecolor": "#2a3f5f",
             "gridcolor": "white",
             "linecolor": "white",
             "minorgridcolor": "white",
             "startlinecolor": "#2a3f5f"
            },
            "type": "carpet"
           }
          ],
          "choropleth": [
           {
            "colorbar": {
             "outlinewidth": 0,
             "ticks": ""
            },
            "type": "choropleth"
           }
          ],
          "contour": [
           {
            "colorbar": {
             "outlinewidth": 0,
             "ticks": ""
            },
            "colorscale": [
             [
              0,
              "#0d0887"
             ],
             [
              0.1111111111111111,
              "#46039f"
             ],
             [
              0.2222222222222222,
              "#7201a8"
             ],
             [
              0.3333333333333333,
              "#9c179e"
             ],
             [
              0.4444444444444444,
              "#bd3786"
             ],
             [
              0.5555555555555556,
              "#d8576b"
             ],
             [
              0.6666666666666666,
              "#ed7953"
             ],
             [
              0.7777777777777778,
              "#fb9f3a"
             ],
             [
              0.8888888888888888,
              "#fdca26"
             ],
             [
              1,
              "#f0f921"
             ]
            ],
            "type": "contour"
           }
          ],
          "contourcarpet": [
           {
            "colorbar": {
             "outlinewidth": 0,
             "ticks": ""
            },
            "type": "contourcarpet"
           }
          ],
          "heatmap": [
           {
            "colorbar": {
             "outlinewidth": 0,
             "ticks": ""
            },
            "colorscale": [
             [
              0,
              "#0d0887"
             ],
             [
              0.1111111111111111,
              "#46039f"
             ],
             [
              0.2222222222222222,
              "#7201a8"
             ],
             [
              0.3333333333333333,
              "#9c179e"
             ],
             [
              0.4444444444444444,
              "#bd3786"
             ],
             [
              0.5555555555555556,
              "#d8576b"
             ],
             [
              0.6666666666666666,
              "#ed7953"
             ],
             [
              0.7777777777777778,
              "#fb9f3a"
             ],
             [
              0.8888888888888888,
              "#fdca26"
             ],
             [
              1,
              "#f0f921"
             ]
            ],
            "type": "heatmap"
           }
          ],
          "heatmapgl": [
           {
            "colorbar": {
             "outlinewidth": 0,
             "ticks": ""
            },
            "colorscale": [
             [
              0,
              "#0d0887"
             ],
             [
              0.1111111111111111,
              "#46039f"
             ],
             [
              0.2222222222222222,
              "#7201a8"
             ],
             [
              0.3333333333333333,
              "#9c179e"
             ],
             [
              0.4444444444444444,
              "#bd3786"
             ],
             [
              0.5555555555555556,
              "#d8576b"
             ],
             [
              0.6666666666666666,
              "#ed7953"
             ],
             [
              0.7777777777777778,
              "#fb9f3a"
             ],
             [
              0.8888888888888888,
              "#fdca26"
             ],
             [
              1,
              "#f0f921"
             ]
            ],
            "type": "heatmapgl"
           }
          ],
          "histogram": [
           {
            "marker": {
             "pattern": {
              "fillmode": "overlay",
              "size": 10,
              "solidity": 0.2
             }
            },
            "type": "histogram"
           }
          ],
          "histogram2d": [
           {
            "colorbar": {
             "outlinewidth": 0,
             "ticks": ""
            },
            "colorscale": [
             [
              0,
              "#0d0887"
             ],
             [
              0.1111111111111111,
              "#46039f"
             ],
             [
              0.2222222222222222,
              "#7201a8"
             ],
             [
              0.3333333333333333,
              "#9c179e"
             ],
             [
              0.4444444444444444,
              "#bd3786"
             ],
             [
              0.5555555555555556,
              "#d8576b"
             ],
             [
              0.6666666666666666,
              "#ed7953"
             ],
             [
              0.7777777777777778,
              "#fb9f3a"
             ],
             [
              0.8888888888888888,
              "#fdca26"
             ],
             [
              1,
              "#f0f921"
             ]
            ],
            "type": "histogram2d"
           }
          ],
          "histogram2dcontour": [
           {
            "colorbar": {
             "outlinewidth": 0,
             "ticks": ""
            },
            "colorscale": [
             [
              0,
              "#0d0887"
             ],
             [
              0.1111111111111111,
              "#46039f"
             ],
             [
              0.2222222222222222,
              "#7201a8"
             ],
             [
              0.3333333333333333,
              "#9c179e"
             ],
             [
              0.4444444444444444,
              "#bd3786"
             ],
             [
              0.5555555555555556,
              "#d8576b"
             ],
             [
              0.6666666666666666,
              "#ed7953"
             ],
             [
              0.7777777777777778,
              "#fb9f3a"
             ],
             [
              0.8888888888888888,
              "#fdca26"
             ],
             [
              1,
              "#f0f921"
             ]
            ],
            "type": "histogram2dcontour"
           }
          ],
          "mesh3d": [
           {
            "colorbar": {
             "outlinewidth": 0,
             "ticks": ""
            },
            "type": "mesh3d"
           }
          ],
          "parcoords": [
           {
            "line": {
             "colorbar": {
              "outlinewidth": 0,
              "ticks": ""
             }
            },
            "type": "parcoords"
           }
          ],
          "pie": [
           {
            "automargin": true,
            "type": "pie"
           }
          ],
          "scatter": [
           {
            "fillpattern": {
             "fillmode": "overlay",
             "size": 10,
             "solidity": 0.2
            },
            "type": "scatter"
           }
          ],
          "scatter3d": [
           {
            "line": {
             "colorbar": {
              "outlinewidth": 0,
              "ticks": ""
             }
            },
            "marker": {
             "colorbar": {
              "outlinewidth": 0,
              "ticks": ""
             }
            },
            "type": "scatter3d"
           }
          ],
          "scattercarpet": [
           {
            "marker": {
             "colorbar": {
              "outlinewidth": 0,
              "ticks": ""
             }
            },
            "type": "scattercarpet"
           }
          ],
          "scattergeo": [
           {
            "marker": {
             "colorbar": {
              "outlinewidth": 0,
              "ticks": ""
             }
            },
            "type": "scattergeo"
           }
          ],
          "scattergl": [
           {
            "marker": {
             "colorbar": {
              "outlinewidth": 0,
              "ticks": ""
             }
            },
            "type": "scattergl"
           }
          ],
          "scattermapbox": [
           {
            "marker": {
             "colorbar": {
              "outlinewidth": 0,
              "ticks": ""
             }
            },
            "type": "scattermapbox"
           }
          ],
          "scatterpolar": [
           {
            "marker": {
             "colorbar": {
              "outlinewidth": 0,
              "ticks": ""
             }
            },
            "type": "scatterpolar"
           }
          ],
          "scatterpolargl": [
           {
            "marker": {
             "colorbar": {
              "outlinewidth": 0,
              "ticks": ""
             }
            },
            "type": "scatterpolargl"
           }
          ],
          "scatterternary": [
           {
            "marker": {
             "colorbar": {
              "outlinewidth": 0,
              "ticks": ""
             }
            },
            "type": "scatterternary"
           }
          ],
          "surface": [
           {
            "colorbar": {
             "outlinewidth": 0,
             "ticks": ""
            },
            "colorscale": [
             [
              0,
              "#0d0887"
             ],
             [
              0.1111111111111111,
              "#46039f"
             ],
             [
              0.2222222222222222,
              "#7201a8"
             ],
             [
              0.3333333333333333,
              "#9c179e"
             ],
             [
              0.4444444444444444,
              "#bd3786"
             ],
             [
              0.5555555555555556,
              "#d8576b"
             ],
             [
              0.6666666666666666,
              "#ed7953"
             ],
             [
              0.7777777777777778,
              "#fb9f3a"
             ],
             [
              0.8888888888888888,
              "#fdca26"
             ],
             [
              1,
              "#f0f921"
             ]
            ],
            "type": "surface"
           }
          ],
          "table": [
           {
            "cells": {
             "fill": {
              "color": "#EBF0F8"
             },
             "line": {
              "color": "white"
             }
            },
            "header": {
             "fill": {
              "color": "#C8D4E3"
             },
             "line": {
              "color": "white"
             }
            },
            "type": "table"
           }
          ]
         },
         "layout": {
          "annotationdefaults": {
           "arrowcolor": "#2a3f5f",
           "arrowhead": 0,
           "arrowwidth": 1
          },
          "autotypenumbers": "strict",
          "coloraxis": {
           "colorbar": {
            "outlinewidth": 0,
            "ticks": ""
           }
          },
          "colorscale": {
           "diverging": [
            [
             0,
             "#8e0152"
            ],
            [
             0.1,
             "#c51b7d"
            ],
            [
             0.2,
             "#de77ae"
            ],
            [
             0.3,
             "#f1b6da"
            ],
            [
             0.4,
             "#fde0ef"
            ],
            [
             0.5,
             "#f7f7f7"
            ],
            [
             0.6,
             "#e6f5d0"
            ],
            [
             0.7,
             "#b8e186"
            ],
            [
             0.8,
             "#7fbc41"
            ],
            [
             0.9,
             "#4d9221"
            ],
            [
             1,
             "#276419"
            ]
           ],
           "sequential": [
            [
             0,
             "#0d0887"
            ],
            [
             0.1111111111111111,
             "#46039f"
            ],
            [
             0.2222222222222222,
             "#7201a8"
            ],
            [
             0.3333333333333333,
             "#9c179e"
            ],
            [
             0.4444444444444444,
             "#bd3786"
            ],
            [
             0.5555555555555556,
             "#d8576b"
            ],
            [
             0.6666666666666666,
             "#ed7953"
            ],
            [
             0.7777777777777778,
             "#fb9f3a"
            ],
            [
             0.8888888888888888,
             "#fdca26"
            ],
            [
             1,
             "#f0f921"
            ]
           ],
           "sequentialminus": [
            [
             0,
             "#0d0887"
            ],
            [
             0.1111111111111111,
             "#46039f"
            ],
            [
             0.2222222222222222,
             "#7201a8"
            ],
            [
             0.3333333333333333,
             "#9c179e"
            ],
            [
             0.4444444444444444,
             "#bd3786"
            ],
            [
             0.5555555555555556,
             "#d8576b"
            ],
            [
             0.6666666666666666,
             "#ed7953"
            ],
            [
             0.7777777777777778,
             "#fb9f3a"
            ],
            [
             0.8888888888888888,
             "#fdca26"
            ],
            [
             1,
             "#f0f921"
            ]
           ]
          },
          "colorway": [
           "#636efa",
           "#EF553B",
           "#00cc96",
           "#ab63fa",
           "#FFA15A",
           "#19d3f3",
           "#FF6692",
           "#B6E880",
           "#FF97FF",
           "#FECB52"
          ],
          "font": {
           "color": "#2a3f5f"
          },
          "geo": {
           "bgcolor": "white",
           "lakecolor": "white",
           "landcolor": "#E5ECF6",
           "showlakes": true,
           "showland": true,
           "subunitcolor": "white"
          },
          "hoverlabel": {
           "align": "left"
          },
          "hovermode": "closest",
          "mapbox": {
           "style": "light"
          },
          "paper_bgcolor": "white",
          "plot_bgcolor": "#E5ECF6",
          "polar": {
           "angularaxis": {
            "gridcolor": "white",
            "linecolor": "white",
            "ticks": ""
           },
           "bgcolor": "#E5ECF6",
           "radialaxis": {
            "gridcolor": "white",
            "linecolor": "white",
            "ticks": ""
           }
          },
          "scene": {
           "xaxis": {
            "backgroundcolor": "#E5ECF6",
            "gridcolor": "white",
            "gridwidth": 2,
            "linecolor": "white",
            "showbackground": true,
            "ticks": "",
            "zerolinecolor": "white"
           },
           "yaxis": {
            "backgroundcolor": "#E5ECF6",
            "gridcolor": "white",
            "gridwidth": 2,
            "linecolor": "white",
            "showbackground": true,
            "ticks": "",
            "zerolinecolor": "white"
           },
           "zaxis": {
            "backgroundcolor": "#E5ECF6",
            "gridcolor": "white",
            "gridwidth": 2,
            "linecolor": "white",
            "showbackground": true,
            "ticks": "",
            "zerolinecolor": "white"
           }
          },
          "shapedefaults": {
           "line": {
            "color": "#2a3f5f"
           }
          },
          "ternary": {
           "aaxis": {
            "gridcolor": "white",
            "linecolor": "white",
            "ticks": ""
           },
           "baxis": {
            "gridcolor": "white",
            "linecolor": "white",
            "ticks": ""
           },
           "bgcolor": "#E5ECF6",
           "caxis": {
            "gridcolor": "white",
            "linecolor": "white",
            "ticks": ""
           }
          },
          "title": {
           "x": 0.05
          },
          "xaxis": {
           "automargin": true,
           "gridcolor": "white",
           "linecolor": "white",
           "ticks": "",
           "title": {
            "standoff": 15
           },
           "zerolinecolor": "white",
           "zerolinewidth": 2
          },
          "yaxis": {
           "automargin": true,
           "gridcolor": "white",
           "linecolor": "white",
           "ticks": "",
           "title": {
            "standoff": 15
           },
           "zerolinecolor": "white",
           "zerolinewidth": 2
          }
         }
        },
        "title": {
         "text": "📈 Trade Volume Over Time"
        },
        "xaxis": {
         "anchor": "y",
         "domain": [
          0,
          1
         ],
         "title": {
          "text": "Year"
         }
        },
        "yaxis": {
         "anchor": "x",
         "domain": [
          0,
          1
         ],
         "title": {
          "text": "Trade Value (Billion USD)"
         }
        }
       }
      },
      "image/png": "[encoded data removed]",
      "text/html": [
       "<div>                            <div id=\"04f2bdeb-c85f-480d-83f9-bef847b87870\" class=\"plotly-graph-div\" style=\"height:525px; width:100%;\"></div>            <script type=\"text/javascript\">                require([\"plotly\"], function(Plotly) {                    window.PLOTLYENV=window.PLOTLYENV || {};                                    if (document.getElementById(\"04f2bdeb-c85f-480d-83f9-bef847b87870\")) {                    Plotly.newPlot(                        \"04f2bdeb-c85f-480d-83f9-bef847b87870\",                        [{\"hovertemplate\":\"Year=%{x}<br>Trade Value (Billion USD)=%{y}<extra></extra>\",\"legendgroup\":\"\",\"line\":{\"color\":\"#636efa\",\"dash\":\"solid\"},\"marker\":{\"symbol\":\"circle\"},\"mode\":\"lines\",\"name\":\"\",\"orientation\":\"v\",\"showlegend\":false,\"x\":[2020,2022,2023],\"xaxis\":\"x\",\"y\":[25.465202906,11.091926223,19.034593265],\"yaxis\":\"y\",\"type\":\"scatter\"}],                        {\"template\":{\"data\":{\"histogram2dcontour\":[{\"type\":\"histogram2dcontour\",\"colorbar\":{\"outlinewidth\":0,\"ticks\":\"\"},\"colorscale\":[[0.0,\"#0d0887\"],[0.1111111111111111,\"#46039f\"],[0.2222222222222222,\"#7201a8\"],[0.3333333333333333,\"#9c179e\"],[0.4444444444444444,\"#bd3786\"],[0.5555555555555556,\"#d8576b\"],[0.6666666666666666,\"#ed7953\"],[0.7777777777777778,\"#fb9f3a\"],[0.8888888888888888,\"#fdca26\"],[1.0,\"#f0f921\"]]}],\"choropleth\":[{\"type\":\"choropleth\",\"colorbar\":{\"outlinewidth\":0,\"ticks\":\"\"}}],\"histogram2d\":[{\"type\":\"histogram2d\",\"colorbar\":{\"outlinewidth\":0,\"ticks\":\"\"},\"colorscale\":[[0.0,\"#0d0887\"],[0.1111111111111111,\"#46039f\"],[0.2222222222222222,\"#7201a8\"],[0.3333333333333333,\"#9c179e\"],[0.4444444444444444,\"#bd3786\"],[0.5555555555555556,\"#d8576b\"],[0.6666666666666666,\"#ed7953\"],[0.7777777777777778,\"#fb9f3a\"],[0.8888888888888888,\"#fdca26\"],[1.0,\"#f0f921\"]]}],\"heatmap\":[{\"type\":\"heatmap\",\"colorbar\":{\"outlinewidth\":0,\"ticks\":\"\"},\"colorscale\":[[0.0,\"#0d0887\"],[0.1111111111111111,\"#46039f\"],[0.2222222222222222,\"#7201a8\"],[0.3333333333333333,\"#9c179e\"],[0.4444444444444444,\"#bd3786\"],[0.5555555555555556,\"#d8576b\"],[0.6666666666666666,\"#ed7953\"],[0.7777777777777778,\"#fb9f3a\"],[0.8888888888888888,\"#fdca26\"],[1.0,\"#f0f921\"]]}],\"heatmapgl\":[{\"type\":\"heatmapgl\",\"colorbar\":{\"outlinewidth\":0,\"ticks\":\"\"},\"colorscale\":[[0.0,\"#0d0887\"],[0.1111111111111111,\"#46039f\"],[0.2222222222222222,\"#7201a8\"],[0.3333333333333333,\"#9c179e\"],[0.4444444444444444,\"#bd3786\"],[0.5555555555555556,\"#d8576b\"],[0.6666666666666666,\"#ed7953\"],[0.7777777777777778,\"#fb9f3a\"],[0.8888888888888888,\"#fdca26\"],[1.0,\"#f0f921\"]]}],\"contourcarpet\":[{\"type\":\"contourcarpet\",\"colorbar\":{\"outlinewidth\":0,\"ticks\":\"\"}}],\"contour\":[{\"type\":\"contour\",\"colorbar\":{\"outlinewidth\":0,\"ticks\":\"\"},\"colorscale\":[[0.0,\"#0d0887\"],[0.1111111111111111,\"#46039f\"],[0.2222222222222222,\"#7201a8\"],[0.3333333333333333,\"#9c179e\"],[0.4444444444444444,\"#bd3786\"],[0.5555555555555556,\"#d8576b\"],[0.6666666666666666,\"#ed7953\"],[0.7777777777777778,\"#fb9f3a\"],[0.8888888888888888,\"#fdca26\"],[1.0,\"#f0f921\"]]}],\"surface\":[{\"type\":\"surface\",\"colorbar\":{\"outlinewidth\":0,\"ticks\":\"\"},\"colorscale\":[[0.0,\"#0d0887\"],[0.1111111111111111,\"#46039f\"],[0.2222222222222222,\"#7201a8\"],[0.3333333333333333,\"#9c179e\"],[0.4444444444444444,\"#bd3786\"],[0.5555555555555556,\"#d8576b\"],[0.6666666666666666,\"#ed7953\"],[0.7777777777777778,\"#fb9f3a\"],[0.8888888888888888,\"#fdca26\"],[1.0,\"#f0f921\"]]}],\"mesh3d\":[{\"type\":\"mesh3d\",\"colorbar\":{\"outlinewidth\":0,\"ticks\":\"\"}}],\"scatter\":[{\"fillpattern\":{\"fillmode\":\"overlay\",\"size\":10,\"solidity\":0.2},\"type\":\"scatter\"}],\"parcoords\":[{\"type\":\"parcoords\",\"line\":{\"colorbar\":{\"outlinewidth\":0,\"ticks\":\"\"}}}],\"scatterpolargl\":[{\"type\":\"scatterpolargl\",\"marker\":{\"colorbar\":{\"outlinewidth\":0,\"ticks\":\"\"}}}],\"bar\":[{\"error_x\":{\"color\":\"#2a3f5f\"},\"error_y\":{\"color\":\"#2a3f5f\"},\"marker\":{\"line\":{\"color\":\"#E5ECF6\",\"width\":0.5},\"pattern\":{\"fillmode\":\"overlay\",\"size\":10,\"solidity\":0.2}},\"type\":\"bar\"}],\"scattergeo\":[{\"type\":\"scattergeo\",\"marker\":{\"colorbar\":{\"outlinewidth\":0,\"ticks\":\"\"}}}],\"scatterpolar\":[{\"type\":\"scatterpolar\",\"marker\":{\"colorbar\":{\"outlinewidth\":0,\"ticks\":\"\"}}}],\"histogram\":[{\"marker\":{\"pattern\":{\"fillmode\":\"overlay\",\"size\":10,\"solidity\":0.2}},\"type\":\"histogram\"}],\"scattergl\":[{\"type\":\"scattergl\",\"marker\":{\"colorbar\":{\"outlinewidth\":0,\"ticks\":\"\"}}}],\"scatter3d\":[{\"type\":\"scatter3d\",\"line\":{\"colorbar\":{\"outlinewidth\":0,\"ticks\":\"\"}},\"marker\":{\"colorbar\":{\"outlinewidth\":0,\"ticks\":\"\"}}}],\"scattermapbox\":[{\"type\":\"scattermapbox\",\"marker\":{\"colorbar\":{\"outlinewidth\":0,\"ticks\":\"\"}}}],\"scatterternary\":[{\"type\":\"scatterternary\",\"marker\":{\"colorbar\":{\"outlinewidth\":0,\"ticks\":\"\"}}}],\"scattercarpet\":[{\"type\":\"scattercarpet\",\"marker\":{\"colorbar\":{\"outlinewidth\":0,\"ticks\":\"\"}}}],\"carpet\":[{\"aaxis\":{\"endlinecolor\":\"#2a3f5f\",\"gridcolor\":\"white\",\"linecolor\":\"white\",\"minorgridcolor\":\"white\",\"startlinecolor\":\"#2a3f5f\"},\"baxis\":{\"endlinecolor\":\"#2a3f5f\",\"gridcolor\":\"white\",\"linecolor\":\"white\",\"minorgridcolor\":\"white\",\"startlinecolor\":\"#2a3f5f\"},\"type\":\"carpet\"}],\"table\":[{\"cells\":{\"fill\":{\"color\":\"#EBF0F8\"},\"line\":{\"color\":\"white\"}},\"header\":{\"fill\":{\"color\":\"#C8D4E3\"},\"line\":{\"color\":\"white\"}},\"type\":\"table\"}],\"barpolar\":[{\"marker\":{\"line\":{\"color\":\"#E5ECF6\",\"width\":0.5},\"pattern\":{\"fillmode\":\"overlay\",\"size\":10,\"solidity\":0.2}},\"type\":\"barpolar\"}],\"pie\":[{\"automargin\":true,\"type\":\"pie\"}]},\"layout\":{\"autotypenumbers\":\"strict\",\"colorway\":[\"#636efa\",\"#EF553B\",\"#00cc96\",\"#ab63fa\",\"#FFA15A\",\"#19d3f3\",\"#FF6692\",\"#B6E880\",\"#FF97FF\",\"#FECB52\"],\"font\":{\"color\":\"#2a3f5f\"},\"hovermode\":\"closest\",\"hoverlabel\":{\"align\":\"left\"},\"paper_bgcolor\":\"white\",\"plot_bgcolor\":\"#E5ECF6\",\"polar\":{\"bgcolor\":\"#E5ECF6\",\"angularaxis\":{\"gridcolor\":\"white\",\"linecolor\":\"white\",\"ticks\":\"\"},\"radialaxis\":{\"gridcolor\":\"white\",\"linecolor\":\"white\",\"ticks\":\"\"}},\"ternary\":{\"bgcolor\":\"#E5ECF6\",\"aaxis\":{\"gridcolor\":\"white\",\"linecolor\":\"white\",\"ticks\":\"\"},\"baxis\":{\"gridcolor\":\"white\",\"linecolor\":\"white\",\"ticks\":\"\"},\"caxis\":{\"gridcolor\":\"white\",\"linecolor\":\"white\",\"ticks\":\"\"}},\"coloraxis\":{\"colorbar\":{\"outlinewidth\":0,\"ticks\":\"\"}},\"colorscale\":{\"sequential\":[[0.0,\"#0d0887\"],[0.1111111111111111,\"#46039f\"],[0.2222222222222222,\"#7201a8\"],[0.3333333333333333,\"#9c179e\"],[0.4444444444444444,\"#bd3786\"],[0.5555555555555556,\"#d8576b\"],[0.6666666666666666,\"#ed7953\"],[0.7777777777777778,\"#fb9f3a\"],[0.8888888888888888,\"#fdca26\"],[1.0,\"#f0f921\"]],\"sequentialminus\":[[0.0,\"#0d0887\"],[0.1111111111111111,\"#46039f\"],[0.2222222222222222,\"#7201a8\"],[0.3333333333333333,\"#9c179e\"],[0.4444444444444444,\"#bd3786\"],[0.5555555555555556,\"#d8576b\"],[0.6666666666666666,\"#ed7953\"],[0.7777777777777778,\"#fb9f3a\"],[0.8888888888888888,\"#fdca26\"],[1.0,\"#f0f921\"]],\"diverging\":[[0,\"#8e0152\"],[0.1,\"#c51b7d\"],[0.2,\"#de77ae\"],[0.3,\"#f1b6da\"],[0.4,\"#fde0ef\"],[0.5,\"#f7f7f7\"],[0.6,\"#e6f5d0\"],[0.7,\"#b8e186\"],[0.8,\"#7fbc41\"],[0.9,\"#4d9221\"],[1,\"#276419\"]]},\"xaxis\":{\"gridcolor\":\"white\",\"linecolor\":\"white\",\"ticks\":\"\",\"title\":{\"standoff\":15},\"zerolinecolor\":\"white\",\"automargin\":true,\"zerolinewidth\":2},\"yaxis\":{\"gridcolor\":\"white\",\"linecolor\":\"white\",\"ticks\":\"\",\"title\":{\"standoff\":15},\"zerolinecolor\":\"white\",\"automargin\":true,\"zerolinewidth\":2},\"scene\":{\"xaxis\":{\"backgroundcolor\":\"#E5ECF6\",\"gridcolor\":\"white\",\"linecolor\":\"white\",\"showbackground\":true,\"ticks\":\"\",\"zerolinecolor\":\"white\",\"gridwidth\":2},\"yaxis\":{\"backgroundcolor\":\"#E5ECF6\",\"gridcolor\":\"white\",\"linecolor\":\"white\",\"showbackground\":true,\"ticks\":\"\",\"zerolinecolor\":\"white\",\"gridwidth\":2},\"zaxis\":{\"backgroundcolor\":\"#E5ECF6\",\"gridcolor\":\"white\",\"linecolor\":\"white\",\"showbackground\":true,\"ticks\":\"\",\"zerolinecolor\":\"white\",\"gridwidth\":2}},\"shapedefaults\":{\"line\":{\"color\":\"#2a3f5f\"}},\"annotationdefaults\":{\"arrowcolor\":\"#2a3f5f\",\"arrowhead\":0,\"arrowwidth\":1},\"geo\":{\"bgcolor\":\"white\",\"landcolor\":\"#E5ECF6\",\"subunitcolor\":\"white\",\"showland\":true,\"showlakes\":true,\"lakecolor\":\"white\"},\"title\":{\"x\":0.05},\"mapbox\":{\"style\":\"light\"}}},\"xaxis\":{\"anchor\":\"y\",\"domain\":[0.0,1.0],\"title\":{\"text\":\"Year\"}},\"yaxis\":{\"anchor\":\"x\",\"domain\":[0.0,1.0],\"title\":{\"text\":\"Trade Value (Billion USD)\"}},\"legend\":{\"tracegroupgap\":0},\"title\":{\"text\":\"\\ud83d\\udcc8 Trade Volume Over Time\"}},                        {\"responsive\": true}                    ).then(function(){\n",
       "                            \n",
       "var gd = document.getElementById('04f2bdeb-c85f-480d-83f9-bef847b87870');\n",
       "var x = new MutationObserver(function (mutations, observer) {{\n",
       "        var display = window.getComputedStyle(gd).display;\n",
       "        if (!display || display === 'none') {{\n",
       "            console.log([gd, 'removed!']);\n",
       "            Plotly.purge(gd);\n",
       "            observer.disconnect();\n",
       "        }}\n",
       "}});\n",
       "\n",
       "// Listen for the removal of the full notebook cells\n",
       "var notebookContainer = gd.closest('#notebook-container');\n",
       "if (notebookContainer) {{\n",
       "    x.observe(notebookContainer, {childList: true});\n",
       "}}\n",
       "\n",
       "// Listen for the clearing of the current output cell\n",
       "var outputEl = gd.closest('.output');\n",
       "if (outputEl) {{\n",
       "    x.observe(outputEl, {childList: true});\n",
       "}}\n",
       "\n",
       "                        })                };                });            </script>        </div>"
      ]
     },
     "metadata": {},
     "output_type": "display_data"
    }
   ],
   "source": [
    "# Trade Volume Over Time\n",
    "trade_by_year = df.groupby('year')['value_billion_usd'].sum().reset_index()\n",
    "fig1 = px.line(trade_by_year, x='year', y='value_billion_usd',\n",
    "               title='📈 Trade Volume Over Time',\n",
    "               labels={'value_billion_usd': 'Trade Value (Billion USD)', 'year': 'Year'})\n",
    "fig1.show()\n"
   ]
  },
  {
   "cell_type": "raw",
   "id": "a0fe94fa-a357-4222-a1a4-f42528059571",
   "metadata": {},
   "source": [
    "📈 1. Trade Volume Over Time\n",
    "What it shows:\n",
    "This line graph presents the total value of electrical component exports (in billions of USD) from Malaysia over the years.\n",
    "\n",
    "Why the data looks like this:\n",
    "We can observe fluctuations in trade volume — possibly due to the implementation of US-China tariffs, which may have disrupted global supply chains.\n",
    "\n",
    "For example, if trade volume dropped in years following the tariff spike, this may reflect reduced demand from tariff-affected countries, or companies shifting sourcing strategies.\n",
    "Additionally, post-COVID recovery, global chip shortages, or shifts to alternative markets could explain sudden increases or rebounds."
   ]
  },
  {
   "cell_type": "markdown",
   "id": "24697f2d-8095-4f8f-aefb-dc8c9d97589a",
   "metadata": {},
   "source": [
    "**2. Average Tariff Rate Over Time**"
   ]
  },
  {
   "cell_type": "code",
   "execution_count": 277,
   "id": "6a92b07c-746c-496b-84dc-1fd64c48531c",
   "metadata": {},
   "outputs": [
    {
     "data": {
      "application/vnd.plotly.v1+json": {
       "config": {
        "plotlyServerURL": "https://plot.ly"
       },
       "data": [
        {
         "hovertemplate": "Year=%{x}<br>Avg MFN Tariff (%)=%{y}<extra></extra>",
         "legendgroup": "",
         "line": {
          "color": "#636efa",
          "dash": "solid"
         },
         "marker": {
          "symbol": "circle"
         },
         "mode": "lines",
         "name": "",
         "orientation": "v",
         "showlegend": false,
         "type": "scatter",
         "x": [
          2020,
          2022,
          2023
         ],
         "xaxis": "x",
         "y": [
          3.755,
          8.70969696969697,
          6.685
         ],
         "yaxis": "y"
        }
       ],
       "layout": {
        "legend": {
         "tracegroupgap": 0
        },
        "template": {
         "data": {
          "bar": [
           {
            "error_x": {
             "color": "#2a3f5f"
            },
            "error_y": {
             "color": "#2a3f5f"
            },
            "marker": {
             "line": {
              "color": "#E5ECF6",
              "width": 0.5
             },
             "pattern": {
              "fillmode": "overlay",
              "size": 10,
              "solidity": 0.2
             }
            },
            "type": "bar"
           }
          ],
          "barpolar": [
           {
            "marker": {
             "line": {
              "color": "#E5ECF6",
              "width": 0.5
             },
             "pattern": {
              "fillmode": "overlay",
              "size": 10,
              "solidity": 0.2
             }
            },
            "type": "barpolar"
           }
          ],
          "carpet": [
           {
            "aaxis": {
             "endlinecolor": "#2a3f5f",
             "gridcolor": "white",
             "linecolor": "white",
             "minorgridcolor": "white",
             "startlinecolor": "#2a3f5f"
            },
            "baxis": {
             "endlinecolor": "#2a3f5f",
             "gridcolor": "white",
             "linecolor": "white",
             "minorgridcolor": "white",
             "startlinecolor": "#2a3f5f"
            },
            "type": "carpet"
           }
          ],
          "choropleth": [
           {
            "colorbar": {
             "outlinewidth": 0,
             "ticks": ""
            },
            "type": "choropleth"
           }
          ],
          "contour": [
           {
            "colorbar": {
             "outlinewidth": 0,
             "ticks": ""
            },
            "colorscale": [
             [
              0,
              "#0d0887"
             ],
             [
              0.1111111111111111,
              "#46039f"
             ],
             [
              0.2222222222222222,
              "#7201a8"
             ],
             [
              0.3333333333333333,
              "#9c179e"
             ],
             [
              0.4444444444444444,
              "#bd3786"
             ],
             [
              0.5555555555555556,
              "#d8576b"
             ],
             [
              0.6666666666666666,
              "#ed7953"
             ],
             [
              0.7777777777777778,
              "#fb9f3a"
             ],
             [
              0.8888888888888888,
              "#fdca26"
             ],
             [
              1,
              "#f0f921"
             ]
            ],
            "type": "contour"
           }
          ],
          "contourcarpet": [
           {
            "colorbar": {
             "outlinewidth": 0,
             "ticks": ""
            },
            "type": "contourcarpet"
           }
          ],
          "heatmap": [
           {
            "colorbar": {
             "outlinewidth": 0,
             "ticks": ""
            },
            "colorscale": [
             [
              0,
              "#0d0887"
             ],
             [
              0.1111111111111111,
              "#46039f"
             ],
             [
              0.2222222222222222,
              "#7201a8"
             ],
             [
              0.3333333333333333,
              "#9c179e"
             ],
             [
              0.4444444444444444,
              "#bd3786"
             ],
             [
              0.5555555555555556,
              "#d8576b"
             ],
             [
              0.6666666666666666,
              "#ed7953"
             ],
             [
              0.7777777777777778,
              "#fb9f3a"
             ],
             [
              0.8888888888888888,
              "#fdca26"
             ],
             [
              1,
              "#f0f921"
             ]
            ],
            "type": "heatmap"
           }
          ],
          "heatmapgl": [
           {
            "colorbar": {
             "outlinewidth": 0,
             "ticks": ""
            },
            "colorscale": [
             [
              0,
              "#0d0887"
             ],
             [
              0.1111111111111111,
              "#46039f"
             ],
             [
              0.2222222222222222,
              "#7201a8"
             ],
             [
              0.3333333333333333,
              "#9c179e"
             ],
             [
              0.4444444444444444,
              "#bd3786"
             ],
             [
              0.5555555555555556,
              "#d8576b"
             ],
             [
              0.6666666666666666,
              "#ed7953"
             ],
             [
              0.7777777777777778,
              "#fb9f3a"
             ],
             [
              0.8888888888888888,
              "#fdca26"
             ],
             [
              1,
              "#f0f921"
             ]
            ],
            "type": "heatmapgl"
           }
          ],
          "histogram": [
           {
            "marker": {
             "pattern": {
              "fillmode": "overlay",
              "size": 10,
              "solidity": 0.2
             }
            },
            "type": "histogram"
           }
          ],
          "histogram2d": [
           {
            "colorbar": {
             "outlinewidth": 0,
             "ticks": ""
            },
            "colorscale": [
             [
              0,
              "#0d0887"
             ],
             [
              0.1111111111111111,
              "#46039f"
             ],
             [
              0.2222222222222222,
              "#7201a8"
             ],
             [
              0.3333333333333333,
              "#9c179e"
             ],
             [
              0.4444444444444444,
              "#bd3786"
             ],
             [
              0.5555555555555556,
              "#d8576b"
             ],
             [
              0.6666666666666666,
              "#ed7953"
             ],
             [
              0.7777777777777778,
              "#fb9f3a"
             ],
             [
              0.8888888888888888,
              "#fdca26"
             ],
             [
              1,
              "#f0f921"
             ]
            ],
            "type": "histogram2d"
           }
          ],
          "histogram2dcontour": [
           {
            "colorbar": {
             "outlinewidth": 0,
             "ticks": ""
            },
            "colorscale": [
             [
              0,
              "#0d0887"
             ],
             [
              0.1111111111111111,
              "#46039f"
             ],
             [
              0.2222222222222222,
              "#7201a8"
             ],
             [
              0.3333333333333333,
              "#9c179e"
             ],
             [
              0.4444444444444444,
              "#bd3786"
             ],
             [
              0.5555555555555556,
              "#d8576b"
             ],
             [
              0.6666666666666666,
              "#ed7953"
             ],
             [
              0.7777777777777778,
              "#fb9f3a"
             ],
             [
              0.8888888888888888,
              "#fdca26"
             ],
             [
              1,
              "#f0f921"
             ]
            ],
            "type": "histogram2dcontour"
           }
          ],
          "mesh3d": [
           {
            "colorbar": {
             "outlinewidth": 0,
             "ticks": ""
            },
            "type": "mesh3d"
           }
          ],
          "parcoords": [
           {
            "line": {
             "colorbar": {
              "outlinewidth": 0,
              "ticks": ""
             }
            },
            "type": "parcoords"
           }
          ],
          "pie": [
           {
            "automargin": true,
            "type": "pie"
           }
          ],
          "scatter": [
           {
            "fillpattern": {
             "fillmode": "overlay",
             "size": 10,
             "solidity": 0.2
            },
            "type": "scatter"
           }
          ],
          "scatter3d": [
           {
            "line": {
             "colorbar": {
              "outlinewidth": 0,
              "ticks": ""
             }
            },
            "marker": {
             "colorbar": {
              "outlinewidth": 0,
              "ticks": ""
             }
            },
            "type": "scatter3d"
           }
          ],
          "scattercarpet": [
           {
            "marker": {
             "colorbar": {
              "outlinewidth": 0,
              "ticks": ""
             }
            },
            "type": "scattercarpet"
           }
          ],
          "scattergeo": [
           {
            "marker": {
             "colorbar": {
              "outlinewidth": 0,
              "ticks": ""
             }
            },
            "type": "scattergeo"
           }
          ],
          "scattergl": [
           {
            "marker": {
             "colorbar": {
              "outlinewidth": 0,
              "ticks": ""
             }
            },
            "type": "scattergl"
           }
          ],
          "scattermapbox": [
           {
            "marker": {
             "colorbar": {
              "outlinewidth": 0,
              "ticks": ""
             }
            },
            "type": "scattermapbox"
           }
          ],
          "scatterpolar": [
           {
            "marker": {
             "colorbar": {
              "outlinewidth": 0,
              "ticks": ""
             }
            },
            "type": "scatterpolar"
           }
          ],
          "scatterpolargl": [
           {
            "marker": {
             "colorbar": {
              "outlinewidth": 0,
              "ticks": ""
             }
            },
            "type": "scatterpolargl"
           }
          ],
          "scatterternary": [
           {
            "marker": {
             "colorbar": {
              "outlinewidth": 0,
              "ticks": ""
             }
            },
            "type": "scatterternary"
           }
          ],
          "surface": [
           {
            "colorbar": {
             "outlinewidth": 0,
             "ticks": ""
            },
            "colorscale": [
             [
              0,
              "#0d0887"
             ],
             [
              0.1111111111111111,
              "#46039f"
             ],
             [
              0.2222222222222222,
              "#7201a8"
             ],
             [
              0.3333333333333333,
              "#9c179e"
             ],
             [
              0.4444444444444444,
              "#bd3786"
             ],
             [
              0.5555555555555556,
              "#d8576b"
             ],
             [
              0.6666666666666666,
              "#ed7953"
             ],
             [
              0.7777777777777778,
              "#fb9f3a"
             ],
             [
              0.8888888888888888,
              "#fdca26"
             ],
             [
              1,
              "#f0f921"
             ]
            ],
            "type": "surface"
           }
          ],
          "table": [
           {
            "cells": {
             "fill": {
              "color": "#EBF0F8"
             },
             "line": {
              "color": "white"
             }
            },
            "header": {
             "fill": {
              "color": "#C8D4E3"
             },
             "line": {
              "color": "white"
             }
            },
            "type": "table"
           }
          ]
         },
         "layout": {
          "annotationdefaults": {
           "arrowcolor": "#2a3f5f",
           "arrowhead": 0,
           "arrowwidth": 1
          },
          "autotypenumbers": "strict",
          "coloraxis": {
           "colorbar": {
            "outlinewidth": 0,
            "ticks": ""
           }
          },
          "colorscale": {
           "diverging": [
            [
             0,
             "#8e0152"
            ],
            [
             0.1,
             "#c51b7d"
            ],
            [
             0.2,
             "#de77ae"
            ],
            [
             0.3,
             "#f1b6da"
            ],
            [
             0.4,
             "#fde0ef"
            ],
            [
             0.5,
             "#f7f7f7"
            ],
            [
             0.6,
             "#e6f5d0"
            ],
            [
             0.7,
             "#b8e186"
            ],
            [
             0.8,
             "#7fbc41"
            ],
            [
             0.9,
             "#4d9221"
            ],
            [
             1,
             "#276419"
            ]
           ],
           "sequential": [
            [
             0,
             "#0d0887"
            ],
            [
             0.1111111111111111,
             "#46039f"
            ],
            [
             0.2222222222222222,
             "#7201a8"
            ],
            [
             0.3333333333333333,
             "#9c179e"
            ],
            [
             0.4444444444444444,
             "#bd3786"
            ],
            [
             0.5555555555555556,
             "#d8576b"
            ],
            [
             0.6666666666666666,
             "#ed7953"
            ],
            [
             0.7777777777777778,
             "#fb9f3a"
            ],
            [
             0.8888888888888888,
             "#fdca26"
            ],
            [
             1,
             "#f0f921"
            ]
           ],
           "sequentialminus": [
            [
             0,
             "#0d0887"
            ],
            [
             0.1111111111111111,
             "#46039f"
            ],
            [
             0.2222222222222222,
             "#7201a8"
            ],
            [
             0.3333333333333333,
             "#9c179e"
            ],
            [
             0.4444444444444444,
             "#bd3786"
            ],
            [
             0.5555555555555556,
             "#d8576b"
            ],
            [
             0.6666666666666666,
             "#ed7953"
            ],
            [
             0.7777777777777778,
             "#fb9f3a"
            ],
            [
             0.8888888888888888,
             "#fdca26"
            ],
            [
             1,
             "#f0f921"
            ]
           ]
          },
          "colorway": [
           "#636efa",
           "#EF553B",
           "#00cc96",
           "#ab63fa",
           "#FFA15A",
           "#19d3f3",
           "#FF6692",
           "#B6E880",
           "#FF97FF",
           "#FECB52"
          ],
          "font": {
           "color": "#2a3f5f"
          },
          "geo": {
           "bgcolor": "white",
           "lakecolor": "white",
           "landcolor": "#E5ECF6",
           "showlakes": true,
           "showland": true,
           "subunitcolor": "white"
          },
          "hoverlabel": {
           "align": "left"
          },
          "hovermode": "closest",
          "mapbox": {
           "style": "light"
          },
          "paper_bgcolor": "white",
          "plot_bgcolor": "#E5ECF6",
          "polar": {
           "angularaxis": {
            "gridcolor": "white",
            "linecolor": "white",
            "ticks": ""
           },
           "bgcolor": "#E5ECF6",
           "radialaxis": {
            "gridcolor": "white",
            "linecolor": "white",
            "ticks": ""
           }
          },
          "scene": {
           "xaxis": {
            "backgroundcolor": "#E5ECF6",
            "gridcolor": "white",
            "gridwidth": 2,
            "linecolor": "white",
            "showbackground": true,
            "ticks": "",
            "zerolinecolor": "white"
           },
           "yaxis": {
            "backgroundcolor": "#E5ECF6",
            "gridcolor": "white",
            "gridwidth": 2,
            "linecolor": "white",
            "showbackground": true,
            "ticks": "",
            "zerolinecolor": "white"
           },
           "zaxis": {
            "backgroundcolor": "#E5ECF6",
            "gridcolor": "white",
            "gridwidth": 2,
            "linecolor": "white",
            "showbackground": true,
            "ticks": "",
            "zerolinecolor": "white"
           }
          },
          "shapedefaults": {
           "line": {
            "color": "#2a3f5f"
           }
          },
          "ternary": {
           "aaxis": {
            "gridcolor": "white",
            "linecolor": "white",
            "ticks": ""
           },
           "baxis": {
            "gridcolor": "white",
            "linecolor": "white",
            "ticks": ""
           },
           "bgcolor": "#E5ECF6",
           "caxis": {
            "gridcolor": "white",
            "linecolor": "white",
            "ticks": ""
           }
          },
          "title": {
           "x": 0.05
          },
          "xaxis": {
           "automargin": true,
           "gridcolor": "white",
           "linecolor": "white",
           "ticks": "",
           "title": {
            "standoff": 15
           },
           "zerolinecolor": "white",
           "zerolinewidth": 2
          },
          "yaxis": {
           "automargin": true,
           "gridcolor": "white",
           "linecolor": "white",
           "ticks": "",
           "title": {
            "standoff": 15
           },
           "zerolinecolor": "white",
           "zerolinewidth": 2
          }
         }
        },
        "title": {
         "text": "📉 Average MFN Tariff Rate Over Time"
        },
        "xaxis": {
         "anchor": "y",
         "domain": [
          0,
          1
         ],
         "title": {
          "text": "Year"
         }
        },
        "yaxis": {
         "anchor": "x",
         "domain": [
          0,
          1
         ],
         "title": {
          "text": "Avg MFN Tariff (%)"
         }
        }
       }
      },
      "image/png": "[encoded data removed]",
      "text/html": [
       "<div>                            <div id=\"60f9b1b3-e16e-44f3-9ab7-6a46a2c46fac\" class=\"plotly-graph-div\" style=\"height:525px; width:100%;\"></div>            <script type=\"text/javascript\">                require([\"plotly\"], function(Plotly) {                    window.PLOTLYENV=window.PLOTLYENV || {};                                    if (document.getElementById(\"60f9b1b3-e16e-44f3-9ab7-6a46a2c46fac\")) {                    Plotly.newPlot(                        \"60f9b1b3-e16e-44f3-9ab7-6a46a2c46fac\",                        [{\"hovertemplate\":\"Year=%{x}<br>Avg MFN Tariff (%)=%{y}<extra></extra>\",\"legendgroup\":\"\",\"line\":{\"color\":\"#636efa\",\"dash\":\"solid\"},\"marker\":{\"symbol\":\"circle\"},\"mode\":\"lines\",\"name\":\"\",\"orientation\":\"v\",\"showlegend\":false,\"x\":[2020,2022,2023],\"xaxis\":\"x\",\"y\":[3.755,8.70969696969697,6.685],\"yaxis\":\"y\",\"type\":\"scatter\"}],                        {\"template\":{\"data\":{\"histogram2dcontour\":[{\"type\":\"histogram2dcontour\",\"colorbar\":{\"outlinewidth\":0,\"ticks\":\"\"},\"colorscale\":[[0.0,\"#0d0887\"],[0.1111111111111111,\"#46039f\"],[0.2222222222222222,\"#7201a8\"],[0.3333333333333333,\"#9c179e\"],[0.4444444444444444,\"#bd3786\"],[0.5555555555555556,\"#d8576b\"],[0.6666666666666666,\"#ed7953\"],[0.7777777777777778,\"#fb9f3a\"],[0.8888888888888888,\"#fdca26\"],[1.0,\"#f0f921\"]]}],\"choropleth\":[{\"type\":\"choropleth\",\"colorbar\":{\"outlinewidth\":0,\"ticks\":\"\"}}],\"histogram2d\":[{\"type\":\"histogram2d\",\"colorbar\":{\"outlinewidth\":0,\"ticks\":\"\"},\"colorscale\":[[0.0,\"#0d0887\"],[0.1111111111111111,\"#46039f\"],[0.2222222222222222,\"#7201a8\"],[0.3333333333333333,\"#9c179e\"],[0.4444444444444444,\"#bd3786\"],[0.5555555555555556,\"#d8576b\"],[0.6666666666666666,\"#ed7953\"],[0.7777777777777778,\"#fb9f3a\"],[0.8888888888888888,\"#fdca26\"],[1.0,\"#f0f921\"]]}],\"heatmap\":[{\"type\":\"heatmap\",\"colorbar\":{\"outlinewidth\":0,\"ticks\":\"\"},\"colorscale\":[[0.0,\"#0d0887\"],[0.1111111111111111,\"#46039f\"],[0.2222222222222222,\"#7201a8\"],[0.3333333333333333,\"#9c179e\"],[0.4444444444444444,\"#bd3786\"],[0.5555555555555556,\"#d8576b\"],[0.6666666666666666,\"#ed7953\"],[0.7777777777777778,\"#fb9f3a\"],[0.8888888888888888,\"#fdca26\"],[1.0,\"#f0f921\"]]}],\"heatmapgl\":[{\"type\":\"heatmapgl\",\"colorbar\":{\"outlinewidth\":0,\"ticks\":\"\"},\"colorscale\":[[0.0,\"#0d0887\"],[0.1111111111111111,\"#46039f\"],[0.2222222222222222,\"#7201a8\"],[0.3333333333333333,\"#9c179e\"],[0.4444444444444444,\"#bd3786\"],[0.5555555555555556,\"#d8576b\"],[0.6666666666666666,\"#ed7953\"],[0.7777777777777778,\"#fb9f3a\"],[0.8888888888888888,\"#fdca26\"],[1.0,\"#f0f921\"]]}],\"contourcarpet\":[{\"type\":\"contourcarpet\",\"colorbar\":{\"outlinewidth\":0,\"ticks\":\"\"}}],\"contour\":[{\"type\":\"contour\",\"colorbar\":{\"outlinewidth\":0,\"ticks\":\"\"},\"colorscale\":[[0.0,\"#0d0887\"],[0.1111111111111111,\"#46039f\"],[0.2222222222222222,\"#7201a8\"],[0.3333333333333333,\"#9c179e\"],[0.4444444444444444,\"#bd3786\"],[0.5555555555555556,\"#d8576b\"],[0.6666666666666666,\"#ed7953\"],[0.7777777777777778,\"#fb9f3a\"],[0.8888888888888888,\"#fdca26\"],[1.0,\"#f0f921\"]]}],\"surface\":[{\"type\":\"surface\",\"colorbar\":{\"outlinewidth\":0,\"ticks\":\"\"},\"colorscale\":[[0.0,\"#0d0887\"],[0.1111111111111111,\"#46039f\"],[0.2222222222222222,\"#7201a8\"],[0.3333333333333333,\"#9c179e\"],[0.4444444444444444,\"#bd3786\"],[0.5555555555555556,\"#d8576b\"],[0.6666666666666666,\"#ed7953\"],[0.7777777777777778,\"#fb9f3a\"],[0.8888888888888888,\"#fdca26\"],[1.0,\"#f0f921\"]]}],\"mesh3d\":[{\"type\":\"mesh3d\",\"colorbar\":{\"outlinewidth\":0,\"ticks\":\"\"}}],\"scatter\":[{\"fillpattern\":{\"fillmode\":\"overlay\",\"size\":10,\"solidity\":0.2},\"type\":\"scatter\"}],\"parcoords\":[{\"type\":\"parcoords\",\"line\":{\"colorbar\":{\"outlinewidth\":0,\"ticks\":\"\"}}}],\"scatterpolargl\":[{\"type\":\"scatterpolargl\",\"marker\":{\"colorbar\":{\"outlinewidth\":0,\"ticks\":\"\"}}}],\"bar\":[{\"error_x\":{\"color\":\"#2a3f5f\"},\"error_y\":{\"color\":\"#2a3f5f\"},\"marker\":{\"line\":{\"color\":\"#E5ECF6\",\"width\":0.5},\"pattern\":{\"fillmode\":\"overlay\",\"size\":10,\"solidity\":0.2}},\"type\":\"bar\"}],\"scattergeo\":[{\"type\":\"scattergeo\",\"marker\":{\"colorbar\":{\"outlinewidth\":0,\"ticks\":\"\"}}}],\"scatterpolar\":[{\"type\":\"scatterpolar\",\"marker\":{\"colorbar\":{\"outlinewidth\":0,\"ticks\":\"\"}}}],\"histogram\":[{\"marker\":{\"pattern\":{\"fillmode\":\"overlay\",\"size\":10,\"solidity\":0.2}},\"type\":\"histogram\"}],\"scattergl\":[{\"type\":\"scattergl\",\"marker\":{\"colorbar\":{\"outlinewidth\":0,\"ticks\":\"\"}}}],\"scatter3d\":[{\"type\":\"scatter3d\",\"line\":{\"colorbar\":{\"outlinewidth\":0,\"ticks\":\"\"}},\"marker\":{\"colorbar\":{\"outlinewidth\":0,\"ticks\":\"\"}}}],\"scattermapbox\":[{\"type\":\"scattermapbox\",\"marker\":{\"colorbar\":{\"outlinewidth\":0,\"ticks\":\"\"}}}],\"scatterternary\":[{\"type\":\"scatterternary\",\"marker\":{\"colorbar\":{\"outlinewidth\":0,\"ticks\":\"\"}}}],\"scattercarpet\":[{\"type\":\"scattercarpet\",\"marker\":{\"colorbar\":{\"outlinewidth\":0,\"ticks\":\"\"}}}],\"carpet\":[{\"aaxis\":{\"endlinecolor\":\"#2a3f5f\",\"gridcolor\":\"white\",\"linecolor\":\"white\",\"minorgridcolor\":\"white\",\"startlinecolor\":\"#2a3f5f\"},\"baxis\":{\"endlinecolor\":\"#2a3f5f\",\"gridcolor\":\"white\",\"linecolor\":\"white\",\"minorgridcolor\":\"white\",\"startlinecolor\":\"#2a3f5f\"},\"type\":\"carpet\"}],\"table\":[{\"cells\":{\"fill\":{\"color\":\"#EBF0F8\"},\"line\":{\"color\":\"white\"}},\"header\":{\"fill\":{\"color\":\"#C8D4E3\"},\"line\":{\"color\":\"white\"}},\"type\":\"table\"}],\"barpolar\":[{\"marker\":{\"line\":{\"color\":\"#E5ECF6\",\"width\":0.5},\"pattern\":{\"fillmode\":\"overlay\",\"size\":10,\"solidity\":0.2}},\"type\":\"barpolar\"}],\"pie\":[{\"automargin\":true,\"type\":\"pie\"}]},\"layout\":{\"autotypenumbers\":\"strict\",\"colorway\":[\"#636efa\",\"#EF553B\",\"#00cc96\",\"#ab63fa\",\"#FFA15A\",\"#19d3f3\",\"#FF6692\",\"#B6E880\",\"#FF97FF\",\"#FECB52\"],\"font\":{\"color\":\"#2a3f5f\"},\"hovermode\":\"closest\",\"hoverlabel\":{\"align\":\"left\"},\"paper_bgcolor\":\"white\",\"plot_bgcolor\":\"#E5ECF6\",\"polar\":{\"bgcolor\":\"#E5ECF6\",\"angularaxis\":{\"gridcolor\":\"white\",\"linecolor\":\"white\",\"ticks\":\"\"},\"radialaxis\":{\"gridcolor\":\"white\",\"linecolor\":\"white\",\"ticks\":\"\"}},\"ternary\":{\"bgcolor\":\"#E5ECF6\",\"aaxis\":{\"gridcolor\":\"white\",\"linecolor\":\"white\",\"ticks\":\"\"},\"baxis\":{\"gridcolor\":\"white\",\"linecolor\":\"white\",\"ticks\":\"\"},\"caxis\":{\"gridcolor\":\"white\",\"linecolor\":\"white\",\"ticks\":\"\"}},\"coloraxis\":{\"colorbar\":{\"outlinewidth\":0,\"ticks\":\"\"}},\"colorscale\":{\"sequential\":[[0.0,\"#0d0887\"],[0.1111111111111111,\"#46039f\"],[0.2222222222222222,\"#7201a8\"],[0.3333333333333333,\"#9c179e\"],[0.4444444444444444,\"#bd3786\"],[0.5555555555555556,\"#d8576b\"],[0.6666666666666666,\"#ed7953\"],[0.7777777777777778,\"#fb9f3a\"],[0.8888888888888888,\"#fdca26\"],[1.0,\"#f0f921\"]],\"sequentialminus\":[[0.0,\"#0d0887\"],[0.1111111111111111,\"#46039f\"],[0.2222222222222222,\"#7201a8\"],[0.3333333333333333,\"#9c179e\"],[0.4444444444444444,\"#bd3786\"],[0.5555555555555556,\"#d8576b\"],[0.6666666666666666,\"#ed7953\"],[0.7777777777777778,\"#fb9f3a\"],[0.8888888888888888,\"#fdca26\"],[1.0,\"#f0f921\"]],\"diverging\":[[0,\"#8e0152\"],[0.1,\"#c51b7d\"],[0.2,\"#de77ae\"],[0.3,\"#f1b6da\"],[0.4,\"#fde0ef\"],[0.5,\"#f7f7f7\"],[0.6,\"#e6f5d0\"],[0.7,\"#b8e186\"],[0.8,\"#7fbc41\"],[0.9,\"#4d9221\"],[1,\"#276419\"]]},\"xaxis\":{\"gridcolor\":\"white\",\"linecolor\":\"white\",\"ticks\":\"\",\"title\":{\"standoff\":15},\"zerolinecolor\":\"white\",\"automargin\":true,\"zerolinewidth\":2},\"yaxis\":{\"gridcolor\":\"white\",\"linecolor\":\"white\",\"ticks\":\"\",\"title\":{\"standoff\":15},\"zerolinecolor\":\"white\",\"automargin\":true,\"zerolinewidth\":2},\"scene\":{\"xaxis\":{\"backgroundcolor\":\"#E5ECF6\",\"gridcolor\":\"white\",\"linecolor\":\"white\",\"showbackground\":true,\"ticks\":\"\",\"zerolinecolor\":\"white\",\"gridwidth\":2},\"yaxis\":{\"backgroundcolor\":\"#E5ECF6\",\"gridcolor\":\"white\",\"linecolor\":\"white\",\"showbackground\":true,\"ticks\":\"\",\"zerolinecolor\":\"white\",\"gridwidth\":2},\"zaxis\":{\"backgroundcolor\":\"#E5ECF6\",\"gridcolor\":\"white\",\"linecolor\":\"white\",\"showbackground\":true,\"ticks\":\"\",\"zerolinecolor\":\"white\",\"gridwidth\":2}},\"shapedefaults\":{\"line\":{\"color\":\"#2a3f5f\"}},\"annotationdefaults\":{\"arrowcolor\":\"#2a3f5f\",\"arrowhead\":0,\"arrowwidth\":1},\"geo\":{\"bgcolor\":\"white\",\"landcolor\":\"#E5ECF6\",\"subunitcolor\":\"white\",\"showland\":true,\"showlakes\":true,\"lakecolor\":\"white\"},\"title\":{\"x\":0.05},\"mapbox\":{\"style\":\"light\"}}},\"xaxis\":{\"anchor\":\"y\",\"domain\":[0.0,1.0],\"title\":{\"text\":\"Year\"}},\"yaxis\":{\"anchor\":\"x\",\"domain\":[0.0,1.0],\"title\":{\"text\":\"Avg MFN Tariff (%)\"}},\"legend\":{\"tracegroupgap\":0},\"title\":{\"text\":\"\\ud83d\\udcc9 Average MFN Tariff Rate Over Time\"}},                        {\"responsive\": true}                    ).then(function(){\n",
       "                            \n",
       "var gd = document.getElementById('60f9b1b3-e16e-44f3-9ab7-6a46a2c46fac');\n",
       "var x = new MutationObserver(function (mutations, observer) {{\n",
       "        var display = window.getComputedStyle(gd).display;\n",
       "        if (!display || display === 'none') {{\n",
       "            console.log([gd, 'removed!']);\n",
       "            Plotly.purge(gd);\n",
       "            observer.disconnect();\n",
       "        }}\n",
       "}});\n",
       "\n",
       "// Listen for the removal of the full notebook cells\n",
       "var notebookContainer = gd.closest('#notebook-container');\n",
       "if (notebookContainer) {{\n",
       "    x.observe(notebookContainer, {childList: true});\n",
       "}}\n",
       "\n",
       "// Listen for the clearing of the current output cell\n",
       "var outputEl = gd.closest('.output');\n",
       "if (outputEl) {{\n",
       "    x.observe(outputEl, {childList: true});\n",
       "}}\n",
       "\n",
       "                        })                };                });            </script>        </div>"
      ]
     },
     "metadata": {},
     "output_type": "display_data"
    }
   ],
   "source": [
    "# Average Tariff Rate Over Time\n",
    "avg_tariff_by_year = df.groupby('year')['mfn_avg_duty'].mean().reset_index()\n",
    "fig2 = px.line(avg_tariff_by_year, x='year', y='mfn_avg_duty',\n",
    "               title='📉 Average MFN Tariff Rate Over Time',\n",
    "               labels={'mfn_avg_duty': 'Avg MFN Tariff (%)', 'year': 'Year'})\n",
    "fig2.show()"
   ]
  },
  {
   "cell_type": "raw",
   "id": "f3cadae2-accd-4dcb-a01d-e460f670ded3",
   "metadata": {},
   "source": [
    "📉 2. Average MFN Tariff Rate Over Time\n",
    "What it shows:\n",
    "This graph tracks the average Most-Favoured-Nation (MFN) tariff rates applied to Malaysia's electrical component exports over time.\n",
    "\n",
    "Why the data looks like this:\n",
    "A noticeable increase may reflect trade policy changes, such as new US tariffs on electronics or responses from other countries.\n",
    "If tariff rates decrease later, it could signal tariff relaxation or regional trade agreements coming into play (e.g., RCEP).\n",
    "This helps us see how external geopolitical events directly affect Malaysia’s export conditions."
   ]
  },
  {
   "cell_type": "markdown",
   "id": "de348981-e2d2-4738-b3c7-389579c7a16e",
   "metadata": {},
   "source": [
    "**3. Time-Series Bar Plot (per year)**"
   ]
  },
  {
   "cell_type": "code",
   "execution_count": 280,
   "id": "6be8ba64-e33c-4556-b7c0-9acf84c1a2bf",
   "metadata": {
    "scrolled": true
   },
   "outputs": [
    {
     "data": {
      "application/vnd.plotly.v1+json": {
       "config": {
        "plotlyServerURL": "https://plot.ly"
       },
       "data": [
        {
         "alignmentgroup": "True",
         "hovertemplate": "Year=%{x}<br>Trade Value (Billion USD)=%{y}<extra></extra>",
         "legendgroup": "",
         "marker": {
          "color": "#636efa",
          "pattern": {
           "shape": ""
          }
         },
         "name": "",
         "offsetgroup": "",
         "orientation": "v",
         "showlegend": false,
         "textposition": "auto",
         "type": "bar",
         "x": [
          2020,
          2022,
          2023
         ],
         "xaxis": "x",
         "y": [
          25.465202906,
          11.091926223,
          19.034593265
         ],
         "yaxis": "y"
        }
       ],
       "layout": {
        "barmode": "relative",
        "legend": {
         "tracegroupgap": 0
        },
        "template": {
         "data": {
          "bar": [
           {
            "error_x": {
             "color": "#2a3f5f"
            },
            "error_y": {
             "color": "#2a3f5f"
            },
            "marker": {
             "line": {
              "color": "#E5ECF6",
              "width": 0.5
             },
             "pattern": {
              "fillmode": "overlay",
              "size": 10,
              "solidity": 0.2
             }
            },
            "type": "bar"
           }
          ],
          "barpolar": [
           {
            "marker": {
             "line": {
              "color": "#E5ECF6",
              "width": 0.5
             },
             "pattern": {
              "fillmode": "overlay",
              "size": 10,
              "solidity": 0.2
             }
            },
            "type": "barpolar"
           }
          ],
          "carpet": [
           {
            "aaxis": {
             "endlinecolor": "#2a3f5f",
             "gridcolor": "white",
             "linecolor": "white",
             "minorgridcolor": "white",
             "startlinecolor": "#2a3f5f"
            },
            "baxis": {
             "endlinecolor": "#2a3f5f",
             "gridcolor": "white",
             "linecolor": "white",
             "minorgridcolor": "white",
             "startlinecolor": "#2a3f5f"
            },
            "type": "carpet"
           }
          ],
          "choropleth": [
           {
            "colorbar": {
             "outlinewidth": 0,
             "ticks": ""
            },
            "type": "choropleth"
           }
          ],
          "contour": [
           {
            "colorbar": {
             "outlinewidth": 0,
             "ticks": ""
            },
            "colorscale": [
             [
              0,
              "#0d0887"
             ],
             [
              0.1111111111111111,
              "#46039f"
             ],
             [
              0.2222222222222222,
              "#7201a8"
             ],
             [
              0.3333333333333333,
              "#9c179e"
             ],
             [
              0.4444444444444444,
              "#bd3786"
             ],
             [
              0.5555555555555556,
              "#d8576b"
             ],
             [
              0.6666666666666666,
              "#ed7953"
             ],
             [
              0.7777777777777778,
              "#fb9f3a"
             ],
             [
              0.8888888888888888,
              "#fdca26"
             ],
             [
              1,
              "#f0f921"
             ]
            ],
            "type": "contour"
           }
          ],
          "contourcarpet": [
           {
            "colorbar": {
             "outlinewidth": 0,
             "ticks": ""
            },
            "type": "contourcarpet"
           }
          ],
          "heatmap": [
           {
            "colorbar": {
             "outlinewidth": 0,
             "ticks": ""
            },
            "colorscale": [
             [
              0,
              "#0d0887"
             ],
             [
              0.1111111111111111,
              "#46039f"
             ],
             [
              0.2222222222222222,
              "#7201a8"
             ],
             [
              0.3333333333333333,
              "#9c179e"
             ],
             [
              0.4444444444444444,
              "#bd3786"
             ],
             [
              0.5555555555555556,
              "#d8576b"
             ],
             [
              0.6666666666666666,
              "#ed7953"
             ],
             [
              0.7777777777777778,
              "#fb9f3a"
             ],
             [
              0.8888888888888888,
              "#fdca26"
             ],
             [
              1,
              "#f0f921"
             ]
            ],
            "type": "heatmap"
           }
          ],
          "heatmapgl": [
           {
            "colorbar": {
             "outlinewidth": 0,
             "ticks": ""
            },
            "colorscale": [
             [
              0,
              "#0d0887"
             ],
             [
              0.1111111111111111,
              "#46039f"
             ],
             [
              0.2222222222222222,
              "#7201a8"
             ],
             [
              0.3333333333333333,
              "#9c179e"
             ],
             [
              0.4444444444444444,
              "#bd3786"
             ],
             [
              0.5555555555555556,
              "#d8576b"
             ],
             [
              0.6666666666666666,
              "#ed7953"
             ],
             [
              0.7777777777777778,
              "#fb9f3a"
             ],
             [
              0.8888888888888888,
              "#fdca26"
             ],
             [
              1,
              "#f0f921"
             ]
            ],
            "type": "heatmapgl"
           }
          ],
          "histogram": [
           {
            "marker": {
             "pattern": {
              "fillmode": "overlay",
              "size": 10,
              "solidity": 0.2
             }
            },
            "type": "histogram"
           }
          ],
          "histogram2d": [
           {
            "colorbar": {
             "outlinewidth": 0,
             "ticks": ""
            },
            "colorscale": [
             [
              0,
              "#0d0887"
             ],
             [
              0.1111111111111111,
              "#46039f"
             ],
             [
              0.2222222222222222,
              "#7201a8"
             ],
             [
              0.3333333333333333,
              "#9c179e"
             ],
             [
              0.4444444444444444,
              "#bd3786"
             ],
             [
              0.5555555555555556,
              "#d8576b"
             ],
             [
              0.6666666666666666,
              "#ed7953"
             ],
             [
              0.7777777777777778,
              "#fb9f3a"
             ],
             [
              0.8888888888888888,
              "#fdca26"
             ],
             [
              1,
              "#f0f921"
             ]
            ],
            "type": "histogram2d"
           }
          ],
          "histogram2dcontour": [
           {
            "colorbar": {
             "outlinewidth": 0,
             "ticks": ""
            },
            "colorscale": [
             [
              0,
              "#0d0887"
             ],
             [
              0.1111111111111111,
              "#46039f"
             ],
             [
              0.2222222222222222,
              "#7201a8"
             ],
             [
              0.3333333333333333,
              "#9c179e"
             ],
             [
              0.4444444444444444,
              "#bd3786"
             ],
             [
              0.5555555555555556,
              "#d8576b"
             ],
             [
              0.6666666666666666,
              "#ed7953"
             ],
             [
              0.7777777777777778,
              "#fb9f3a"
             ],
             [
              0.8888888888888888,
              "#fdca26"
             ],
             [
              1,
              "#f0f921"
             ]
            ],
            "type": "histogram2dcontour"
           }
          ],
          "mesh3d": [
           {
            "colorbar": {
             "outlinewidth": 0,
             "ticks": ""
            },
            "type": "mesh3d"
           }
          ],
          "parcoords": [
           {
            "line": {
             "colorbar": {
              "outlinewidth": 0,
              "ticks": ""
             }
            },
            "type": "parcoords"
           }
          ],
          "pie": [
           {
            "automargin": true,
            "type": "pie"
           }
          ],
          "scatter": [
           {
            "fillpattern": {
             "fillmode": "overlay",
             "size": 10,
             "solidity": 0.2
            },
            "type": "scatter"
           }
          ],
          "scatter3d": [
           {
            "line": {
             "colorbar": {
              "outlinewidth": 0,
              "ticks": ""
             }
            },
            "marker": {
             "colorbar": {
              "outlinewidth": 0,
              "ticks": ""
             }
            },
            "type": "scatter3d"
           }
          ],
          "scattercarpet": [
           {
            "marker": {
             "colorbar": {
              "outlinewidth": 0,
              "ticks": ""
             }
            },
            "type": "scattercarpet"
           }
          ],
          "scattergeo": [
           {
            "marker": {
             "colorbar": {
              "outlinewidth": 0,
              "ticks": ""
             }
            },
            "type": "scattergeo"
           }
          ],
          "scattergl": [
           {
            "marker": {
             "colorbar": {
              "outlinewidth": 0,
              "ticks": ""
             }
            },
            "type": "scattergl"
           }
          ],
          "scattermapbox": [
           {
            "marker": {
             "colorbar": {
              "outlinewidth": 0,
              "ticks": ""
             }
            },
            "type": "scattermapbox"
           }
          ],
          "scatterpolar": [
           {
            "marker": {
             "colorbar": {
              "outlinewidth": 0,
              "ticks": ""
             }
            },
            "type": "scatterpolar"
           }
          ],
          "scatterpolargl": [
           {
            "marker": {
             "colorbar": {
              "outlinewidth": 0,
              "ticks": ""
             }
            },
            "type": "scatterpolargl"
           }
          ],
          "scatterternary": [
           {
            "marker": {
             "colorbar": {
              "outlinewidth": 0,
              "ticks": ""
             }
            },
            "type": "scatterternary"
           }
          ],
          "surface": [
           {
            "colorbar": {
             "outlinewidth": 0,
             "ticks": ""
            },
            "colorscale": [
             [
              0,
              "#0d0887"
             ],
             [
              0.1111111111111111,
              "#46039f"
             ],
             [
              0.2222222222222222,
              "#7201a8"
             ],
             [
              0.3333333333333333,
              "#9c179e"
             ],
             [
              0.4444444444444444,
              "#bd3786"
             ],
             [
              0.5555555555555556,
              "#d8576b"
             ],
             [
              0.6666666666666666,
              "#ed7953"
             ],
             [
              0.7777777777777778,
              "#fb9f3a"
             ],
             [
              0.8888888888888888,
              "#fdca26"
             ],
             [
              1,
              "#f0f921"
             ]
            ],
            "type": "surface"
           }
          ],
          "table": [
           {
            "cells": {
             "fill": {
              "color": "#EBF0F8"
             },
             "line": {
              "color": "white"
             }
            },
            "header": {
             "fill": {
              "color": "#C8D4E3"
             },
             "line": {
              "color": "white"
             }
            },
            "type": "table"
           }
          ]
         },
         "layout": {
          "annotationdefaults": {
           "arrowcolor": "#2a3f5f",
           "arrowhead": 0,
           "arrowwidth": 1
          },
          "autotypenumbers": "strict",
          "coloraxis": {
           "colorbar": {
            "outlinewidth": 0,
            "ticks": ""
           }
          },
          "colorscale": {
           "diverging": [
            [
             0,
             "#8e0152"
            ],
            [
             0.1,
             "#c51b7d"
            ],
            [
             0.2,
             "#de77ae"
            ],
            [
             0.3,
             "#f1b6da"
            ],
            [
             0.4,
             "#fde0ef"
            ],
            [
             0.5,
             "#f7f7f7"
            ],
            [
             0.6,
             "#e6f5d0"
            ],
            [
             0.7,
             "#b8e186"
            ],
            [
             0.8,
             "#7fbc41"
            ],
            [
             0.9,
             "#4d9221"
            ],
            [
             1,
             "#276419"
            ]
           ],
           "sequential": [
            [
             0,
             "#0d0887"
            ],
            [
             0.1111111111111111,
             "#46039f"
            ],
            [
             0.2222222222222222,
             "#7201a8"
            ],
            [
             0.3333333333333333,
             "#9c179e"
            ],
            [
             0.4444444444444444,
             "#bd3786"
            ],
            [
             0.5555555555555556,
             "#d8576b"
            ],
            [
             0.6666666666666666,
             "#ed7953"
            ],
            [
             0.7777777777777778,
             "#fb9f3a"
            ],
            [
             0.8888888888888888,
             "#fdca26"
            ],
            [
             1,
             "#f0f921"
            ]
           ],
           "sequentialminus": [
            [
             0,
             "#0d0887"
            ],
            [
             0.1111111111111111,
             "#46039f"
            ],
            [
             0.2222222222222222,
             "#7201a8"
            ],
            [
             0.3333333333333333,
             "#9c179e"
            ],
            [
             0.4444444444444444,
             "#bd3786"
            ],
            [
             0.5555555555555556,
             "#d8576b"
            ],
            [
             0.6666666666666666,
             "#ed7953"
            ],
            [
             0.7777777777777778,
             "#fb9f3a"
            ],
            [
             0.8888888888888888,
             "#fdca26"
            ],
            [
             1,
             "#f0f921"
            ]
           ]
          },
          "colorway": [
           "#636efa",
           "#EF553B",
           "#00cc96",
           "#ab63fa",
           "#FFA15A",
           "#19d3f3",
           "#FF6692",
           "#B6E880",
           "#FF97FF",
           "#FECB52"
          ],
          "font": {
           "color": "#2a3f5f"
          },
          "geo": {
           "bgcolor": "white",
           "lakecolor": "white",
           "landcolor": "#E5ECF6",
           "showlakes": true,
           "showland": true,
           "subunitcolor": "white"
          },
          "hoverlabel": {
           "align": "left"
          },
          "hovermode": "closest",
          "mapbox": {
           "style": "light"
          },
          "paper_bgcolor": "white",
          "plot_bgcolor": "#E5ECF6",
          "polar": {
           "angularaxis": {
            "gridcolor": "white",
            "linecolor": "white",
            "ticks": ""
           },
           "bgcolor": "#E5ECF6",
           "radialaxis": {
            "gridcolor": "white",
            "linecolor": "white",
            "ticks": ""
           }
          },
          "scene": {
           "xaxis": {
            "backgroundcolor": "#E5ECF6",
            "gridcolor": "white",
            "gridwidth": 2,
            "linecolor": "white",
            "showbackground": true,
            "ticks": "",
            "zerolinecolor": "white"
           },
           "yaxis": {
            "backgroundcolor": "#E5ECF6",
            "gridcolor": "white",
            "gridwidth": 2,
            "linecolor": "white",
            "showbackground": true,
            "ticks": "",
            "zerolinecolor": "white"
           },
           "zaxis": {
            "backgroundcolor": "#E5ECF6",
            "gridcolor": "white",
            "gridwidth": 2,
            "linecolor": "white",
            "showbackground": true,
            "ticks": "",
            "zerolinecolor": "white"
           }
          },
          "shapedefaults": {
           "line": {
            "color": "#2a3f5f"
           }
          },
          "ternary": {
           "aaxis": {
            "gridcolor": "white",
            "linecolor": "white",
            "ticks": ""
           },
           "baxis": {
            "gridcolor": "white",
            "linecolor": "white",
            "ticks": ""
           },
           "bgcolor": "#E5ECF6",
           "caxis": {
            "gridcolor": "white",
            "linecolor": "white",
            "ticks": ""
           }
          },
          "title": {
           "x": 0.05
          },
          "xaxis": {
           "automargin": true,
           "gridcolor": "white",
           "linecolor": "white",
           "ticks": "",
           "title": {
            "standoff": 15
           },
           "zerolinecolor": "white",
           "zerolinewidth": 2
          },
          "yaxis": {
           "automargin": true,
           "gridcolor": "white",
           "linecolor": "white",
           "ticks": "",
           "title": {
            "standoff": 15
           },
           "zerolinecolor": "white",
           "zerolinewidth": 2
          }
         }
        },
        "title": {
         "text": "🧱 Yearly Trade Volume (Bar Chart)"
        },
        "xaxis": {
         "anchor": "y",
         "domain": [
          0,
          1
         ],
         "title": {
          "text": "Year"
         }
        },
        "yaxis": {
         "anchor": "x",
         "domain": [
          0,
          1
         ],
         "title": {
          "text": "Trade Value (Billion USD)"
         }
        }
       }
      },
      "image/png": "[encoded data removed]",
      "text/html": [
       "<div>                            <div id=\"9429012e-62fb-49b0-8d9a-affe13f5e07c\" class=\"plotly-graph-div\" style=\"height:525px; width:100%;\"></div>            <script type=\"text/javascript\">                require([\"plotly\"], function(Plotly) {                    window.PLOTLYENV=window.PLOTLYENV || {};                                    if (document.getElementById(\"9429012e-62fb-49b0-8d9a-affe13f5e07c\")) {                    Plotly.newPlot(                        \"9429012e-62fb-49b0-8d9a-affe13f5e07c\",                        [{\"alignmentgroup\":\"True\",\"hovertemplate\":\"Year=%{x}<br>Trade Value (Billion USD)=%{y}<extra></extra>\",\"legendgroup\":\"\",\"marker\":{\"color\":\"#636efa\",\"pattern\":{\"shape\":\"\"}},\"name\":\"\",\"offsetgroup\":\"\",\"orientation\":\"v\",\"showlegend\":false,\"textposition\":\"auto\",\"x\":[2020,2022,2023],\"xaxis\":\"x\",\"y\":[25.465202906,11.091926223,19.034593265],\"yaxis\":\"y\",\"type\":\"bar\"}],                        {\"template\":{\"data\":{\"histogram2dcontour\":[{\"type\":\"histogram2dcontour\",\"colorbar\":{\"outlinewidth\":0,\"ticks\":\"\"},\"colorscale\":[[0.0,\"#0d0887\"],[0.1111111111111111,\"#46039f\"],[0.2222222222222222,\"#7201a8\"],[0.3333333333333333,\"#9c179e\"],[0.4444444444444444,\"#bd3786\"],[0.5555555555555556,\"#d8576b\"],[0.6666666666666666,\"#ed7953\"],[0.7777777777777778,\"#fb9f3a\"],[0.8888888888888888,\"#fdca26\"],[1.0,\"#f0f921\"]]}],\"choropleth\":[{\"type\":\"choropleth\",\"colorbar\":{\"outlinewidth\":0,\"ticks\":\"\"}}],\"histogram2d\":[{\"type\":\"histogram2d\",\"colorbar\":{\"outlinewidth\":0,\"ticks\":\"\"},\"colorscale\":[[0.0,\"#0d0887\"],[0.1111111111111111,\"#46039f\"],[0.2222222222222222,\"#7201a8\"],[0.3333333333333333,\"#9c179e\"],[0.4444444444444444,\"#bd3786\"],[0.5555555555555556,\"#d8576b\"],[0.6666666666666666,\"#ed7953\"],[0.7777777777777778,\"#fb9f3a\"],[0.8888888888888888,\"#fdca26\"],[1.0,\"#f0f921\"]]}],\"heatmap\":[{\"type\":\"heatmap\",\"colorbar\":{\"outlinewidth\":0,\"ticks\":\"\"},\"colorscale\":[[0.0,\"#0d0887\"],[0.1111111111111111,\"#46039f\"],[0.2222222222222222,\"#7201a8\"],[0.3333333333333333,\"#9c179e\"],[0.4444444444444444,\"#bd3786\"],[0.5555555555555556,\"#d8576b\"],[0.6666666666666666,\"#ed7953\"],[0.7777777777777778,\"#fb9f3a\"],[0.8888888888888888,\"#fdca26\"],[1.0,\"#f0f921\"]]}],\"heatmapgl\":[{\"type\":\"heatmapgl\",\"colorbar\":{\"outlinewidth\":0,\"ticks\":\"\"},\"colorscale\":[[0.0,\"#0d0887\"],[0.1111111111111111,\"#46039f\"],[0.2222222222222222,\"#7201a8\"],[0.3333333333333333,\"#9c179e\"],[0.4444444444444444,\"#bd3786\"],[0.5555555555555556,\"#d8576b\"],[0.6666666666666666,\"#ed7953\"],[0.7777777777777778,\"#fb9f3a\"],[0.8888888888888888,\"#fdca26\"],[1.0,\"#f0f921\"]]}],\"contourcarpet\":[{\"type\":\"contourcarpet\",\"colorbar\":{\"outlinewidth\":0,\"ticks\":\"\"}}],\"contour\":[{\"type\":\"contour\",\"colorbar\":{\"outlinewidth\":0,\"ticks\":\"\"},\"colorscale\":[[0.0,\"#0d0887\"],[0.1111111111111111,\"#46039f\"],[0.2222222222222222,\"#7201a8\"],[0.3333333333333333,\"#9c179e\"],[0.4444444444444444,\"#bd3786\"],[0.5555555555555556,\"#d8576b\"],[0.6666666666666666,\"#ed7953\"],[0.7777777777777778,\"#fb9f3a\"],[0.8888888888888888,\"#fdca26\"],[1.0,\"#f0f921\"]]}],\"surface\":[{\"type\":\"surface\",\"colorbar\":{\"outlinewidth\":0,\"ticks\":\"\"},\"colorscale\":[[0.0,\"#0d0887\"],[0.1111111111111111,\"#46039f\"],[0.2222222222222222,\"#7201a8\"],[0.3333333333333333,\"#9c179e\"],[0.4444444444444444,\"#bd3786\"],[0.5555555555555556,\"#d8576b\"],[0.6666666666666666,\"#ed7953\"],[0.7777777777777778,\"#fb9f3a\"],[0.8888888888888888,\"#fdca26\"],[1.0,\"#f0f921\"]]}],\"mesh3d\":[{\"type\":\"mesh3d\",\"colorbar\":{\"outlinewidth\":0,\"ticks\":\"\"}}],\"scatter\":[{\"fillpattern\":{\"fillmode\":\"overlay\",\"size\":10,\"solidity\":0.2},\"type\":\"scatter\"}],\"parcoords\":[{\"type\":\"parcoords\",\"line\":{\"colorbar\":{\"outlinewidth\":0,\"ticks\":\"\"}}}],\"scatterpolargl\":[{\"type\":\"scatterpolargl\",\"marker\":{\"colorbar\":{\"outlinewidth\":0,\"ticks\":\"\"}}}],\"bar\":[{\"error_x\":{\"color\":\"#2a3f5f\"},\"error_y\":{\"color\":\"#2a3f5f\"},\"marker\":{\"line\":{\"color\":\"#E5ECF6\",\"width\":0.5},\"pattern\":{\"fillmode\":\"overlay\",\"size\":10,\"solidity\":0.2}},\"type\":\"bar\"}],\"scattergeo\":[{\"type\":\"scattergeo\",\"marker\":{\"colorbar\":{\"outlinewidth\":0,\"ticks\":\"\"}}}],\"scatterpolar\":[{\"type\":\"scatterpolar\",\"marker\":{\"colorbar\":{\"outlinewidth\":0,\"ticks\":\"\"}}}],\"histogram\":[{\"marker\":{\"pattern\":{\"fillmode\":\"overlay\",\"size\":10,\"solidity\":0.2}},\"type\":\"histogram\"}],\"scattergl\":[{\"type\":\"scattergl\",\"marker\":{\"colorbar\":{\"outlinewidth\":0,\"ticks\":\"\"}}}],\"scatter3d\":[{\"type\":\"scatter3d\",\"line\":{\"colorbar\":{\"outlinewidth\":0,\"ticks\":\"\"}},\"marker\":{\"colorbar\":{\"outlinewidth\":0,\"ticks\":\"\"}}}],\"scattermapbox\":[{\"type\":\"scattermapbox\",\"marker\":{\"colorbar\":{\"outlinewidth\":0,\"ticks\":\"\"}}}],\"scatterternary\":[{\"type\":\"scatterternary\",\"marker\":{\"colorbar\":{\"outlinewidth\":0,\"ticks\":\"\"}}}],\"scattercarpet\":[{\"type\":\"scattercarpet\",\"marker\":{\"colorbar\":{\"outlinewidth\":0,\"ticks\":\"\"}}}],\"carpet\":[{\"aaxis\":{\"endlinecolor\":\"#2a3f5f\",\"gridcolor\":\"white\",\"linecolor\":\"white\",\"minorgridcolor\":\"white\",\"startlinecolor\":\"#2a3f5f\"},\"baxis\":{\"endlinecolor\":\"#2a3f5f\",\"gridcolor\":\"white\",\"linecolor\":\"white\",\"minorgridcolor\":\"white\",\"startlinecolor\":\"#2a3f5f\"},\"type\":\"carpet\"}],\"table\":[{\"cells\":{\"fill\":{\"color\":\"#EBF0F8\"},\"line\":{\"color\":\"white\"}},\"header\":{\"fill\":{\"color\":\"#C8D4E3\"},\"line\":{\"color\":\"white\"}},\"type\":\"table\"}],\"barpolar\":[{\"marker\":{\"line\":{\"color\":\"#E5ECF6\",\"width\":0.5},\"pattern\":{\"fillmode\":\"overlay\",\"size\":10,\"solidity\":0.2}},\"type\":\"barpolar\"}],\"pie\":[{\"automargin\":true,\"type\":\"pie\"}]},\"layout\":{\"autotypenumbers\":\"strict\",\"colorway\":[\"#636efa\",\"#EF553B\",\"#00cc96\",\"#ab63fa\",\"#FFA15A\",\"#19d3f3\",\"#FF6692\",\"#B6E880\",\"#FF97FF\",\"#FECB52\"],\"font\":{\"color\":\"#2a3f5f\"},\"hovermode\":\"closest\",\"hoverlabel\":{\"align\":\"left\"},\"paper_bgcolor\":\"white\",\"plot_bgcolor\":\"#E5ECF6\",\"polar\":{\"bgcolor\":\"#E5ECF6\",\"angularaxis\":{\"gridcolor\":\"white\",\"linecolor\":\"white\",\"ticks\":\"\"},\"radialaxis\":{\"gridcolor\":\"white\",\"linecolor\":\"white\",\"ticks\":\"\"}},\"ternary\":{\"bgcolor\":\"#E5ECF6\",\"aaxis\":{\"gridcolor\":\"white\",\"linecolor\":\"white\",\"ticks\":\"\"},\"baxis\":{\"gridcolor\":\"white\",\"linecolor\":\"white\",\"ticks\":\"\"},\"caxis\":{\"gridcolor\":\"white\",\"linecolor\":\"white\",\"ticks\":\"\"}},\"coloraxis\":{\"colorbar\":{\"outlinewidth\":0,\"ticks\":\"\"}},\"colorscale\":{\"sequential\":[[0.0,\"#0d0887\"],[0.1111111111111111,\"#46039f\"],[0.2222222222222222,\"#7201a8\"],[0.3333333333333333,\"#9c179e\"],[0.4444444444444444,\"#bd3786\"],[0.5555555555555556,\"#d8576b\"],[0.6666666666666666,\"#ed7953\"],[0.7777777777777778,\"#fb9f3a\"],[0.8888888888888888,\"#fdca26\"],[1.0,\"#f0f921\"]],\"sequentialminus\":[[0.0,\"#0d0887\"],[0.1111111111111111,\"#46039f\"],[0.2222222222222222,\"#7201a8\"],[0.3333333333333333,\"#9c179e\"],[0.4444444444444444,\"#bd3786\"],[0.5555555555555556,\"#d8576b\"],[0.6666666666666666,\"#ed7953\"],[0.7777777777777778,\"#fb9f3a\"],[0.8888888888888888,\"#fdca26\"],[1.0,\"#f0f921\"]],\"diverging\":[[0,\"#8e0152\"],[0.1,\"#c51b7d\"],[0.2,\"#de77ae\"],[0.3,\"#f1b6da\"],[0.4,\"#fde0ef\"],[0.5,\"#f7f7f7\"],[0.6,\"#e6f5d0\"],[0.7,\"#b8e186\"],[0.8,\"#7fbc41\"],[0.9,\"#4d9221\"],[1,\"#276419\"]]},\"xaxis\":{\"gridcolor\":\"white\",\"linecolor\":\"white\",\"ticks\":\"\",\"title\":{\"standoff\":15},\"zerolinecolor\":\"white\",\"automargin\":true,\"zerolinewidth\":2},\"yaxis\":{\"gridcolor\":\"white\",\"linecolor\":\"white\",\"ticks\":\"\",\"title\":{\"standoff\":15},\"zerolinecolor\":\"white\",\"automargin\":true,\"zerolinewidth\":2},\"scene\":{\"xaxis\":{\"backgroundcolor\":\"#E5ECF6\",\"gridcolor\":\"white\",\"linecolor\":\"white\",\"showbackground\":true,\"ticks\":\"\",\"zerolinecolor\":\"white\",\"gridwidth\":2},\"yaxis\":{\"backgroundcolor\":\"#E5ECF6\",\"gridcolor\":\"white\",\"linecolor\":\"white\",\"showbackground\":true,\"ticks\":\"\",\"zerolinecolor\":\"white\",\"gridwidth\":2},\"zaxis\":{\"backgroundcolor\":\"#E5ECF6\",\"gridcolor\":\"white\",\"linecolor\":\"white\",\"showbackground\":true,\"ticks\":\"\",\"zerolinecolor\":\"white\",\"gridwidth\":2}},\"shapedefaults\":{\"line\":{\"color\":\"#2a3f5f\"}},\"annotationdefaults\":{\"arrowcolor\":\"#2a3f5f\",\"arrowhead\":0,\"arrowwidth\":1},\"geo\":{\"bgcolor\":\"white\",\"landcolor\":\"#E5ECF6\",\"subunitcolor\":\"white\",\"showland\":true,\"showlakes\":true,\"lakecolor\":\"white\"},\"title\":{\"x\":0.05},\"mapbox\":{\"style\":\"light\"}}},\"xaxis\":{\"anchor\":\"y\",\"domain\":[0.0,1.0],\"title\":{\"text\":\"Year\"}},\"yaxis\":{\"anchor\":\"x\",\"domain\":[0.0,1.0],\"title\":{\"text\":\"Trade Value (Billion USD)\"}},\"legend\":{\"tracegroupgap\":0},\"title\":{\"text\":\"\\ud83e\\uddf1 Yearly Trade Volume (Bar Chart)\"},\"barmode\":\"relative\"},                        {\"responsive\": true}                    ).then(function(){\n",
       "                            \n",
       "var gd = document.getElementById('9429012e-62fb-49b0-8d9a-affe13f5e07c');\n",
       "var x = new MutationObserver(function (mutations, observer) {{\n",
       "        var display = window.getComputedStyle(gd).display;\n",
       "        if (!display || display === 'none') {{\n",
       "            console.log([gd, 'removed!']);\n",
       "            Plotly.purge(gd);\n",
       "            observer.disconnect();\n",
       "        }}\n",
       "}});\n",
       "\n",
       "// Listen for the removal of the full notebook cells\n",
       "var notebookContainer = gd.closest('#notebook-container');\n",
       "if (notebookContainer) {{\n",
       "    x.observe(notebookContainer, {childList: true});\n",
       "}}\n",
       "\n",
       "// Listen for the clearing of the current output cell\n",
       "var outputEl = gd.closest('.output');\n",
       "if (outputEl) {{\n",
       "    x.observe(outputEl, {childList: true});\n",
       "}}\n",
       "\n",
       "                        })                };                });            </script>        </div>"
      ]
     },
     "metadata": {},
     "output_type": "display_data"
    }
   ],
   "source": [
    "# Bar Plot: Trade Volume per Year\n",
    "fig3 = px.bar(trade_by_year, x='year', y='value_billion_usd',\n",
    "              title='🧱 Yearly Trade Volume (Bar Chart)',\n",
    "              labels={'value_billion_usd': 'Trade Value (Billion USD)', 'year': 'Year'})\n",
    "fig3.show()"
   ]
  },
  {
   "cell_type": "raw",
   "id": "f764e45d-4469-47e5-bf64-e15432f7b53a",
   "metadata": {
    "collapsed": true,
    "jupyter": {
     "outputs_hidden": true
    }
   },
   "source": [
    "🧱 Time-Series Bar Plot (Per Year)\n",
    "What it shows:\n",
    "This bar chart offers a year-by-year view of the total trade value, making it easier to visually compare performance across years.\n",
    "\n",
    "Why the data looks like this:\n",
    "Years with lower bars may coincide with tariff hikes, economic slowdowns, or supply chain disruptions.\n",
    "Higher bars could reflect increased global demand, successful diversification to new markets, or stockpiling before expected tariffs.\n",
    "These patterns are essential to correlate with external events like trade wars or the pandemic."
   ]
  },
  {
   "cell_type": "markdown",
   "id": "260306c8-b606-450c-b640-7caba19d7584",
   "metadata": {},
   "source": [
    "**4. Total Trade by Importer (Grouped by Exporter)**"
   ]
  },
  {
   "cell_type": "code",
   "execution_count": 283,
   "id": "b96f0fd0-1353-4663-9107-6207a066b22c",
   "metadata": {
    "scrolled": true
   },
   "outputs": [
    {
     "data": {
      "application/vnd.plotly.v1+json": {
       "config": {
        "plotlyServerURL": "https://plot.ly"
       },
       "data": [
        {
         "alignmentgroup": "True",
         "hovertemplate": "exporter=China<br>Importer=%{x}<br>Trade Value (Billion USD)=%{y}<extra></extra>",
         "legendgroup": "China",
         "marker": {
          "color": "#636efa",
          "pattern": {
           "shape": ""
          }
         },
         "name": "China",
         "offsetgroup": "China",
         "orientation": "v",
         "showlegend": true,
         "textposition": "auto",
         "type": "bar",
         "x": [
          "United Arab Emirates",
          "Indonesia",
          "Israel",
          "Pakistan"
         ],
         "xaxis": "x",
         "y": [
          17.870573797,
          13.556327295,
          4.161141,
          2.838523432
         ],
         "yaxis": "y"
        },
        {
         "alignmentgroup": "True",
         "hovertemplate": "exporter=Vietnam<br>Importer=%{x}<br>Trade Value (Billion USD)=%{y}<extra></extra>",
         "legendgroup": "Vietnam",
         "marker": {
          "color": "#EF553B",
          "pattern": {
           "shape": ""
          }
         },
         "name": "Vietnam",
         "offsetgroup": "Vietnam",
         "orientation": "v",
         "showlegend": true,
         "textposition": "auto",
         "type": "bar",
         "x": [
          "United Arab Emirates",
          "Indonesia",
          "Israel"
         ],
         "xaxis": "x",
         "y": [
          4.147203981,
          0.77211056,
          0.635231
         ],
         "yaxis": "y"
        },
        {
         "alignmentgroup": "True",
         "hovertemplate": "exporter=Korea<br>Importer=%{x}<br>Trade Value (Billion USD)=%{y}<extra></extra>",
         "legendgroup": "Korea",
         "marker": {
          "color": "#00cc96",
          "pattern": {
           "shape": ""
          }
         },
         "name": "Korea",
         "offsetgroup": "Korea",
         "orientation": "v",
         "showlegend": true,
         "textposition": "auto",
         "type": "bar",
         "x": [
          "Indonesia",
          "United Arab Emirates",
          "Israel"
         ],
         "xaxis": "x",
         "y": [
          1.738388401,
          0.697620984,
          0.319963
         ],
         "yaxis": "y"
        },
        {
         "alignmentgroup": "True",
         "hovertemplate": "exporter=Taiwan<br>Importer=%{x}<br>Trade Value (Billion USD)=%{y}<extra></extra>",
         "legendgroup": "Taiwan",
         "marker": {
          "color": "#ab63fa",
          "pattern": {
           "shape": ""
          }
         },
         "name": "Taiwan",
         "offsetgroup": "Taiwan",
         "orientation": "v",
         "showlegend": true,
         "textposition": "auto",
         "type": "bar",
         "x": [
          "Indonesia",
          "Israel",
          "United Arab Emirates"
         ],
         "xaxis": "x",
         "y": [
          1.515959997,
          0.648505,
          0.333333128
         ],
         "yaxis": "y"
        },
        {
         "alignmentgroup": "True",
         "hovertemplate": "exporter=US<br>Importer=%{x}<br>Trade Value (Billion USD)=%{y}<extra></extra>",
         "legendgroup": "US",
         "marker": {
          "color": "#FFA15A",
          "pattern": {
           "shape": ""
          }
         },
         "name": "US",
         "offsetgroup": "US",
         "orientation": "v",
         "showlegend": true,
         "textposition": "auto",
         "type": "bar",
         "x": [
          "Israel",
          "United Arab Emirates",
          "Indonesia"
         ],
         "xaxis": "x",
         "y": [
          1.464401,
          1.277547657,
          0.407395031
         ],
         "yaxis": "y"
        },
        {
         "alignmentgroup": "True",
         "hovertemplate": "exporter=Malaysia<br>Importer=%{x}<br>Trade Value (Billion USD)=%{y}<extra></extra>",
         "legendgroup": "Malaysia",
         "marker": {
          "color": "#19d3f3",
          "pattern": {
           "shape": ""
          }
         },
         "name": "Malaysia",
         "offsetgroup": "Malaysia",
         "orientation": "v",
         "showlegend": true,
         "textposition": "auto",
         "type": "bar",
         "x": [
          "United Arab Emirates",
          "Indonesia",
          "Israel"
         ],
         "xaxis": "x",
         "y": [
          0.689076774,
          0.655213072,
          0.307932
         ],
         "yaxis": "y"
        },
        {
         "alignmentgroup": "True",
         "hovertemplate": "exporter=Mexico<br>Importer=%{x}<br>Trade Value (Billion USD)=%{y}<extra></extra>",
         "legendgroup": "Mexico",
         "marker": {
          "color": "#FF6692",
          "pattern": {
           "shape": ""
          }
         },
         "name": "Mexico",
         "offsetgroup": "Mexico",
         "orientation": "v",
         "showlegend": true,
         "textposition": "auto",
         "type": "bar",
         "x": [
          "United Arab Emirates"
         ],
         "xaxis": "x",
         "y": [
          0.288703652
         ],
         "yaxis": "y"
        }
       ],
       "layout": {
        "barmode": "group",
        "legend": {
         "title": {
          "text": "exporter"
         },
         "tracegroupgap": 0
        },
        "template": {
         "data": {
          "bar": [
           {
            "error_x": {
             "color": "#2a3f5f"
            },
            "error_y": {
             "color": "#2a3f5f"
            },
            "marker": {
             "line": {
              "color": "#E5ECF6",
              "width": 0.5
             },
             "pattern": {
              "fillmode": "overlay",
              "size": 10,
              "solidity": 0.2
             }
            },
            "type": "bar"
           }
          ],
          "barpolar": [
           {
            "marker": {
             "line": {
              "color": "#E5ECF6",
              "width": 0.5
             },
             "pattern": {
              "fillmode": "overlay",
              "size": 10,
              "solidity": 0.2
             }
            },
            "type": "barpolar"
           }
          ],
          "carpet": [
           {
            "aaxis": {
             "endlinecolor": "#2a3f5f",
             "gridcolor": "white",
             "linecolor": "white",
             "minorgridcolor": "white",
             "startlinecolor": "#2a3f5f"
            },
            "baxis": {
             "endlinecolor": "#2a3f5f",
             "gridcolor": "white",
             "linecolor": "white",
             "minorgridcolor": "white",
             "startlinecolor": "#2a3f5f"
            },
            "type": "carpet"
           }
          ],
          "choropleth": [
           {
            "colorbar": {
             "outlinewidth": 0,
             "ticks": ""
            },
            "type": "choropleth"
           }
          ],
          "contour": [
           {
            "colorbar": {
             "outlinewidth": 0,
             "ticks": ""
            },
            "colorscale": [
             [
              0,
              "#0d0887"
             ],
             [
              0.1111111111111111,
              "#46039f"
             ],
             [
              0.2222222222222222,
              "#7201a8"
             ],
             [
              0.3333333333333333,
              "#9c179e"
             ],
             [
              0.4444444444444444,
              "#bd3786"
             ],
             [
              0.5555555555555556,
              "#d8576b"
             ],
             [
              0.6666666666666666,
              "#ed7953"
             ],
             [
              0.7777777777777778,
              "#fb9f3a"
             ],
             [
              0.8888888888888888,
              "#fdca26"
             ],
             [
              1,
              "#f0f921"
             ]
            ],
            "type": "contour"
           }
          ],
          "contourcarpet": [
           {
            "colorbar": {
             "outlinewidth": 0,
             "ticks": ""
            },
            "type": "contourcarpet"
           }
          ],
          "heatmap": [
           {
            "colorbar": {
             "outlinewidth": 0,
             "ticks": ""
            },
            "colorscale": [
             [
              0,
              "#0d0887"
             ],
             [
              0.1111111111111111,
              "#46039f"
             ],
             [
              0.2222222222222222,
              "#7201a8"
             ],
             [
              0.3333333333333333,
              "#9c179e"
             ],
             [
              0.4444444444444444,
              "#bd3786"
             ],
             [
              0.5555555555555556,
              "#d8576b"
             ],
             [
              0.6666666666666666,
              "#ed7953"
             ],
             [
              0.7777777777777778,
              "#fb9f3a"
             ],
             [
              0.8888888888888888,
              "#fdca26"
             ],
             [
              1,
              "#f0f921"
             ]
            ],
            "type": "heatmap"
           }
          ],
          "heatmapgl": [
           {
            "colorbar": {
             "outlinewidth": 0,
             "ticks": ""
            },
            "colorscale": [
             [
              0,
              "#0d0887"
             ],
             [
              0.1111111111111111,
              "#46039f"
             ],
             [
              0.2222222222222222,
              "#7201a8"
             ],
             [
              0.3333333333333333,
              "#9c179e"
             ],
             [
              0.4444444444444444,
              "#bd3786"
             ],
             [
              0.5555555555555556,
              "#d8576b"
             ],
             [
              0.6666666666666666,
              "#ed7953"
             ],
             [
              0.7777777777777778,
              "#fb9f3a"
             ],
             [
              0.8888888888888888,
              "#fdca26"
             ],
             [
              1,
              "#f0f921"
             ]
            ],
            "type": "heatmapgl"
           }
          ],
          "histogram": [
           {
            "marker": {
             "pattern": {
              "fillmode": "overlay",
              "size": 10,
              "solidity": 0.2
             }
            },
            "type": "histogram"
           }
          ],
          "histogram2d": [
           {
            "colorbar": {
             "outlinewidth": 0,
             "ticks": ""
            },
            "colorscale": [
             [
              0,
              "#0d0887"
             ],
             [
              0.1111111111111111,
              "#46039f"
             ],
             [
              0.2222222222222222,
              "#7201a8"
             ],
             [
              0.3333333333333333,
              "#9c179e"
             ],
             [
              0.4444444444444444,
              "#bd3786"
             ],
             [
              0.5555555555555556,
              "#d8576b"
             ],
             [
              0.6666666666666666,
              "#ed7953"
             ],
             [
              0.7777777777777778,
              "#fb9f3a"
             ],
             [
              0.8888888888888888,
              "#fdca26"
             ],
             [
              1,
              "#f0f921"
             ]
            ],
            "type": "histogram2d"
           }
          ],
          "histogram2dcontour": [
           {
            "colorbar": {
             "outlinewidth": 0,
             "ticks": ""
            },
            "colorscale": [
             [
              0,
              "#0d0887"
             ],
             [
              0.1111111111111111,
              "#46039f"
             ],
             [
              0.2222222222222222,
              "#7201a8"
             ],
             [
              0.3333333333333333,
              "#9c179e"
             ],
             [
              0.4444444444444444,
              "#bd3786"
             ],
             [
              0.5555555555555556,
              "#d8576b"
             ],
             [
              0.6666666666666666,
              "#ed7953"
             ],
             [
              0.7777777777777778,
              "#fb9f3a"
             ],
             [
              0.8888888888888888,
              "#fdca26"
             ],
             [
              1,
              "#f0f921"
             ]
            ],
            "type": "histogram2dcontour"
           }
          ],
          "mesh3d": [
           {
            "colorbar": {
             "outlinewidth": 0,
             "ticks": ""
            },
            "type": "mesh3d"
           }
          ],
          "parcoords": [
           {
            "line": {
             "colorbar": {
              "outlinewidth": 0,
              "ticks": ""
             }
            },
            "type": "parcoords"
           }
          ],
          "pie": [
           {
            "automargin": true,
            "type": "pie"
           }
          ],
          "scatter": [
           {
            "fillpattern": {
             "fillmode": "overlay",
             "size": 10,
             "solidity": 0.2
            },
            "type": "scatter"
           }
          ],
          "scatter3d": [
           {
            "line": {
             "colorbar": {
              "outlinewidth": 0,
              "ticks": ""
             }
            },
            "marker": {
             "colorbar": {
              "outlinewidth": 0,
              "ticks": ""
             }
            },
            "type": "scatter3d"
           }
          ],
          "scattercarpet": [
           {
            "marker": {
             "colorbar": {
              "outlinewidth": 0,
              "ticks": ""
             }
            },
            "type": "scattercarpet"
           }
          ],
          "scattergeo": [
           {
            "marker": {
             "colorbar": {
              "outlinewidth": 0,
              "ticks": ""
             }
            },
            "type": "scattergeo"
           }
          ],
          "scattergl": [
           {
            "marker": {
             "colorbar": {
              "outlinewidth": 0,
              "ticks": ""
             }
            },
            "type": "scattergl"
           }
          ],
          "scattermapbox": [
           {
            "marker": {
             "colorbar": {
              "outlinewidth": 0,
              "ticks": ""
             }
            },
            "type": "scattermapbox"
           }
          ],
          "scatterpolar": [
           {
            "marker": {
             "colorbar": {
              "outlinewidth": 0,
              "ticks": ""
             }
            },
            "type": "scatterpolar"
           }
          ],
          "scatterpolargl": [
           {
            "marker": {
             "colorbar": {
              "outlinewidth": 0,
              "ticks": ""
             }
            },
            "type": "scatterpolargl"
           }
          ],
          "scatterternary": [
           {
            "marker": {
             "colorbar": {
              "outlinewidth": 0,
              "ticks": ""
             }
            },
            "type": "scatterternary"
           }
          ],
          "surface": [
           {
            "colorbar": {
             "outlinewidth": 0,
             "ticks": ""
            },
            "colorscale": [
             [
              0,
              "#0d0887"
             ],
             [
              0.1111111111111111,
              "#46039f"
             ],
             [
              0.2222222222222222,
              "#7201a8"
             ],
             [
              0.3333333333333333,
              "#9c179e"
             ],
             [
              0.4444444444444444,
              "#bd3786"
             ],
             [
              0.5555555555555556,
              "#d8576b"
             ],
             [
              0.6666666666666666,
              "#ed7953"
             ],
             [
              0.7777777777777778,
              "#fb9f3a"
             ],
             [
              0.8888888888888888,
              "#fdca26"
             ],
             [
              1,
              "#f0f921"
             ]
            ],
            "type": "surface"
           }
          ],
          "table": [
           {
            "cells": {
             "fill": {
              "color": "#EBF0F8"
             },
             "line": {
              "color": "white"
             }
            },
            "header": {
             "fill": {
              "color": "#C8D4E3"
             },
             "line": {
              "color": "white"
             }
            },
            "type": "table"
           }
          ]
         },
         "layout": {
          "annotationdefaults": {
           "arrowcolor": "#2a3f5f",
           "arrowhead": 0,
           "arrowwidth": 1
          },
          "autotypenumbers": "strict",
          "coloraxis": {
           "colorbar": {
            "outlinewidth": 0,
            "ticks": ""
           }
          },
          "colorscale": {
           "diverging": [
            [
             0,
             "#8e0152"
            ],
            [
             0.1,
             "#c51b7d"
            ],
            [
             0.2,
             "#de77ae"
            ],
            [
             0.3,
             "#f1b6da"
            ],
            [
             0.4,
             "#fde0ef"
            ],
            [
             0.5,
             "#f7f7f7"
            ],
            [
             0.6,
             "#e6f5d0"
            ],
            [
             0.7,
             "#b8e186"
            ],
            [
             0.8,
             "#7fbc41"
            ],
            [
             0.9,
             "#4d9221"
            ],
            [
             1,
             "#276419"
            ]
           ],
           "sequential": [
            [
             0,
             "#0d0887"
            ],
            [
             0.1111111111111111,
             "#46039f"
            ],
            [
             0.2222222222222222,
             "#7201a8"
            ],
            [
             0.3333333333333333,
             "#9c179e"
            ],
            [
             0.4444444444444444,
             "#bd3786"
            ],
            [
             0.5555555555555556,
             "#d8576b"
            ],
            [
             0.6666666666666666,
             "#ed7953"
            ],
            [
             0.7777777777777778,
             "#fb9f3a"
            ],
            [
             0.8888888888888888,
             "#fdca26"
            ],
            [
             1,
             "#f0f921"
            ]
           ],
           "sequentialminus": [
            [
             0,
             "#0d0887"
            ],
            [
             0.1111111111111111,
             "#46039f"
            ],
            [
             0.2222222222222222,
             "#7201a8"
            ],
            [
             0.3333333333333333,
             "#9c179e"
            ],
            [
             0.4444444444444444,
             "#bd3786"
            ],
            [
             0.5555555555555556,
             "#d8576b"
            ],
            [
             0.6666666666666666,
             "#ed7953"
            ],
            [
             0.7777777777777778,
             "#fb9f3a"
            ],
            [
             0.8888888888888888,
             "#fdca26"
            ],
            [
             1,
             "#f0f921"
            ]
           ]
          },
          "colorway": [
           "#636efa",
           "#EF553B",
           "#00cc96",
           "#ab63fa",
           "#FFA15A",
           "#19d3f3",
           "#FF6692",
           "#B6E880",
           "#FF97FF",
           "#FECB52"
          ],
          "font": {
           "color": "#2a3f5f"
          },
          "geo": {
           "bgcolor": "white",
           "lakecolor": "white",
           "landcolor": "#E5ECF6",
           "showlakes": true,
           "showland": true,
           "subunitcolor": "white"
          },
          "hoverlabel": {
           "align": "left"
          },
          "hovermode": "closest",
          "mapbox": {
           "style": "light"
          },
          "paper_bgcolor": "white",
          "plot_bgcolor": "#E5ECF6",
          "polar": {
           "angularaxis": {
            "gridcolor": "white",
            "linecolor": "white",
            "ticks": ""
           },
           "bgcolor": "#E5ECF6",
           "radialaxis": {
            "gridcolor": "white",
            "linecolor": "white",
            "ticks": ""
           }
          },
          "scene": {
           "xaxis": {
            "backgroundcolor": "#E5ECF6",
            "gridcolor": "white",
            "gridwidth": 2,
            "linecolor": "white",
            "showbackground": true,
            "ticks": "",
            "zerolinecolor": "white"
           },
           "yaxis": {
            "backgroundcolor": "#E5ECF6",
            "gridcolor": "white",
            "gridwidth": 2,
            "linecolor": "white",
            "showbackground": true,
            "ticks": "",
            "zerolinecolor": "white"
           },
           "zaxis": {
            "backgroundcolor": "#E5ECF6",
            "gridcolor": "white",
            "gridwidth": 2,
            "linecolor": "white",
            "showbackground": true,
            "ticks": "",
            "zerolinecolor": "white"
           }
          },
          "shapedefaults": {
           "line": {
            "color": "#2a3f5f"
           }
          },
          "ternary": {
           "aaxis": {
            "gridcolor": "white",
            "linecolor": "white",
            "ticks": ""
           },
           "baxis": {
            "gridcolor": "white",
            "linecolor": "white",
            "ticks": ""
           },
           "bgcolor": "#E5ECF6",
           "caxis": {
            "gridcolor": "white",
            "linecolor": "white",
            "ticks": ""
           }
          },
          "title": {
           "x": 0.05
          },
          "xaxis": {
           "automargin": true,
           "gridcolor": "white",
           "linecolor": "white",
           "ticks": "",
           "title": {
            "standoff": 15
           },
           "zerolinecolor": "white",
           "zerolinewidth": 2
          },
          "yaxis": {
           "automargin": true,
           "gridcolor": "white",
           "linecolor": "white",
           "ticks": "",
           "title": {
            "standoff": 15
           },
           "zerolinecolor": "white",
           "zerolinewidth": 2
          }
         }
        },
        "title": {
         "text": "🌐 Top 20 Importers by Trade Value"
        },
        "xaxis": {
         "anchor": "y",
         "domain": [
          0,
          1
         ],
         "title": {
          "text": "Importer"
         }
        },
        "yaxis": {
         "anchor": "x",
         "domain": [
          0,
          1
         ],
         "title": {
          "text": "Trade Value (Billion USD)"
         }
        }
       }
      },
      "image/png": "[encoded data removed]",
      "text/html": [
       "<div>                            <div id=\"155b3eda-ee2c-4dcf-b466-915944eb8681\" class=\"plotly-graph-div\" style=\"height:525px; width:100%;\"></div>            <script type=\"text/javascript\">                require([\"plotly\"], function(Plotly) {                    window.PLOTLYENV=window.PLOTLYENV || {};                                    if (document.getElementById(\"155b3eda-ee2c-4dcf-b466-915944eb8681\")) {                    Plotly.newPlot(                        \"155b3eda-ee2c-4dcf-b466-915944eb8681\",                        [{\"alignmentgroup\":\"True\",\"hovertemplate\":\"exporter=China<br>Importer=%{x}<br>Trade Value (Billion USD)=%{y}<extra></extra>\",\"legendgroup\":\"China\",\"marker\":{\"color\":\"#636efa\",\"pattern\":{\"shape\":\"\"}},\"name\":\"China\",\"offsetgroup\":\"China\",\"orientation\":\"v\",\"showlegend\":true,\"textposition\":\"auto\",\"x\":[\"United Arab Emirates\",\"Indonesia\",\"Israel\",\"Pakistan\"],\"xaxis\":\"x\",\"y\":[17.870573797,13.556327295,4.161141,2.838523432],\"yaxis\":\"y\",\"type\":\"bar\"},{\"alignmentgroup\":\"True\",\"hovertemplate\":\"exporter=Vietnam<br>Importer=%{x}<br>Trade Value (Billion USD)=%{y}<extra></extra>\",\"legendgroup\":\"Vietnam\",\"marker\":{\"color\":\"#EF553B\",\"pattern\":{\"shape\":\"\"}},\"name\":\"Vietnam\",\"offsetgroup\":\"Vietnam\",\"orientation\":\"v\",\"showlegend\":true,\"textposition\":\"auto\",\"x\":[\"United Arab Emirates\",\"Indonesia\",\"Israel\"],\"xaxis\":\"x\",\"y\":[4.147203981,0.77211056,0.635231],\"yaxis\":\"y\",\"type\":\"bar\"},{\"alignmentgroup\":\"True\",\"hovertemplate\":\"exporter=Korea<br>Importer=%{x}<br>Trade Value (Billion USD)=%{y}<extra></extra>\",\"legendgroup\":\"Korea\",\"marker\":{\"color\":\"#00cc96\",\"pattern\":{\"shape\":\"\"}},\"name\":\"Korea\",\"offsetgroup\":\"Korea\",\"orientation\":\"v\",\"showlegend\":true,\"textposition\":\"auto\",\"x\":[\"Indonesia\",\"United Arab Emirates\",\"Israel\"],\"xaxis\":\"x\",\"y\":[1.738388401,0.697620984,0.319963],\"yaxis\":\"y\",\"type\":\"bar\"},{\"alignmentgroup\":\"True\",\"hovertemplate\":\"exporter=Taiwan<br>Importer=%{x}<br>Trade Value (Billion USD)=%{y}<extra></extra>\",\"legendgroup\":\"Taiwan\",\"marker\":{\"color\":\"#ab63fa\",\"pattern\":{\"shape\":\"\"}},\"name\":\"Taiwan\",\"offsetgroup\":\"Taiwan\",\"orientation\":\"v\",\"showlegend\":true,\"textposition\":\"auto\",\"x\":[\"Indonesia\",\"Israel\",\"United Arab Emirates\"],\"xaxis\":\"x\",\"y\":[1.515959997,0.648505,0.333333128],\"yaxis\":\"y\",\"type\":\"bar\"},{\"alignmentgroup\":\"True\",\"hovertemplate\":\"exporter=US<br>Importer=%{x}<br>Trade Value (Billion USD)=%{y}<extra></extra>\",\"legendgroup\":\"US\",\"marker\":{\"color\":\"#FFA15A\",\"pattern\":{\"shape\":\"\"}},\"name\":\"US\",\"offsetgroup\":\"US\",\"orientation\":\"v\",\"showlegend\":true,\"textposition\":\"auto\",\"x\":[\"Israel\",\"United Arab Emirates\",\"Indonesia\"],\"xaxis\":\"x\",\"y\":[1.464401,1.277547657,0.407395031],\"yaxis\":\"y\",\"type\":\"bar\"},{\"alignmentgroup\":\"True\",\"hovertemplate\":\"exporter=Malaysia<br>Importer=%{x}<br>Trade Value (Billion USD)=%{y}<extra></extra>\",\"legendgroup\":\"Malaysia\",\"marker\":{\"color\":\"#19d3f3\",\"pattern\":{\"shape\":\"\"}},\"name\":\"Malaysia\",\"offsetgroup\":\"Malaysia\",\"orientation\":\"v\",\"showlegend\":true,\"textposition\":\"auto\",\"x\":[\"United Arab Emirates\",\"Indonesia\",\"Israel\"],\"xaxis\":\"x\",\"y\":[0.689076774,0.655213072,0.307932],\"yaxis\":\"y\",\"type\":\"bar\"},{\"alignmentgroup\":\"True\",\"hovertemplate\":\"exporter=Mexico<br>Importer=%{x}<br>Trade Value (Billion USD)=%{y}<extra></extra>\",\"legendgroup\":\"Mexico\",\"marker\":{\"color\":\"#FF6692\",\"pattern\":{\"shape\":\"\"}},\"name\":\"Mexico\",\"offsetgroup\":\"Mexico\",\"orientation\":\"v\",\"showlegend\":true,\"textposition\":\"auto\",\"x\":[\"United Arab Emirates\"],\"xaxis\":\"x\",\"y\":[0.288703652],\"yaxis\":\"y\",\"type\":\"bar\"}],                        {\"template\":{\"data\":{\"histogram2dcontour\":[{\"type\":\"histogram2dcontour\",\"colorbar\":{\"outlinewidth\":0,\"ticks\":\"\"},\"colorscale\":[[0.0,\"#0d0887\"],[0.1111111111111111,\"#46039f\"],[0.2222222222222222,\"#7201a8\"],[0.3333333333333333,\"#9c179e\"],[0.4444444444444444,\"#bd3786\"],[0.5555555555555556,\"#d8576b\"],[0.6666666666666666,\"#ed7953\"],[0.7777777777777778,\"#fb9f3a\"],[0.8888888888888888,\"#fdca26\"],[1.0,\"#f0f921\"]]}],\"choropleth\":[{\"type\":\"choropleth\",\"colorbar\":{\"outlinewidth\":0,\"ticks\":\"\"}}],\"histogram2d\":[{\"type\":\"histogram2d\",\"colorbar\":{\"outlinewidth\":0,\"ticks\":\"\"},\"colorscale\":[[0.0,\"#0d0887\"],[0.1111111111111111,\"#46039f\"],[0.2222222222222222,\"#7201a8\"],[0.3333333333333333,\"#9c179e\"],[0.4444444444444444,\"#bd3786\"],[0.5555555555555556,\"#d8576b\"],[0.6666666666666666,\"#ed7953\"],[0.7777777777777778,\"#fb9f3a\"],[0.8888888888888888,\"#fdca26\"],[1.0,\"#f0f921\"]]}],\"heatmap\":[{\"type\":\"heatmap\",\"colorbar\":{\"outlinewidth\":0,\"ticks\":\"\"},\"colorscale\":[[0.0,\"#0d0887\"],[0.1111111111111111,\"#46039f\"],[0.2222222222222222,\"#7201a8\"],[0.3333333333333333,\"#9c179e\"],[0.4444444444444444,\"#bd3786\"],[0.5555555555555556,\"#d8576b\"],[0.6666666666666666,\"#ed7953\"],[0.7777777777777778,\"#fb9f3a\"],[0.8888888888888888,\"#fdca26\"],[1.0,\"#f0f921\"]]}],\"heatmapgl\":[{\"type\":\"heatmapgl\",\"colorbar\":{\"outlinewidth\":0,\"ticks\":\"\"},\"colorscale\":[[0.0,\"#0d0887\"],[0.1111111111111111,\"#46039f\"],[0.2222222222222222,\"#7201a8\"],[0.3333333333333333,\"#9c179e\"],[0.4444444444444444,\"#bd3786\"],[0.5555555555555556,\"#d8576b\"],[0.6666666666666666,\"#ed7953\"],[0.7777777777777778,\"#fb9f3a\"],[0.8888888888888888,\"#fdca26\"],[1.0,\"#f0f921\"]]}],\"contourcarpet\":[{\"type\":\"contourcarpet\",\"colorbar\":{\"outlinewidth\":0,\"ticks\":\"\"}}],\"contour\":[{\"type\":\"contour\",\"colorbar\":{\"outlinewidth\":0,\"ticks\":\"\"},\"colorscale\":[[0.0,\"#0d0887\"],[0.1111111111111111,\"#46039f\"],[0.2222222222222222,\"#7201a8\"],[0.3333333333333333,\"#9c179e\"],[0.4444444444444444,\"#bd3786\"],[0.5555555555555556,\"#d8576b\"],[0.6666666666666666,\"#ed7953\"],[0.7777777777777778,\"#fb9f3a\"],[0.8888888888888888,\"#fdca26\"],[1.0,\"#f0f921\"]]}],\"surface\":[{\"type\":\"surface\",\"colorbar\":{\"outlinewidth\":0,\"ticks\":\"\"},\"colorscale\":[[0.0,\"#0d0887\"],[0.1111111111111111,\"#46039f\"],[0.2222222222222222,\"#7201a8\"],[0.3333333333333333,\"#9c179e\"],[0.4444444444444444,\"#bd3786\"],[0.5555555555555556,\"#d8576b\"],[0.6666666666666666,\"#ed7953\"],[0.7777777777777778,\"#fb9f3a\"],[0.8888888888888888,\"#fdca26\"],[1.0,\"#f0f921\"]]}],\"mesh3d\":[{\"type\":\"mesh3d\",\"colorbar\":{\"outlinewidth\":0,\"ticks\":\"\"}}],\"scatter\":[{\"fillpattern\":{\"fillmode\":\"overlay\",\"size\":10,\"solidity\":0.2},\"type\":\"scatter\"}],\"parcoords\":[{\"type\":\"parcoords\",\"line\":{\"colorbar\":{\"outlinewidth\":0,\"ticks\":\"\"}}}],\"scatterpolargl\":[{\"type\":\"scatterpolargl\",\"marker\":{\"colorbar\":{\"outlinewidth\":0,\"ticks\":\"\"}}}],\"bar\":[{\"error_x\":{\"color\":\"#2a3f5f\"},\"error_y\":{\"color\":\"#2a3f5f\"},\"marker\":{\"line\":{\"color\":\"#E5ECF6\",\"width\":0.5},\"pattern\":{\"fillmode\":\"overlay\",\"size\":10,\"solidity\":0.2}},\"type\":\"bar\"}],\"scattergeo\":[{\"type\":\"scattergeo\",\"marker\":{\"colorbar\":{\"outlinewidth\":0,\"ticks\":\"\"}}}],\"scatterpolar\":[{\"type\":\"scatterpolar\",\"marker\":{\"colorbar\":{\"outlinewidth\":0,\"ticks\":\"\"}}}],\"histogram\":[{\"marker\":{\"pattern\":{\"fillmode\":\"overlay\",\"size\":10,\"solidity\":0.2}},\"type\":\"histogram\"}],\"scattergl\":[{\"type\":\"scattergl\",\"marker\":{\"colorbar\":{\"outlinewidth\":0,\"ticks\":\"\"}}}],\"scatter3d\":[{\"type\":\"scatter3d\",\"line\":{\"colorbar\":{\"outlinewidth\":0,\"ticks\":\"\"}},\"marker\":{\"colorbar\":{\"outlinewidth\":0,\"ticks\":\"\"}}}],\"scattermapbox\":[{\"type\":\"scattermapbox\",\"marker\":{\"colorbar\":{\"outlinewidth\":0,\"ticks\":\"\"}}}],\"scatterternary\":[{\"type\":\"scatterternary\",\"marker\":{\"colorbar\":{\"outlinewidth\":0,\"ticks\":\"\"}}}],\"scattercarpet\":[{\"type\":\"scattercarpet\",\"marker\":{\"colorbar\":{\"outlinewidth\":0,\"ticks\":\"\"}}}],\"carpet\":[{\"aaxis\":{\"endlinecolor\":\"#2a3f5f\",\"gridcolor\":\"white\",\"linecolor\":\"white\",\"minorgridcolor\":\"white\",\"startlinecolor\":\"#2a3f5f\"},\"baxis\":{\"endlinecolor\":\"#2a3f5f\",\"gridcolor\":\"white\",\"linecolor\":\"white\",\"minorgridcolor\":\"white\",\"startlinecolor\":\"#2a3f5f\"},\"type\":\"carpet\"}],\"table\":[{\"cells\":{\"fill\":{\"color\":\"#EBF0F8\"},\"line\":{\"color\":\"white\"}},\"header\":{\"fill\":{\"color\":\"#C8D4E3\"},\"line\":{\"color\":\"white\"}},\"type\":\"table\"}],\"barpolar\":[{\"marker\":{\"line\":{\"color\":\"#E5ECF6\",\"width\":0.5},\"pattern\":{\"fillmode\":\"overlay\",\"size\":10,\"solidity\":0.2}},\"type\":\"barpolar\"}],\"pie\":[{\"automargin\":true,\"type\":\"pie\"}]},\"layout\":{\"autotypenumbers\":\"strict\",\"colorway\":[\"#636efa\",\"#EF553B\",\"#00cc96\",\"#ab63fa\",\"#FFA15A\",\"#19d3f3\",\"#FF6692\",\"#B6E880\",\"#FF97FF\",\"#FECB52\"],\"font\":{\"color\":\"#2a3f5f\"},\"hovermode\":\"closest\",\"hoverlabel\":{\"align\":\"left\"},\"paper_bgcolor\":\"white\",\"plot_bgcolor\":\"#E5ECF6\",\"polar\":{\"bgcolor\":\"#E5ECF6\",\"angularaxis\":{\"gridcolor\":\"white\",\"linecolor\":\"white\",\"ticks\":\"\"},\"radialaxis\":{\"gridcolor\":\"white\",\"linecolor\":\"white\",\"ticks\":\"\"}},\"ternary\":{\"bgcolor\":\"#E5ECF6\",\"aaxis\":{\"gridcolor\":\"white\",\"linecolor\":\"white\",\"ticks\":\"\"},\"baxis\":{\"gridcolor\":\"white\",\"linecolor\":\"white\",\"ticks\":\"\"},\"caxis\":{\"gridcolor\":\"white\",\"linecolor\":\"white\",\"ticks\":\"\"}},\"coloraxis\":{\"colorbar\":{\"outlinewidth\":0,\"ticks\":\"\"}},\"colorscale\":{\"sequential\":[[0.0,\"#0d0887\"],[0.1111111111111111,\"#46039f\"],[0.2222222222222222,\"#7201a8\"],[0.3333333333333333,\"#9c179e\"],[0.4444444444444444,\"#bd3786\"],[0.5555555555555556,\"#d8576b\"],[0.6666666666666666,\"#ed7953\"],[0.7777777777777778,\"#fb9f3a\"],[0.8888888888888888,\"#fdca26\"],[1.0,\"#f0f921\"]],\"sequentialminus\":[[0.0,\"#0d0887\"],[0.1111111111111111,\"#46039f\"],[0.2222222222222222,\"#7201a8\"],[0.3333333333333333,\"#9c179e\"],[0.4444444444444444,\"#bd3786\"],[0.5555555555555556,\"#d8576b\"],[0.6666666666666666,\"#ed7953\"],[0.7777777777777778,\"#fb9f3a\"],[0.8888888888888888,\"#fdca26\"],[1.0,\"#f0f921\"]],\"diverging\":[[0,\"#8e0152\"],[0.1,\"#c51b7d\"],[0.2,\"#de77ae\"],[0.3,\"#f1b6da\"],[0.4,\"#fde0ef\"],[0.5,\"#f7f7f7\"],[0.6,\"#e6f5d0\"],[0.7,\"#b8e186\"],[0.8,\"#7fbc41\"],[0.9,\"#4d9221\"],[1,\"#276419\"]]},\"xaxis\":{\"gridcolor\":\"white\",\"linecolor\":\"white\",\"ticks\":\"\",\"title\":{\"standoff\":15},\"zerolinecolor\":\"white\",\"automargin\":true,\"zerolinewidth\":2},\"yaxis\":{\"gridcolor\":\"white\",\"linecolor\":\"white\",\"ticks\":\"\",\"title\":{\"standoff\":15},\"zerolinecolor\":\"white\",\"automargin\":true,\"zerolinewidth\":2},\"scene\":{\"xaxis\":{\"backgroundcolor\":\"#E5ECF6\",\"gridcolor\":\"white\",\"linecolor\":\"white\",\"showbackground\":true,\"ticks\":\"\",\"zerolinecolor\":\"white\",\"gridwidth\":2},\"yaxis\":{\"backgroundcolor\":\"#E5ECF6\",\"gridcolor\":\"white\",\"linecolor\":\"white\",\"showbackground\":true,\"ticks\":\"\",\"zerolinecolor\":\"white\",\"gridwidth\":2},\"zaxis\":{\"backgroundcolor\":\"#E5ECF6\",\"gridcolor\":\"white\",\"linecolor\":\"white\",\"showbackground\":true,\"ticks\":\"\",\"zerolinecolor\":\"white\",\"gridwidth\":2}},\"shapedefaults\":{\"line\":{\"color\":\"#2a3f5f\"}},\"annotationdefaults\":{\"arrowcolor\":\"#2a3f5f\",\"arrowhead\":0,\"arrowwidth\":1},\"geo\":{\"bgcolor\":\"white\",\"landcolor\":\"#E5ECF6\",\"subunitcolor\":\"white\",\"showland\":true,\"showlakes\":true,\"lakecolor\":\"white\"},\"title\":{\"x\":0.05},\"mapbox\":{\"style\":\"light\"}}},\"xaxis\":{\"anchor\":\"y\",\"domain\":[0.0,1.0],\"title\":{\"text\":\"Importer\"}},\"yaxis\":{\"anchor\":\"x\",\"domain\":[0.0,1.0],\"title\":{\"text\":\"Trade Value (Billion USD)\"}},\"legend\":{\"title\":{\"text\":\"exporter\"},\"tracegroupgap\":0},\"title\":{\"text\":\"\\ud83c\\udf10 Top 20 Importers by Trade Value\"},\"barmode\":\"group\"},                        {\"responsive\": true}                    ).then(function(){\n",
       "                            \n",
       "var gd = document.getElementById('155b3eda-ee2c-4dcf-b466-915944eb8681');\n",
       "var x = new MutationObserver(function (mutations, observer) {{\n",
       "        var display = window.getComputedStyle(gd).display;\n",
       "        if (!display || display === 'none') {{\n",
       "            console.log([gd, 'removed!']);\n",
       "            Plotly.purge(gd);\n",
       "            observer.disconnect();\n",
       "        }}\n",
       "}});\n",
       "\n",
       "// Listen for the removal of the full notebook cells\n",
       "var notebookContainer = gd.closest('#notebook-container');\n",
       "if (notebookContainer) {{\n",
       "    x.observe(notebookContainer, {childList: true});\n",
       "}}\n",
       "\n",
       "// Listen for the clearing of the current output cell\n",
       "var outputEl = gd.closest('.output');\n",
       "if (outputEl) {{\n",
       "    x.observe(outputEl, {childList: true});\n",
       "}}\n",
       "\n",
       "                        })                };                });            </script>        </div>"
      ]
     },
     "metadata": {},
     "output_type": "display_data"
    }
   ],
   "source": [
    "# Total Trade by Importer (Grouped by Exporter)\n",
    "trade_by_importer = df.groupby(['exporter', 'importer'])['value_billion_usd'].sum().reset_index()\n",
    "top_importers = trade_by_importer.sort_values(by='value_billion_usd', ascending=False).head(20)\n",
    "\n",
    "fig4 = px.bar(top_importers, x='importer', y='value_billion_usd', color='exporter',\n",
    "              title='🌐 Top 20 Importers by Trade Value',\n",
    "              labels={'value_billion_usd': 'Trade Value (Billion USD)', 'importer': 'Importer'},\n",
    "              barmode='group')\n",
    "fig4.show()"
   ]
  },
  {
   "cell_type": "raw",
   "id": "338db19e-1ec1-434c-ac1e-1b6807d9969b",
   "metadata": {},
   "source": [
    "🌐 Total Trade by Importer (Grouped by Exporter)\n",
    "What it shows:\n",
    "This chart shows which countries imported the most electrical components from Malaysia, categorized by exporting source.\n",
    "\n",
    "Why the data looks like this:\n",
    "If certain countries dominate (e.g., US, China), they may be Malaysia’s primary electronics trade partners.\n",
    "Drops in those countries’ bars could suggest that tariffs affected demand or caused a shift in sourcing strategy.\n",
    "On the other hand, unexpected leaders in the chart may indicate that Malaysia is diversifying trade away from high-tariff countries.\n",
    "This insight is critical for understanding real-world trade redirection effects due to tariff changes."
   ]
  }
 ],
 "metadata": {
  "kernelspec": {
   "display_name": "Python [conda env:base] *",
   "language": "python",
   "name": "conda-base-py"
  },
  "language_info": {
   "codemirror_mode": {
    "name": "ipython",
    "version": 3
   },
   "file_extension": ".py",
   "mimetype": "text/x-python",
   "name": "python",
   "nbconvert_exporter": "python",
   "pygments_lexer": "ipython3",
   "version": "3.9.13"
  }
 },
 "nbformat": 4,
 "nbformat_minor": 5
}
