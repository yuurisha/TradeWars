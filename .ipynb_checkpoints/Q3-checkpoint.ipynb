{
 "cells": [
  {
   "cell_type": "markdown",
   "id": "82d8148a",
   "metadata": {},
   "source": [
    "Pseudo-labeling"
   ]
  },
  {
   "cell_type": "code",
   "execution_count": 2,
   "id": "04c2950a",
   "metadata": {},
   "outputs": [
    {
     "name": "stdout",
     "output_type": "stream",
     "text": [
      "Requirement already satisfied: textblob in c:\\users\\yourisha\\appdata\\local\\programs\\python\\python311\\lib\\site-packages (0.19.0)\n",
      "Requirement already satisfied: nltk>=3.9 in c:\\users\\yourisha\\appdata\\local\\programs\\python\\python311\\lib\\site-packages (from textblob) (3.9.1)\n",
      "Requirement already satisfied: click in c:\\users\\yourisha\\appdata\\local\\programs\\python\\python311\\lib\\site-packages (from nltk>=3.9->textblob) (8.2.0)\n",
      "Requirement already satisfied: joblib in c:\\users\\yourisha\\appdata\\local\\programs\\python\\python311\\lib\\site-packages (from nltk>=3.9->textblob) (1.2.0)\n",
      "Requirement already satisfied: regex>=2021.8.3 in c:\\users\\yourisha\\appdata\\local\\programs\\python\\python311\\lib\\site-packages (from nltk>=3.9->textblob) (2024.11.6)\n",
      "Requirement already satisfied: tqdm in c:\\users\\yourisha\\appdata\\local\\programs\\python\\python311\\lib\\site-packages (from nltk>=3.9->textblob) (4.65.0)\n",
      "Requirement already satisfied: colorama in c:\\users\\yourisha\\appdata\\local\\programs\\python\\python311\\lib\\site-packages (from click->nltk>=3.9->textblob) (0.4.6)\n"
     ]
    }
   ],
   "source": [
    "#textblob\n",
    "!pip install textblob\n",
    "\n"
   ]
  },
  {
   "cell_type": "code",
   "execution_count": 3,
   "id": "2337f82b",
   "metadata": {},
   "outputs": [
    {
     "name": "stdout",
     "output_type": "stream",
     "text": [
      "Finished.\n"
     ]
    },
    {
     "name": "stderr",
     "output_type": "stream",
     "text": [
      "[nltk_data] Downloading package brown to\n",
      "[nltk_data]     C:\\Users\\Yourisha\\AppData\\Roaming\\nltk_data...\n",
      "[nltk_data]   Package brown is already up-to-date!\n",
      "[nltk_data] Downloading package punkt_tab to\n",
      "[nltk_data]     C:\\Users\\Yourisha\\AppData\\Roaming\\nltk_data...\n",
      "[nltk_data]   Package punkt_tab is already up-to-date!\n",
      "[nltk_data] Downloading package wordnet to\n",
      "[nltk_data]     C:\\Users\\Yourisha\\AppData\\Roaming\\nltk_data...\n",
      "[nltk_data]   Package wordnet is already up-to-date!\n",
      "[nltk_data] Downloading package averaged_perceptron_tagger_eng to\n",
      "[nltk_data]     C:\\Users\\Yourisha\\AppData\\Roaming\\nltk_data...\n",
      "[nltk_data]   Package averaged_perceptron_tagger_eng is already up-to-\n",
      "[nltk_data]       date!\n",
      "[nltk_data] Downloading package conll2000 to\n",
      "[nltk_data]     C:\\Users\\Yourisha\\AppData\\Roaming\\nltk_data...\n",
      "[nltk_data]   Package conll2000 is already up-to-date!\n",
      "[nltk_data] Downloading package movie_reviews to\n",
      "[nltk_data]     C:\\Users\\Yourisha\\AppData\\Roaming\\nltk_data...\n",
      "[nltk_data]   Package movie_reviews is already up-to-date!\n"
     ]
    }
   ],
   "source": [
    "!python -m textblob.download_corpora\n"
   ]
  },
  {
   "cell_type": "code",
   "execution_count": 4,
   "id": "6fa77c8c",
   "metadata": {},
   "outputs": [
    {
     "data": {
      "text/html": [
       "<div>\n",
       "<style scoped>\n",
       "    .dataframe tbody tr th:only-of-type {\n",
       "        vertical-align: middle;\n",
       "    }\n",
       "\n",
       "    .dataframe tbody tr th {\n",
       "        vertical-align: top;\n",
       "    }\n",
       "\n",
       "    .dataframe thead th {\n",
       "        text-align: right;\n",
       "    }\n",
       "</style>\n",
       "<table border=\"1\" class=\"dataframe\">\n",
       "  <thead>\n",
       "    <tr style=\"text-align: right;\">\n",
       "      <th></th>\n",
       "      <th>title</th>\n",
       "      <th>snippet</th>\n",
       "      <th>published_date</th>\n",
       "      <th>link</th>\n",
       "      <th>authors</th>\n",
       "      <th>source</th>\n",
       "    </tr>\n",
       "  </thead>\n",
       "  <tbody>\n",
       "    <tr>\n",
       "      <th>0</th>\n",
       "      <td>Trump limits tariffs on most nations for 90 da...</td>\n",
       "      <td>Facing a global market meltdown, President Don...</td>\n",
       "      <td>2025-04-09T07:00:00.000Z</td>\n",
       "      <td>https://apnews.com/article/trump-tariffs-stock...</td>\n",
       "      <td>Josh Boak</td>\n",
       "      <td>AP News</td>\n",
       "    </tr>\n",
       "    <tr>\n",
       "      <th>1</th>\n",
       "      <td>Trump says China tariffs will ‘come down subst...</td>\n",
       "      <td>US President Donald Trump has signaled a major...</td>\n",
       "      <td>2025-04-22T07:00:00.000Z</td>\n",
       "      <td>https://www.cnn.com/2025/04/22/business/trump-...</td>\n",
       "      <td>Alejandra Jaramillo</td>\n",
       "      <td>CNN</td>\n",
       "    </tr>\n",
       "    <tr>\n",
       "      <th>2</th>\n",
       "      <td>U.S. and China begin talks amid tensions over ...</td>\n",
       "      <td>The meetings between top U.S. and Chinese offi...</td>\n",
       "      <td>2025-05-10T17:13:00.000Z</td>\n",
       "      <td>https://www.npr.org/2025/05/10/nx-s1-5394399/u...</td>\n",
       "      <td>Willem Marx</td>\n",
       "      <td>NPR</td>\n",
       "    </tr>\n",
       "    <tr>\n",
       "      <th>3</th>\n",
       "      <td>Trump tariffs live updates: US won't drop Chin...</td>\n",
       "      <td>Trump tariffs live updates: US won't drop Chin...</td>\n",
       "      <td>2025-04-21T15:42:41.000Z</td>\n",
       "      <td>https://abcnews.go.com/Politics/live-updates/t...</td>\n",
       "      <td>Alexandra Hutzler, Ivan Pereira, William Mansell</td>\n",
       "      <td>ABC News</td>\n",
       "    </tr>\n",
       "    <tr>\n",
       "      <th>4</th>\n",
       "      <td>Trump favors huge new tariffs. How do they work?</td>\n",
       "      <td>Former President Donald Trump has proposed a 6...</td>\n",
       "      <td>2024-09-27T07:00:00.000Z</td>\n",
       "      <td>https://www.pbs.org/newshour/economy/trump-fav...</td>\n",
       "      <td>Paul Wiseman</td>\n",
       "      <td>PBS</td>\n",
       "    </tr>\n",
       "    <tr>\n",
       "      <th>...</th>\n",
       "      <td>...</td>\n",
       "      <td>...</td>\n",
       "      <td>...</td>\n",
       "      <td>...</td>\n",
       "      <td>...</td>\n",
       "      <td>...</td>\n",
       "    </tr>\n",
       "    <tr>\n",
       "      <th>746</th>\n",
       "      <td>Canada will respond to Trump tariffs 'with pur...</td>\n",
       "      <td>A new universal 10% tariff on US imports will ...</td>\n",
       "      <td>2025-04-03T07:00:00.000Z</td>\n",
       "      <td>https://www.bbc.com/news/articles/cdde0r6eqy5o</td>\n",
       "      <td>Nadine Yousif</td>\n",
       "      <td>BBC</td>\n",
       "    </tr>\n",
       "    <tr>\n",
       "      <th>747</th>\n",
       "      <td>Trump threatens to end pharmaceuticals tariff ...</td>\n",
       "      <td>The US president vows \"major\" tariffs on impor...</td>\n",
       "      <td>2025-04-09T07:00:00.000Z</td>\n",
       "      <td>https://www.bbc.com/news/articles/cedyylj1v32o</td>\n",
       "      <td>Rachel Hagan</td>\n",
       "      <td>BBC</td>\n",
       "    </tr>\n",
       "    <tr>\n",
       "      <th>748</th>\n",
       "      <td>Why is Trump imposing tariffs and which countr...</td>\n",
       "      <td>Trump is tackling large trade deficits. But tr...</td>\n",
       "      <td>2025-02-11T08:00:00.000Z</td>\n",
       "      <td>https://www.theguardian.com/us-news/2025/feb/1...</td>\n",
       "      <td>Lucy Swan, Richard Partington, Ashley Kirk</td>\n",
       "      <td>The Guardian</td>\n",
       "    </tr>\n",
       "    <tr>\n",
       "      <th>749</th>\n",
       "      <td>Trump says EU tariffs will ‘definitely happen’...</td>\n",
       "      <td>Trump says EU tariffs will 'definitely happen'...</td>\n",
       "      <td>2025-02-02T08:00:00.000Z</td>\n",
       "      <td>https://www.theguardian.com/us-news/2025/feb/0...</td>\n",
       "      <td>NaN</td>\n",
       "      <td>The Guardian</td>\n",
       "    </tr>\n",
       "    <tr>\n",
       "      <th>750</th>\n",
       "      <td>Have Trump’s tariffs killed US-Africa preferen...</td>\n",
       "      <td>Trump's tariffs announcement on most trading p...</td>\n",
       "      <td>2025-04-04T07:00:00.000Z</td>\n",
       "      <td>https://www.aljazeera.com/news/2025/4/4/have-t...</td>\n",
       "      <td>Shola Lawal</td>\n",
       "      <td>Al Jazeera</td>\n",
       "    </tr>\n",
       "  </tbody>\n",
       "</table>\n",
       "<p>751 rows × 6 columns</p>\n",
       "</div>"
      ],
      "text/plain": [
       "                                                 title   \n",
       "0    Trump limits tariffs on most nations for 90 da...  \\\n",
       "1    Trump says China tariffs will ‘come down subst...   \n",
       "2    U.S. and China begin talks amid tensions over ...   \n",
       "3    Trump tariffs live updates: US won't drop Chin...   \n",
       "4     Trump favors huge new tariffs. How do they work?   \n",
       "..                                                 ...   \n",
       "746  Canada will respond to Trump tariffs 'with pur...   \n",
       "747  Trump threatens to end pharmaceuticals tariff ...   \n",
       "748  Why is Trump imposing tariffs and which countr...   \n",
       "749  Trump says EU tariffs will ‘definitely happen’...   \n",
       "750  Have Trump’s tariffs killed US-Africa preferen...   \n",
       "\n",
       "                                               snippet   \n",
       "0    Facing a global market meltdown, President Don...  \\\n",
       "1    US President Donald Trump has signaled a major...   \n",
       "2    The meetings between top U.S. and Chinese offi...   \n",
       "3    Trump tariffs live updates: US won't drop Chin...   \n",
       "4    Former President Donald Trump has proposed a 6...   \n",
       "..                                                 ...   \n",
       "746  A new universal 10% tariff on US imports will ...   \n",
       "747  The US president vows \"major\" tariffs on impor...   \n",
       "748  Trump is tackling large trade deficits. But tr...   \n",
       "749  Trump says EU tariffs will 'definitely happen'...   \n",
       "750  Trump's tariffs announcement on most trading p...   \n",
       "\n",
       "               published_date   \n",
       "0    2025-04-09T07:00:00.000Z  \\\n",
       "1    2025-04-22T07:00:00.000Z   \n",
       "2    2025-05-10T17:13:00.000Z   \n",
       "3    2025-04-21T15:42:41.000Z   \n",
       "4    2024-09-27T07:00:00.000Z   \n",
       "..                        ...   \n",
       "746  2025-04-03T07:00:00.000Z   \n",
       "747  2025-04-09T07:00:00.000Z   \n",
       "748  2025-02-11T08:00:00.000Z   \n",
       "749  2025-02-02T08:00:00.000Z   \n",
       "750  2025-04-04T07:00:00.000Z   \n",
       "\n",
       "                                                  link   \n",
       "0    https://apnews.com/article/trump-tariffs-stock...  \\\n",
       "1    https://www.cnn.com/2025/04/22/business/trump-...   \n",
       "2    https://www.npr.org/2025/05/10/nx-s1-5394399/u...   \n",
       "3    https://abcnews.go.com/Politics/live-updates/t...   \n",
       "4    https://www.pbs.org/newshour/economy/trump-fav...   \n",
       "..                                                 ...   \n",
       "746     https://www.bbc.com/news/articles/cdde0r6eqy5o   \n",
       "747     https://www.bbc.com/news/articles/cedyylj1v32o   \n",
       "748  https://www.theguardian.com/us-news/2025/feb/1...   \n",
       "749  https://www.theguardian.com/us-news/2025/feb/0...   \n",
       "750  https://www.aljazeera.com/news/2025/4/4/have-t...   \n",
       "\n",
       "                                              authors        source  \n",
       "0                                           Josh Boak       AP News  \n",
       "1                                 Alejandra Jaramillo           CNN  \n",
       "2                                         Willem Marx           NPR  \n",
       "3    Alexandra Hutzler, Ivan Pereira, William Mansell      ABC News  \n",
       "4                                        Paul Wiseman           PBS  \n",
       "..                                                ...           ...  \n",
       "746                                     Nadine Yousif           BBC  \n",
       "747                                      Rachel Hagan           BBC  \n",
       "748        Lucy Swan, Richard Partington, Ashley Kirk  The Guardian  \n",
       "749                                               NaN  The Guardian  \n",
       "750                                       Shola Lawal    Al Jazeera  \n",
       "\n",
       "[751 rows x 6 columns]"
      ]
     },
     "execution_count": 4,
     "metadata": {},
     "output_type": "execute_result"
    }
   ],
   "source": [
    "from textblob import TextBlob\n",
    "import pandas as pd\n",
    "df = pd.read_csv(\"Data\\merged_noDuplicate.csv\")\n",
    "df"
   ]
  },
  {
   "cell_type": "code",
   "execution_count": 5,
   "id": "736ccdda",
   "metadata": {},
   "outputs": [
    {
     "data": {
      "text/html": [
       "<div>\n",
       "<style scoped>\n",
       "    .dataframe tbody tr th:only-of-type {\n",
       "        vertical-align: middle;\n",
       "    }\n",
       "\n",
       "    .dataframe tbody tr th {\n",
       "        vertical-align: top;\n",
       "    }\n",
       "\n",
       "    .dataframe thead th {\n",
       "        text-align: right;\n",
       "    }\n",
       "</style>\n",
       "<table border=\"1\" class=\"dataframe\">\n",
       "  <thead>\n",
       "    <tr style=\"text-align: right;\">\n",
       "      <th></th>\n",
       "      <th>title</th>\n",
       "      <th>snippet</th>\n",
       "      <th>published_date</th>\n",
       "      <th>link</th>\n",
       "      <th>authors</th>\n",
       "      <th>source</th>\n",
       "      <th>text</th>\n",
       "      <th>polarity</th>\n",
       "      <th>Sentiment</th>\n",
       "    </tr>\n",
       "  </thead>\n",
       "  <tbody>\n",
       "    <tr>\n",
       "      <th>0</th>\n",
       "      <td>Trump limits tariffs on most nations for 90 da...</td>\n",
       "      <td>Facing a global market meltdown, President Don...</td>\n",
       "      <td>2025-04-09T07:00:00.000Z</td>\n",
       "      <td>https://apnews.com/article/trump-tariffs-stock...</td>\n",
       "      <td>Josh Boak</td>\n",
       "      <td>AP News</td>\n",
       "      <td>Trump limits tariffs on most nations for 90 da...</td>\n",
       "      <td>0.175000</td>\n",
       "      <td>positive</td>\n",
       "    </tr>\n",
       "    <tr>\n",
       "      <th>1</th>\n",
       "      <td>Trump says China tariffs will ‘come down subst...</td>\n",
       "      <td>US President Donald Trump has signaled a major...</td>\n",
       "      <td>2025-04-22T07:00:00.000Z</td>\n",
       "      <td>https://www.cnn.com/2025/04/22/business/trump-...</td>\n",
       "      <td>Alejandra Jaramillo</td>\n",
       "      <td>CNN</td>\n",
       "      <td>Trump says China tariffs will ‘come down subst...</td>\n",
       "      <td>-0.014769</td>\n",
       "      <td>neutral</td>\n",
       "    </tr>\n",
       "    <tr>\n",
       "      <th>2</th>\n",
       "      <td>U.S. and China begin talks amid tensions over ...</td>\n",
       "      <td>The meetings between top U.S. and Chinese offi...</td>\n",
       "      <td>2025-05-10T17:13:00.000Z</td>\n",
       "      <td>https://www.npr.org/2025/05/10/nx-s1-5394399/u...</td>\n",
       "      <td>Willem Marx</td>\n",
       "      <td>NPR</td>\n",
       "      <td>U.S. and China begin talks amid tensions over ...</td>\n",
       "      <td>0.187500</td>\n",
       "      <td>positive</td>\n",
       "    </tr>\n",
       "    <tr>\n",
       "      <th>3</th>\n",
       "      <td>Trump tariffs live updates: US won't drop Chin...</td>\n",
       "      <td>Trump tariffs live updates: US won't drop Chin...</td>\n",
       "      <td>2025-04-21T15:42:41.000Z</td>\n",
       "      <td>https://abcnews.go.com/Politics/live-updates/t...</td>\n",
       "      <td>Alexandra Hutzler, Ivan Pereira, William Mansell</td>\n",
       "      <td>ABC News</td>\n",
       "      <td>Trump tariffs live updates: US won't drop Chin...</td>\n",
       "      <td>0.136364</td>\n",
       "      <td>positive</td>\n",
       "    </tr>\n",
       "    <tr>\n",
       "      <th>4</th>\n",
       "      <td>Trump favors huge new tariffs. How do they work?</td>\n",
       "      <td>Former President Donald Trump has proposed a 6...</td>\n",
       "      <td>2024-09-27T07:00:00.000Z</td>\n",
       "      <td>https://www.pbs.org/newshour/economy/trump-fav...</td>\n",
       "      <td>Paul Wiseman</td>\n",
       "      <td>PBS</td>\n",
       "      <td>Trump favors huge new tariffs. How do they wor...</td>\n",
       "      <td>0.178788</td>\n",
       "      <td>positive</td>\n",
       "    </tr>\n",
       "    <tr>\n",
       "      <th>...</th>\n",
       "      <td>...</td>\n",
       "      <td>...</td>\n",
       "      <td>...</td>\n",
       "      <td>...</td>\n",
       "      <td>...</td>\n",
       "      <td>...</td>\n",
       "      <td>...</td>\n",
       "      <td>...</td>\n",
       "      <td>...</td>\n",
       "    </tr>\n",
       "    <tr>\n",
       "      <th>746</th>\n",
       "      <td>Canada will respond to Trump tariffs 'with pur...</td>\n",
       "      <td>A new universal 10% tariff on US imports will ...</td>\n",
       "      <td>2025-04-03T07:00:00.000Z</td>\n",
       "      <td>https://www.bbc.com/news/articles/cdde0r6eqy5o</td>\n",
       "      <td>Nadine Yousif</td>\n",
       "      <td>BBC</td>\n",
       "      <td>Canada will respond to Trump tariffs 'with pur...</td>\n",
       "      <td>0.002841</td>\n",
       "      <td>neutral</td>\n",
       "    </tr>\n",
       "    <tr>\n",
       "      <th>747</th>\n",
       "      <td>Trump threatens to end pharmaceuticals tariff ...</td>\n",
       "      <td>The US president vows \"major\" tariffs on impor...</td>\n",
       "      <td>2025-04-09T07:00:00.000Z</td>\n",
       "      <td>https://www.bbc.com/news/articles/cedyylj1v32o</td>\n",
       "      <td>Rachel Hagan</td>\n",
       "      <td>BBC</td>\n",
       "      <td>Trump threatens to end pharmaceuticals tariff ...</td>\n",
       "      <td>0.062500</td>\n",
       "      <td>neutral</td>\n",
       "    </tr>\n",
       "    <tr>\n",
       "      <th>748</th>\n",
       "      <td>Why is Trump imposing tariffs and which countr...</td>\n",
       "      <td>Trump is tackling large trade deficits. But tr...</td>\n",
       "      <td>2025-02-11T08:00:00.000Z</td>\n",
       "      <td>https://www.theguardian.com/us-news/2025/feb/1...</td>\n",
       "      <td>Lucy Swan, Richard Partington, Ashley Kirk</td>\n",
       "      <td>The Guardian</td>\n",
       "      <td>Why is Trump imposing tariffs and which countr...</td>\n",
       "      <td>0.214286</td>\n",
       "      <td>positive</td>\n",
       "    </tr>\n",
       "    <tr>\n",
       "      <th>749</th>\n",
       "      <td>Trump says EU tariffs will ‘definitely happen’...</td>\n",
       "      <td>Trump says EU tariffs will 'definitely happen'...</td>\n",
       "      <td>2025-02-02T08:00:00.000Z</td>\n",
       "      <td>https://www.theguardian.com/us-news/2025/feb/0...</td>\n",
       "      <td>NaN</td>\n",
       "      <td>The Guardian</td>\n",
       "      <td>Trump says EU tariffs will ‘definitely happen’...</td>\n",
       "      <td>0.000000</td>\n",
       "      <td>neutral</td>\n",
       "    </tr>\n",
       "    <tr>\n",
       "      <th>750</th>\n",
       "      <td>Have Trump’s tariffs killed US-Africa preferen...</td>\n",
       "      <td>Trump's tariffs announcement on most trading p...</td>\n",
       "      <td>2025-04-04T07:00:00.000Z</td>\n",
       "      <td>https://www.aljazeera.com/news/2025/4/4/have-t...</td>\n",
       "      <td>Shola Lawal</td>\n",
       "      <td>Al Jazeera</td>\n",
       "      <td>Have Trump’s tariffs killed US-Africa preferen...</td>\n",
       "      <td>0.100000</td>\n",
       "      <td>neutral</td>\n",
       "    </tr>\n",
       "  </tbody>\n",
       "</table>\n",
       "<p>751 rows × 9 columns</p>\n",
       "</div>"
      ],
      "text/plain": [
       "                                                 title   \n",
       "0    Trump limits tariffs on most nations for 90 da...  \\\n",
       "1    Trump says China tariffs will ‘come down subst...   \n",
       "2    U.S. and China begin talks amid tensions over ...   \n",
       "3    Trump tariffs live updates: US won't drop Chin...   \n",
       "4     Trump favors huge new tariffs. How do they work?   \n",
       "..                                                 ...   \n",
       "746  Canada will respond to Trump tariffs 'with pur...   \n",
       "747  Trump threatens to end pharmaceuticals tariff ...   \n",
       "748  Why is Trump imposing tariffs and which countr...   \n",
       "749  Trump says EU tariffs will ‘definitely happen’...   \n",
       "750  Have Trump’s tariffs killed US-Africa preferen...   \n",
       "\n",
       "                                               snippet   \n",
       "0    Facing a global market meltdown, President Don...  \\\n",
       "1    US President Donald Trump has signaled a major...   \n",
       "2    The meetings between top U.S. and Chinese offi...   \n",
       "3    Trump tariffs live updates: US won't drop Chin...   \n",
       "4    Former President Donald Trump has proposed a 6...   \n",
       "..                                                 ...   \n",
       "746  A new universal 10% tariff on US imports will ...   \n",
       "747  The US president vows \"major\" tariffs on impor...   \n",
       "748  Trump is tackling large trade deficits. But tr...   \n",
       "749  Trump says EU tariffs will 'definitely happen'...   \n",
       "750  Trump's tariffs announcement on most trading p...   \n",
       "\n",
       "               published_date   \n",
       "0    2025-04-09T07:00:00.000Z  \\\n",
       "1    2025-04-22T07:00:00.000Z   \n",
       "2    2025-05-10T17:13:00.000Z   \n",
       "3    2025-04-21T15:42:41.000Z   \n",
       "4    2024-09-27T07:00:00.000Z   \n",
       "..                        ...   \n",
       "746  2025-04-03T07:00:00.000Z   \n",
       "747  2025-04-09T07:00:00.000Z   \n",
       "748  2025-02-11T08:00:00.000Z   \n",
       "749  2025-02-02T08:00:00.000Z   \n",
       "750  2025-04-04T07:00:00.000Z   \n",
       "\n",
       "                                                  link   \n",
       "0    https://apnews.com/article/trump-tariffs-stock...  \\\n",
       "1    https://www.cnn.com/2025/04/22/business/trump-...   \n",
       "2    https://www.npr.org/2025/05/10/nx-s1-5394399/u...   \n",
       "3    https://abcnews.go.com/Politics/live-updates/t...   \n",
       "4    https://www.pbs.org/newshour/economy/trump-fav...   \n",
       "..                                                 ...   \n",
       "746     https://www.bbc.com/news/articles/cdde0r6eqy5o   \n",
       "747     https://www.bbc.com/news/articles/cedyylj1v32o   \n",
       "748  https://www.theguardian.com/us-news/2025/feb/1...   \n",
       "749  https://www.theguardian.com/us-news/2025/feb/0...   \n",
       "750  https://www.aljazeera.com/news/2025/4/4/have-t...   \n",
       "\n",
       "                                              authors        source   \n",
       "0                                           Josh Boak       AP News  \\\n",
       "1                                 Alejandra Jaramillo           CNN   \n",
       "2                                         Willem Marx           NPR   \n",
       "3    Alexandra Hutzler, Ivan Pereira, William Mansell      ABC News   \n",
       "4                                        Paul Wiseman           PBS   \n",
       "..                                                ...           ...   \n",
       "746                                     Nadine Yousif           BBC   \n",
       "747                                      Rachel Hagan           BBC   \n",
       "748        Lucy Swan, Richard Partington, Ashley Kirk  The Guardian   \n",
       "749                                               NaN  The Guardian   \n",
       "750                                       Shola Lawal    Al Jazeera   \n",
       "\n",
       "                                                  text  polarity Sentiment  \n",
       "0    Trump limits tariffs on most nations for 90 da...  0.175000  positive  \n",
       "1    Trump says China tariffs will ‘come down subst... -0.014769   neutral  \n",
       "2    U.S. and China begin talks amid tensions over ...  0.187500  positive  \n",
       "3    Trump tariffs live updates: US won't drop Chin...  0.136364  positive  \n",
       "4    Trump favors huge new tariffs. How do they wor...  0.178788  positive  \n",
       "..                                                 ...       ...       ...  \n",
       "746  Canada will respond to Trump tariffs 'with pur...  0.002841   neutral  \n",
       "747  Trump threatens to end pharmaceuticals tariff ...  0.062500   neutral  \n",
       "748  Why is Trump imposing tariffs and which countr...  0.214286  positive  \n",
       "749  Trump says EU tariffs will ‘definitely happen’...  0.000000   neutral  \n",
       "750  Have Trump’s tariffs killed US-Africa preferen...  0.100000   neutral  \n",
       "\n",
       "[751 rows x 9 columns]"
      ]
     },
     "execution_count": 5,
     "metadata": {},
     "output_type": "execute_result"
    }
   ],
   "source": [
    "#apply textblob for polarity\n",
    "df['text'] = df['title'].fillna('') + '. ' + df['snippet'].fillna('')\n",
    "df['polarity'] = df['text'].apply(lambda x: TextBlob(x).sentiment.polarity)\n",
    "def get_sentiment(score):\n",
    "    if score > 0.1:\n",
    "        return 'positive'\n",
    "    elif score < -0.1:\n",
    "        return 'negative'\n",
    "    else:\n",
    "        return 'neutral'\n",
    "\n",
    "df['Sentiment'] = df['polarity'].apply(get_sentiment)\n",
    "df"
   ]
  },
  {
   "cell_type": "code",
   "execution_count": 7,
   "id": "9efec57a",
   "metadata": {},
   "outputs": [
    {
     "name": "stdout",
     "output_type": "stream",
     "text": [
      "Missing values\n",
      " title               0\n",
      "snippet             3\n",
      "published_date      0\n",
      "link                0\n",
      "authors           258\n",
      "source              0\n",
      "text                0\n",
      "polarity            0\n",
      "Sentiment           0\n",
      "dtype: int64\n",
      "Data type of each column\n",
      " title              object\n",
      "snippet            object\n",
      "published_date     object\n",
      "link               object\n",
      "authors            object\n",
      "source             object\n",
      "text               object\n",
      "polarity          float64\n",
      "Sentiment          object\n",
      "dtype: object\n"
     ]
    }
   ],
   "source": [
    "print(\"Missing values\\n\", df.isnull().sum())\n",
    "print(\"Data type of each column\\n\", df.dtypes)"
   ]
  },
  {
   "cell_type": "code",
   "execution_count": 8,
   "id": "8633a99e",
   "metadata": {},
   "outputs": [
    {
     "data": {
      "text/plain": [
       "<wordcloud.wordcloud.WordCloud at 0x1b478632610>"
      ]
     },
     "execution_count": 8,
     "metadata": {},
     "output_type": "execute_result"
    }
   ],
   "source": [
    "from wordcloud import WordCloud\n",
    "WordCloud().generate(\" \".join(df['title']))"
   ]
  },
  {
   "cell_type": "code",
   "execution_count": 39,
   "id": "e0b267c3",
   "metadata": {},
   "outputs": [
    {
     "data": {
      "image/png": "[encoded data removed]",
      "text/plain": [
       "<Figure size 1000x500 with 1 Axes>"
      ]
     },
     "metadata": {},
     "output_type": "display_data"
    }
   ],
   "source": [
    "from wordcloud import WordCloud\n",
    "import matplotlib.pyplot as plt\n",
    "\n",
    "usa_colors = ['#3C3B6E', '#ADD8E6', '#B22234']  # Blue, Light Blue, Red\n",
    "\n",
    "def usa_color_func(word, font_size, position, orientation, random_state=None, **kwargs):\n",
    "    return usa_colors[font_size % len(usa_colors)]\n",
    "\n",
    "text = \" \".join(df['title'].dropna())\n",
    "\n",
    "wordcloud = WordCloud(width=800, height=400, background_color='white').generate(text)\n",
    "\n",
    "plt.figure(figsize=(10, 5))\n",
    "plt.imshow(wordcloud.recolor(color_func=usa_color_func), interpolation='bilinear')\n",
    "plt.axis('off')\n",
    "plt.tight_layout()\n",
    "plt.show()\n"
   ]
  },
  {
   "cell_type": "markdown",
   "id": "42bd63e0",
   "metadata": {},
   "source": [
    "Sentiment Distribution\n"
   ]
  },
  {
   "cell_type": "code",
   "execution_count": 12,
   "id": "19fd7f54",
   "metadata": {},
   "outputs": [
    {
     "name": "stdout",
     "output_type": "stream",
     "text": [
      "Count of sentiments: Sentiment\n",
      "neutral     419\n",
      "positive    254\n",
      "negative     78\n",
      "Name: count, dtype: int64\n"
     ]
    },
    {
     "data": {
      "text/plain": [
       "count    751.000000\n",
       "mean       0.068129\n",
       "std        0.172872\n",
       "min       -0.500000\n",
       "25%        0.000000\n",
       "50%        0.018182\n",
       "75%        0.159545\n",
       "max        0.750000\n",
       "Name: polarity, dtype: float64"
      ]
     },
     "execution_count": 12,
     "metadata": {},
     "output_type": "execute_result"
    }
   ],
   "source": [
    "print(\"Count of sentiments:\",df['Sentiment'].value_counts())\n",
    "df['polarity'].describe()"
   ]
  },
  {
   "cell_type": "code",
   "execution_count": 26,
   "id": "9248bec6",
   "metadata": {},
   "outputs": [
    {
     "data": {
      "application/vnd.plotly.v1+json": {
       "config": {
        "plotlyServerURL": "https://plot.ly"
       },
       "data": [
        {
         "marker": {
          "color": [
           "#3C3B6E",
           "#FFFFEE",
           "#B22234"
          ]
         },
         "type": "bar",
         "x": [
          "positive",
          "neutral",
          "negative"
         ],
         "y": [
          254,
          419,
          78
         ]
        }
       ],
       "layout": {
        "template": {
         "data": {
          "bar": [
           {
            "error_x": {
             "color": "#2a3f5f"
            },
            "error_y": {
             "color": "#2a3f5f"
            },
            "marker": {
             "line": {
              "color": "#E5ECF6",
              "width": 0.5
             },
             "pattern": {
              "fillmode": "overlay",
              "size": 10,
              "solidity": 0.2
             }
            },
            "type": "bar"
           }
          ],
          "barpolar": [
           {
            "marker": {
             "line": {
              "color": "#E5ECF6",
              "width": 0.5
             },
             "pattern": {
              "fillmode": "overlay",
              "size": 10,
              "solidity": 0.2
             }
            },
            "type": "barpolar"
           }
          ],
          "carpet": [
           {
            "aaxis": {
             "endlinecolor": "#2a3f5f",
             "gridcolor": "white",
             "linecolor": "white",
             "minorgridcolor": "white",
             "startlinecolor": "#2a3f5f"
            },
            "baxis": {
             "endlinecolor": "#2a3f5f",
             "gridcolor": "white",
             "linecolor": "white",
             "minorgridcolor": "white",
             "startlinecolor": "#2a3f5f"
            },
            "type": "carpet"
           }
          ],
          "choropleth": [
           {
            "colorbar": {
             "outlinewidth": 0,
             "ticks": ""
            },
            "type": "choropleth"
           }
          ],
          "contour": [
           {
            "colorbar": {
             "outlinewidth": 0,
             "ticks": ""
            },
            "colorscale": [
             [
              0,
              "#0d0887"
             ],
             [
              0.1111111111111111,
              "#46039f"
             ],
             [
              0.2222222222222222,
              "#7201a8"
             ],
             [
              0.3333333333333333,
              "#9c179e"
             ],
             [
              0.4444444444444444,
              "#bd3786"
             ],
             [
              0.5555555555555556,
              "#d8576b"
             ],
             [
              0.6666666666666666,
              "#ed7953"
             ],
             [
              0.7777777777777778,
              "#fb9f3a"
             ],
             [
              0.8888888888888888,
              "#fdca26"
             ],
             [
              1,
              "#f0f921"
             ]
            ],
            "type": "contour"
           }
          ],
          "contourcarpet": [
           {
            "colorbar": {
             "outlinewidth": 0,
             "ticks": ""
            },
            "type": "contourcarpet"
           }
          ],
          "heatmap": [
           {
            "colorbar": {
             "outlinewidth": 0,
             "ticks": ""
            },
            "colorscale": [
             [
              0,
              "#0d0887"
             ],
             [
              0.1111111111111111,
              "#46039f"
             ],
             [
              0.2222222222222222,
              "#7201a8"
             ],
             [
              0.3333333333333333,
              "#9c179e"
             ],
             [
              0.4444444444444444,
              "#bd3786"
             ],
             [
              0.5555555555555556,
              "#d8576b"
             ],
             [
              0.6666666666666666,
              "#ed7953"
             ],
             [
              0.7777777777777778,
              "#fb9f3a"
             ],
             [
              0.8888888888888888,
              "#fdca26"
             ],
             [
              1,
              "#f0f921"
             ]
            ],
            "type": "heatmap"
           }
          ],
          "heatmapgl": [
           {
            "colorbar": {
             "outlinewidth": 0,
             "ticks": ""
            },
            "colorscale": [
             [
              0,
              "#0d0887"
             ],
             [
              0.1111111111111111,
              "#46039f"
             ],
             [
              0.2222222222222222,
              "#7201a8"
             ],
             [
              0.3333333333333333,
              "#9c179e"
             ],
             [
              0.4444444444444444,
              "#bd3786"
             ],
             [
              0.5555555555555556,
              "#d8576b"
             ],
             [
              0.6666666666666666,
              "#ed7953"
             ],
             [
              0.7777777777777778,
              "#fb9f3a"
             ],
             [
              0.8888888888888888,
              "#fdca26"
             ],
             [
              1,
              "#f0f921"
             ]
            ],
            "type": "heatmapgl"
           }
          ],
          "histogram": [
           {
            "marker": {
             "pattern": {
              "fillmode": "overlay",
              "size": 10,
              "solidity": 0.2
             }
            },
            "type": "histogram"
           }
          ],
          "histogram2d": [
           {
            "colorbar": {
             "outlinewidth": 0,
             "ticks": ""
            },
            "colorscale": [
             [
              0,
              "#0d0887"
             ],
             [
              0.1111111111111111,
              "#46039f"
             ],
             [
              0.2222222222222222,
              "#7201a8"
             ],
             [
              0.3333333333333333,
              "#9c179e"
             ],
             [
              0.4444444444444444,
              "#bd3786"
             ],
             [
              0.5555555555555556,
              "#d8576b"
             ],
             [
              0.6666666666666666,
              "#ed7953"
             ],
             [
              0.7777777777777778,
              "#fb9f3a"
             ],
             [
              0.8888888888888888,
              "#fdca26"
             ],
             [
              1,
              "#f0f921"
             ]
            ],
            "type": "histogram2d"
           }
          ],
          "histogram2dcontour": [
           {
            "colorbar": {
             "outlinewidth": 0,
             "ticks": ""
            },
            "colorscale": [
             [
              0,
              "#0d0887"
             ],
             [
              0.1111111111111111,
              "#46039f"
             ],
             [
              0.2222222222222222,
              "#7201a8"
             ],
             [
              0.3333333333333333,
              "#9c179e"
             ],
             [
              0.4444444444444444,
              "#bd3786"
             ],
             [
              0.5555555555555556,
              "#d8576b"
             ],
             [
              0.6666666666666666,
              "#ed7953"
             ],
             [
              0.7777777777777778,
              "#fb9f3a"
             ],
             [
              0.8888888888888888,
              "#fdca26"
             ],
             [
              1,
              "#f0f921"
             ]
            ],
            "type": "histogram2dcontour"
           }
          ],
          "mesh3d": [
           {
            "colorbar": {
             "outlinewidth": 0,
             "ticks": ""
            },
            "type": "mesh3d"
           }
          ],
          "parcoords": [
           {
            "line": {
             "colorbar": {
              "outlinewidth": 0,
              "ticks": ""
             }
            },
            "type": "parcoords"
           }
          ],
          "pie": [
           {
            "automargin": true,
            "type": "pie"
           }
          ],
          "scatter": [
           {
            "fillpattern": {
             "fillmode": "overlay",
             "size": 10,
             "solidity": 0.2
            },
            "type": "scatter"
           }
          ],
          "scatter3d": [
           {
            "line": {
             "colorbar": {
              "outlinewidth": 0,
              "ticks": ""
             }
            },
            "marker": {
             "colorbar": {
              "outlinewidth": 0,
              "ticks": ""
             }
            },
            "type": "scatter3d"
           }
          ],
          "scattercarpet": [
           {
            "marker": {
             "colorbar": {
              "outlinewidth": 0,
              "ticks": ""
             }
            },
            "type": "scattercarpet"
           }
          ],
          "scattergeo": [
           {
            "marker": {
             "colorbar": {
              "outlinewidth": 0,
              "ticks": ""
             }
            },
            "type": "scattergeo"
           }
          ],
          "scattergl": [
           {
            "marker": {
             "colorbar": {
              "outlinewidth": 0,
              "ticks": ""
             }
            },
            "type": "scattergl"
           }
          ],
          "scattermapbox": [
           {
            "marker": {
             "colorbar": {
              "outlinewidth": 0,
              "ticks": ""
             }
            },
            "type": "scattermapbox"
           }
          ],
          "scatterpolar": [
           {
            "marker": {
             "colorbar": {
              "outlinewidth": 0,
              "ticks": ""
             }
            },
            "type": "scatterpolar"
           }
          ],
          "scatterpolargl": [
           {
            "marker": {
             "colorbar": {
              "outlinewidth": 0,
              "ticks": ""
             }
            },
            "type": "scatterpolargl"
           }
          ],
          "scatterternary": [
           {
            "marker": {
             "colorbar": {
              "outlinewidth": 0,
              "ticks": ""
             }
            },
            "type": "scatterternary"
           }
          ],
          "surface": [
           {
            "colorbar": {
             "outlinewidth": 0,
             "ticks": ""
            },
            "colorscale": [
             [
              0,
              "#0d0887"
             ],
             [
              0.1111111111111111,
              "#46039f"
             ],
             [
              0.2222222222222222,
              "#7201a8"
             ],
             [
              0.3333333333333333,
              "#9c179e"
             ],
             [
              0.4444444444444444,
              "#bd3786"
             ],
             [
              0.5555555555555556,
              "#d8576b"
             ],
             [
              0.6666666666666666,
              "#ed7953"
             ],
             [
              0.7777777777777778,
              "#fb9f3a"
             ],
             [
              0.8888888888888888,
              "#fdca26"
             ],
             [
              1,
              "#f0f921"
             ]
            ],
            "type": "surface"
           }
          ],
          "table": [
           {
            "cells": {
             "fill": {
              "color": "#EBF0F8"
             },
             "line": {
              "color": "white"
             }
            },
            "header": {
             "fill": {
              "color": "#C8D4E3"
             },
             "line": {
              "color": "white"
             }
            },
            "type": "table"
           }
          ]
         },
         "layout": {
          "annotationdefaults": {
           "arrowcolor": "#2a3f5f",
           "arrowhead": 0,
           "arrowwidth": 1
          },
          "autotypenumbers": "strict",
          "coloraxis": {
           "colorbar": {
            "outlinewidth": 0,
            "ticks": ""
           }
          },
          "colorscale": {
           "diverging": [
            [
             0,
             "#8e0152"
            ],
            [
             0.1,
             "#c51b7d"
            ],
            [
             0.2,
             "#de77ae"
            ],
            [
             0.3,
             "#f1b6da"
            ],
            [
             0.4,
             "#fde0ef"
            ],
            [
             0.5,
             "#f7f7f7"
            ],
            [
             0.6,
             "#e6f5d0"
            ],
            [
             0.7,
             "#b8e186"
            ],
            [
             0.8,
             "#7fbc41"
            ],
            [
             0.9,
             "#4d9221"
            ],
            [
             1,
             "#276419"
            ]
           ],
           "sequential": [
            [
             0,
             "#0d0887"
            ],
            [
             0.1111111111111111,
             "#46039f"
            ],
            [
             0.2222222222222222,
             "#7201a8"
            ],
            [
             0.3333333333333333,
             "#9c179e"
            ],
            [
             0.4444444444444444,
             "#bd3786"
            ],
            [
             0.5555555555555556,
             "#d8576b"
            ],
            [
             0.6666666666666666,
             "#ed7953"
            ],
            [
             0.7777777777777778,
             "#fb9f3a"
            ],
            [
             0.8888888888888888,
             "#fdca26"
            ],
            [
             1,
             "#f0f921"
            ]
           ],
           "sequentialminus": [
            [
             0,
             "#0d0887"
            ],
            [
             0.1111111111111111,
             "#46039f"
            ],
            [
             0.2222222222222222,
             "#7201a8"
            ],
            [
             0.3333333333333333,
             "#9c179e"
            ],
            [
             0.4444444444444444,
             "#bd3786"
            ],
            [
             0.5555555555555556,
             "#d8576b"
            ],
            [
             0.6666666666666666,
             "#ed7953"
            ],
            [
             0.7777777777777778,
             "#fb9f3a"
            ],
            [
             0.8888888888888888,
             "#fdca26"
            ],
            [
             1,
             "#f0f921"
            ]
           ]
          },
          "colorway": [
           "#636efa",
           "#EF553B",
           "#00cc96",
           "#ab63fa",
           "#FFA15A",
           "#19d3f3",
           "#FF6692",
           "#B6E880",
           "#FF97FF",
           "#FECB52"
          ],
          "font": {
           "color": "#2a3f5f"
          },
          "geo": {
           "bgcolor": "white",
           "lakecolor": "white",
           "landcolor": "#E5ECF6",
           "showlakes": true,
           "showland": true,
           "subunitcolor": "white"
          },
          "hoverlabel": {
           "align": "left"
          },
          "hovermode": "closest",
          "mapbox": {
           "style": "light"
          },
          "paper_bgcolor": "white",
          "plot_bgcolor": "#E5ECF6",
          "polar": {
           "angularaxis": {
            "gridcolor": "white",
            "linecolor": "white",
            "ticks": ""
           },
           "bgcolor": "#E5ECF6",
           "radialaxis": {
            "gridcolor": "white",
            "linecolor": "white",
            "ticks": ""
           }
          },
          "scene": {
           "xaxis": {
            "backgroundcolor": "#E5ECF6",
            "gridcolor": "white",
            "gridwidth": 2,
            "linecolor": "white",
            "showbackground": true,
            "ticks": "",
            "zerolinecolor": "white"
           },
           "yaxis": {
            "backgroundcolor": "#E5ECF6",
            "gridcolor": "white",
            "gridwidth": 2,
            "linecolor": "white",
            "showbackground": true,
            "ticks": "",
            "zerolinecolor": "white"
           },
           "zaxis": {
            "backgroundcolor": "#E5ECF6",
            "gridcolor": "white",
            "gridwidth": 2,
            "linecolor": "white",
            "showbackground": true,
            "ticks": "",
            "zerolinecolor": "white"
           }
          },
          "shapedefaults": {
           "line": {
            "color": "#2a3f5f"
           }
          },
          "ternary": {
           "aaxis": {
            "gridcolor": "white",
            "linecolor": "white",
            "ticks": ""
           },
           "baxis": {
            "gridcolor": "white",
            "linecolor": "white",
            "ticks": ""
           },
           "bgcolor": "#E5ECF6",
           "caxis": {
            "gridcolor": "white",
            "linecolor": "white",
            "ticks": ""
           }
          },
          "title": {
           "x": 0.05
          },
          "xaxis": {
           "automargin": true,
           "gridcolor": "white",
           "linecolor": "white",
           "ticks": "",
           "title": {
            "standoff": 15
           },
           "zerolinecolor": "white",
           "zerolinewidth": 2
          },
          "yaxis": {
           "automargin": true,
           "gridcolor": "white",
           "linecolor": "white",
           "ticks": "",
           "title": {
            "standoff": 15
           },
           "zerolinecolor": "white",
           "zerolinewidth": 2
          }
         }
        },
        "title": {
         "text": "Bar Chart of Sentiment Distribution"
        },
        "xaxis": {
         "title": {
          "text": "Sentiment"
         }
        },
        "yaxis": {
         "title": {
          "text": "Count"
         }
        }
       }
      }
     },
     "metadata": {},
     "output_type": "display_data"
    }
   ],
   "source": [
    "from plotly import graph_objs as go\n",
    "\n",
    "# Prepare sentiment counts\n",
    "sentiment_counts = df['Sentiment'].value_counts().reindex(['positive', 'neutral', 'negative'], fill_value=0)\n",
    "\n",
    "usa_colors = ['#3C3B6E', '#FFFFEE', '#B22234']  # Blue, White, Red\n",
    "\n",
    "fig = go.Figure(\n",
    "    go.Bar(\n",
    "        x=sentiment_counts.index,\n",
    "        y=sentiment_counts.values,\n",
    "        marker_color=usa_colors\n",
    "    )\n",
    ")\n",
    "fig.update_layout(\n",
    "    title=\"Bar Chart of Sentiment Distribution\",\n",
    "    xaxis_title=\"Sentiment\",\n",
    "    yaxis_title=\"Count\",\n",
    "   \n",
    ")\n",
    "fig.show()"
   ]
  },
  {
   "cell_type": "code",
   "execution_count": 28,
   "id": "ed0bbe5b",
   "metadata": {},
   "outputs": [
    {
     "data": {
      "application/vnd.plotly.v1+json": {
       "config": {
        "plotlyServerURL": "https://plot.ly"
       },
       "data": [
        {
         "marker": {
          "color": [
           "#3C3B6E",
           "#FFFFEE",
           "#B22234"
          ]
         },
         "type": "funnel",
         "x": [
          419,
          254,
          78
         ],
         "y": [
          "neutral",
          "positive",
          "negative"
         ]
        }
       ],
       "layout": {
        "template": {
         "data": {
          "bar": [
           {
            "error_x": {
             "color": "#2a3f5f"
            },
            "error_y": {
             "color": "#2a3f5f"
            },
            "marker": {
             "line": {
              "color": "#E5ECF6",
              "width": 0.5
             },
             "pattern": {
              "fillmode": "overlay",
              "size": 10,
              "solidity": 0.2
             }
            },
            "type": "bar"
           }
          ],
          "barpolar": [
           {
            "marker": {
             "line": {
              "color": "#E5ECF6",
              "width": 0.5
             },
             "pattern": {
              "fillmode": "overlay",
              "size": 10,
              "solidity": 0.2
             }
            },
            "type": "barpolar"
           }
          ],
          "carpet": [
           {
            "aaxis": {
             "endlinecolor": "#2a3f5f",
             "gridcolor": "white",
             "linecolor": "white",
             "minorgridcolor": "white",
             "startlinecolor": "#2a3f5f"
            },
            "baxis": {
             "endlinecolor": "#2a3f5f",
             "gridcolor": "white",
             "linecolor": "white",
             "minorgridcolor": "white",
             "startlinecolor": "#2a3f5f"
            },
            "type": "carpet"
           }
          ],
          "choropleth": [
           {
            "colorbar": {
             "outlinewidth": 0,
             "ticks": ""
            },
            "type": "choropleth"
           }
          ],
          "contour": [
           {
            "colorbar": {
             "outlinewidth": 0,
             "ticks": ""
            },
            "colorscale": [
             [
              0,
              "#0d0887"
             ],
             [
              0.1111111111111111,
              "#46039f"
             ],
             [
              0.2222222222222222,
              "#7201a8"
             ],
             [
              0.3333333333333333,
              "#9c179e"
             ],
             [
              0.4444444444444444,
              "#bd3786"
             ],
             [
              0.5555555555555556,
              "#d8576b"
             ],
             [
              0.6666666666666666,
              "#ed7953"
             ],
             [
              0.7777777777777778,
              "#fb9f3a"
             ],
             [
              0.8888888888888888,
              "#fdca26"
             ],
             [
              1,
              "#f0f921"
             ]
            ],
            "type": "contour"
           }
          ],
          "contourcarpet": [
           {
            "colorbar": {
             "outlinewidth": 0,
             "ticks": ""
            },
            "type": "contourcarpet"
           }
          ],
          "heatmap": [
           {
            "colorbar": {
             "outlinewidth": 0,
             "ticks": ""
            },
            "colorscale": [
             [
              0,
              "#0d0887"
             ],
             [
              0.1111111111111111,
              "#46039f"
             ],
             [
              0.2222222222222222,
              "#7201a8"
             ],
             [
              0.3333333333333333,
              "#9c179e"
             ],
             [
              0.4444444444444444,
              "#bd3786"
             ],
             [
              0.5555555555555556,
              "#d8576b"
             ],
             [
              0.6666666666666666,
              "#ed7953"
             ],
             [
              0.7777777777777778,
              "#fb9f3a"
             ],
             [
              0.8888888888888888,
              "#fdca26"
             ],
             [
              1,
              "#f0f921"
             ]
            ],
            "type": "heatmap"
           }
          ],
          "heatmapgl": [
           {
            "colorbar": {
             "outlinewidth": 0,
             "ticks": ""
            },
            "colorscale": [
             [
              0,
              "#0d0887"
             ],
             [
              0.1111111111111111,
              "#46039f"
             ],
             [
              0.2222222222222222,
              "#7201a8"
             ],
             [
              0.3333333333333333,
              "#9c179e"
             ],
             [
              0.4444444444444444,
              "#bd3786"
             ],
             [
              0.5555555555555556,
              "#d8576b"
             ],
             [
              0.6666666666666666,
              "#ed7953"
             ],
             [
              0.7777777777777778,
              "#fb9f3a"
             ],
             [
              0.8888888888888888,
              "#fdca26"
             ],
             [
              1,
              "#f0f921"
             ]
            ],
            "type": "heatmapgl"
           }
          ],
          "histogram": [
           {
            "marker": {
             "pattern": {
              "fillmode": "overlay",
              "size": 10,
              "solidity": 0.2
             }
            },
            "type": "histogram"
           }
          ],
          "histogram2d": [
           {
            "colorbar": {
             "outlinewidth": 0,
             "ticks": ""
            },
            "colorscale": [
             [
              0,
              "#0d0887"
             ],
             [
              0.1111111111111111,
              "#46039f"
             ],
             [
              0.2222222222222222,
              "#7201a8"
             ],
             [
              0.3333333333333333,
              "#9c179e"
             ],
             [
              0.4444444444444444,
              "#bd3786"
             ],
             [
              0.5555555555555556,
              "#d8576b"
             ],
             [
              0.6666666666666666,
              "#ed7953"
             ],
             [
              0.7777777777777778,
              "#fb9f3a"
             ],
             [
              0.8888888888888888,
              "#fdca26"
             ],
             [
              1,
              "#f0f921"
             ]
            ],
            "type": "histogram2d"
           }
          ],
          "histogram2dcontour": [
           {
            "colorbar": {
             "outlinewidth": 0,
             "ticks": ""
            },
            "colorscale": [
             [
              0,
              "#0d0887"
             ],
             [
              0.1111111111111111,
              "#46039f"
             ],
             [
              0.2222222222222222,
              "#7201a8"
             ],
             [
              0.3333333333333333,
              "#9c179e"
             ],
             [
              0.4444444444444444,
              "#bd3786"
             ],
             [
              0.5555555555555556,
              "#d8576b"
             ],
             [
              0.6666666666666666,
              "#ed7953"
             ],
             [
              0.7777777777777778,
              "#fb9f3a"
             ],
             [
              0.8888888888888888,
              "#fdca26"
             ],
             [
              1,
              "#f0f921"
             ]
            ],
            "type": "histogram2dcontour"
           }
          ],
          "mesh3d": [
           {
            "colorbar": {
             "outlinewidth": 0,
             "ticks": ""
            },
            "type": "mesh3d"
           }
          ],
          "parcoords": [
           {
            "line": {
             "colorbar": {
              "outlinewidth": 0,
              "ticks": ""
             }
            },
            "type": "parcoords"
           }
          ],
          "pie": [
           {
            "automargin": true,
            "type": "pie"
           }
          ],
          "scatter": [
           {
            "fillpattern": {
             "fillmode": "overlay",
             "size": 10,
             "solidity": 0.2
            },
            "type": "scatter"
           }
          ],
          "scatter3d": [
           {
            "line": {
             "colorbar": {
              "outlinewidth": 0,
              "ticks": ""
             }
            },
            "marker": {
             "colorbar": {
              "outlinewidth": 0,
              "ticks": ""
             }
            },
            "type": "scatter3d"
           }
          ],
          "scattercarpet": [
           {
            "marker": {
             "colorbar": {
              "outlinewidth": 0,
              "ticks": ""
             }
            },
            "type": "scattercarpet"
           }
          ],
          "scattergeo": [
           {
            "marker": {
             "colorbar": {
              "outlinewidth": 0,
              "ticks": ""
             }
            },
            "type": "scattergeo"
           }
          ],
          "scattergl": [
           {
            "marker": {
             "colorbar": {
              "outlinewidth": 0,
              "ticks": ""
             }
            },
            "type": "scattergl"
           }
          ],
          "scattermapbox": [
           {
            "marker": {
             "colorbar": {
              "outlinewidth": 0,
              "ticks": ""
             }
            },
            "type": "scattermapbox"
           }
          ],
          "scatterpolar": [
           {
            "marker": {
             "colorbar": {
              "outlinewidth": 0,
              "ticks": ""
             }
            },
            "type": "scatterpolar"
           }
          ],
          "scatterpolargl": [
           {
            "marker": {
             "colorbar": {
              "outlinewidth": 0,
              "ticks": ""
             }
            },
            "type": "scatterpolargl"
           }
          ],
          "scatterternary": [
           {
            "marker": {
             "colorbar": {
              "outlinewidth": 0,
              "ticks": ""
             }
            },
            "type": "scatterternary"
           }
          ],
          "surface": [
           {
            "colorbar": {
             "outlinewidth": 0,
             "ticks": ""
            },
            "colorscale": [
             [
              0,
              "#0d0887"
             ],
             [
              0.1111111111111111,
              "#46039f"
             ],
             [
              0.2222222222222222,
              "#7201a8"
             ],
             [
              0.3333333333333333,
              "#9c179e"
             ],
             [
              0.4444444444444444,
              "#bd3786"
             ],
             [
              0.5555555555555556,
              "#d8576b"
             ],
             [
              0.6666666666666666,
              "#ed7953"
             ],
             [
              0.7777777777777778,
              "#fb9f3a"
             ],
             [
              0.8888888888888888,
              "#fdca26"
             ],
             [
              1,
              "#f0f921"
             ]
            ],
            "type": "surface"
           }
          ],
          "table": [
           {
            "cells": {
             "fill": {
              "color": "#EBF0F8"
             },
             "line": {
              "color": "white"
             }
            },
            "header": {
             "fill": {
              "color": "#C8D4E3"
             },
             "line": {
              "color": "white"
             }
            },
            "type": "table"
           }
          ]
         },
         "layout": {
          "annotationdefaults": {
           "arrowcolor": "#2a3f5f",
           "arrowhead": 0,
           "arrowwidth": 1
          },
          "autotypenumbers": "strict",
          "coloraxis": {
           "colorbar": {
            "outlinewidth": 0,
            "ticks": ""
           }
          },
          "colorscale": {
           "diverging": [
            [
             0,
             "#8e0152"
            ],
            [
             0.1,
             "#c51b7d"
            ],
            [
             0.2,
             "#de77ae"
            ],
            [
             0.3,
             "#f1b6da"
            ],
            [
             0.4,
             "#fde0ef"
            ],
            [
             0.5,
             "#f7f7f7"
            ],
            [
             0.6,
             "#e6f5d0"
            ],
            [
             0.7,
             "#b8e186"
            ],
            [
             0.8,
             "#7fbc41"
            ],
            [
             0.9,
             "#4d9221"
            ],
            [
             1,
             "#276419"
            ]
           ],
           "sequential": [
            [
             0,
             "#0d0887"
            ],
            [
             0.1111111111111111,
             "#46039f"
            ],
            [
             0.2222222222222222,
             "#7201a8"
            ],
            [
             0.3333333333333333,
             "#9c179e"
            ],
            [
             0.4444444444444444,
             "#bd3786"
            ],
            [
             0.5555555555555556,
             "#d8576b"
            ],
            [
             0.6666666666666666,
             "#ed7953"
            ],
            [
             0.7777777777777778,
             "#fb9f3a"
            ],
            [
             0.8888888888888888,
             "#fdca26"
            ],
            [
             1,
             "#f0f921"
            ]
           ],
           "sequentialminus": [
            [
             0,
             "#0d0887"
            ],
            [
             0.1111111111111111,
             "#46039f"
            ],
            [
             0.2222222222222222,
             "#7201a8"
            ],
            [
             0.3333333333333333,
             "#9c179e"
            ],
            [
             0.4444444444444444,
             "#bd3786"
            ],
            [
             0.5555555555555556,
             "#d8576b"
            ],
            [
             0.6666666666666666,
             "#ed7953"
            ],
            [
             0.7777777777777778,
             "#fb9f3a"
            ],
            [
             0.8888888888888888,
             "#fdca26"
            ],
            [
             1,
             "#f0f921"
            ]
           ]
          },
          "colorway": [
           "#636efa",
           "#EF553B",
           "#00cc96",
           "#ab63fa",
           "#FFA15A",
           "#19d3f3",
           "#FF6692",
           "#B6E880",
           "#FF97FF",
           "#FECB52"
          ],
          "font": {
           "color": "#2a3f5f"
          },
          "geo": {
           "bgcolor": "white",
           "lakecolor": "white",
           "landcolor": "#E5ECF6",
           "showlakes": true,
           "showland": true,
           "subunitcolor": "white"
          },
          "hoverlabel": {
           "align": "left"
          },
          "hovermode": "closest",
          "mapbox": {
           "style": "light"
          },
          "paper_bgcolor": "white",
          "plot_bgcolor": "#E5ECF6",
          "polar": {
           "angularaxis": {
            "gridcolor": "white",
            "linecolor": "white",
            "ticks": ""
           },
           "bgcolor": "#E5ECF6",
           "radialaxis": {
            "gridcolor": "white",
            "linecolor": "white",
            "ticks": ""
           }
          },
          "scene": {
           "xaxis": {
            "backgroundcolor": "#E5ECF6",
            "gridcolor": "white",
            "gridwidth": 2,
            "linecolor": "white",
            "showbackground": true,
            "ticks": "",
            "zerolinecolor": "white"
           },
           "yaxis": {
            "backgroundcolor": "#E5ECF6",
            "gridcolor": "white",
            "gridwidth": 2,
            "linecolor": "white",
            "showbackground": true,
            "ticks": "",
            "zerolinecolor": "white"
           },
           "zaxis": {
            "backgroundcolor": "#E5ECF6",
            "gridcolor": "white",
            "gridwidth": 2,
            "linecolor": "white",
            "showbackground": true,
            "ticks": "",
            "zerolinecolor": "white"
           }
          },
          "shapedefaults": {
           "line": {
            "color": "#2a3f5f"
           }
          },
          "ternary": {
           "aaxis": {
            "gridcolor": "white",
            "linecolor": "white",
            "ticks": ""
           },
           "baxis": {
            "gridcolor": "white",
            "linecolor": "white",
            "ticks": ""
           },
           "bgcolor": "#E5ECF6",
           "caxis": {
            "gridcolor": "white",
            "linecolor": "white",
            "ticks": ""
           }
          },
          "title": {
           "x": 0.05
          },
          "xaxis": {
           "automargin": true,
           "gridcolor": "white",
           "linecolor": "white",
           "ticks": "",
           "title": {
            "standoff": 15
           },
           "zerolinecolor": "white",
           "zerolinewidth": 2
          },
          "yaxis": {
           "automargin": true,
           "gridcolor": "white",
           "linecolor": "white",
           "ticks": "",
           "title": {
            "standoff": 15
           },
           "zerolinecolor": "white",
           "zerolinewidth": 2
          }
         }
        },
        "title": {
         "text": "Funnel Chart of Sentiment Distribution"
        },
        "xaxis": {
         "title": {
          "text": "Count"
         }
        },
        "yaxis": {
         "title": {
          "text": "Sentiment"
         }
        }
       }
      }
     },
     "metadata": {},
     "output_type": "display_data"
    }
   ],
   "source": [
    "from plotly import graph_objs as go\n",
    "\n",
    "# Prepare sentiment counts\n",
    "sentiment_counts = df['Sentiment'].value_counts().reindex([ 'neutral','positive', 'negative'], fill_value=0)\n",
    "\n",
    "usa_colors = ['#3C3B6E', '#FFFFEE', '#B22234']  # Blue, White, Red\n",
    "\n",
    "fig = go.Figure(\n",
    "    go.Funnel(\n",
    "        y=sentiment_counts.index,\n",
    "        x=sentiment_counts.values,\n",
    "        marker_color=usa_colors\n",
    "    )\n",
    ")\n",
    "fig.update_layout(\n",
    "    title=\"Funnel Chart of Sentiment Distribution\",\n",
    "    xaxis_title=\"Count\",\n",
    "    yaxis_title=\"Sentiment\"\n",
    ")\n",
    "fig.show()"
   ]
  },
  {
   "cell_type": "code",
   "execution_count": 29,
   "id": "1524024f",
   "metadata": {},
   "outputs": [
    {
     "name": "stdout",
     "output_type": "stream",
     "text": [
      "Average polarity score per article: 0.0681\n"
     ]
    }
   ],
   "source": [
    "average_polarity = df['polarity'].mean()\n",
    "print(f\"Average polarity score per article: {average_polarity:.4f}\")"
   ]
  },
  {
   "cell_type": "code",
   "execution_count": 30,
   "id": "e29dbbfc",
   "metadata": {},
   "outputs": [
    {
     "data": {
      "application/vnd.plotly.v1+json": {
       "config": {
        "plotlyServerURL": "https://plot.ly"
       },
       "data": [
        {
         "marker": {
          "color": [
           "#3C3B6E",
           "#FFFFEE",
           "#B22234"
          ]
         },
         "type": "bar",
         "x": [
          "positive",
          "neutral",
          "negative"
         ],
         "y": [
          254,
          419,
          78
         ]
        }
       ],
       "layout": {
        "annotations": [
         {
          "bgcolor": "rgba(255,255,255,0.7)",
          "font": {
           "color": "black",
           "family": "Arial",
           "size": 14
          },
          "showarrow": false,
          "text": "Mean Polarity: 0.07",
          "x": 1,
          "y": 419
         }
        ],
        "template": {
         "data": {
          "bar": [
           {
            "error_x": {
             "color": "#2a3f5f"
            },
            "error_y": {
             "color": "#2a3f5f"
            },
            "marker": {
             "line": {
              "color": "white",
              "width": 0.5
             },
             "pattern": {
              "fillmode": "overlay",
              "size": 10,
              "solidity": 0.2
             }
            },
            "type": "bar"
           }
          ],
          "barpolar": [
           {
            "marker": {
             "line": {
              "color": "white",
              "width": 0.5
             },
             "pattern": {
              "fillmode": "overlay",
              "size": 10,
              "solidity": 0.2
             }
            },
            "type": "barpolar"
           }
          ],
          "carpet": [
           {
            "aaxis": {
             "endlinecolor": "#2a3f5f",
             "gridcolor": "#C8D4E3",
             "linecolor": "#C8D4E3",
             "minorgridcolor": "#C8D4E3",
             "startlinecolor": "#2a3f5f"
            },
            "baxis": {
             "endlinecolor": "#2a3f5f",
             "gridcolor": "#C8D4E3",
             "linecolor": "#C8D4E3",
             "minorgridcolor": "#C8D4E3",
             "startlinecolor": "#2a3f5f"
            },
            "type": "carpet"
           }
          ],
          "choropleth": [
           {
            "colorbar": {
             "outlinewidth": 0,
             "ticks": ""
            },
            "type": "choropleth"
           }
          ],
          "contour": [
           {
            "colorbar": {
             "outlinewidth": 0,
             "ticks": ""
            },
            "colorscale": [
             [
              0,
              "#0d0887"
             ],
             [
              0.1111111111111111,
              "#46039f"
             ],
             [
              0.2222222222222222,
              "#7201a8"
             ],
             [
              0.3333333333333333,
              "#9c179e"
             ],
             [
              0.4444444444444444,
              "#bd3786"
             ],
             [
              0.5555555555555556,
              "#d8576b"
             ],
             [
              0.6666666666666666,
              "#ed7953"
             ],
             [
              0.7777777777777778,
              "#fb9f3a"
             ],
             [
              0.8888888888888888,
              "#fdca26"
             ],
             [
              1,
              "#f0f921"
             ]
            ],
            "type": "contour"
           }
          ],
          "contourcarpet": [
           {
            "colorbar": {
             "outlinewidth": 0,
             "ticks": ""
            },
            "type": "contourcarpet"
           }
          ],
          "heatmap": [
           {
            "colorbar": {
             "outlinewidth": 0,
             "ticks": ""
            },
            "colorscale": [
             [
              0,
              "#0d0887"
             ],
             [
              0.1111111111111111,
              "#46039f"
             ],
             [
              0.2222222222222222,
              "#7201a8"
             ],
             [
              0.3333333333333333,
              "#9c179e"
             ],
             [
              0.4444444444444444,
              "#bd3786"
             ],
             [
              0.5555555555555556,
              "#d8576b"
             ],
             [
              0.6666666666666666,
              "#ed7953"
             ],
             [
              0.7777777777777778,
              "#fb9f3a"
             ],
             [
              0.8888888888888888,
              "#fdca26"
             ],
             [
              1,
              "#f0f921"
             ]
            ],
            "type": "heatmap"
           }
          ],
          "heatmapgl": [
           {
            "colorbar": {
             "outlinewidth": 0,
             "ticks": ""
            },
            "colorscale": [
             [
              0,
              "#0d0887"
             ],
             [
              0.1111111111111111,
              "#46039f"
             ],
             [
              0.2222222222222222,
              "#7201a8"
             ],
             [
              0.3333333333333333,
              "#9c179e"
             ],
             [
              0.4444444444444444,
              "#bd3786"
             ],
             [
              0.5555555555555556,
              "#d8576b"
             ],
             [
              0.6666666666666666,
              "#ed7953"
             ],
             [
              0.7777777777777778,
              "#fb9f3a"
             ],
             [
              0.8888888888888888,
              "#fdca26"
             ],
             [
              1,
              "#f0f921"
             ]
            ],
            "type": "heatmapgl"
           }
          ],
          "histogram": [
           {
            "marker": {
             "pattern": {
              "fillmode": "overlay",
              "size": 10,
              "solidity": 0.2
             }
            },
            "type": "histogram"
           }
          ],
          "histogram2d": [
           {
            "colorbar": {
             "outlinewidth": 0,
             "ticks": ""
            },
            "colorscale": [
             [
              0,
              "#0d0887"
             ],
             [
              0.1111111111111111,
              "#46039f"
             ],
             [
              0.2222222222222222,
              "#7201a8"
             ],
             [
              0.3333333333333333,
              "#9c179e"
             ],
             [
              0.4444444444444444,
              "#bd3786"
             ],
             [
              0.5555555555555556,
              "#d8576b"
             ],
             [
              0.6666666666666666,
              "#ed7953"
             ],
             [
              0.7777777777777778,
              "#fb9f3a"
             ],
             [
              0.8888888888888888,
              "#fdca26"
             ],
             [
              1,
              "#f0f921"
             ]
            ],
            "type": "histogram2d"
           }
          ],
          "histogram2dcontour": [
           {
            "colorbar": {
             "outlinewidth": 0,
             "ticks": ""
            },
            "colorscale": [
             [
              0,
              "#0d0887"
             ],
             [
              0.1111111111111111,
              "#46039f"
             ],
             [
              0.2222222222222222,
              "#7201a8"
             ],
             [
              0.3333333333333333,
              "#9c179e"
             ],
             [
              0.4444444444444444,
              "#bd3786"
             ],
             [
              0.5555555555555556,
              "#d8576b"
             ],
             [
              0.6666666666666666,
              "#ed7953"
             ],
             [
              0.7777777777777778,
              "#fb9f3a"
             ],
             [
              0.8888888888888888,
              "#fdca26"
             ],
             [
              1,
              "#f0f921"
             ]
            ],
            "type": "histogram2dcontour"
           }
          ],
          "mesh3d": [
           {
            "colorbar": {
             "outlinewidth": 0,
             "ticks": ""
            },
            "type": "mesh3d"
           }
          ],
          "parcoords": [
           {
            "line": {
             "colorbar": {
              "outlinewidth": 0,
              "ticks": ""
             }
            },
            "type": "parcoords"
           }
          ],
          "pie": [
           {
            "automargin": true,
            "type": "pie"
           }
          ],
          "scatter": [
           {
            "fillpattern": {
             "fillmode": "overlay",
             "size": 10,
             "solidity": 0.2
            },
            "type": "scatter"
           }
          ],
          "scatter3d": [
           {
            "line": {
             "colorbar": {
              "outlinewidth": 0,
              "ticks": ""
             }
            },
            "marker": {
             "colorbar": {
              "outlinewidth": 0,
              "ticks": ""
             }
            },
            "type": "scatter3d"
           }
          ],
          "scattercarpet": [
           {
            "marker": {
             "colorbar": {
              "outlinewidth": 0,
              "ticks": ""
             }
            },
            "type": "scattercarpet"
           }
          ],
          "scattergeo": [
           {
            "marker": {
             "colorbar": {
              "outlinewidth": 0,
              "ticks": ""
             }
            },
            "type": "scattergeo"
           }
          ],
          "scattergl": [
           {
            "marker": {
             "colorbar": {
              "outlinewidth": 0,
              "ticks": ""
             }
            },
            "type": "scattergl"
           }
          ],
          "scattermapbox": [
           {
            "marker": {
             "colorbar": {
              "outlinewidth": 0,
              "ticks": ""
             }
            },
            "type": "scattermapbox"
           }
          ],
          "scatterpolar": [
           {
            "marker": {
             "colorbar": {
              "outlinewidth": 0,
              "ticks": ""
             }
            },
            "type": "scatterpolar"
           }
          ],
          "scatterpolargl": [
           {
            "marker": {
             "colorbar": {
              "outlinewidth": 0,
              "ticks": ""
             }
            },
            "type": "scatterpolargl"
           }
          ],
          "scatterternary": [
           {
            "marker": {
             "colorbar": {
              "outlinewidth": 0,
              "ticks": ""
             }
            },
            "type": "scatterternary"
           }
          ],
          "surface": [
           {
            "colorbar": {
             "outlinewidth": 0,
             "ticks": ""
            },
            "colorscale": [
             [
              0,
              "#0d0887"
             ],
             [
              0.1111111111111111,
              "#46039f"
             ],
             [
              0.2222222222222222,
              "#7201a8"
             ],
             [
              0.3333333333333333,
              "#9c179e"
             ],
             [
              0.4444444444444444,
              "#bd3786"
             ],
             [
              0.5555555555555556,
              "#d8576b"
             ],
             [
              0.6666666666666666,
              "#ed7953"
             ],
             [
              0.7777777777777778,
              "#fb9f3a"
             ],
             [
              0.8888888888888888,
              "#fdca26"
             ],
             [
              1,
              "#f0f921"
             ]
            ],
            "type": "surface"
           }
          ],
          "table": [
           {
            "cells": {
             "fill": {
              "color": "#EBF0F8"
             },
             "line": {
              "color": "white"
             }
            },
            "header": {
             "fill": {
              "color": "#C8D4E3"
             },
             "line": {
              "color": "white"
             }
            },
            "type": "table"
           }
          ]
         },
         "layout": {
          "annotationdefaults": {
           "arrowcolor": "#2a3f5f",
           "arrowhead": 0,
           "arrowwidth": 1
          },
          "autotypenumbers": "strict",
          "coloraxis": {
           "colorbar": {
            "outlinewidth": 0,
            "ticks": ""
           }
          },
          "colorscale": {
           "diverging": [
            [
             0,
             "#8e0152"
            ],
            [
             0.1,
             "#c51b7d"
            ],
            [
             0.2,
             "#de77ae"
            ],
            [
             0.3,
             "#f1b6da"
            ],
            [
             0.4,
             "#fde0ef"
            ],
            [
             0.5,
             "#f7f7f7"
            ],
            [
             0.6,
             "#e6f5d0"
            ],
            [
             0.7,
             "#b8e186"
            ],
            [
             0.8,
             "#7fbc41"
            ],
            [
             0.9,
             "#4d9221"
            ],
            [
             1,
             "#276419"
            ]
           ],
           "sequential": [
            [
             0,
             "#0d0887"
            ],
            [
             0.1111111111111111,
             "#46039f"
            ],
            [
             0.2222222222222222,
             "#7201a8"
            ],
            [
             0.3333333333333333,
             "#9c179e"
            ],
            [
             0.4444444444444444,
             "#bd3786"
            ],
            [
             0.5555555555555556,
             "#d8576b"
            ],
            [
             0.6666666666666666,
             "#ed7953"
            ],
            [
             0.7777777777777778,
             "#fb9f3a"
            ],
            [
             0.8888888888888888,
             "#fdca26"
            ],
            [
             1,
             "#f0f921"
            ]
           ],
           "sequentialminus": [
            [
             0,
             "#0d0887"
            ],
            [
             0.1111111111111111,
             "#46039f"
            ],
            [
             0.2222222222222222,
             "#7201a8"
            ],
            [
             0.3333333333333333,
             "#9c179e"
            ],
            [
             0.4444444444444444,
             "#bd3786"
            ],
            [
             0.5555555555555556,
             "#d8576b"
            ],
            [
             0.6666666666666666,
             "#ed7953"
            ],
            [
             0.7777777777777778,
             "#fb9f3a"
            ],
            [
             0.8888888888888888,
             "#fdca26"
            ],
            [
             1,
             "#f0f921"
            ]
           ]
          },
          "colorway": [
           "#636efa",
           "#EF553B",
           "#00cc96",
           "#ab63fa",
           "#FFA15A",
           "#19d3f3",
           "#FF6692",
           "#B6E880",
           "#FF97FF",
           "#FECB52"
          ],
          "font": {
           "color": "#2a3f5f"
          },
          "geo": {
           "bgcolor": "white",
           "lakecolor": "white",
           "landcolor": "white",
           "showlakes": true,
           "showland": true,
           "subunitcolor": "#C8D4E3"
          },
          "hoverlabel": {
           "align": "left"
          },
          "hovermode": "closest",
          "mapbox": {
           "style": "light"
          },
          "paper_bgcolor": "white",
          "plot_bgcolor": "white",
          "polar": {
           "angularaxis": {
            "gridcolor": "#EBF0F8",
            "linecolor": "#EBF0F8",
            "ticks": ""
           },
           "bgcolor": "white",
           "radialaxis": {
            "gridcolor": "#EBF0F8",
            "linecolor": "#EBF0F8",
            "ticks": ""
           }
          },
          "scene": {
           "xaxis": {
            "backgroundcolor": "white",
            "gridcolor": "#DFE8F3",
            "gridwidth": 2,
            "linecolor": "#EBF0F8",
            "showbackground": true,
            "ticks": "",
            "zerolinecolor": "#EBF0F8"
           },
           "yaxis": {
            "backgroundcolor": "white",
            "gridcolor": "#DFE8F3",
            "gridwidth": 2,
            "linecolor": "#EBF0F8",
            "showbackground": true,
            "ticks": "",
            "zerolinecolor": "#EBF0F8"
           },
           "zaxis": {
            "backgroundcolor": "white",
            "gridcolor": "#DFE8F3",
            "gridwidth": 2,
            "linecolor": "#EBF0F8",
            "showbackground": true,
            "ticks": "",
            "zerolinecolor": "#EBF0F8"
           }
          },
          "shapedefaults": {
           "line": {
            "color": "#2a3f5f"
           }
          },
          "ternary": {
           "aaxis": {
            "gridcolor": "#DFE8F3",
            "linecolor": "#A2B1C6",
            "ticks": ""
           },
           "baxis": {
            "gridcolor": "#DFE8F3",
            "linecolor": "#A2B1C6",
            "ticks": ""
           },
           "bgcolor": "white",
           "caxis": {
            "gridcolor": "#DFE8F3",
            "linecolor": "#A2B1C6",
            "ticks": ""
           }
          },
          "title": {
           "x": 0.05
          },
          "xaxis": {
           "automargin": true,
           "gridcolor": "#EBF0F8",
           "linecolor": "#EBF0F8",
           "ticks": "",
           "title": {
            "standoff": 15
           },
           "zerolinecolor": "#EBF0F8",
           "zerolinewidth": 2
          },
          "yaxis": {
           "automargin": true,
           "gridcolor": "#EBF0F8",
           "linecolor": "#EBF0F8",
           "ticks": "",
           "title": {
            "standoff": 15
           },
           "zerolinecolor": "#EBF0F8",
           "zerolinewidth": 2
          }
         }
        },
        "title": {
         "text": "Bar Chart of Sentiment Distribution (with Mean Polarity)"
        },
        "xaxis": {
         "title": {
          "text": "Sentiment"
         }
        },
        "yaxis": {
         "title": {
          "text": "Count"
         }
        }
       }
      }
     },
     "metadata": {},
     "output_type": "display_data"
    }
   ],
   "source": [
    "from plotly import graph_objs as go\n",
    "\n",
    "# Prepare sentiment counts\n",
    "sentiment_counts = df['Sentiment'].value_counts().reindex(['positive', 'neutral', 'negative'], fill_value=0)\n",
    "\n",
    "# Calculate mean polarity\n",
    "mean_polarity = df['polarity'].mean()\n",
    "\n",
    "fig = go.Figure(\n",
    "    go.Bar(\n",
    "        x=sentiment_counts.index,\n",
    "        y=sentiment_counts.values,\n",
    "        marker_color=usa_colors\n",
    "    )\n",
    ")\n",
    "\n",
    "# Add mean polarity as annotation\n",
    "fig.add_annotation(\n",
    "    x=1,  # Place at 'neutral' bar (index 1)\n",
    "    y=max(sentiment_counts.values),\n",
    "    text=f\"Mean Polarity: {mean_polarity:.2f}\",\n",
    "    showarrow=False,\n",
    "    font=dict(color=\"black\", size=14, family=\"Arial\"),\n",
    "    bgcolor=\"rgba(255,255,255,0.7)\"\n",
    ")\n",
    "\n",
    "fig.update_layout(\n",
    "    title=\"Bar Chart of Sentiment Distribution (with Mean Polarity)\",\n",
    "    xaxis_title=\"Sentiment\",\n",
    "    yaxis_title=\"Count\",\n",
    "    template=\"plotly_white\"\n",
    ")\n",
    "fig.show()"
   ]
  },
  {
   "cell_type": "code",
   "execution_count": 40,
   "id": "0c924354",
   "metadata": {},
   "outputs": [
    {
     "name": "stderr",
     "output_type": "stream",
     "text": [
      "C:\\Users\\Yourisha\\AppData\\Local\\Temp\\ipykernel_46488\\226050400.py:7: UserWarning:\n",
      "\n",
      "Converting to PeriodArray/Index representation will drop timezone information.\n",
      "\n"
     ]
    },
    {
     "data": {
      "image/png": "[encoded data removed]",
      "text/plain": [
       "<Figure size 1000x500 with 1 Axes>"
      ]
     },
     "metadata": {},
     "output_type": "display_data"
    }
   ],
   "source": [
    "import matplotlib.pyplot as plt\n",
    "\n",
    "# Ensure published_date is datetime\n",
    "df['published_date'] = pd.to_datetime(df['published_date'], errors='coerce')\n",
    "\n",
    "# Group by month and calculate mean polarity\n",
    "monthly_trend = df.groupby(df['published_date'].dt.to_period('M'))['polarity'].mean()\n",
    "\n",
    "# Plot\n",
    "plt.figure(figsize=(10, 5))\n",
    "monthly_trend.plot(marker='o', color='#3C3B6E')\n",
    "plt.title('Sentiment Trend by Month')\n",
    "plt.xlabel('Month')\n",
    "plt.ylabel('Average Polarity')\n",
    "plt.grid(True)\n",
    "plt.tight_layout()\n",
    "plt.show()"
   ]
  },
  {
   "cell_type": "markdown",
   "id": "ed68a744",
   "metadata": {},
   "source": [
    "Discussion\n"
   ]
  },
  {
   "cell_type": "markdown",
   "id": "355e0ceb",
   "metadata": {},
   "source": []
  }
 ],
 "metadata": {
  "kernelspec": {
   "display_name": "Python 3",
   "language": "python",
   "name": "python3"
  },
  "language_info": {
   "codemirror_mode": {
    "name": "ipython",
    "version": 3
   },
   "file_extension": ".py",
   "mimetype": "text/x-python",
   "name": "python",
   "nbconvert_exporter": "python",
   "pygments_lexer": "ipython3",
   "version": "3.11.3"
  }
 },
 "nbformat": 4,
 "nbformat_minor": 5
}
